{
 "cells": [
  {
   "cell_type": "code",
   "execution_count": 12,
   "metadata": {},
   "outputs": [],
   "source": [
    "from keras.models import Sequential\n",
    "from keras import layers\n",
    "from keras import regularizers\n",
    "from keras import backend as K\n",
    "from keras.callbacks import ModelCheckpoint\n",
    "\n",
    "import tensorflow as tf\n",
    "import pandas as pd\n",
    "import numpy as np\n",
    "import sagemaker\n",
    "import os\n",
    "from sagemaker.tensorflow import TensorFlow\n",
    "import time\n",
    "from tensorflow.keras.preprocessing.text import Tokenizer\n",
    "from tensorflow.keras.preprocessing.sequence import pad_sequences\n",
    "from sklearn.model_selection import train_test_split\n",
    "\n",
    "\n",
    "from matplotlib import pyplot as plt\n",
    "import os\n",
    "from collections import Counter\n",
    "from tqdm import tqdm"
   ]
  },
  {
   "cell_type": "code",
   "execution_count": 13,
   "metadata": {},
   "outputs": [],
   "source": [
    "tqdm.pandas()"
   ]
  },
  {
   "cell_type": "code",
   "execution_count": 2,
   "metadata": {},
   "outputs": [],
   "source": [
    "input_path = 'data/input/'"
   ]
  },
  {
   "cell_type": "code",
   "execution_count": 3,
   "metadata": {},
   "outputs": [],
   "source": [
    "all_train_data = pd.read_csv(input_path + 'train_data_prepped.csv').fillna('')\n",
    "all_test_data = pd.read_csv(input_path + 'test_data_prepped.csv').fillna('')"
   ]
  },
  {
   "cell_type": "code",
   "execution_count": 9,
   "metadata": {},
   "outputs": [
    {
     "data": {
      "text/html": [
       "<div>\n",
       "<style scoped>\n",
       "    .dataframe tbody tr th:only-of-type {\n",
       "        vertical-align: middle;\n",
       "    }\n",
       "\n",
       "    .dataframe tbody tr th {\n",
       "        vertical-align: top;\n",
       "    }\n",
       "\n",
       "    .dataframe thead th {\n",
       "        text-align: right;\n",
       "    }\n",
       "</style>\n",
       "<table border=\"1\" class=\"dataframe\">\n",
       "  <thead>\n",
       "    <tr style=\"text-align: right;\">\n",
       "      <th></th>\n",
       "      <th>id</th>\n",
       "      <th>text</th>\n",
       "      <th>cat</th>\n",
       "      <th>text_no_punc</th>\n",
       "      <th>text_no_numerals</th>\n",
       "      <th>text_no_sw</th>\n",
       "      <th>text_porter_stemmed</th>\n",
       "      <th>text_lancaster_stemmed</th>\n",
       "      <th>text_lemmatized</th>\n",
       "      <th>target</th>\n",
       "    </tr>\n",
       "  </thead>\n",
       "  <tbody>\n",
       "    <tr>\n",
       "      <th>0</th>\n",
       "      <td>0</td>\n",
       "      <td>anyway im getting of for a while</td>\n",
       "      <td>train</td>\n",
       "      <td>anyway im getting of for a while</td>\n",
       "      <td>anyway im getting of for a while</td>\n",
       "      <td>anyway im getting</td>\n",
       "      <td>anyway im get</td>\n",
       "      <td>anyway im get</td>\n",
       "      <td>anyway im getting</td>\n",
       "      <td>2</td>\n",
       "    </tr>\n",
       "    <tr>\n",
       "      <th>1</th>\n",
       "      <td>1</td>\n",
       "      <td>my red, apache isn't feelin too well this morn...</td>\n",
       "      <td>train</td>\n",
       "      <td>my red apache isnt feelin too well this mornin...</td>\n",
       "      <td>my red apache isnt feelin too well this mornin...</td>\n",
       "      <td>red apache feelin well morning httpmypictmen</td>\n",
       "      <td>red apach feelin well morn httpmypictmen</td>\n",
       "      <td>red apach feelin wel morn httpmypictmen</td>\n",
       "      <td>red apache feelin well morning httpmypictmen</td>\n",
       "      <td>0</td>\n",
       "    </tr>\n",
       "    <tr>\n",
       "      <th>2</th>\n",
       "      <td>2</td>\n",
       "      <td>@danyelljoy you should be  its great. friday w...</td>\n",
       "      <td>train</td>\n",
       "      <td>danyelljoy you should be  its great friday wil...</td>\n",
       "      <td>danyelljoy you should be  its great friday wil...</td>\n",
       "      <td>danyelljoy great friday great tooooooo</td>\n",
       "      <td>danyelljoy great friday great tooooooo</td>\n",
       "      <td>danyelljoy gre friday gre tooooooo</td>\n",
       "      <td>danyelljoy great friday great tooooooo</td>\n",
       "      <td>2</td>\n",
       "    </tr>\n",
       "    <tr>\n",
       "      <th>3</th>\n",
       "      <td>3</td>\n",
       "      <td>its 11:30pm and i dont wanna sleep; so i debat...</td>\n",
       "      <td>train</td>\n",
       "      <td>its 1130pm and i dont wanna sleep so i debated...</td>\n",
       "      <td>its pm and i dont wanna sleep so i debated wit...</td>\n",
       "      <td>pm wanna sleep debated end decided perfect tim...</td>\n",
       "      <td>pm wanna sleep debat end decid perfect time ba...</td>\n",
       "      <td>pm wann sleep deb end decid perfect tim bake! kid</td>\n",
       "      <td>pm wanna sleep debated end decided perfect tim...</td>\n",
       "      <td>2</td>\n",
       "    </tr>\n",
       "    <tr>\n",
       "      <th>4</th>\n",
       "      <td>4</td>\n",
       "      <td>why does twitter eat my dm's?  not happy</td>\n",
       "      <td>train</td>\n",
       "      <td>why does twitter eat my dms?  not happy</td>\n",
       "      <td>why does twitter eat my dms?  not happy</td>\n",
       "      <td>twitter eat dms? happy</td>\n",
       "      <td>twitter eat dms? happi</td>\n",
       "      <td>twit eat dms? happy</td>\n",
       "      <td>twitter eat dms? happy</td>\n",
       "      <td>0</td>\n",
       "    </tr>\n",
       "  </tbody>\n",
       "</table>\n",
       "</div>"
      ],
      "text/plain": [
       "   id                                               text    cat  \\\n",
       "0   0                  anyway im getting of for a while   train   \n",
       "1   1  my red, apache isn't feelin too well this morn...  train   \n",
       "2   2  @danyelljoy you should be  its great. friday w...  train   \n",
       "3   3  its 11:30pm and i dont wanna sleep; so i debat...  train   \n",
       "4   4          why does twitter eat my dm's?  not happy   train   \n",
       "\n",
       "                                        text_no_punc  \\\n",
       "0                  anyway im getting of for a while    \n",
       "1  my red apache isnt feelin too well this mornin...   \n",
       "2  danyelljoy you should be  its great friday wil...   \n",
       "3  its 1130pm and i dont wanna sleep so i debated...   \n",
       "4           why does twitter eat my dms?  not happy    \n",
       "\n",
       "                                    text_no_numerals  \\\n",
       "0                  anyway im getting of for a while    \n",
       "1  my red apache isnt feelin too well this mornin...   \n",
       "2  danyelljoy you should be  its great friday wil...   \n",
       "3  its pm and i dont wanna sleep so i debated wit...   \n",
       "4           why does twitter eat my dms?  not happy    \n",
       "\n",
       "                                          text_no_sw  \\\n",
       "0                                  anyway im getting   \n",
       "1       red apache feelin well morning httpmypictmen   \n",
       "2             danyelljoy great friday great tooooooo   \n",
       "3  pm wanna sleep debated end decided perfect tim...   \n",
       "4                             twitter eat dms? happy   \n",
       "\n",
       "                                 text_porter_stemmed  \\\n",
       "0                                      anyway im get   \n",
       "1           red apach feelin well morn httpmypictmen   \n",
       "2             danyelljoy great friday great tooooooo   \n",
       "3  pm wanna sleep debat end decid perfect time ba...   \n",
       "4                             twitter eat dms? happi   \n",
       "\n",
       "                              text_lancaster_stemmed  \\\n",
       "0                                      anyway im get   \n",
       "1            red apach feelin wel morn httpmypictmen   \n",
       "2                 danyelljoy gre friday gre tooooooo   \n",
       "3  pm wann sleep deb end decid perfect tim bake! kid   \n",
       "4                                twit eat dms? happy   \n",
       "\n",
       "                                     text_lemmatized  target  \n",
       "0                                  anyway im getting       2  \n",
       "1       red apache feelin well morning httpmypictmen       0  \n",
       "2             danyelljoy great friday great tooooooo       2  \n",
       "3  pm wanna sleep debated end decided perfect tim...       2  \n",
       "4                             twitter eat dms? happy       0  "
      ]
     },
     "execution_count": 9,
     "metadata": {},
     "output_type": "execute_result"
    }
   ],
   "source": [
    "all_train_data.head()"
   ]
  },
  {
   "cell_type": "code",
   "execution_count": 4,
   "metadata": {},
   "outputs": [
    {
     "data": {
      "text/plain": [
       "positive    520436\n",
       "negative    519803\n",
       "neutral         84\n",
       "Name: target, dtype: int64"
      ]
     },
     "execution_count": 4,
     "metadata": {},
     "output_type": "execute_result"
    }
   ],
   "source": [
    "train_target = pd.read_csv(input_path + 'train_results.csv')\n",
    "train_target['target'].value_counts()\n"
   ]
  },
  {
   "cell_type": "code",
   "execution_count": 5,
   "metadata": {},
   "outputs": [],
   "source": [
    "train_target['target'] = [0 if t == 'negative' else 2 if t == 'positive' else 2 for t in train_target['target'].values]"
   ]
  },
  {
   "cell_type": "code",
   "execution_count": 6,
   "metadata": {},
   "outputs": [],
   "source": [
    "all_train_data['target'] = train_target['target']"
   ]
  },
  {
   "cell_type": "markdown",
   "metadata": {},
   "source": [
    "## get word count from corpus"
   ]
  },
  {
   "cell_type": "code",
   "execution_count": 8,
   "metadata": {},
   "outputs": [],
   "source": [
    "vocab = Counter()"
   ]
  },
  {
   "cell_type": "code",
   "execution_count": 16,
   "metadata": {},
   "outputs": [
    {
     "name": "stderr",
     "output_type": "stream",
     "text": [
      "100%|████████████████████████████████████████████████████████████████████████████████████████████████████████████| 1040323/1040323 [01:21<00:00, 12702.57it/s]\n"
     ]
    }
   ],
   "source": [
    "for i, row in tqdm(all_train_data.iterrows(), total=all_train_data.shape[0]):\n",
    "    text = row['text_no_sw'].split()\n",
    "    \n",
    "    \n",
    "    vocab.update(text)\n",
    "    \n",
    "    \n",
    "    \n",
    "    "
   ]
  },
  {
   "cell_type": "code",
   "execution_count": 17,
   "metadata": {},
   "outputs": [
    {
     "name": "stdout",
     "output_type": "stream",
     "text": [
      "[('im', 152152), ('good', 73009), ('get', 70120), ('like', 66148), ('day', 65143), ('go', 60098), ('going', 54166), ('love', 53584), ('cant', 53487), ('got', 52151), ('work', 51348), ('today', 47895), ('back', 45870), ('time', 44625), ('lol', 44008), ('u', 43114), ('one', 42227), ('know', 41327), ('really', 41135), ('see', 38982), ('well', 36800), ('still', 36714), ('new', 35986), ('want', 35761), ('amp', 34913), ('think', 34660), ('oh', 32033), ('night', 31996), ('home', 31774), ('miss', 30772), ('need', 30444), ('last', 30186), ('thanks', 29757), ('much', 28906), ('hope', 28262), ('ill', 27253), ('thats', 26072), ('great', 25822), ('feel', 25649), ('morning', 24800), ('twitter', 24437), ('tomorrow', 24344), ('haha', 24018), ('wish', 23605), ('sad', 23147), ('would', 23014), ('bad', 22214), ('happy', 21527), ('sleep', 21287), ('make', 21117)]\n"
     ]
    }
   ],
   "source": [
    "print(vocab.most_common(50))"
   ]
  },
  {
   "cell_type": "code",
   "execution_count": null,
   "metadata": {},
   "outputs": [],
   "source": []
  }
 ],
 "metadata": {
  "kernelspec": {
   "display_name": "env",
   "language": "python",
   "name": "env"
  },
  "language_info": {
   "codemirror_mode": {
    "name": "ipython",
    "version": 3
   },
   "file_extension": ".py",
   "mimetype": "text/x-python",
   "name": "python",
   "nbconvert_exporter": "python",
   "pygments_lexer": "ipython3",
   "version": "3.7.3"
  }
 },
 "nbformat": 4,
 "nbformat_minor": 4
}
