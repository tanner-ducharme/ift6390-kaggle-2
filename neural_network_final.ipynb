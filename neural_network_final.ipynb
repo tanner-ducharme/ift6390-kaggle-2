{
  "cells": [
    {
      "cell_type": "markdown",
      "metadata": {
        "id": "jbE-A0dYp03y"
      },
      "source": [
        "# CODE RUNS<br>\n",
        "generate ROC for full train"
      ]
    },
    {
      "cell_type": "markdown",
      "source": [
        "# SOURCE:<br>\n",
        "https://www.kaggle.com/code/bertcarremans/using-word-embeddings-for-sentiment-analysis"
      ],
      "metadata": {
        "id": "Fkb1Oa3YQ3iH"
      }
    },
    {
      "cell_type": "code",
      "execution_count": null,
      "metadata": {
        "collapsed": true,
        "id": "D-7ecci_TmJ4"
      },
      "outputs": [],
      "source": [
        "# Basic packages\n",
        "import pandas as pd \n",
        "import numpy as np\n",
        "import re\n",
        "import collections\n",
        "import matplotlib.pyplot as plt\n",
        "from pathlib import Path\n",
        "\n",
        "# Packages for data preparation\n",
        "from sklearn.model_selection import train_test_split\n",
        "from nltk.corpus import stopwords\n",
        "from keras.preprocessing.text import Tokenizer\n",
        "from tensorflow.keras.preprocessing.sequence import pad_sequences\n",
        "from keras.utils.np_utils import to_categorical\n",
        "from sklearn.preprocessing import LabelEncoder\n",
        "from keras.callbacks import EarlyStopping\n",
        "from keras import optimizers\n",
        "import pickle\n",
        "\n",
        "# Packages for modeling\n",
        "from keras import models\n",
        "from keras import layers\n",
        "from keras import regularizers\n",
        "\n",
        "\n",
        "from keras.wrappers.scikit_learn import KerasClassifier\n",
        "from sklearn.metrics import roc_curve\n",
        "from sklearn.metrics import auc"
      ]
    },
    {
      "cell_type": "code",
      "execution_count": null,
      "metadata": {
        "colab": {
          "base_uri": "https://localhost:8080/",
          "height": 35
        },
        "id": "Nce0omfMmXAM",
        "outputId": "f31d3be6-6bf4-4169-8890-9a67d68fd2df"
      },
      "outputs": [
        {
          "output_type": "execute_result",
          "data": {
            "text/plain": [
              "''"
            ],
            "application/vnd.google.colaboratory.intrinsic+json": {
              "type": "string"
            }
          },
          "metadata": {},
          "execution_count": 2
        }
      ],
      "source": [
        "import tensorflow as tf\n",
        "tf.test.gpu_device_name()"
      ]
    },
    {
      "cell_type": "code",
      "execution_count": null,
      "metadata": {
        "colab": {
          "base_uri": "https://localhost:8080/"
        },
        "id": "Wr-GbLxgT54k",
        "outputId": "64a5faf3-d78a-4e80-f1b8-06e3db979a58"
      },
      "outputs": [
        {
          "output_type": "stream",
          "name": "stdout",
          "text": [
            "Mounted at /content/gdrive\n"
          ]
        }
      ],
      "source": [
        "from google.colab import drive\n",
        "drive.mount('/content/gdrive') \n",
        "path = '/content/gdrive/MyDrive/IFT 6390/kaggle2/'"
      ]
    },
    {
      "cell_type": "markdown",
      "source": [
        "establish parameters for training"
      ],
      "metadata": {
        "id": "tPAI5aRM3ae-"
      }
    },
    {
      "cell_type": "code",
      "execution_count": null,
      "metadata": {
        "collapsed": true,
        "id": "LSwt1IUfTmJ6"
      },
      "outputs": [],
      "source": [
        "\n",
        "NUM_EPOCHS = 20  # Number of epochs we usually start to train with\n",
        "BATCH_SIZE = 128  # Size of the batches used in the mini-batch gradient descent\n",
        "NUM_WORDS = 8192\n",
        "\n",
        "corpus_col = 'text_lemmatized'\n",
        "INPUT_PATH = path+'data/input/'  # Path where all input files are stored\n",
        "model_output_file = path + 'data/output/neural_network/neural_network_model.h5'\n",
        "train_history_output_file = path + 'data/output/neural_network/train_history.pkl'"
      ]
    },
    {
      "cell_type": "markdown",
      "metadata": {
        "id": "zjJR5NtJnIj8"
      },
      "source": [
        "load embeddings <br>\n",
        "note: these pre-trained embeddings were not used to get the final results"
      ]
    },
    {
      "cell_type": "code",
      "execution_count": null,
      "metadata": {
        "id": "RFB3-yaRnKJV"
      },
      "outputs": [],
      "source": [
        "# vectors = []\n",
        "# with open(path+'vectors.tsv') as f:\n",
        "#     for line in f:\n",
        "#         v = np.array([float(l) for l in line.split()])\n",
        "#         vectors.append(v)\n",
        "\n",
        "# words = []\n",
        "# with open(path+'metadata.tsv') as f:\n",
        "#     for word in f:\n",
        "  \n",
        "#         words.append(word.strip())\n"
      ]
    },
    {
      "cell_type": "markdown",
      "metadata": {
        "id": "5M9XMBuuTmJ9"
      },
      "source": [
        "# Data Preparation\n",
        "### Read and clean data"
      ]
    },
    {
      "cell_type": "code",
      "execution_count": null,
      "metadata": {
        "collapsed": true,
        "id": "fqs42gP8TmJ-"
      },
      "outputs": [],
      "source": [
        "train = pd.read_csv(INPUT_PATH+'train_data_prepped.csv')\n",
        "test = pd.read_csv(INPUT_PATH+'test_data_prepped.csv')"
      ]
    },
    {
      "cell_type": "code",
      "execution_count": null,
      "metadata": {
        "id": "xo7Hi6tmsoUo"
      },
      "outputs": [],
      "source": [
        "test = test.fillna('')"
      ]
    },
    {
      "cell_type": "code",
      "execution_count": null,
      "metadata": {
        "id": "7jge8UerUkdR"
      },
      "outputs": [],
      "source": [
        "train_labels =  pd.read_csv(INPUT_PATH+'train_results.csv')"
      ]
    },
    {
      "cell_type": "code",
      "execution_count": null,
      "metadata": {
        "colab": {
          "base_uri": "https://localhost:8080/"
        },
        "id": "rIOuVhHUY7_S",
        "outputId": "c22809d3-6406-4b7f-ac17-983796fe4641"
      },
      "outputs": [
        {
          "output_type": "execute_result",
          "data": {
            "text/plain": [
              "positive    520436\n",
              "negative    519803\n",
              "neutral         84\n",
              "Name: target, dtype: int64"
            ]
          },
          "metadata": {},
          "execution_count": 9
        }
      ],
      "source": [
        "train_labels['target'].value_counts()"
      ]
    },
    {
      "cell_type": "code",
      "execution_count": null,
      "metadata": {
        "id": "nMyoR3O7VDeo"
      },
      "outputs": [],
      "source": [
        "train['target'] = train_labels['target']"
      ]
    },
    {
      "cell_type": "code",
      "execution_count": null,
      "metadata": {
        "colab": {
          "base_uri": "https://localhost:8080/",
          "height": 159
        },
        "id": "ZjrKTJ5RU1lx",
        "outputId": "97907f5b-d5ff-4d09-cf77-65441df71908"
      },
      "outputs": [
        {
          "output_type": "execute_result",
          "data": {
            "text/plain": [
              "   id                              text    cat  \\\n",
              "0   0  anyway im getting of for a while  train   \n",
              "\n",
              "                       text_no_punc                  text_no_numerals  \\\n",
              "0  anyway im getting of for a while  anyway im getting of for a while   \n",
              "\n",
              "          text_no_sw           text_porter_stemmed  \\\n",
              "0  anyway im getting  anyway im get of for a while   \n",
              "\n",
              "        text_lancaster_stemmed                   text_lemmatized    target  \n",
              "0  anyway im get of for a whil  anyway im getting of for a while  positive  "
            ],
            "text/html": [
              "\n",
              "  <div id=\"df-f50cadfc-c865-4df0-b94d-bbd09d815f01\">\n",
              "    <div class=\"colab-df-container\">\n",
              "      <div>\n",
              "<style scoped>\n",
              "    .dataframe tbody tr th:only-of-type {\n",
              "        vertical-align: middle;\n",
              "    }\n",
              "\n",
              "    .dataframe tbody tr th {\n",
              "        vertical-align: top;\n",
              "    }\n",
              "\n",
              "    .dataframe thead th {\n",
              "        text-align: right;\n",
              "    }\n",
              "</style>\n",
              "<table border=\"1\" class=\"dataframe\">\n",
              "  <thead>\n",
              "    <tr style=\"text-align: right;\">\n",
              "      <th></th>\n",
              "      <th>id</th>\n",
              "      <th>text</th>\n",
              "      <th>cat</th>\n",
              "      <th>text_no_punc</th>\n",
              "      <th>text_no_numerals</th>\n",
              "      <th>text_no_sw</th>\n",
              "      <th>text_porter_stemmed</th>\n",
              "      <th>text_lancaster_stemmed</th>\n",
              "      <th>text_lemmatized</th>\n",
              "      <th>target</th>\n",
              "    </tr>\n",
              "  </thead>\n",
              "  <tbody>\n",
              "    <tr>\n",
              "      <th>0</th>\n",
              "      <td>0</td>\n",
              "      <td>anyway im getting of for a while</td>\n",
              "      <td>train</td>\n",
              "      <td>anyway im getting of for a while</td>\n",
              "      <td>anyway im getting of for a while</td>\n",
              "      <td>anyway im getting</td>\n",
              "      <td>anyway im get of for a while</td>\n",
              "      <td>anyway im get of for a whil</td>\n",
              "      <td>anyway im getting of for a while</td>\n",
              "      <td>positive</td>\n",
              "    </tr>\n",
              "  </tbody>\n",
              "</table>\n",
              "</div>\n",
              "      <button class=\"colab-df-convert\" onclick=\"convertToInteractive('df-f50cadfc-c865-4df0-b94d-bbd09d815f01')\"\n",
              "              title=\"Convert this dataframe to an interactive table.\"\n",
              "              style=\"display:none;\">\n",
              "        \n",
              "  <svg xmlns=\"http://www.w3.org/2000/svg\" height=\"24px\"viewBox=\"0 0 24 24\"\n",
              "       width=\"24px\">\n",
              "    <path d=\"M0 0h24v24H0V0z\" fill=\"none\"/>\n",
              "    <path d=\"M18.56 5.44l.94 2.06.94-2.06 2.06-.94-2.06-.94-.94-2.06-.94 2.06-2.06.94zm-11 1L8.5 8.5l.94-2.06 2.06-.94-2.06-.94L8.5 2.5l-.94 2.06-2.06.94zm10 10l.94 2.06.94-2.06 2.06-.94-2.06-.94-.94-2.06-.94 2.06-2.06.94z\"/><path d=\"M17.41 7.96l-1.37-1.37c-.4-.4-.92-.59-1.43-.59-.52 0-1.04.2-1.43.59L10.3 9.45l-7.72 7.72c-.78.78-.78 2.05 0 2.83L4 21.41c.39.39.9.59 1.41.59.51 0 1.02-.2 1.41-.59l7.78-7.78 2.81-2.81c.8-.78.8-2.07 0-2.86zM5.41 20L4 18.59l7.72-7.72 1.47 1.35L5.41 20z\"/>\n",
              "  </svg>\n",
              "      </button>\n",
              "      \n",
              "  <style>\n",
              "    .colab-df-container {\n",
              "      display:flex;\n",
              "      flex-wrap:wrap;\n",
              "      gap: 12px;\n",
              "    }\n",
              "\n",
              "    .colab-df-convert {\n",
              "      background-color: #E8F0FE;\n",
              "      border: none;\n",
              "      border-radius: 50%;\n",
              "      cursor: pointer;\n",
              "      display: none;\n",
              "      fill: #1967D2;\n",
              "      height: 32px;\n",
              "      padding: 0 0 0 0;\n",
              "      width: 32px;\n",
              "    }\n",
              "\n",
              "    .colab-df-convert:hover {\n",
              "      background-color: #E2EBFA;\n",
              "      box-shadow: 0px 1px 2px rgba(60, 64, 67, 0.3), 0px 1px 3px 1px rgba(60, 64, 67, 0.15);\n",
              "      fill: #174EA6;\n",
              "    }\n",
              "\n",
              "    [theme=dark] .colab-df-convert {\n",
              "      background-color: #3B4455;\n",
              "      fill: #D2E3FC;\n",
              "    }\n",
              "\n",
              "    [theme=dark] .colab-df-convert:hover {\n",
              "      background-color: #434B5C;\n",
              "      box-shadow: 0px 1px 3px 1px rgba(0, 0, 0, 0.15);\n",
              "      filter: drop-shadow(0px 1px 2px rgba(0, 0, 0, 0.3));\n",
              "      fill: #FFFFFF;\n",
              "    }\n",
              "  </style>\n",
              "\n",
              "      <script>\n",
              "        const buttonEl =\n",
              "          document.querySelector('#df-f50cadfc-c865-4df0-b94d-bbd09d815f01 button.colab-df-convert');\n",
              "        buttonEl.style.display =\n",
              "          google.colab.kernel.accessAllowed ? 'block' : 'none';\n",
              "\n",
              "        async function convertToInteractive(key) {\n",
              "          const element = document.querySelector('#df-f50cadfc-c865-4df0-b94d-bbd09d815f01');\n",
              "          const dataTable =\n",
              "            await google.colab.kernel.invokeFunction('convertToInteractive',\n",
              "                                                     [key], {});\n",
              "          if (!dataTable) return;\n",
              "\n",
              "          const docLinkHtml = 'Like what you see? Visit the ' +\n",
              "            '<a target=\"_blank\" href=https://colab.research.google.com/notebooks/data_table.ipynb>data table notebook</a>'\n",
              "            + ' to learn more about interactive tables.';\n",
              "          element.innerHTML = '';\n",
              "          dataTable['output_type'] = 'display_data';\n",
              "          await google.colab.output.renderOutput(dataTable, element);\n",
              "          const docLink = document.createElement('div');\n",
              "          docLink.innerHTML = docLinkHtml;\n",
              "          element.appendChild(docLink);\n",
              "        }\n",
              "      </script>\n",
              "    </div>\n",
              "  </div>\n",
              "  "
            ]
          },
          "metadata": {},
          "execution_count": 11
        }
      ],
      "source": [
        "train.head(1)"
      ]
    },
    {
      "cell_type": "markdown",
      "metadata": {
        "id": "9k5rMLa9V9zA"
      },
      "source": [
        "remove null rows"
      ]
    },
    {
      "cell_type": "code",
      "execution_count": null,
      "metadata": {
        "id": "8ApPD32mVp6W"
      },
      "outputs": [],
      "source": [
        "train = train[~train.isnull().any(axis=1)]"
      ]
    },
    {
      "cell_type": "code",
      "execution_count": null,
      "metadata": {
        "id": "lbziaytYo5Nh"
      },
      "outputs": [],
      "source": [
        "test = test[~test.isnull().any(axis=1)]"
      ]
    },
    {
      "cell_type": "markdown",
      "metadata": {
        "id": "DDeCaGj7ZIAE"
      },
      "source": [
        "remove neutral class"
      ]
    },
    {
      "cell_type": "code",
      "execution_count": null,
      "metadata": {
        "colab": {
          "base_uri": "https://localhost:8080/"
        },
        "id": "LFxF0v_GZJyQ",
        "outputId": "24707290-eb1d-44e3-fd30-1c1d6a543e83"
      },
      "outputs": [
        {
          "output_type": "execute_result",
          "data": {
            "text/plain": [
              "positive    518740\n",
              "negative    517890\n",
              "Name: target, dtype: int64"
            ]
          },
          "metadata": {},
          "execution_count": 14
        }
      ],
      "source": [
        "train = train[train['target'] != 'neutral']\n",
        "train['target'].value_counts()"
      ]
    },
    {
      "cell_type": "code",
      "execution_count": null,
      "metadata": {
        "colab": {
          "base_uri": "https://localhost:8080/",
          "height": 413
        },
        "id": "jVtSIKEsVp8u",
        "outputId": "49bb955f-4965-4afd-ef09-47f5f5d7938f"
      },
      "outputs": [
        {
          "output_type": "execute_result",
          "data": {
            "text/plain": [
              "   id                                               text    cat  \\\n",
              "0   0                   anyway im getting of for a while  train   \n",
              "1   1  my red, apache isn't feelin too well this morn...  train   \n",
              "2   2  you should be its great. friday will be great ...  train   \n",
              "\n",
              "                                        text_no_punc  \\\n",
              "0                   anyway im getting of for a while   \n",
              "1   my red apache isnt feelin too well this morning    \n",
              "2  you should be its great friday will be great t...   \n",
              "\n",
              "                                    text_no_numerals  \\\n",
              "0                   anyway im getting of for a while   \n",
              "1   my red apache isnt feelin too well this morning    \n",
              "2  you should be its great friday will be great t...   \n",
              "\n",
              "                       text_no_sw  \\\n",
              "0               anyway im getting   \n",
              "1  red apache feelin well morning   \n",
              "2     great friday great tooooooo   \n",
              "\n",
              "                                 text_porter_stemmed  \\\n",
              "0                       anyway im get of for a while   \n",
              "1         my red apach isnt feelin too well thi morn   \n",
              "2  you should be it great friday will be great to...   \n",
              "\n",
              "                            text_lancaster_stemmed  \\\n",
              "0                      anyway im get of for a whil   \n",
              "1        my red apach isnt feelin too wel thi morn   \n",
              "2  you should be it gre friday wil be gre tooooooo   \n",
              "\n",
              "                                     text_lemmatized    target  \n",
              "0                   anyway im getting of for a while  positive  \n",
              "1    my red apache isnt feelin too well this morning  negative  \n",
              "2  you should be it great friday will be great to...  positive  "
            ],
            "text/html": [
              "\n",
              "  <div id=\"df-5fce84cc-8fe2-4089-9da3-25bbf5d4ae30\">\n",
              "    <div class=\"colab-df-container\">\n",
              "      <div>\n",
              "<style scoped>\n",
              "    .dataframe tbody tr th:only-of-type {\n",
              "        vertical-align: middle;\n",
              "    }\n",
              "\n",
              "    .dataframe tbody tr th {\n",
              "        vertical-align: top;\n",
              "    }\n",
              "\n",
              "    .dataframe thead th {\n",
              "        text-align: right;\n",
              "    }\n",
              "</style>\n",
              "<table border=\"1\" class=\"dataframe\">\n",
              "  <thead>\n",
              "    <tr style=\"text-align: right;\">\n",
              "      <th></th>\n",
              "      <th>id</th>\n",
              "      <th>text</th>\n",
              "      <th>cat</th>\n",
              "      <th>text_no_punc</th>\n",
              "      <th>text_no_numerals</th>\n",
              "      <th>text_no_sw</th>\n",
              "      <th>text_porter_stemmed</th>\n",
              "      <th>text_lancaster_stemmed</th>\n",
              "      <th>text_lemmatized</th>\n",
              "      <th>target</th>\n",
              "    </tr>\n",
              "  </thead>\n",
              "  <tbody>\n",
              "    <tr>\n",
              "      <th>0</th>\n",
              "      <td>0</td>\n",
              "      <td>anyway im getting of for a while</td>\n",
              "      <td>train</td>\n",
              "      <td>anyway im getting of for a while</td>\n",
              "      <td>anyway im getting of for a while</td>\n",
              "      <td>anyway im getting</td>\n",
              "      <td>anyway im get of for a while</td>\n",
              "      <td>anyway im get of for a whil</td>\n",
              "      <td>anyway im getting of for a while</td>\n",
              "      <td>positive</td>\n",
              "    </tr>\n",
              "    <tr>\n",
              "      <th>1</th>\n",
              "      <td>1</td>\n",
              "      <td>my red, apache isn't feelin too well this morn...</td>\n",
              "      <td>train</td>\n",
              "      <td>my red apache isnt feelin too well this morning</td>\n",
              "      <td>my red apache isnt feelin too well this morning</td>\n",
              "      <td>red apache feelin well morning</td>\n",
              "      <td>my red apach isnt feelin too well thi morn</td>\n",
              "      <td>my red apach isnt feelin too wel thi morn</td>\n",
              "      <td>my red apache isnt feelin too well this morning</td>\n",
              "      <td>negative</td>\n",
              "    </tr>\n",
              "    <tr>\n",
              "      <th>2</th>\n",
              "      <td>2</td>\n",
              "      <td>you should be its great. friday will be great ...</td>\n",
              "      <td>train</td>\n",
              "      <td>you should be its great friday will be great t...</td>\n",
              "      <td>you should be its great friday will be great t...</td>\n",
              "      <td>great friday great tooooooo</td>\n",
              "      <td>you should be it great friday will be great to...</td>\n",
              "      <td>you should be it gre friday wil be gre tooooooo</td>\n",
              "      <td>you should be it great friday will be great to...</td>\n",
              "      <td>positive</td>\n",
              "    </tr>\n",
              "  </tbody>\n",
              "</table>\n",
              "</div>\n",
              "      <button class=\"colab-df-convert\" onclick=\"convertToInteractive('df-5fce84cc-8fe2-4089-9da3-25bbf5d4ae30')\"\n",
              "              title=\"Convert this dataframe to an interactive table.\"\n",
              "              style=\"display:none;\">\n",
              "        \n",
              "  <svg xmlns=\"http://www.w3.org/2000/svg\" height=\"24px\"viewBox=\"0 0 24 24\"\n",
              "       width=\"24px\">\n",
              "    <path d=\"M0 0h24v24H0V0z\" fill=\"none\"/>\n",
              "    <path d=\"M18.56 5.44l.94 2.06.94-2.06 2.06-.94-2.06-.94-.94-2.06-.94 2.06-2.06.94zm-11 1L8.5 8.5l.94-2.06 2.06-.94-2.06-.94L8.5 2.5l-.94 2.06-2.06.94zm10 10l.94 2.06.94-2.06 2.06-.94-2.06-.94-.94-2.06-.94 2.06-2.06.94z\"/><path d=\"M17.41 7.96l-1.37-1.37c-.4-.4-.92-.59-1.43-.59-.52 0-1.04.2-1.43.59L10.3 9.45l-7.72 7.72c-.78.78-.78 2.05 0 2.83L4 21.41c.39.39.9.59 1.41.59.51 0 1.02-.2 1.41-.59l7.78-7.78 2.81-2.81c.8-.78.8-2.07 0-2.86zM5.41 20L4 18.59l7.72-7.72 1.47 1.35L5.41 20z\"/>\n",
              "  </svg>\n",
              "      </button>\n",
              "      \n",
              "  <style>\n",
              "    .colab-df-container {\n",
              "      display:flex;\n",
              "      flex-wrap:wrap;\n",
              "      gap: 12px;\n",
              "    }\n",
              "\n",
              "    .colab-df-convert {\n",
              "      background-color: #E8F0FE;\n",
              "      border: none;\n",
              "      border-radius: 50%;\n",
              "      cursor: pointer;\n",
              "      display: none;\n",
              "      fill: #1967D2;\n",
              "      height: 32px;\n",
              "      padding: 0 0 0 0;\n",
              "      width: 32px;\n",
              "    }\n",
              "\n",
              "    .colab-df-convert:hover {\n",
              "      background-color: #E2EBFA;\n",
              "      box-shadow: 0px 1px 2px rgba(60, 64, 67, 0.3), 0px 1px 3px 1px rgba(60, 64, 67, 0.15);\n",
              "      fill: #174EA6;\n",
              "    }\n",
              "\n",
              "    [theme=dark] .colab-df-convert {\n",
              "      background-color: #3B4455;\n",
              "      fill: #D2E3FC;\n",
              "    }\n",
              "\n",
              "    [theme=dark] .colab-df-convert:hover {\n",
              "      background-color: #434B5C;\n",
              "      box-shadow: 0px 1px 3px 1px rgba(0, 0, 0, 0.15);\n",
              "      filter: drop-shadow(0px 1px 2px rgba(0, 0, 0, 0.3));\n",
              "      fill: #FFFFFF;\n",
              "    }\n",
              "  </style>\n",
              "\n",
              "      <script>\n",
              "        const buttonEl =\n",
              "          document.querySelector('#df-5fce84cc-8fe2-4089-9da3-25bbf5d4ae30 button.colab-df-convert');\n",
              "        buttonEl.style.display =\n",
              "          google.colab.kernel.accessAllowed ? 'block' : 'none';\n",
              "\n",
              "        async function convertToInteractive(key) {\n",
              "          const element = document.querySelector('#df-5fce84cc-8fe2-4089-9da3-25bbf5d4ae30');\n",
              "          const dataTable =\n",
              "            await google.colab.kernel.invokeFunction('convertToInteractive',\n",
              "                                                     [key], {});\n",
              "          if (!dataTable) return;\n",
              "\n",
              "          const docLinkHtml = 'Like what you see? Visit the ' +\n",
              "            '<a target=\"_blank\" href=https://colab.research.google.com/notebooks/data_table.ipynb>data table notebook</a>'\n",
              "            + ' to learn more about interactive tables.';\n",
              "          element.innerHTML = '';\n",
              "          dataTable['output_type'] = 'display_data';\n",
              "          await google.colab.output.renderOutput(dataTable, element);\n",
              "          const docLink = document.createElement('div');\n",
              "          docLink.innerHTML = docLinkHtml;\n",
              "          element.appendChild(docLink);\n",
              "        }\n",
              "      </script>\n",
              "    </div>\n",
              "  </div>\n",
              "  "
            ]
          },
          "metadata": {},
          "execution_count": 15
        }
      ],
      "source": [
        "train.head(3)"
      ]
    },
    {
      "cell_type": "code",
      "source": [
        "def deep_model(model, X_train, y_train, X_valid, y_valid, es, lr_schedule, model_file, train_history_file):\n",
        "    '''\n",
        "    Function to train a multi-class model. The number of epochs and \n",
        "    batch_size are set by the constants at the top of the\n",
        "    notebook. \n",
        "    \n",
        "    Parameters:\n",
        "        model : model with the chosen architecture\n",
        "        X_train : training features\n",
        "        y_train : training target\n",
        "        X_valid : validation features\n",
        "        Y_valid : validation target\n",
        "    Output:\n",
        "        model training history\n",
        "    '''\n",
        "    model.compile(optimizer=optimizers.Adamax(lr=0.05)\n",
        "                  , loss='binary_crossentropy'\n",
        "                  , metrics=['accuracy'])\n",
        "    \n",
        "    history = model.fit(X_train\n",
        "                       , y_train\n",
        "                       , epochs=NUM_EPOCHS\n",
        "                       , batch_size=BATCH_SIZE\n",
        "                       , validation_data=(X_valid, y_valid)\n",
        "                       , verbose=1\n",
        "                       , callbacks=[es, lr_schedule])\n",
        "    \n",
        "    model.save(model_file)\n",
        "\n",
        "    with open(train_history_file, 'wb') as file_pi:\n",
        "      pickle.dump(history, file_pi)\n",
        "\n",
        "    # It can be used to reconstruct the model identically.\n",
        "    \n",
        "    return history\n",
        "\n",
        "\n",
        "def eval_metric(history, metric_name):\n",
        "    '''\n",
        "    Function to evaluate a trained model on a chosen metric. \n",
        "    Training and validation metric are plotted in a\n",
        "    line chart for each epoch.\n",
        "    \n",
        "    Parameters:\n",
        "        history : model training history\n",
        "        metric_name : loss or accuracy\n",
        "    Output:\n",
        "        line chart with epochs of x-axis and metric on\n",
        "        y-axis\n",
        "    '''\n",
        "    metric = history.history[metric_name]\n",
        "    val_metric = history.history['val_' + metric_name]\n",
        "\n",
        "    e = range(1, NUM_EPOCHS + 1)\n",
        "\n",
        "    plt.plot(e, metric, 'bo', label='Train ' + metric_name)\n",
        "    plt.plot(e, val_metric, 'b', label='Validation ' + metric_name)\n",
        "    plt.legend()\n",
        "    plt.savefig(path+'data/output/neural_network/train_valid_loss.png')\n",
        "    plt.show()\n",
        "\n",
        "def test_model(model, X_train, y_train, X_test, y_test, epoch_stop):\n",
        "    '''\n",
        "    Function to test the model on new data after training it\n",
        "    on the full training data with the optimal number of epochs.\n",
        "    \n",
        "    Parameters:\n",
        "        model : trained model\n",
        "        X_train : training features\n",
        "        y_train : training target\n",
        "        X_test : test features\n",
        "        y_test : test target\n",
        "        epochs : optimal number of epochs\n",
        "    Output:\n",
        "        test accuracy and test loss\n",
        "    '''\n",
        "    model.fit(X_train\n",
        "              , y_train\n",
        "              , epochs=epoch_stop\n",
        "              , batch_size=BATCH_SIZE\n",
        "              , verbose=0)\n",
        "    results = model.evaluate(X_test, y_test)\n",
        "    \n",
        "    return results\n",
        "\n"
      ],
      "metadata": {
        "id": "OK8vLUHQaTfo"
      },
      "execution_count": null,
      "outputs": []
    },
    {
      "cell_type": "markdown",
      "metadata": {
        "id": "1tumHVvETmJ-"
      },
      "source": [
        "### Train-Test split"
      ]
    },
    {
      "cell_type": "code",
      "execution_count": null,
      "metadata": {
        "colab": {
          "base_uri": "https://localhost:8080/"
        },
        "collapsed": true,
        "id": "r0NxkziTTmJ_",
        "outputId": "5c68d38a-424d-498a-cb2e-2219ef0e5596"
      },
      "outputs": [
        {
          "output_type": "stream",
          "name": "stdout",
          "text": [
            "# Train data samples: 932967\n",
            "# Test data samples: 103663\n"
          ]
        }
      ],
      "source": [
        "X_train, X_test, y_train, y_test = train_test_split(train[corpus_col], train['target'].values, test_size=0.1, random_state=37)\n",
        "print('# Train data samples:', X_train.shape[0])\n",
        "print('# Test data samples:', X_test.shape[0])\n",
        "assert X_train.shape[0] == y_train.shape[0]\n",
        "assert X_test.shape[0] == y_test.shape[0]"
      ]
    },
    {
      "cell_type": "code",
      "execution_count": null,
      "metadata": {
        "colab": {
          "base_uri": "https://localhost:8080/"
        },
        "id": "2I3ztiGMYc_a",
        "outputId": "52abc9b2-68d7-453d-8d93-8709ec5a0680"
      },
      "outputs": [
        {
          "output_type": "stream",
          "name": "stdout",
          "text": [
            "(932967,) (932967,) (103663,) (103663,)\n"
          ]
        }
      ],
      "source": [
        "print(X_train.shape, y_train.shape, X_test.shape, y_test.shape)"
      ]
    },
    {
      "cell_type": "markdown",
      "metadata": {
        "id": "H1G0KGmfTmJ_"
      },
      "source": [
        "### create token sequences"
      ]
    },
    {
      "cell_type": "code",
      "execution_count": null,
      "metadata": {
        "collapsed": true,
        "id": "NiHN37omTmJ_"
      },
      "outputs": [],
      "source": [
        "tokenizer = Tokenizer(num_words=NUM_WORDS,\n",
        "               filters='\"#$%&()*+,-./:;<=>@[\\\\]^_`{|}~\\t\\n',\n",
        "               lower=True,\n",
        "               split=\" \")\n",
        "tokenizer.fit_on_texts(X_train)\n",
        "\n",
        "X_train_seq = tokenizer.texts_to_sequences(X_train)\n",
        "X_test_seq = tokenizer.texts_to_sequences(X_test)"
      ]
    },
    {
      "cell_type": "markdown",
      "metadata": {
        "id": "POdbpTkyTmKA"
      },
      "source": [
        "### Creating word sequences of equal length\n"
      ]
    },
    {
      "cell_type": "code",
      "execution_count": null,
      "metadata": {
        "colab": {
          "base_uri": "https://localhost:8080/"
        },
        "collapsed": true,
        "id": "IDF9eCt3TmKA",
        "outputId": "6dc619ec-01f3-418b-c7b4-4211f67ecf2c"
      },
      "outputs": [
        {
          "output_type": "execute_result",
          "data": {
            "text/plain": [
              "count    932967.000000\n",
              "mean         12.620634\n",
              "std           6.920303\n",
              "min           1.000000\n",
              "25%           7.000000\n",
              "50%          12.000000\n",
              "75%          18.000000\n",
              "max         228.000000\n",
              "Name: text_lemmatized, dtype: float64"
            ]
          },
          "metadata": {},
          "execution_count": 20
        }
      ],
      "source": [
        "\n",
        "seq_lengths = X_train.apply(lambda x: len(x.split(' ')))\n",
        "seq_lengths.describe()"
      ]
    },
    {
      "cell_type": "code",
      "execution_count": null,
      "metadata": {
        "colab": {
          "base_uri": "https://localhost:8080/"
        },
        "id": "8zVwTd72XFTQ",
        "outputId": "d9fce6b3-4a6f-456e-f5d0-2b4a0bd6d81b"
      },
      "outputs": [
        {
          "output_type": "execute_result",
          "data": {
            "text/plain": [
              "28.0"
            ]
          },
          "metadata": {},
          "execution_count": 21
        }
      ],
      "source": [
        "seq_lengths.quantile(0.99)"
      ]
    },
    {
      "cell_type": "code",
      "execution_count": null,
      "metadata": {
        "colab": {
          "base_uri": "https://localhost:8080/"
        },
        "id": "TeUJdMA1W3Bw",
        "outputId": "c62ab797-ab43-4b34-c80e-f4351a7f180b"
      },
      "outputs": [
        {
          "output_type": "execute_result",
          "data": {
            "text/plain": [
              "28"
            ]
          },
          "metadata": {},
          "execution_count": 22
        }
      ],
      "source": [
        "MAX_LEN = int(seq_lengths.quantile(0.99))  # Maximum number of words in a sequence\n",
        "MAX_LEN "
      ]
    },
    {
      "cell_type": "markdown",
      "metadata": {
        "id": "hIfJHTYBTmKB"
      },
      "source": [
        "set MAX_LEN to 28, pad shorter sequences with zeros"
      ]
    },
    {
      "cell_type": "code",
      "execution_count": null,
      "metadata": {
        "collapsed": true,
        "id": "jlh3cpZbTmKB"
      },
      "outputs": [],
      "source": [
        "X_train_seq_trunc = pad_sequences(X_train_seq, maxlen=MAX_LEN)\n",
        "X_test_seq_trunc = pad_sequences(X_test_seq, maxlen=MAX_LEN)"
      ]
    },
    {
      "cell_type": "markdown",
      "metadata": {
        "id": "9lbabHPjTmKC"
      },
      "source": [
        "\n",
        "### Converting the target classes to numbers"
      ]
    },
    {
      "cell_type": "code",
      "execution_count": null,
      "metadata": {
        "collapsed": true,
        "id": "zOJqkFxxTmKC"
      },
      "outputs": [],
      "source": [
        "le = LabelEncoder()\n",
        "y_train_le = le.fit_transform(y_train)\n",
        "y_test_le = le.transform(y_test)\n",
        "y_train_oh = to_categorical(y_train_le)\n",
        "y_test_oh = to_categorical(y_test_le)"
      ]
    },
    {
      "cell_type": "markdown",
      "metadata": {
        "id": "i2REVud1TmKD"
      },
      "source": [
        "### Splitting off validation data"
      ]
    },
    {
      "cell_type": "code",
      "execution_count": null,
      "metadata": {
        "colab": {
          "base_uri": "https://localhost:8080/"
        },
        "collapsed": true,
        "id": "hIM2g4t3TmKD",
        "outputId": "7553c2da-0255-4fea-f9de-ddb2e064bd24"
      },
      "outputs": [
        {
          "output_type": "stream",
          "name": "stdout",
          "text": [
            "(839670, 28) (839670, 2) (93297, 28) (93297, 2)\n"
          ]
        }
      ],
      "source": [
        "X_train_emb, X_valid_emb, y_train_emb, y_valid_emb = train_test_split(X_train_seq_trunc, y_train_oh, test_size=0.1, random_state=37)\n",
        "\n",
        "assert X_valid_emb.shape[0] == y_valid_emb.shape[0]\n",
        "assert X_train_emb.shape[0] == y_train_emb.shape[0]\n",
        "\n",
        "print(X_train_emb.shape, y_train_emb.shape, X_valid_emb.shape, y_valid_emb.shape)"
      ]
    },
    {
      "cell_type": "markdown",
      "metadata": {
        "id": "1RbsWA5zTmKD"
      },
      "source": [
        "# Modeling"
      ]
    },
    {
      "cell_type": "markdown",
      "metadata": {
        "id": "HqrVl0aYTmKD"
      },
      "source": [
        "### Training model<br> "
      ]
    },
    {
      "cell_type": "markdown",
      "source": [
        "#### estblish learning rate scheduler"
      ],
      "metadata": {
        "id": "LiAqGVRO4FTO"
      }
    },
    {
      "cell_type": "code",
      "source": [
        "\n",
        "def scheduler(epoch, lr):\n",
        "  if epoch < 3:\n",
        "    return lr\n",
        "  else:\n",
        "    return lr * tf.math.exp(-0.1)"
      ],
      "metadata": {
        "id": "JxlmqnYvu_Nm"
      },
      "execution_count": null,
      "outputs": []
    },
    {
      "cell_type": "markdown",
      "source": [
        "establish early stopper"
      ],
      "metadata": {
        "id": "_SHRtEr_4KJA"
      }
    },
    {
      "cell_type": "code",
      "execution_count": null,
      "metadata": {
        "id": "zmzF5BLfdFZC"
      },
      "outputs": [],
      "source": [
        "early_stop = EarlyStopping(monitor='val_loss', mode='min', verbose=1, patience=10)\n",
        "schedule = tf.keras.callbacks.LearningRateScheduler(scheduler)\n"
      ]
    },
    {
      "cell_type": "markdown",
      "source": [
        "create model architecture"
      ],
      "metadata": {
        "id": "5KMWGUaz4M1Y"
      }
    },
    {
      "cell_type": "code",
      "execution_count": null,
      "metadata": {
        "colab": {
          "base_uri": "https://localhost:8080/"
        },
        "collapsed": true,
        "id": "om5k5BTuTmKI",
        "outputId": "6ba9781c-8a55-40d7-ae9e-a4d430856658"
      },
      "outputs": [
        {
          "output_type": "stream",
          "name": "stdout",
          "text": [
            "Model: \"sequential\"\n",
            "_________________________________________________________________\n",
            " Layer (type)                Output Shape              Param #   \n",
            "=================================================================\n",
            " embedding (Embedding)       (None, 28, 64)            524288    \n",
            "                                                                 \n",
            " bidirectional (Bidirectiona  (None, 40)               13600     \n",
            " l)                                                              \n",
            "                                                                 \n",
            " flatten (Flatten)           (None, 40)                0         \n",
            "                                                                 \n",
            " dense (Dense)               (None, 2)                 82        \n",
            "                                                                 \n",
            "=================================================================\n",
            "Total params: 537,970\n",
            "Trainable params: 537,970\n",
            "Non-trainable params: 0\n",
            "_________________________________________________________________\n"
          ]
        }
      ],
      "source": [
        "emb_model2 = models.Sequential()\n",
        "emb_model2.add(layers.Embedding(NUM_WORDS, 64, input_length=MAX_LEN))\n",
        "emb_model2.add(layers.Bidirectional(layers.LSTM(20,dropout=0.5)))\n",
        "emb_model2.add(layers.Flatten())\n",
        "emb_model2.add(layers.Dense(2, activation='softmax'))\n",
        "emb_model2.summary()"
      ]
    },
    {
      "cell_type": "code",
      "execution_count": null,
      "metadata": {
        "colab": {
          "base_uri": "https://localhost:8080/"
        },
        "id": "RZONl8T5TmKI",
        "outputId": "866ddd62-9724-4257-b194-af50ae114bb8"
      },
      "outputs": [
        {
          "output_type": "stream",
          "name": "stderr",
          "text": [
            "/usr/local/lib/python3.8/dist-packages/keras/optimizers/optimizer_v2/adamax.py:95: UserWarning: The `lr` argument is deprecated, use `learning_rate` instead.\n",
            "  super(Adamax, self).__init__(name, **kwargs)\n"
          ]
        },
        {
          "output_type": "stream",
          "name": "stdout",
          "text": [
            "Epoch 1/20\n",
            "6560/6560 [==============================] - 273s 41ms/step - loss: 0.4473 - accuracy: 0.7910 - val_loss: 0.4233 - val_accuracy: 0.8063 - lr: 0.0500\n",
            "Epoch 2/20\n",
            "6560/6560 [==============================] - 273s 42ms/step - loss: 0.4273 - accuracy: 0.8035 - val_loss: 0.4226 - val_accuracy: 0.8071 - lr: 0.0500\n",
            "Epoch 3/20\n",
            "6560/6560 [==============================] - 275s 42ms/step - loss: 0.4238 - accuracy: 0.8054 - val_loss: 0.4214 - val_accuracy: 0.8065 - lr: 0.0500\n",
            "Epoch 4/20\n",
            "6560/6560 [==============================] - 272s 41ms/step - loss: 0.4206 - accuracy: 0.8076 - val_loss: 0.4212 - val_accuracy: 0.8074 - lr: 0.0452\n",
            "Epoch 5/20\n",
            "6560/6560 [==============================] - 273s 42ms/step - loss: 0.4176 - accuracy: 0.8091 - val_loss: 0.4227 - val_accuracy: 0.8084 - lr: 0.0409\n",
            "Epoch 6/20\n",
            "6560/6560 [==============================] - 273s 42ms/step - loss: 0.4159 - accuracy: 0.8096 - val_loss: 0.4183 - val_accuracy: 0.8091 - lr: 0.0370\n",
            "Epoch 7/20\n",
            "6560/6560 [==============================] - 281s 43ms/step - loss: 0.4136 - accuracy: 0.8112 - val_loss: 0.4216 - val_accuracy: 0.8099 - lr: 0.0335\n",
            "Epoch 8/20\n",
            "6560/6560 [==============================] - 276s 42ms/step - loss: 0.4120 - accuracy: 0.8121 - val_loss: 0.4232 - val_accuracy: 0.8073 - lr: 0.0303\n",
            "Epoch 9/20\n",
            "6560/6560 [==============================] - 279s 43ms/step - loss: 0.4104 - accuracy: 0.8132 - val_loss: 0.4196 - val_accuracy: 0.8081 - lr: 0.0274\n",
            "Epoch 10/20\n",
            "6560/6560 [==============================] - 283s 43ms/step - loss: 0.4092 - accuracy: 0.8134 - val_loss: 0.4162 - val_accuracy: 0.8102 - lr: 0.0248\n",
            "Epoch 11/20\n",
            "6560/6560 [==============================] - 276s 42ms/step - loss: 0.4077 - accuracy: 0.8142 - val_loss: 0.4157 - val_accuracy: 0.8090 - lr: 0.0225\n",
            "Epoch 12/20\n",
            "6560/6560 [==============================] - 277s 42ms/step - loss: 0.4069 - accuracy: 0.8146 - val_loss: 0.4154 - val_accuracy: 0.8087 - lr: 0.0203\n",
            "Epoch 13/20\n",
            "6560/6560 [==============================] - 275s 42ms/step - loss: 0.4057 - accuracy: 0.8154 - val_loss: 0.4177 - val_accuracy: 0.8099 - lr: 0.0184\n",
            "Epoch 14/20\n",
            "6560/6560 [==============================] - 273s 42ms/step - loss: 0.4048 - accuracy: 0.8162 - val_loss: 0.4165 - val_accuracy: 0.8103 - lr: 0.0166\n",
            "Epoch 15/20\n",
            "6560/6560 [==============================] - 274s 42ms/step - loss: 0.4041 - accuracy: 0.8163 - val_loss: 0.4162 - val_accuracy: 0.8098 - lr: 0.0151\n",
            "Epoch 16/20\n",
            "6560/6560 [==============================] - 274s 42ms/step - loss: 0.4030 - accuracy: 0.8170 - val_loss: 0.4144 - val_accuracy: 0.8101 - lr: 0.0136\n",
            "Epoch 17/20\n",
            "6560/6560 [==============================] - 275s 42ms/step - loss: 0.4027 - accuracy: 0.8172 - val_loss: 0.4163 - val_accuracy: 0.8098 - lr: 0.0123\n",
            "Epoch 18/20\n",
            "6560/6560 [==============================] - 275s 42ms/step - loss: 0.4019 - accuracy: 0.8178 - val_loss: 0.4135 - val_accuracy: 0.8107 - lr: 0.0112\n",
            "Epoch 19/20\n",
            "6560/6560 [==============================] - 277s 42ms/step - loss: 0.4011 - accuracy: 0.8182 - val_loss: 0.4138 - val_accuracy: 0.8109 - lr: 0.0101\n",
            "Epoch 20/20\n",
            "6560/6560 [==============================] - 283s 43ms/step - loss: 0.4009 - accuracy: 0.8182 - val_loss: 0.4145 - val_accuracy: 0.8102 - lr: 0.0091\n"
          ]
        },
        {
          "output_type": "stream",
          "name": "stderr",
          "text": [
            "WARNING:absl:Found untraced functions such as lstm_cell_1_layer_call_fn, lstm_cell_1_layer_call_and_return_conditional_losses, lstm_cell_2_layer_call_fn, lstm_cell_2_layer_call_and_return_conditional_losses while saving (showing 4 of 4). These functions will not be directly callable after loading.\n"
          ]
        }
      ],
      "source": [
        "emb_history2 = deep_model(emb_model2, \n",
        "                          X_train_emb, \n",
        "                          y_train_emb, \n",
        "                          X_valid_emb, \n",
        "                          y_valid_emb, \n",
        "                          early_stop,\n",
        "                          schedule, \n",
        "                          model_file=model_output_file, \n",
        "                          train_history_file=train_history_output_file)"
      ]
    },
    {
      "cell_type": "markdown",
      "source": [
        "load saved model"
      ],
      "metadata": {
        "id": "hc0G7lXgmTdc"
      }
    },
    {
      "cell_type": "code",
      "source": [
        "# emb_history2 = models.load_model(path+model_output_file)\n",
        "# with open(path+train_history_output_file, \"rb\") as file_pi:\n",
        "#     emb_history2 = pickle.load(file_pi)"
      ],
      "metadata": {
        "id": "C3gydJdcmQRB"
      },
      "execution_count": null,
      "outputs": []
    },
    {
      "cell_type": "markdown",
      "metadata": {
        "id": "TGCxmsKnNv6Q"
      },
      "source": [
        "evaluate model on holdout"
      ]
    },
    {
      "cell_type": "code",
      "execution_count": null,
      "metadata": {
        "colab": {
          "base_uri": "https://localhost:8080/",
          "height": 265
        },
        "id": "qAEIGbxnOABw",
        "outputId": "1a6617cf-b2b7-4fb6-9584-db8af1660496"
      },
      "outputs": [
        {
          "output_type": "display_data",
          "data": {
            "text/plain": [
              "<Figure size 432x288 with 1 Axes>"
            ],
            "image/png": "[encoded data removed]"
          },
          "metadata": {
            "needs_background": "light"
          }
        }
      ],
      "source": [
        "eval_metric(emb_history2, 'accuracy')\n"
      ]
    },
    {
      "cell_type": "code",
      "execution_count": null,
      "metadata": {
        "id": "OVOkwMR-hXng"
      },
      "outputs": [],
      "source": [
        "holdout_predictions = emb_model2.predict(X_test_seq_trunc)"
      ]
    },
    {
      "cell_type": "code",
      "source": [
        "holdout_predictions = [p[1] for p in holdout_predictions]"
      ],
      "metadata": {
        "id": "uxYt1iWv0AK-"
      },
      "execution_count": null,
      "outputs": []
    },
    {
      "cell_type": "code",
      "source": [
        "num_correct = 0\n",
        "for p, a in zip(holdout_predictions.argmax(-1), y_test_oh):\n",
        "  pos = a[1]\n",
        "  \n",
        "  if p==pos:\n",
        "    num_correct+=1\n",
        "\n",
        "accuracy = num_correct/len(holdout_predictions)\n",
        "accuracy"
      ],
      "metadata": {
        "id": "2WGCONuyyCiQ"
      },
      "execution_count": null,
      "outputs": []
    },
    {
      "cell_type": "markdown",
      "metadata": {
        "id": "FlUhAXeui31c"
      },
      "source": [
        "### evaluate model on true kaggle test data"
      ]
    },
    {
      "cell_type": "code",
      "source": [
        "X_true_test_seq = tokenizer.texts_to_sequences(test[corpus_col])"
      ],
      "metadata": {
        "id": "zD50a1K8yIRe"
      },
      "execution_count": null,
      "outputs": []
    },
    {
      "cell_type": "code",
      "execution_count": null,
      "metadata": {
        "id": "drUNOfGTpJAx"
      },
      "outputs": [],
      "source": [
        "X_true_test_seq_trunc = pad_sequences(X_true_test_seq, maxlen=MAX_LEN)"
      ]
    },
    {
      "cell_type": "code",
      "source": [
        "predictions = emb_model2.predict(X_true_test_seq_trunc)"
      ],
      "metadata": {
        "id": "n2QwTXZJyKg3"
      },
      "execution_count": null,
      "outputs": []
    },
    {
      "cell_type": "code",
      "source": [
        "predictions[:5]"
      ],
      "metadata": {
        "id": "R2VLdRUnzXb-"
      },
      "execution_count": null,
      "outputs": []
    },
    {
      "cell_type": "code",
      "execution_count": null,
      "metadata": {
        "id": "82tWjjkzrBgw"
      },
      "outputs": [],
      "source": [
        "class_predictions = [p if p==0 else 2 for p in predictions.argmax(axis=-1)]"
      ]
    },
    {
      "cell_type": "code",
      "source": [
        "pdf = pd.DataFrame(class_predictions).reset_index()\n",
        "pdf.columns  = ['id', 'target']\n",
        "pdf['target'].value_counts()\n"
      ],
      "metadata": {
        "id": "ar_R4HeIyk6L"
      },
      "execution_count": null,
      "outputs": []
    },
    {
      "cell_type": "code",
      "source": [
        "pdf.to_csv(path+f'/data/output/embedding_{corpus_col}_predictions_2.csv', index=False)"
      ],
      "metadata": {
        "id": "gl1gq7IkymIs"
      },
      "execution_count": null,
      "outputs": []
    },
    {
      "cell_type": "markdown",
      "source": [
        "ROC Curve<br>\n",
        "surce: https://www.dlology.com/blog/simple-guide-on-how-to-generate-roc-plot-for-keras-classifier/"
      ],
      "metadata": {
        "id": "fBHjG-rB9NEF"
      }
    },
    {
      "cell_type": "code",
      "source": [
        "fpr_keras, tpr_keras, thresholds_keras = roc_curve(y_test_le, holdout_predictions)\n",
        "\n",
        "auc_keras = auc(fpr_keras, tpr_keras)"
      ],
      "metadata": {
        "id": "sc4MmxX79x4w"
      },
      "execution_count": null,
      "outputs": []
    },
    {
      "cell_type": "code",
      "source": [
        "plt.figure(1)\n",
        "plt.plot([0, 1], [0, 1], 'k--')\n",
        "plt.plot(fpr_keras, tpr_keras)\n",
        "plt.xlabel('False positive rate')\n",
        "plt.ylabel('True positive rate')\n",
        "plt.title('ROC curve')\n",
        "plt.savefig(path+'data/output/neural_network/ROC.png')\n",
        "plt.show()\n"
      ],
      "metadata": {
        "id": "zHpnra-x-Yxe"
      },
      "execution_count": null,
      "outputs": []
    },
    {
      "cell_type": "code",
      "source": [],
      "metadata": {
        "id": "HiQ6PMAC_Oii"
      },
      "execution_count": null,
      "outputs": []
    }
  ],
  "metadata": {
    "colab": {
      "provenance": []
    },
    "kernelspec": {
      "display_name": "Python 3",
      "language": "python",
      "name": "python3"
    },
    "language_info": {
      "codemirror_mode": {
        "name": "ipython",
        "version": 3
      },
      "file_extension": ".py",
      "mimetype": "text/x-python",
      "name": "python",
      "nbconvert_exporter": "python",
      "pygments_lexer": "ipython3",
      "version": "3.6.4"
    }
  },
  "nbformat": 4,
  "nbformat_minor": 0
}