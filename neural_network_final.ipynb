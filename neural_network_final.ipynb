{
 "cells": [
  {
   "cell_type": "code",
   "execution_count": null,
   "metadata": {
    "collapsed": true,
    "id": "D-7ecci_TmJ4"
   },
   "outputs": [],
   "source": [
    "# Basic packages\n",
    "import pandas as pd \n",
    "import numpy as np\n",
    "import re\n",
    "import collections\n",
    "import matplotlib.pyplot as plt\n",
    "from pathlib import Path\n",
    "\n",
    "# Packages for data preparation\n",
    "from sklearn.model_selection import train_test_split\n",
    "from nltk.corpus import stopwords\n",
    "from keras.preprocessing.text import Tokenizer\n",
    "from tensorflow.keras.preprocessing.sequence import pad_sequences\n",
    "from keras.utils.np_utils import to_categorical\n",
    "from sklearn.preprocessing import LabelEncoder\n",
    "from keras.callbacks import EarlyStopping\n",
    "from keras import optimizers\n",
    "import pickle\n",
    "\n",
    "# Packages for modeling\n",
    "from keras import models\n",
    "from keras import layers\n",
    "from keras import regularizers"
   ]
  },
  {
   "cell_type": "code",
   "execution_count": null,
   "metadata": {
    "colab": {
     "base_uri": "https://localhost:8080/",
     "height": 35
    },
    "id": "Nce0omfMmXAM",
    "outputId": "acd18af3-1671-4960-fe90-cbc8bc11daf9"
   },
   "outputs": [
    {
     "data": {
      "application/vnd.google.colaboratory.intrinsic+json": {
       "type": "string"
      },
      "text/plain": [
       "''"
      ]
     },
     "execution_count": 28,
     "metadata": {},
     "output_type": "execute_result"
    }
   ],
   "source": [
    "# import tensorflow as tf\n",
    "# tf.test.gpu_device_name()"
   ]
  },
  {
   "cell_type": "code",
   "execution_count": null,
   "metadata": {
    "colab": {
     "base_uri": "https://localhost:8080/"
    },
    "id": "Wr-GbLxgT54k",
    "outputId": "d2f6d263-e0b2-4ade-e3b1-e86a27ca4a43"
   },
   "outputs": [
    {
     "name": "stdout",
     "output_type": "stream",
     "text": [
      "Drive already mounted at /content/gdrive; to attempt to forcibly remount, call drive.mount(\"/content/gdrive\", force_remount=True).\n"
     ]
    }
   ],
   "source": [
    "# from google.colab import drive\n",
    "# drive.mount('/content/gdrive') \n",
    "# path = '/content/gdrive/MyDrive/IFT 6390/kaggle2/'"
   ]
  },
  {
   "cell_type": "markdown",
   "metadata": {
    "id": "tPAI5aRM3ae-"
   },
   "source": [
    "establish parameters for training"
   ]
  },
  {
   "cell_type": "code",
   "execution_count": null,
   "metadata": {
    "collapsed": true,
    "id": "LSwt1IUfTmJ6"
   },
   "outputs": [],
   "source": [
    "\n",
    "NUM_EPOCHS = 30  # Number of epochs we usually start to train with\n",
    "BATCH_SIZE = 128  # Size of the batches used in the mini-batch gradient descent\n",
    "NUM_WORDS = 8192\n",
    "\n",
    "corpus_col = 'text_lemmatized'\n",
    "INPUT_PATH = path+'data/input/'  # Path where all input files are stored\n",
    "model_output_file = path + 'data/output/neural_network/neural_network_model.h5'\n",
    "train_history_output_file = path + 'data/output/neural_network/train_history.pkl'"
   ]
  },
  {
   "cell_type": "markdown",
   "metadata": {
    "id": "zjJR5NtJnIj8"
   },
   "source": [
    "load embeddings <br>\n",
    "note: these pre-trained embeddings were not used to get the final results"
   ]
  },
  {
   "cell_type": "code",
   "execution_count": null,
   "metadata": {
    "id": "RFB3-yaRnKJV"
   },
   "outputs": [],
   "source": [
    "# vectors = []\n",
    "# with open(path+'vectors.tsv') as f:\n",
    "#     for line in f:\n",
    "#         v = np.array([float(l) for l in line.split()])\n",
    "#         vectors.append(v)\n",
    "\n",
    "# words = []\n",
    "# with open(path+'metadata.tsv') as f:\n",
    "#     for word in f:\n",
    "  \n",
    "#         words.append(word.strip())\n"
   ]
  },
  {
   "cell_type": "markdown",
   "metadata": {
    "id": "5M9XMBuuTmJ9"
   },
   "source": [
    "# Data Preparation\n",
    "### Read and clean data"
   ]
  },
  {
   "cell_type": "code",
   "execution_count": null,
   "metadata": {
    "collapsed": true,
    "id": "fqs42gP8TmJ-"
   },
   "outputs": [],
   "source": [
    "train = pd.read_csv(INPUT_PATH+'train_data_prepped.csv')\n",
    "test = pd.read_csv(INPUT_PATH+'test_data_prepped.csv')"
   ]
  },
  {
   "cell_type": "code",
   "execution_count": null,
   "metadata": {
    "id": "xo7Hi6tmsoUo"
   },
   "outputs": [],
   "source": [
    "test = test.fillna('')"
   ]
  },
  {
   "cell_type": "code",
   "execution_count": null,
   "metadata": {
    "id": "7jge8UerUkdR"
   },
   "outputs": [],
   "source": [
    "train_labels =  pd.read_csv(INPUT_PATH+'train_results.csv')"
   ]
  },
  {
   "cell_type": "code",
   "execution_count": null,
   "metadata": {
    "colab": {
     "base_uri": "https://localhost:8080/"
    },
    "id": "rIOuVhHUY7_S",
    "outputId": "aaf9abaa-d765-4cbc-b081-38831c5632f3"
   },
   "outputs": [
    {
     "data": {
      "text/plain": [
       "positive    520436\n",
       "negative    519803\n",
       "neutral         84\n",
       "Name: target, dtype: int64"
      ]
     },
     "execution_count": 35,
     "metadata": {},
     "output_type": "execute_result"
    }
   ],
   "source": [
    "train_labels['target'].value_counts()"
   ]
  },
  {
   "cell_type": "code",
   "execution_count": null,
   "metadata": {
    "id": "nMyoR3O7VDeo"
   },
   "outputs": [],
   "source": [
    "train['target'] = train_labels['target']"
   ]
  },
  {
   "cell_type": "code",
   "execution_count": null,
   "metadata": {
    "colab": {
     "base_uri": "https://localhost:8080/",
     "height": 142
    },
    "id": "ZjrKTJ5RU1lx",
    "outputId": "aadd74f0-f93c-44e7-af3a-f0acfe355fb4"
   },
   "outputs": [
    {
     "data": {
      "text/html": [
       "\n",
       "  <div id=\"df-617ec3b9-a455-4b31-84eb-7de3b50afdac\">\n",
       "    <div class=\"colab-df-container\">\n",
       "      <div>\n",
       "<style scoped>\n",
       "    .dataframe tbody tr th:only-of-type {\n",
       "        vertical-align: middle;\n",
       "    }\n",
       "\n",
       "    .dataframe tbody tr th {\n",
       "        vertical-align: top;\n",
       "    }\n",
       "\n",
       "    .dataframe thead th {\n",
       "        text-align: right;\n",
       "    }\n",
       "</style>\n",
       "<table border=\"1\" class=\"dataframe\">\n",
       "  <thead>\n",
       "    <tr style=\"text-align: right;\">\n",
       "      <th></th>\n",
       "      <th>id</th>\n",
       "      <th>text</th>\n",
       "      <th>cat</th>\n",
       "      <th>text_no_punc</th>\n",
       "      <th>text_no_numerals</th>\n",
       "      <th>text_no_sw</th>\n",
       "      <th>text_porter_stemmed</th>\n",
       "      <th>text_lancaster_stemmed</th>\n",
       "      <th>text_lemmatized</th>\n",
       "      <th>target</th>\n",
       "    </tr>\n",
       "  </thead>\n",
       "  <tbody>\n",
       "    <tr>\n",
       "      <th>0</th>\n",
       "      <td>0</td>\n",
       "      <td>anyway im getting of for a while</td>\n",
       "      <td>train</td>\n",
       "      <td>anyway im getting of for a while</td>\n",
       "      <td>anyway im getting of for a while</td>\n",
       "      <td>anyway im getting</td>\n",
       "      <td>anyway im get of for a while</td>\n",
       "      <td>anyway im get of for a whil</td>\n",
       "      <td>anyway im getting of for a while</td>\n",
       "      <td>positive</td>\n",
       "    </tr>\n",
       "  </tbody>\n",
       "</table>\n",
       "</div>\n",
       "      <button class=\"colab-df-convert\" onclick=\"convertToInteractive('df-617ec3b9-a455-4b31-84eb-7de3b50afdac')\"\n",
       "              title=\"Convert this dataframe to an interactive table.\"\n",
       "              style=\"display:none;\">\n",
       "        \n",
       "  <svg xmlns=\"http://www.w3.org/2000/svg\" height=\"24px\"viewBox=\"0 0 24 24\"\n",
       "       width=\"24px\">\n",
       "    <path d=\"M0 0h24v24H0V0z\" fill=\"none\"/>\n",
       "    <path d=\"M18.56 5.44l.94 2.06.94-2.06 2.06-.94-2.06-.94-.94-2.06-.94 2.06-2.06.94zm-11 1L8.5 8.5l.94-2.06 2.06-.94-2.06-.94L8.5 2.5l-.94 2.06-2.06.94zm10 10l.94 2.06.94-2.06 2.06-.94-2.06-.94-.94-2.06-.94 2.06-2.06.94z\"/><path d=\"M17.41 7.96l-1.37-1.37c-.4-.4-.92-.59-1.43-.59-.52 0-1.04.2-1.43.59L10.3 9.45l-7.72 7.72c-.78.78-.78 2.05 0 2.83L4 21.41c.39.39.9.59 1.41.59.51 0 1.02-.2 1.41-.59l7.78-7.78 2.81-2.81c.8-.78.8-2.07 0-2.86zM5.41 20L4 18.59l7.72-7.72 1.47 1.35L5.41 20z\"/>\n",
       "  </svg>\n",
       "      </button>\n",
       "      \n",
       "  <style>\n",
       "    .colab-df-container {\n",
       "      display:flex;\n",
       "      flex-wrap:wrap;\n",
       "      gap: 12px;\n",
       "    }\n",
       "\n",
       "    .colab-df-convert {\n",
       "      background-color: #E8F0FE;\n",
       "      border: none;\n",
       "      border-radius: 50%;\n",
       "      cursor: pointer;\n",
       "      display: none;\n",
       "      fill: #1967D2;\n",
       "      height: 32px;\n",
       "      padding: 0 0 0 0;\n",
       "      width: 32px;\n",
       "    }\n",
       "\n",
       "    .colab-df-convert:hover {\n",
       "      background-color: #E2EBFA;\n",
       "      box-shadow: 0px 1px 2px rgba(60, 64, 67, 0.3), 0px 1px 3px 1px rgba(60, 64, 67, 0.15);\n",
       "      fill: #174EA6;\n",
       "    }\n",
       "\n",
       "    [theme=dark] .colab-df-convert {\n",
       "      background-color: #3B4455;\n",
       "      fill: #D2E3FC;\n",
       "    }\n",
       "\n",
       "    [theme=dark] .colab-df-convert:hover {\n",
       "      background-color: #434B5C;\n",
       "      box-shadow: 0px 1px 3px 1px rgba(0, 0, 0, 0.15);\n",
       "      filter: drop-shadow(0px 1px 2px rgba(0, 0, 0, 0.3));\n",
       "      fill: #FFFFFF;\n",
       "    }\n",
       "  </style>\n",
       "\n",
       "      <script>\n",
       "        const buttonEl =\n",
       "          document.querySelector('#df-617ec3b9-a455-4b31-84eb-7de3b50afdac button.colab-df-convert');\n",
       "        buttonEl.style.display =\n",
       "          google.colab.kernel.accessAllowed ? 'block' : 'none';\n",
       "\n",
       "        async function convertToInteractive(key) {\n",
       "          const element = document.querySelector('#df-617ec3b9-a455-4b31-84eb-7de3b50afdac');\n",
       "          const dataTable =\n",
       "            await google.colab.kernel.invokeFunction('convertToInteractive',\n",
       "                                                     [key], {});\n",
       "          if (!dataTable) return;\n",
       "\n",
       "          const docLinkHtml = 'Like what you see? Visit the ' +\n",
       "            '<a target=\"_blank\" href=https://colab.research.google.com/notebooks/data_table.ipynb>data table notebook</a>'\n",
       "            + ' to learn more about interactive tables.';\n",
       "          element.innerHTML = '';\n",
       "          dataTable['output_type'] = 'display_data';\n",
       "          await google.colab.output.renderOutput(dataTable, element);\n",
       "          const docLink = document.createElement('div');\n",
       "          docLink.innerHTML = docLinkHtml;\n",
       "          element.appendChild(docLink);\n",
       "        }\n",
       "      </script>\n",
       "    </div>\n",
       "  </div>\n",
       "  "
      ],
      "text/plain": [
       "   id                              text    cat  \\\n",
       "0   0  anyway im getting of for a while  train   \n",
       "\n",
       "                       text_no_punc                  text_no_numerals  \\\n",
       "0  anyway im getting of for a while  anyway im getting of for a while   \n",
       "\n",
       "          text_no_sw           text_porter_stemmed  \\\n",
       "0  anyway im getting  anyway im get of for a while   \n",
       "\n",
       "        text_lancaster_stemmed                   text_lemmatized    target  \n",
       "0  anyway im get of for a whil  anyway im getting of for a while  positive  "
      ]
     },
     "execution_count": 37,
     "metadata": {},
     "output_type": "execute_result"
    }
   ],
   "source": [
    "train.head(1)"
   ]
  },
  {
   "cell_type": "markdown",
   "metadata": {
    "id": "9k5rMLa9V9zA"
   },
   "source": [
    "remove null rows"
   ]
  },
  {
   "cell_type": "code",
   "execution_count": null,
   "metadata": {
    "id": "8ApPD32mVp6W"
   },
   "outputs": [],
   "source": [
    "train = train[~train.isnull().any(axis=1)]"
   ]
  },
  {
   "cell_type": "code",
   "execution_count": null,
   "metadata": {
    "id": "lbziaytYo5Nh"
   },
   "outputs": [],
   "source": [
    "test = test[~test.isnull().any(axis=1)]"
   ]
  },
  {
   "cell_type": "markdown",
   "metadata": {
    "id": "DDeCaGj7ZIAE"
   },
   "source": [
    "remove neutral class"
   ]
  },
  {
   "cell_type": "code",
   "execution_count": null,
   "metadata": {
    "colab": {
     "base_uri": "https://localhost:8080/"
    },
    "id": "LFxF0v_GZJyQ",
    "outputId": "33e1d0a0-7829-49bf-b731-01cabf067605"
   },
   "outputs": [
    {
     "data": {
      "text/plain": [
       "positive    518740\n",
       "negative    517890\n",
       "Name: target, dtype: int64"
      ]
     },
     "execution_count": 40,
     "metadata": {},
     "output_type": "execute_result"
    }
   ],
   "source": [
    "train = train[train['target'] != 'neutral']\n",
    "train['target'].value_counts()"
   ]
  },
  {
   "cell_type": "code",
   "execution_count": null,
   "metadata": {
    "colab": {
     "base_uri": "https://localhost:8080/",
     "height": 292
    },
    "id": "jVtSIKEsVp8u",
    "outputId": "b257bbe4-b9aa-4879-afff-5c1f6f6b2c32"
   },
   "outputs": [
    {
     "data": {
      "text/html": [
       "\n",
       "  <div id=\"df-32b45dc7-3706-4dda-a1e8-9de4f6660e43\">\n",
       "    <div class=\"colab-df-container\">\n",
       "      <div>\n",
       "<style scoped>\n",
       "    .dataframe tbody tr th:only-of-type {\n",
       "        vertical-align: middle;\n",
       "    }\n",
       "\n",
       "    .dataframe tbody tr th {\n",
       "        vertical-align: top;\n",
       "    }\n",
       "\n",
       "    .dataframe thead th {\n",
       "        text-align: right;\n",
       "    }\n",
       "</style>\n",
       "<table border=\"1\" class=\"dataframe\">\n",
       "  <thead>\n",
       "    <tr style=\"text-align: right;\">\n",
       "      <th></th>\n",
       "      <th>id</th>\n",
       "      <th>text</th>\n",
       "      <th>cat</th>\n",
       "      <th>text_no_punc</th>\n",
       "      <th>text_no_numerals</th>\n",
       "      <th>text_no_sw</th>\n",
       "      <th>text_porter_stemmed</th>\n",
       "      <th>text_lancaster_stemmed</th>\n",
       "      <th>text_lemmatized</th>\n",
       "      <th>target</th>\n",
       "    </tr>\n",
       "  </thead>\n",
       "  <tbody>\n",
       "    <tr>\n",
       "      <th>0</th>\n",
       "      <td>0</td>\n",
       "      <td>anyway im getting of for a while</td>\n",
       "      <td>train</td>\n",
       "      <td>anyway im getting of for a while</td>\n",
       "      <td>anyway im getting of for a while</td>\n",
       "      <td>anyway im getting</td>\n",
       "      <td>anyway im get of for a while</td>\n",
       "      <td>anyway im get of for a whil</td>\n",
       "      <td>anyway im getting of for a while</td>\n",
       "      <td>positive</td>\n",
       "    </tr>\n",
       "    <tr>\n",
       "      <th>1</th>\n",
       "      <td>1</td>\n",
       "      <td>my red, apache isn't feelin too well this morn...</td>\n",
       "      <td>train</td>\n",
       "      <td>my red apache isnt feelin too well this morning</td>\n",
       "      <td>my red apache isnt feelin too well this morning</td>\n",
       "      <td>red apache feelin well morning</td>\n",
       "      <td>my red apach isnt feelin too well thi morn</td>\n",
       "      <td>my red apach isnt feelin too wel thi morn</td>\n",
       "      <td>my red apache isnt feelin too well this morning</td>\n",
       "      <td>negative</td>\n",
       "    </tr>\n",
       "    <tr>\n",
       "      <th>2</th>\n",
       "      <td>2</td>\n",
       "      <td>you should be its great. friday will be great ...</td>\n",
       "      <td>train</td>\n",
       "      <td>you should be its great friday will be great t...</td>\n",
       "      <td>you should be its great friday will be great t...</td>\n",
       "      <td>great friday great tooooooo</td>\n",
       "      <td>you should be it great friday will be great to...</td>\n",
       "      <td>you should be it gre friday wil be gre tooooooo</td>\n",
       "      <td>you should be it great friday will be great to...</td>\n",
       "      <td>positive</td>\n",
       "    </tr>\n",
       "  </tbody>\n",
       "</table>\n",
       "</div>\n",
       "      <button class=\"colab-df-convert\" onclick=\"convertToInteractive('df-32b45dc7-3706-4dda-a1e8-9de4f6660e43')\"\n",
       "              title=\"Convert this dataframe to an interactive table.\"\n",
       "              style=\"display:none;\">\n",
       "        \n",
       "  <svg xmlns=\"http://www.w3.org/2000/svg\" height=\"24px\"viewBox=\"0 0 24 24\"\n",
       "       width=\"24px\">\n",
       "    <path d=\"M0 0h24v24H0V0z\" fill=\"none\"/>\n",
       "    <path d=\"M18.56 5.44l.94 2.06.94-2.06 2.06-.94-2.06-.94-.94-2.06-.94 2.06-2.06.94zm-11 1L8.5 8.5l.94-2.06 2.06-.94-2.06-.94L8.5 2.5l-.94 2.06-2.06.94zm10 10l.94 2.06.94-2.06 2.06-.94-2.06-.94-.94-2.06-.94 2.06-2.06.94z\"/><path d=\"M17.41 7.96l-1.37-1.37c-.4-.4-.92-.59-1.43-.59-.52 0-1.04.2-1.43.59L10.3 9.45l-7.72 7.72c-.78.78-.78 2.05 0 2.83L4 21.41c.39.39.9.59 1.41.59.51 0 1.02-.2 1.41-.59l7.78-7.78 2.81-2.81c.8-.78.8-2.07 0-2.86zM5.41 20L4 18.59l7.72-7.72 1.47 1.35L5.41 20z\"/>\n",
       "  </svg>\n",
       "      </button>\n",
       "      \n",
       "  <style>\n",
       "    .colab-df-container {\n",
       "      display:flex;\n",
       "      flex-wrap:wrap;\n",
       "      gap: 12px;\n",
       "    }\n",
       "\n",
       "    .colab-df-convert {\n",
       "      background-color: #E8F0FE;\n",
       "      border: none;\n",
       "      border-radius: 50%;\n",
       "      cursor: pointer;\n",
       "      display: none;\n",
       "      fill: #1967D2;\n",
       "      height: 32px;\n",
       "      padding: 0 0 0 0;\n",
       "      width: 32px;\n",
       "    }\n",
       "\n",
       "    .colab-df-convert:hover {\n",
       "      background-color: #E2EBFA;\n",
       "      box-shadow: 0px 1px 2px rgba(60, 64, 67, 0.3), 0px 1px 3px 1px rgba(60, 64, 67, 0.15);\n",
       "      fill: #174EA6;\n",
       "    }\n",
       "\n",
       "    [theme=dark] .colab-df-convert {\n",
       "      background-color: #3B4455;\n",
       "      fill: #D2E3FC;\n",
       "    }\n",
       "\n",
       "    [theme=dark] .colab-df-convert:hover {\n",
       "      background-color: #434B5C;\n",
       "      box-shadow: 0px 1px 3px 1px rgba(0, 0, 0, 0.15);\n",
       "      filter: drop-shadow(0px 1px 2px rgba(0, 0, 0, 0.3));\n",
       "      fill: #FFFFFF;\n",
       "    }\n",
       "  </style>\n",
       "\n",
       "      <script>\n",
       "        const buttonEl =\n",
       "          document.querySelector('#df-32b45dc7-3706-4dda-a1e8-9de4f6660e43 button.colab-df-convert');\n",
       "        buttonEl.style.display =\n",
       "          google.colab.kernel.accessAllowed ? 'block' : 'none';\n",
       "\n",
       "        async function convertToInteractive(key) {\n",
       "          const element = document.querySelector('#df-32b45dc7-3706-4dda-a1e8-9de4f6660e43');\n",
       "          const dataTable =\n",
       "            await google.colab.kernel.invokeFunction('convertToInteractive',\n",
       "                                                     [key], {});\n",
       "          if (!dataTable) return;\n",
       "\n",
       "          const docLinkHtml = 'Like what you see? Visit the ' +\n",
       "            '<a target=\"_blank\" href=https://colab.research.google.com/notebooks/data_table.ipynb>data table notebook</a>'\n",
       "            + ' to learn more about interactive tables.';\n",
       "          element.innerHTML = '';\n",
       "          dataTable['output_type'] = 'display_data';\n",
       "          await google.colab.output.renderOutput(dataTable, element);\n",
       "          const docLink = document.createElement('div');\n",
       "          docLink.innerHTML = docLinkHtml;\n",
       "          element.appendChild(docLink);\n",
       "        }\n",
       "      </script>\n",
       "    </div>\n",
       "  </div>\n",
       "  "
      ],
      "text/plain": [
       "   id                                               text    cat  \\\n",
       "0   0                   anyway im getting of for a while  train   \n",
       "1   1  my red, apache isn't feelin too well this morn...  train   \n",
       "2   2  you should be its great. friday will be great ...  train   \n",
       "\n",
       "                                        text_no_punc  \\\n",
       "0                   anyway im getting of for a while   \n",
       "1   my red apache isnt feelin too well this morning    \n",
       "2  you should be its great friday will be great t...   \n",
       "\n",
       "                                    text_no_numerals  \\\n",
       "0                   anyway im getting of for a while   \n",
       "1   my red apache isnt feelin too well this morning    \n",
       "2  you should be its great friday will be great t...   \n",
       "\n",
       "                       text_no_sw  \\\n",
       "0               anyway im getting   \n",
       "1  red apache feelin well morning   \n",
       "2     great friday great tooooooo   \n",
       "\n",
       "                                 text_porter_stemmed  \\\n",
       "0                       anyway im get of for a while   \n",
       "1         my red apach isnt feelin too well thi morn   \n",
       "2  you should be it great friday will be great to...   \n",
       "\n",
       "                            text_lancaster_stemmed  \\\n",
       "0                      anyway im get of for a whil   \n",
       "1        my red apach isnt feelin too wel thi morn   \n",
       "2  you should be it gre friday wil be gre tooooooo   \n",
       "\n",
       "                                     text_lemmatized    target  \n",
       "0                   anyway im getting of for a while  positive  \n",
       "1    my red apache isnt feelin too well this morning  negative  \n",
       "2  you should be it great friday will be great to...  positive  "
      ]
     },
     "execution_count": 41,
     "metadata": {},
     "output_type": "execute_result"
    }
   ],
   "source": [
    "train.head(3)"
   ]
  },
  {
   "cell_type": "code",
   "execution_count": null,
   "metadata": {
    "id": "OK8vLUHQaTfo"
   },
   "outputs": [],
   "source": [
    "def deep_model(model, X_train, y_train, X_valid, y_valid, es, lr_schedule, model_file, train_history_file):\n",
    "    '''\n",
    "    Function to train a multi-class model. The number of epochs and \n",
    "    batch_size are set by the constants at the top of the\n",
    "    notebook. \n",
    "    \n",
    "    Parameters:\n",
    "        model : model with the chosen architecture\n",
    "        X_train : training features\n",
    "        y_train : training target\n",
    "        X_valid : validation features\n",
    "        Y_valid : validation target\n",
    "    Output:\n",
    "        model training history\n",
    "    '''\n",
    "    model.compile(optimizer=optimizers.Adamax(lr=0.05)\n",
    "                  , loss='binary_crossentropy'\n",
    "                  , metrics=['accuracy'])\n",
    "    \n",
    "    history = model.fit(X_train\n",
    "                       , y_train\n",
    "                       , epochs=NUM_EPOCHS\n",
    "                       , batch_size=BATCH_SIZE\n",
    "                       , validation_data=(X_valid, y_valid)\n",
    "                       , verbose=1\n",
    "                       , callbacks=[es, lr_schedule])\n",
    "    \n",
    "    model.save(model_file)\n",
    "\n",
    "    with open(train_history_file, 'wb') as file_pi:\n",
    "      pickle.dump(history, file_pi)\n",
    "\n",
    "    # It can be used to reconstruct the model identically.\n",
    "    \n",
    "    return history\n",
    "\n",
    "\n",
    "def eval_metric(history, metric_name):\n",
    "    '''\n",
    "    Function to evaluate a trained model on a chosen metric. \n",
    "    Training and validation metric are plotted in a\n",
    "    line chart for each epoch.\n",
    "    \n",
    "    Parameters:\n",
    "        history : model training history\n",
    "        metric_name : loss or accuracy\n",
    "    Output:\n",
    "        line chart with epochs of x-axis and metric on\n",
    "        y-axis\n",
    "    '''\n",
    "    metric = history.history[metric_name]\n",
    "    val_metric = history.history['val_' + metric_name]\n",
    "\n",
    "    e = range(1, NUM_EPOCHS + 1)\n",
    "\n",
    "    plt.plot(e, metric, 'bo', label='Train ' + metric_name)\n",
    "    plt.plot(e, val_metric, 'b', label='Validation ' + metric_name)\n",
    "    plt.legend()\n",
    "    plt.show()\n",
    "\n",
    "def test_model(model, X_train, y_train, X_test, y_test, epoch_stop):\n",
    "    '''\n",
    "    Function to test the model on new data after training it\n",
    "    on the full training data with the optimal number of epochs.\n",
    "    \n",
    "    Parameters:\n",
    "        model : trained model\n",
    "        X_train : training features\n",
    "        y_train : training target\n",
    "        X_test : test features\n",
    "        y_test : test target\n",
    "        epochs : optimal number of epochs\n",
    "    Output:\n",
    "        test accuracy and test loss\n",
    "    '''\n",
    "    model.fit(X_train\n",
    "              , y_train\n",
    "              , epochs=epoch_stop\n",
    "              , batch_size=BATCH_SIZE\n",
    "              , verbose=0)\n",
    "    results = model.evaluate(X_test, y_test)\n",
    "    \n",
    "    return results\n",
    "\n"
   ]
  },
  {
   "cell_type": "markdown",
   "metadata": {
    "id": "1tumHVvETmJ-"
   },
   "source": [
    "### Train-Test split"
   ]
  },
  {
   "cell_type": "code",
   "execution_count": null,
   "metadata": {
    "colab": {
     "base_uri": "https://localhost:8080/"
    },
    "collapsed": true,
    "id": "r0NxkziTTmJ_",
    "outputId": "dcc75070-54fe-4262-f605-e79061330474"
   },
   "outputs": [
    {
     "name": "stdout",
     "output_type": "stream",
     "text": [
      "# Train data samples: 932967\n",
      "# Test data samples: 103663\n"
     ]
    }
   ],
   "source": [
    "X_train, X_test, y_train, y_test = train_test_split(train[corpus_col], train['target'].values, test_size=0.1, random_state=37)\n",
    "print('# Train data samples:', X_train.shape[0])\n",
    "print('# Test data samples:', X_test.shape[0])\n",
    "assert X_train.shape[0] == y_train.shape[0]\n",
    "assert X_test.shape[0] == y_test.shape[0]"
   ]
  },
  {
   "cell_type": "code",
   "execution_count": null,
   "metadata": {
    "colab": {
     "base_uri": "https://localhost:8080/"
    },
    "id": "2I3ztiGMYc_a",
    "outputId": "471bbbc6-20a2-49a0-f526-803845fa778c"
   },
   "outputs": [
    {
     "name": "stdout",
     "output_type": "stream",
     "text": [
      "(932967,) (932967,) (103663,) (103663,)\n"
     ]
    }
   ],
   "source": [
    "print(X_train.shape, y_train.shape, X_test.shape, y_test.shape)"
   ]
  },
  {
   "cell_type": "markdown",
   "metadata": {
    "id": "H1G0KGmfTmJ_"
   },
   "source": [
    "### create token sequences"
   ]
  },
  {
   "cell_type": "code",
   "execution_count": null,
   "metadata": {
    "collapsed": true,
    "id": "NiHN37omTmJ_"
   },
   "outputs": [],
   "source": [
    "tokenizer = Tokenizer(num_words=NUM_WORDS,\n",
    "               filters='\"#$%&()*+,-./:;<=>@[\\\\]^_`{|}~\\t\\n',\n",
    "               lower=True,\n",
    "               split=\" \")\n",
    "tokenizer.fit_on_texts(X_train)\n",
    "\n",
    "X_train_seq = tokenizer.texts_to_sequences(X_train)\n",
    "X_test_seq = tokenizer.texts_to_sequences(X_test)"
   ]
  },
  {
   "cell_type": "markdown",
   "metadata": {
    "id": "POdbpTkyTmKA"
   },
   "source": [
    "### Creating word sequences of equal length\n"
   ]
  },
  {
   "cell_type": "code",
   "execution_count": null,
   "metadata": {
    "colab": {
     "base_uri": "https://localhost:8080/"
    },
    "collapsed": true,
    "id": "IDF9eCt3TmKA",
    "outputId": "f96e71a0-f31c-4207-c2a2-1946d9a7950c"
   },
   "outputs": [
    {
     "data": {
      "text/plain": [
       "count    932967.000000\n",
       "mean         12.620634\n",
       "std           6.920303\n",
       "min           1.000000\n",
       "25%           7.000000\n",
       "50%          12.000000\n",
       "75%          18.000000\n",
       "max         228.000000\n",
       "Name: text_lemmatized, dtype: float64"
      ]
     },
     "execution_count": 46,
     "metadata": {},
     "output_type": "execute_result"
    }
   ],
   "source": [
    "\n",
    "seq_lengths = X_train.apply(lambda x: len(x.split(' ')))\n",
    "seq_lengths.describe()"
   ]
  },
  {
   "cell_type": "code",
   "execution_count": null,
   "metadata": {
    "colab": {
     "base_uri": "https://localhost:8080/"
    },
    "id": "8zVwTd72XFTQ",
    "outputId": "34aa9cc0-3dcc-48c3-e7c5-42a0311ca61e"
   },
   "outputs": [
    {
     "data": {
      "text/plain": [
       "28.0"
      ]
     },
     "execution_count": 47,
     "metadata": {},
     "output_type": "execute_result"
    }
   ],
   "source": [
    "seq_lengths.quantile(0.99)"
   ]
  },
  {
   "cell_type": "code",
   "execution_count": null,
   "metadata": {
    "colab": {
     "base_uri": "https://localhost:8080/"
    },
    "id": "TeUJdMA1W3Bw",
    "outputId": "4434911b-f4b1-4288-ac73-8d8ad80bb3fd"
   },
   "outputs": [
    {
     "data": {
      "text/plain": [
       "28"
      ]
     },
     "execution_count": 48,
     "metadata": {},
     "output_type": "execute_result"
    }
   ],
   "source": [
    "MAX_LEN = int(seq_lengths.quantile(0.99))  # Maximum number of words in a sequence\n",
    "MAX_LEN "
   ]
  },
  {
   "cell_type": "markdown",
   "metadata": {
    "id": "hIfJHTYBTmKB"
   },
   "source": [
    "set MAX_LEN to 28, pad shorter sequences with zeros"
   ]
  },
  {
   "cell_type": "code",
   "execution_count": null,
   "metadata": {
    "collapsed": true,
    "id": "jlh3cpZbTmKB"
   },
   "outputs": [],
   "source": [
    "X_train_seq_trunc = pad_sequences(X_train_seq, maxlen=MAX_LEN)\n",
    "X_test_seq_trunc = pad_sequences(X_test_seq, maxlen=MAX_LEN)"
   ]
  },
  {
   "cell_type": "markdown",
   "metadata": {
    "id": "9lbabHPjTmKC"
   },
   "source": [
    "\n",
    "### Converting the target classes to numbers"
   ]
  },
  {
   "cell_type": "code",
   "execution_count": null,
   "metadata": {
    "collapsed": true,
    "id": "zOJqkFxxTmKC"
   },
   "outputs": [],
   "source": [
    "le = LabelEncoder()\n",
    "y_train_le = le.fit_transform(y_train)\n",
    "y_test_le = le.transform(y_test)\n",
    "y_train_oh = to_categorical(y_train_le)\n",
    "y_test_oh = to_categorical(y_test_le)"
   ]
  },
  {
   "cell_type": "markdown",
   "metadata": {
    "id": "i2REVud1TmKD"
   },
   "source": [
    "### Splitting off validation data"
   ]
  },
  {
   "cell_type": "code",
   "execution_count": null,
   "metadata": {
    "colab": {
     "base_uri": "https://localhost:8080/"
    },
    "collapsed": true,
    "id": "hIM2g4t3TmKD",
    "outputId": "23893dbd-de15-4464-886a-4d8e3f0ea18c"
   },
   "outputs": [
    {
     "name": "stdout",
     "output_type": "stream",
     "text": [
      "(839670, 28) (839670, 2) (93297, 28) (93297, 2)\n"
     ]
    }
   ],
   "source": [
    "X_train_emb, X_valid_emb, y_train_emb, y_valid_emb = train_test_split(X_train_seq_trunc, y_train_oh, test_size=0.1, random_state=37)\n",
    "\n",
    "assert X_valid_emb.shape[0] == y_valid_emb.shape[0]\n",
    "assert X_train_emb.shape[0] == y_train_emb.shape[0]\n",
    "\n",
    "print(X_train_emb.shape, y_train_emb.shape, X_valid_emb.shape, y_valid_emb.shape)"
   ]
  },
  {
   "cell_type": "markdown",
   "metadata": {
    "id": "1RbsWA5zTmKD"
   },
   "source": [
    "# Modeling"
   ]
  },
  {
   "cell_type": "markdown",
   "metadata": {
    "id": "HqrVl0aYTmKD"
   },
   "source": [
    "### Training model<br> "
   ]
  },
  {
   "cell_type": "markdown",
   "metadata": {
    "id": "LiAqGVRO4FTO"
   },
   "source": [
    "#### estblish learning rate scheduler"
   ]
  },
  {
   "cell_type": "code",
   "execution_count": null,
   "metadata": {
    "id": "JxlmqnYvu_Nm"
   },
   "outputs": [],
   "source": [
    "\n",
    "def scheduler(epoch, lr):\n",
    "    if epoch < 3:\n",
    "        return lr\n",
    "    else:\n",
    "        return lr * tf.math.exp(-0.1)"
   ]
  },
  {
   "cell_type": "markdown",
   "metadata": {
    "id": "_SHRtEr_4KJA"
   },
   "source": [
    "establish early stopper"
   ]
  },
  {
   "cell_type": "code",
   "execution_count": null,
   "metadata": {
    "id": "zmzF5BLfdFZC"
   },
   "outputs": [],
   "source": [
    "early_stop = EarlyStopping(monitor='val_loss', mode='min', verbose=1, patience=10)\n",
    "schedule = tf.keras.callbacks.LearningRateScheduler(scheduler)\n"
   ]
  },
  {
   "cell_type": "markdown",
   "metadata": {
    "id": "5KMWGUaz4M1Y"
   },
   "source": [
    "create model architecture"
   ]
  },
  {
   "cell_type": "code",
   "execution_count": null,
   "metadata": {
    "colab": {
     "base_uri": "https://localhost:8080/"
    },
    "collapsed": true,
    "id": "om5k5BTuTmKI",
    "outputId": "0850f36b-1190-4003-86cf-8d752009c2b7"
   },
   "outputs": [
    {
     "name": "stdout",
     "output_type": "stream",
     "text": [
      "Model: \"sequential_1\"\n",
      "_________________________________________________________________\n",
      " Layer (type)                Output Shape              Param #   \n",
      "=================================================================\n",
      " embedding_1 (Embedding)     (None, 28, 64)            524288    \n",
      "                                                                 \n",
      " bidirectional_1 (Bidirectio  (None, 40)               13600     \n",
      " nal)                                                            \n",
      "                                                                 \n",
      " flatten_1 (Flatten)         (None, 40)                0         \n",
      "                                                                 \n",
      " dense_1 (Dense)             (None, 2)                 82        \n",
      "                                                                 \n",
      "=================================================================\n",
      "Total params: 537,970\n",
      "Trainable params: 537,970\n",
      "Non-trainable params: 0\n",
      "_________________________________________________________________\n"
     ]
    }
   ],
   "source": [
    "emb_model2 = models.Sequential()\n",
    "emb_model2.add(layers.Embedding(NUM_WORDS, 64, input_length=MAX_LEN))\n",
    "emb_model2.add(layers.Bidirectional(layers.LSTM(20,dropout=0.5)))\n",
    "emb_model2.add(layers.Flatten())\n",
    "emb_model2.add(layers.Dense(2, activation='softmax'))\n",
    "emb_model2.summary()"
   ]
  },
  {
   "cell_type": "code",
   "execution_count": null,
   "metadata": {
    "colab": {
     "base_uri": "https://localhost:8080/"
    },
    "id": "RZONl8T5TmKI",
    "outputId": "162f6649-fa1b-4b3a-c04a-b23b18aa96c6"
   },
   "outputs": [
    {
     "name": "stdout",
     "output_type": "stream",
     "text": [
      "Epoch 1/3\n"
     ]
    },
    {
     "name": "stderr",
     "output_type": "stream",
     "text": [
      "/usr/local/lib/python3.8/dist-packages/keras/optimizers/optimizer_v2/adamax.py:95: UserWarning: The `lr` argument is deprecated, use `learning_rate` instead.\n",
      "  super(Adamax, self).__init__(name, **kwargs)\n"
     ]
    },
    {
     "name": "stdout",
     "output_type": "stream",
     "text": [
      "6560/6560 [==============================] - 320s 48ms/step - loss: 0.4465 - accuracy: 0.7912 - val_loss: 0.4235 - val_accuracy: 0.8054 - lr: 0.0500\n",
      "Epoch 2/3\n",
      "6560/6560 [==============================] - 275s 42ms/step - loss: 0.4260 - accuracy: 0.8038 - val_loss: 0.4235 - val_accuracy: 0.8047 - lr: 0.0500\n",
      "Epoch 3/3\n",
      "6560/6560 [==============================] - 274s 42ms/step - loss: 0.4217 - accuracy: 0.8062 - val_loss: 0.4222 - val_accuracy: 0.8056 - lr: 0.0500\n"
     ]
    },
    {
     "name": "stderr",
     "output_type": "stream",
     "text": [
      "WARNING:absl:Found untraced functions such as lstm_cell_4_layer_call_fn, lstm_cell_4_layer_call_and_return_conditional_losses, lstm_cell_5_layer_call_fn, lstm_cell_5_layer_call_and_return_conditional_losses while saving (showing 4 of 4). These functions will not be directly callable after loading.\n"
     ]
    }
   ],
   "source": [
    "emb_history2 = deep_model(emb_model2, \n",
    "                          X_train_emb, \n",
    "                          y_train_emb, \n",
    "                          X_valid_emb, \n",
    "                          y_valid_emb, \n",
    "                          early_stop,\n",
    "                          schedule, \n",
    "                          model_file=model_output_file, \n",
    "                          train_history_file=train_history_output_file)"
   ]
  },
  {
   "cell_type": "markdown",
   "metadata": {
    "id": "hc0G7lXgmTdc"
   },
   "source": [
    "load saved model"
   ]
  },
  {
   "cell_type": "code",
   "execution_count": null,
   "metadata": {
    "id": "C3gydJdcmQRB"
   },
   "outputs": [],
   "source": [
    "# emb_history2 = models.load_model(path+model_output_file)\n",
    "# with open(path+train_history_output_file, \"rb\") as file_pi:\n",
    "#     emb_history2 = pickle.load(file_pi)"
   ]
  },
  {
   "cell_type": "markdown",
   "metadata": {
    "id": "TGCxmsKnNv6Q"
   },
   "source": [
    "evaluate model on holdout"
   ]
  },
  {
   "cell_type": "code",
   "execution_count": 1,
   "metadata": {
    "colab": {
     "base_uri": "https://localhost:8080/",
     "height": 265
    },
    "id": "qAEIGbxnOABw",
    "outputId": "3ad76d79-9ad8-4863-d358-780375d15bf0"
   },
   "outputs": [],
   "source": [
    "eval_metric(emb_history2, 'accuracy')\n"
   ]
  },
  {
   "cell_type": "code",
   "execution_count": null,
   "metadata": {
    "colab": {
     "base_uri": "https://localhost:8080/"
    },
    "id": "OVOkwMR-hXng",
    "outputId": "92628686-629e-4148-dbba-e61e2ed86509"
   },
   "outputs": [
    {
     "name": "stdout",
     "output_type": "stream",
     "text": [
      "3240/3240 [==============================] - 27s 8ms/step\n"
     ]
    }
   ],
   "source": [
    "holdout_predictions = emb_model2.predict(X_test_seq_trunc).argmax(axis=-1)"
   ]
  },
  {
   "cell_type": "code",
   "execution_count": null,
   "metadata": {
    "colab": {
     "base_uri": "https://localhost:8080/"
    },
    "id": "RzejdSE9Nx3q",
    "outputId": "72599d53-2d51-4f95-8fce-ec99dc95a33a"
   },
   "outputs": [
    {
     "data": {
      "text/plain": [
       "0.8052921485968957"
      ]
     },
     "execution_count": 60,
     "metadata": {},
     "output_type": "execute_result"
    }
   ],
   "source": [
    "num_correct = 0\n",
    "for p, a in zip(holdout_predictions, y_test_oh):\n",
    "  pos = a[1]\n",
    "  \n",
    "  if p==pos:\n",
    "    num_correct+=1\n",
    "\n",
    "accuracy = num_correct/len(holdout_predictions)\n",
    "accuracy"
   ]
  },
  {
   "cell_type": "markdown",
   "metadata": {
    "id": "FlUhAXeui31c"
   },
   "source": [
    "### evaluate model on true kaggle test data"
   ]
  },
  {
   "cell_type": "code",
   "execution_count": null,
   "metadata": {
    "colab": {
     "base_uri": "https://localhost:8080/",
     "height": 292
    },
    "id": "B5GhvaJFi9PR",
    "outputId": "d238d93d-2aaf-4036-9fd2-61fadf5381aa"
   },
   "outputs": [
    {
     "data": {
      "text/html": [
       "\n",
       "  <div id=\"df-74e36492-d368-4d61-a39b-65d7430dee7e\">\n",
       "    <div class=\"colab-df-container\">\n",
       "      <div>\n",
       "<style scoped>\n",
       "    .dataframe tbody tr th:only-of-type {\n",
       "        vertical-align: middle;\n",
       "    }\n",
       "\n",
       "    .dataframe tbody tr th {\n",
       "        vertical-align: top;\n",
       "    }\n",
       "\n",
       "    .dataframe thead th {\n",
       "        text-align: right;\n",
       "    }\n",
       "</style>\n",
       "<table border=\"1\" class=\"dataframe\">\n",
       "  <thead>\n",
       "    <tr style=\"text-align: right;\">\n",
       "      <th></th>\n",
       "      <th>id</th>\n",
       "      <th>text</th>\n",
       "      <th>cat</th>\n",
       "      <th>text_no_punc</th>\n",
       "      <th>text_no_numerals</th>\n",
       "      <th>text_no_sw</th>\n",
       "      <th>text_porter_stemmed</th>\n",
       "      <th>text_lancaster_stemmed</th>\n",
       "      <th>text_lemmatized</th>\n",
       "    </tr>\n",
       "  </thead>\n",
       "  <tbody>\n",
       "    <tr>\n",
       "      <th>0</th>\n",
       "      <td>0</td>\n",
       "      <td>so cut... missed out on all the tce extreme me...</td>\n",
       "      <td>test</td>\n",
       "      <td>so cut missed out on all the tce extreme merch...</td>\n",
       "      <td>so cut missed out on all the tce extreme merch...</td>\n",
       "      <td>cut missed tce extreme merch! sizes</td>\n",
       "      <td>so cut miss out on all the tce extrem merch! i...</td>\n",
       "      <td>so cut miss out on al the tce extrem merch! in...</td>\n",
       "      <td>so cut missed out on all the tce extreme merch...</td>\n",
       "    </tr>\n",
       "    <tr>\n",
       "      <th>1</th>\n",
       "      <td>1</td>\n",
       "      <td>thank you very much wasin this is awesome lol</td>\n",
       "      <td>test</td>\n",
       "      <td>thank you very much wasin this is awesome lol</td>\n",
       "      <td>thank you very much wasin this is awesome lol</td>\n",
       "      <td>thank much wasin awesome lol</td>\n",
       "      <td>thank you veri much wasin thi is awesom lol</td>\n",
       "      <td>thank you very much wasin thi is awesom lol</td>\n",
       "      <td>thank you very much wasin this is awesome lol</td>\n",
       "    </tr>\n",
       "    <tr>\n",
       "      <th>2</th>\n",
       "      <td>2</td>\n",
       "      <td>squeezing in some internet time before dustin ...</td>\n",
       "      <td>test</td>\n",
       "      <td>squeezing in some internet time before dustin ...</td>\n",
       "      <td>squeezing in some internet time before dustin ...</td>\n",
       "      <td>squeezing internet time dustin goes work</td>\n",
       "      <td>squeez in some internet time befor dustin goe ...</td>\n",
       "      <td>squeez in som internet tim bef dustin goe to work</td>\n",
       "      <td>squeezing in some internet time before dustin ...</td>\n",
       "    </tr>\n",
       "  </tbody>\n",
       "</table>\n",
       "</div>\n",
       "      <button class=\"colab-df-convert\" onclick=\"convertToInteractive('df-74e36492-d368-4d61-a39b-65d7430dee7e')\"\n",
       "              title=\"Convert this dataframe to an interactive table.\"\n",
       "              style=\"display:none;\">\n",
       "        \n",
       "  <svg xmlns=\"http://www.w3.org/2000/svg\" height=\"24px\"viewBox=\"0 0 24 24\"\n",
       "       width=\"24px\">\n",
       "    <path d=\"M0 0h24v24H0V0z\" fill=\"none\"/>\n",
       "    <path d=\"M18.56 5.44l.94 2.06.94-2.06 2.06-.94-2.06-.94-.94-2.06-.94 2.06-2.06.94zm-11 1L8.5 8.5l.94-2.06 2.06-.94-2.06-.94L8.5 2.5l-.94 2.06-2.06.94zm10 10l.94 2.06.94-2.06 2.06-.94-2.06-.94-.94-2.06-.94 2.06-2.06.94z\"/><path d=\"M17.41 7.96l-1.37-1.37c-.4-.4-.92-.59-1.43-.59-.52 0-1.04.2-1.43.59L10.3 9.45l-7.72 7.72c-.78.78-.78 2.05 0 2.83L4 21.41c.39.39.9.59 1.41.59.51 0 1.02-.2 1.41-.59l7.78-7.78 2.81-2.81c.8-.78.8-2.07 0-2.86zM5.41 20L4 18.59l7.72-7.72 1.47 1.35L5.41 20z\"/>\n",
       "  </svg>\n",
       "      </button>\n",
       "      \n",
       "  <style>\n",
       "    .colab-df-container {\n",
       "      display:flex;\n",
       "      flex-wrap:wrap;\n",
       "      gap: 12px;\n",
       "    }\n",
       "\n",
       "    .colab-df-convert {\n",
       "      background-color: #E8F0FE;\n",
       "      border: none;\n",
       "      border-radius: 50%;\n",
       "      cursor: pointer;\n",
       "      display: none;\n",
       "      fill: #1967D2;\n",
       "      height: 32px;\n",
       "      padding: 0 0 0 0;\n",
       "      width: 32px;\n",
       "    }\n",
       "\n",
       "    .colab-df-convert:hover {\n",
       "      background-color: #E2EBFA;\n",
       "      box-shadow: 0px 1px 2px rgba(60, 64, 67, 0.3), 0px 1px 3px 1px rgba(60, 64, 67, 0.15);\n",
       "      fill: #174EA6;\n",
       "    }\n",
       "\n",
       "    [theme=dark] .colab-df-convert {\n",
       "      background-color: #3B4455;\n",
       "      fill: #D2E3FC;\n",
       "    }\n",
       "\n",
       "    [theme=dark] .colab-df-convert:hover {\n",
       "      background-color: #434B5C;\n",
       "      box-shadow: 0px 1px 3px 1px rgba(0, 0, 0, 0.15);\n",
       "      filter: drop-shadow(0px 1px 2px rgba(0, 0, 0, 0.3));\n",
       "      fill: #FFFFFF;\n",
       "    }\n",
       "  </style>\n",
       "\n",
       "      <script>\n",
       "        const buttonEl =\n",
       "          document.querySelector('#df-74e36492-d368-4d61-a39b-65d7430dee7e button.colab-df-convert');\n",
       "        buttonEl.style.display =\n",
       "          google.colab.kernel.accessAllowed ? 'block' : 'none';\n",
       "\n",
       "        async function convertToInteractive(key) {\n",
       "          const element = document.querySelector('#df-74e36492-d368-4d61-a39b-65d7430dee7e');\n",
       "          const dataTable =\n",
       "            await google.colab.kernel.invokeFunction('convertToInteractive',\n",
       "                                                     [key], {});\n",
       "          if (!dataTable) return;\n",
       "\n",
       "          const docLinkHtml = 'Like what you see? Visit the ' +\n",
       "            '<a target=\"_blank\" href=https://colab.research.google.com/notebooks/data_table.ipynb>data table notebook</a>'\n",
       "            + ' to learn more about interactive tables.';\n",
       "          element.innerHTML = '';\n",
       "          dataTable['output_type'] = 'display_data';\n",
       "          await google.colab.output.renderOutput(dataTable, element);\n",
       "          const docLink = document.createElement('div');\n",
       "          docLink.innerHTML = docLinkHtml;\n",
       "          element.appendChild(docLink);\n",
       "        }\n",
       "      </script>\n",
       "    </div>\n",
       "  </div>\n",
       "  "
      ],
      "text/plain": [
       "   id                                               text   cat  \\\n",
       "0   0  so cut... missed out on all the tce extreme me...  test   \n",
       "1   1      thank you very much wasin this is awesome lol  test   \n",
       "2   2  squeezing in some internet time before dustin ...  test   \n",
       "\n",
       "                                        text_no_punc  \\\n",
       "0  so cut missed out on all the tce extreme merch...   \n",
       "1      thank you very much wasin this is awesome lol   \n",
       "2  squeezing in some internet time before dustin ...   \n",
       "\n",
       "                                    text_no_numerals  \\\n",
       "0  so cut missed out on all the tce extreme merch...   \n",
       "1      thank you very much wasin this is awesome lol   \n",
       "2  squeezing in some internet time before dustin ...   \n",
       "\n",
       "                                 text_no_sw  \\\n",
       "0       cut missed tce extreme merch! sizes   \n",
       "1              thank much wasin awesome lol   \n",
       "2  squeezing internet time dustin goes work   \n",
       "\n",
       "                                 text_porter_stemmed  \\\n",
       "0  so cut miss out on all the tce extrem merch! i...   \n",
       "1        thank you veri much wasin thi is awesom lol   \n",
       "2  squeez in some internet time befor dustin goe ...   \n",
       "\n",
       "                              text_lancaster_stemmed  \\\n",
       "0  so cut miss out on al the tce extrem merch! in...   \n",
       "1        thank you very much wasin thi is awesom lol   \n",
       "2  squeez in som internet tim bef dustin goe to work   \n",
       "\n",
       "                                     text_lemmatized  \n",
       "0  so cut missed out on all the tce extreme merch...  \n",
       "1      thank you very much wasin this is awesome lol  \n",
       "2  squeezing in some internet time before dustin ...  "
      ]
     },
     "execution_count": 61,
     "metadata": {},
     "output_type": "execute_result"
    }
   ],
   "source": [
    "test.head(3)"
   ]
  },
  {
   "cell_type": "code",
   "execution_count": null,
   "metadata": {
    "id": "m2zK8uBHi5De"
   },
   "outputs": [],
   "source": [
    "X_true_test_seq = tokenizer.texts_to_sequences(test[corpus_col])"
   ]
  },
  {
   "cell_type": "code",
   "execution_count": null,
   "metadata": {
    "id": "drUNOfGTpJAx"
   },
   "outputs": [],
   "source": [
    "X_true_test_seq_trunc = pad_sequences(X_true_test_seq, maxlen=MAX_LEN)"
   ]
  },
  {
   "cell_type": "code",
   "execution_count": null,
   "metadata": {
    "colab": {
     "base_uri": "https://localhost:8080/"
    },
    "id": "LkHnSNJ4jdfy",
    "outputId": "8a90d1c8-ca81-4723-f6a0-bf4852204cb9"
   },
   "outputs": [
    {
     "name": "stdout",
     "output_type": "stream",
     "text": [
      "17506/17506 [==============================] - 92s 5ms/step\n"
     ]
    }
   ],
   "source": [
    "predictions = emb_model2.predict(X_true_test_seq_trunc)"
   ]
  },
  {
   "cell_type": "code",
   "execution_count": null,
   "metadata": {
    "id": "82tWjjkzrBgw"
   },
   "outputs": [],
   "source": [
    "predictions = [p if p==0 else 2 for p in predictions.argmax(axis=-1)]"
   ]
  },
  {
   "cell_type": "code",
   "execution_count": null,
   "metadata": {
    "colab": {
     "base_uri": "https://localhost:8080/"
    },
    "id": "en_X6ofA-CZK",
    "outputId": "65c7ec49-9e21-4d8e-9e33-26427ec8ab47"
   },
   "outputs": [
    {
     "data": {
      "text/plain": [
       "[0, 2, 0, 0, 0]"
      ]
     },
     "execution_count": 72,
     "metadata": {},
     "output_type": "execute_result"
    }
   ],
   "source": [
    "predictions[:5]"
   ]
  },
  {
   "cell_type": "code",
   "execution_count": null,
   "metadata": {
    "colab": {
     "base_uri": "https://localhost:8080/"
    },
    "id": "mTDgoAHVjw6e",
    "outputId": "1dedbaaf-fc90-46b8-a44e-e30eee9fb5a7"
   },
   "outputs": [
    {
     "data": {
      "text/plain": [
       "0    289030\n",
       "2    271145\n",
       "Name: target, dtype: int64"
      ]
     },
     "execution_count": 66,
     "metadata": {},
     "output_type": "execute_result"
    }
   ],
   "source": [
    "pdf = pd.DataFrame(predictions).reset_index()\n",
    "pdf.columns  = ['id', 'target']\n",
    "pdf['target'].value_counts()\n"
   ]
  },
  {
   "cell_type": "code",
   "execution_count": null,
   "metadata": {
    "id": "UDrCoCMpprLT"
   },
   "outputs": [],
   "source": [
    "pdf.to_csv(path+f'/data/output/embedding_{corpus_col}_predictions_2.csv', index=False)"
   ]
  },
  {
   "cell_type": "markdown",
   "metadata": {
    "id": "fBHjG-rB9NEF"
   },
   "source": [
    "ROC Curve<br>\n",
    "surce: https://www.dlology.com/blog/simple-guide-on-how-to-generate-roc-plot-for-keras-classifier/"
   ]
  },
  {
   "cell_type": "code",
   "execution_count": null,
   "metadata": {
    "id": "yBROu0k19wfH"
   },
   "outputs": [],
   "source": [
    "from keras.wrappers.scikit_learn import KerasClassifier\n",
    "from sklearn.metrics import roc_curve\n",
    "from sklearn.metrics import auc"
   ]
  },
  {
   "cell_type": "code",
   "execution_count": null,
   "metadata": {
    "id": "sc4MmxX79x4w"
   },
   "outputs": [],
   "source": [
    "fpr_keras, tpr_keras, thresholds_keras = roc_curve(y_test_le, holdout_predictions)"
   ]
  },
  {
   "cell_type": "code",
   "execution_count": null,
   "metadata": {
    "id": "hfCDNMb59_DA"
   },
   "outputs": [],
   "source": [
    "\n",
    "auc_keras = auc(fpr_keras, tpr_keras)"
   ]
  },
  {
   "cell_type": "code",
   "execution_count": null,
   "metadata": {
    "colab": {
     "base_uri": "https://localhost:8080/",
     "height": 295
    },
    "id": "zHpnra-x-Yxe",
    "outputId": "a6af2550-fe84-4c02-cb8c-a98e4ee5679a"
   },
   "outputs": [
    {
     "data": {
      "image/png": "[encoded data removed]",
      "text/plain": [
       "<Figure size 432x288 with 1 Axes>"
      ]
     },
     "metadata": {
      "needs_background": "light"
     },
     "output_type": "display_data"
    }
   ],
   "source": [
    "plt.figure(1)\n",
    "plt.plot([0, 1], [0, 1], 'k--')\n",
    "plt.plot(fpr_keras, tpr_keras)\n",
    "plt.xlabel('False positive rate')\n",
    "plt.ylabel('True positive rate')\n",
    "plt.title('ROC curve')\n",
    "plt.savefig(path+'data/output/neural_network/ROC.png')\n",
    "plt.show()\n"
   ]
  },
  {
   "cell_type": "code",
   "execution_count": null,
   "metadata": {
    "id": "HiQ6PMAC_Oii"
   },
   "outputs": [],
   "source": []
  }
 ],
 "metadata": {
  "colab": {
   "provenance": []
  },
  "kernelspec": {
   "display_name": "Python 3",
   "language": "python",
   "name": "python3"
  },
  "language_info": {
   "codemirror_mode": {
    "name": "ipython",
    "version": 3
   },
   "file_extension": ".py",
   "mimetype": "text/x-python",
   "name": "python",
   "nbconvert_exporter": "python",
   "pygments_lexer": "ipython3",
   "version": "3.7.3"
  }
 },
 "nbformat": 4,
 "nbformat_minor": 1
}
