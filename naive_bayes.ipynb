{
 "cells": [
  {
   "cell_type": "code",
   "execution_count": 8,
   "metadata": {},
   "outputs": [],
   "source": [
    "import pandas as pd\n",
    "import numpy as np\n",
    "import nltk\n",
    "import string\n",
    "from tqdm import tqdm\n",
    "\n",
    "\n",
    "\n",
    "from sklearn.feature_extraction.text import CountVectorizer\n",
    "from sklearn.naive_bayes import GaussianNB\n",
    "from sklearn.naive_bayes import MultinomialNB\n",
    "from sklearn.naive_bayes import BernoulliNB\n",
    "from sklearn.experimental import enable_halving_search_cv  # noqa\n",
    "from sklearn.model_selection import HalvingRandomSearchCV\n",
    "from sklearn.model_selection import train_test_split"
   ]
  },
  {
   "cell_type": "code",
   "execution_count": 9,
   "metadata": {},
   "outputs": [],
   "source": [
    "tqdm.pandas()"
   ]
  },
  {
   "cell_type": "code",
   "execution_count": 10,
   "metadata": {},
   "outputs": [],
   "source": [
    "input_path = 'data/input/'"
   ]
  },
  {
   "cell_type": "code",
   "execution_count": 12,
   "metadata": {},
   "outputs": [],
   "source": [
    "train = pd.read_csv(input_path + 'train_data_prepped.csv').fillna('')\n",
    "test = pd.read_csv(input_path + 'test_data_prepped.csv').fillna('')"
   ]
  },
  {
   "cell_type": "code",
   "execution_count": 13,
   "metadata": {},
   "outputs": [
    {
     "data": {
      "text/html": [
       "<div>\n",
       "<style scoped>\n",
       "    .dataframe tbody tr th:only-of-type {\n",
       "        vertical-align: middle;\n",
       "    }\n",
       "\n",
       "    .dataframe tbody tr th {\n",
       "        vertical-align: top;\n",
       "    }\n",
       "\n",
       "    .dataframe thead th {\n",
       "        text-align: right;\n",
       "    }\n",
       "</style>\n",
       "<table border=\"1\" class=\"dataframe\">\n",
       "  <thead>\n",
       "    <tr style=\"text-align: right;\">\n",
       "      <th></th>\n",
       "      <th>id</th>\n",
       "      <th>text</th>\n",
       "      <th>cat</th>\n",
       "      <th>text_no_punc</th>\n",
       "      <th>text_no_numerals</th>\n",
       "      <th>text_no_sw</th>\n",
       "      <th>text_porter_stemmed</th>\n",
       "      <th>text_lancaster_stemmed</th>\n",
       "      <th>text_lemmatized</th>\n",
       "    </tr>\n",
       "  </thead>\n",
       "  <tbody>\n",
       "  </tbody>\n",
       "</table>\n",
       "</div>"
      ],
      "text/plain": [
       "Empty DataFrame\n",
       "Columns: [id, text, cat, text_no_punc, text_no_numerals, text_no_sw, text_porter_stemmed, text_lancaster_stemmed, text_lemmatized]\n",
       "Index: []"
      ]
     },
     "execution_count": 13,
     "metadata": {},
     "output_type": "execute_result"
    }
   ],
   "source": [
    "train[train.isnull().any(axis=1)]"
   ]
  },
  {
   "cell_type": "code",
   "execution_count": 14,
   "metadata": {},
   "outputs": [
    {
     "data": {
      "text/html": [
       "<div>\n",
       "<style scoped>\n",
       "    .dataframe tbody tr th:only-of-type {\n",
       "        vertical-align: middle;\n",
       "    }\n",
       "\n",
       "    .dataframe tbody tr th {\n",
       "        vertical-align: top;\n",
       "    }\n",
       "\n",
       "    .dataframe thead th {\n",
       "        text-align: right;\n",
       "    }\n",
       "</style>\n",
       "<table border=\"1\" class=\"dataframe\">\n",
       "  <thead>\n",
       "    <tr style=\"text-align: right;\">\n",
       "      <th></th>\n",
       "      <th>id</th>\n",
       "      <th>text</th>\n",
       "      <th>cat</th>\n",
       "      <th>text_no_punc</th>\n",
       "      <th>text_no_numerals</th>\n",
       "      <th>text_no_sw</th>\n",
       "      <th>text_porter_stemmed</th>\n",
       "      <th>text_lancaster_stemmed</th>\n",
       "      <th>text_lemmatized</th>\n",
       "    </tr>\n",
       "  </thead>\n",
       "  <tbody>\n",
       "  </tbody>\n",
       "</table>\n",
       "</div>"
      ],
      "text/plain": [
       "Empty DataFrame\n",
       "Columns: [id, text, cat, text_no_punc, text_no_numerals, text_no_sw, text_porter_stemmed, text_lancaster_stemmed, text_lemmatized]\n",
       "Index: []"
      ]
     },
     "execution_count": 14,
     "metadata": {},
     "output_type": "execute_result"
    }
   ],
   "source": [
    "test[test.isnull().any(axis=1)]"
   ]
  },
  {
   "cell_type": "markdown",
   "metadata": {},
   "source": [
    "load train targets, binarize, drop nuetrals"
   ]
  },
  {
   "cell_type": "code",
   "execution_count": 16,
   "metadata": {},
   "outputs": [
    {
     "data": {
      "text/plain": [
       "positive    520436\n",
       "negative    519803\n",
       "neutral         84\n",
       "Name: target, dtype: int64"
      ]
     },
     "execution_count": 16,
     "metadata": {},
     "output_type": "execute_result"
    }
   ],
   "source": [
    "train_results = pd.read_csv(input_path + 'train_results.csv')\n",
    "train_results['target'].value_counts()"
   ]
  },
  {
   "cell_type": "code",
   "execution_count": 21,
   "metadata": {},
   "outputs": [],
   "source": [
    "train['target'] = train_results['target']"
   ]
  },
  {
   "cell_type": "markdown",
   "metadata": {},
   "source": [
    "drop nuetral target rows to keep it binary"
   ]
  },
  {
   "cell_type": "code",
   "execution_count": 23,
   "metadata": {},
   "outputs": [
    {
     "data": {
      "text/plain": [
       "1    520436\n",
       "0    519803\n",
       "Name: target, dtype: int64"
      ]
     },
     "execution_count": 23,
     "metadata": {},
     "output_type": "execute_result"
    }
   ],
   "source": [
    "train = train[train['target'] != 'neutral']\n",
    "train['target'] = [1 if t=='positive' else 0 for t in train['target'].values]\n",
    "train['target'].value_counts()\n"
   ]
  },
  {
   "cell_type": "markdown",
   "metadata": {},
   "source": [
    "### prepare bag of words<br>\n",
    "we need a different model for each text format"
   ]
  },
  {
   "cell_type": "markdown",
   "metadata": {},
   "source": [
    "Naive Bayes doesn't have any hyperparameters, so we'll test different versions of the text processing with different versions of naive bayes and corpos generation"
   ]
  },
  {
   "cell_type": "markdown",
   "metadata": {},
   "source": [
    "the following parameters will be tested<br>\n",
    "1. size of corpus vocab\n",
    "2. corpus ngram varieties\n",
    "3. bernoulli, multinomial or gaussian naive bayes\n",
    "4. stemming/lemmatizing methods"
   ]
  },
  {
   "cell_type": "code",
   "execution_count": 25,
   "metadata": {},
   "outputs": [],
   "source": [
    "vocab_sizes = [100, 1_000, 10_000, None]\n",
    "ngrams = [(1, 1), (2, 2), (1, 2), (1, 3)]\n",
    "models = [BernoulliNB(), GaussianNB(), MultinomialNB()]\n",
    "text_columns = ['text_no_numerals', 'text_no_sw', 'text_porter_stemmed', 'text_lancaster_stemmed', 'text_lemmatized']\n",
    "threshold = 0.5\n",
    "\n",
    "# shuffle train data\n",
    "train = train.sample(len(train))\n",
    "\n",
    "# get data and target\n",
    "train_X = train.iloc[:, :-1]\n",
    "train_y  = train.iloc[:, -1]\n",
    "\n",
    "# get 5000 data points for first round of training\n",
    "train_v1 = train_X[:5000]\n",
    "targets_v1 = train_y[:5000]"
   ]
  },
  {
   "cell_type": "code",
   "execution_count": 29,
   "metadata": {},
   "outputs": [
    {
     "data": {
      "text/plain": [
       "51538     1\n",
       "43617     0\n",
       "327072    0\n",
       "304537    1\n",
       "549680    1\n",
       "Name: target, dtype: int64"
      ]
     },
     "execution_count": 29,
     "metadata": {},
     "output_type": "execute_result"
    }
   ],
   "source": [
    "targets_v1.head()"
   ]
  },
  {
   "cell_type": "code",
   "execution_count": 26,
   "metadata": {},
   "outputs": [],
   "source": [
    "def trainModels(df, targets, vocab_sizes, models, text_columns, ngrams, threshold):\n",
    "\n",
    "    param_tracker = []\n",
    "    counter = 1\n",
    "    for size in tqdm(vocab_sizes):\n",
    "#         print(f'vocab size: {size}')\n",
    "\n",
    "        for model in tqdm(models):\n",
    "#             print(f'model type: {model}')\n",
    "\n",
    "            for col in tqdm(text_columns):\n",
    "#                 print(f'processing method: {col}')\n",
    "\n",
    "\n",
    "                for ng in tqdm(ngrams):\n",
    "#                     print(f'ngram range: {ng}')\n",
    "\n",
    "                    counter+=1\n",
    "                    if counter % 10==0:\n",
    "                        print(f'{counter}')\n",
    "                    vectorizer = CountVectorizer(max_features=size, ngram_range=ng)\n",
    "\n",
    "#                     print('creating bag of words')\n",
    "                    BOW = vectorizer.fit_transform(df[col])\n",
    "                    BOW_array = BOW.toarray()\n",
    "\n",
    "                    X_train, X_valid, y_train, y_valid = train_test_split(BOW_array, targets, test_size=0.2, random_state=42)\n",
    "#                     print('fitting data')      \n",
    "                    model.fit(X_train, y_train)\n",
    "\n",
    "\n",
    "                    prob_predictions = model.predict_proba(X_valid)\n",
    "\n",
    "                    # gets index of 1 column in prob_predictions\n",
    "                    pos_predictions = [pred[list(model.classes_).index(1)] for pred in prob_predictions]\n",
    "\n",
    "                    num_correct_pred = 0\n",
    "                    for pred, actual in zip(pos_predictions, y_valid):\n",
    "                        if pred >= threshold:\n",
    "                            binary_pred = 1\n",
    "                        else:\n",
    "                            binary_pred = 0\n",
    "\n",
    "                        if binary_pred==actual:\n",
    "                            num_correct_pred+=1\n",
    "                    accuracy = num_correct_pred / len(y_valid)\n",
    "#                     print(f'accuracy: {accuracy}')\n",
    "#                     print('\\n\\n')\n",
    "\n",
    "                    param_tracker.append((size, str(model), col, ng, accuracy))\n",
    "                    \n",
    "    param_df = pd.DataFrame(param_tracker, columns = ['vocab_size', 'model_type', 'text_column', 'ngram', 'accuracy'])\n",
    "    param_df = param_df.sort_values(by='accuracy', ascending=False)\n",
    "    return param_df\n",
    "\n",
    "                    \n",
    "                \n",
    "    # for vocab size we'll test"
   ]
  },
  {
   "cell_type": "code",
   "execution_count": 27,
   "metadata": {
    "scrolled": true
   },
   "outputs": [
    {
     "name": "stderr",
     "output_type": "stream",
     "text": [
      "  0%|                                                                                             | 0/4 [00:00<?, ?it/s]\n",
      "  0%|                                                                                             | 0/3 [00:00<?, ?it/s]\u001b[A\n",
      "\n",
      "  0%|                                                                                             | 0/5 [00:00<?, ?it/s]\u001b[A\u001b[A\n",
      "\n",
      "\n",
      "  0%|                                                                                             | 0/4 [00:00<?, ?it/s]\u001b[A\u001b[A\u001b[A\n",
      "\n",
      "\n",
      " 25%|█████████████████████▎                                                               | 1/4 [00:00<00:00,  7.28it/s]\u001b[A\u001b[A\u001b[A\n",
      "\n",
      "\n",
      " 50%|██████████████████████████████████████████▌                                          | 2/4 [00:00<00:00,  6.95it/s]\u001b[A\u001b[A\u001b[A\n",
      "\n",
      "\n",
      " 75%|███████████████████████████████████████████████████████████████▊                     | 3/4 [00:00<00:00,  6.32it/s]\u001b[A\u001b[A\u001b[A\n",
      "\n",
      "\n",
      "100%|█████████████████████████████████████████████████████████████████████████████████████| 4/4 [00:00<00:00,  5.29it/s]\u001b[A\u001b[A\u001b[A\n",
      "\n",
      "\n",
      " 20%|█████████████████                                                                    | 1/5 [00:00<00:03,  1.32it/s]\u001b[A\u001b[A\n",
      "\n",
      "\n",
      "  0%|                                                                                             | 0/4 [00:00<?, ?it/s]\u001b[A\u001b[A\u001b[A\n",
      "\n",
      "\n",
      " 50%|██████████████████████████████████████████▌                                          | 2/4 [00:00<00:00, 12.22it/s]\u001b[A\u001b[A\u001b[A\n",
      "\n",
      "\n",
      "100%|█████████████████████████████████████████████████████████████████████████████████████| 4/4 [00:00<00:00,  7.57it/s]\u001b[A\u001b[A\u001b[A\n",
      "\n",
      "\n",
      " 40%|██████████████████████████████████                                                   | 2/5 [00:01<00:01,  1.59it/s]\u001b[A\u001b[A\n",
      "\n",
      "\n",
      "  0%|                                                                                             | 0/4 [00:00<?, ?it/s]\u001b[A\u001b[A\u001b[A\n",
      "\n",
      "\n",
      " 50%|██████████████████████████████████████████▌                                          | 2/4 [00:00<00:00, 11.10it/s]\u001b[A\u001b[A\u001b[A"
     ]
    },
    {
     "name": "stdout",
     "output_type": "stream",
     "text": [
      "10\n"
     ]
    },
    {
     "name": "stderr",
     "output_type": "stream",
     "text": [
      "\n",
      "\n",
      "\n",
      "100%|█████████████████████████████████████████████████████████████████████████████████████| 4/4 [00:00<00:00,  7.78it/s]\u001b[A\u001b[A\u001b[A\n",
      "\n",
      "\n",
      " 60%|███████████████████████████████████████████████████                                  | 3/5 [00:01<00:01,  1.73it/s]\u001b[A\u001b[A\n",
      "\n",
      "\n",
      "  0%|                                                                                             | 0/4 [00:00<?, ?it/s]\u001b[A\u001b[A\u001b[A\n",
      "\n",
      "\n",
      " 50%|██████████████████████████████████████████▌                                          | 2/4 [00:00<00:00, 13.21it/s]\u001b[A\u001b[A\u001b[A\n",
      "\n",
      "\n",
      "100%|█████████████████████████████████████████████████████████████████████████████████████| 4/4 [00:00<00:00,  8.69it/s]\u001b[A\u001b[A\u001b[A\n",
      "\n",
      "\n",
      " 80%|████████████████████████████████████████████████████████████████████                 | 4/5 [00:02<00:00,  1.87it/s]\u001b[A\u001b[A\n",
      "\n",
      "\n",
      "  0%|                                                                                             | 0/4 [00:00<?, ?it/s]\u001b[A\u001b[A\u001b[A\n",
      "\n",
      "\n",
      " 50%|██████████████████████████████████████████▌                                          | 2/4 [00:00<00:00, 11.42it/s]\u001b[A\u001b[A\u001b[A"
     ]
    },
    {
     "name": "stdout",
     "output_type": "stream",
     "text": [
      "20\n"
     ]
    },
    {
     "name": "stderr",
     "output_type": "stream",
     "text": [
      "\n",
      "\n",
      "\n",
      "100%|█████████████████████████████████████████████████████████████████████████████████████| 4/4 [00:00<00:00,  7.40it/s]\u001b[A\u001b[A\u001b[A\n",
      "\n",
      "\n",
      "100%|█████████████████████████████████████████████████████████████████████████████████████| 5/5 [00:02<00:00,  1.77it/s]\u001b[A\u001b[A\n",
      "\n",
      " 33%|████████████████████████████▎                                                        | 1/3 [00:02<00:05,  2.83s/it]\u001b[A\n",
      "\n",
      "  0%|                                                                                             | 0/5 [00:00<?, ?it/s]\u001b[A\u001b[A\n",
      "\n",
      "\n",
      "  0%|                                                                                             | 0/4 [00:00<?, ?it/s]\u001b[A\u001b[A\u001b[A\n",
      "\n",
      "\n",
      " 50%|██████████████████████████████████████████▌                                          | 2/4 [00:00<00:00,  9.08it/s]\u001b[A\u001b[A\u001b[A\n",
      "\n",
      "\n",
      " 75%|███████████████████████████████████████████████████████████████▊                     | 3/4 [00:00<00:00,  6.91it/s]\u001b[A\u001b[A\u001b[A\n",
      "\n",
      "\n",
      "100%|█████████████████████████████████████████████████████████████████████████████████████| 4/4 [00:00<00:00,  5.36it/s]\u001b[A\u001b[A\u001b[A\n",
      "\n",
      "\n",
      " 20%|█████████████████                                                                    | 1/5 [00:00<00:02,  1.33it/s]\u001b[A\u001b[A\n",
      "\n",
      "\n",
      "  0%|                                                                                             | 0/4 [00:00<?, ?it/s]\u001b[A\u001b[A\u001b[A\n",
      "\n",
      "\n",
      " 50%|██████████████████████████████████████████▌                                          | 2/4 [00:00<00:00, 12.50it/s]\u001b[A\u001b[A\u001b[A\n",
      "\n",
      "\n",
      "100%|█████████████████████████████████████████████████████████████████████████████████████| 4/4 [00:00<00:00,  7.79it/s]\u001b[A\u001b[A\u001b[A\n",
      "\n",
      "\n",
      " 40%|██████████████████████████████████                                                   | 2/5 [00:01<00:01,  1.63it/s]\u001b[A\u001b[A\n",
      "\n",
      "\n",
      "  0%|                                                                                             | 0/4 [00:00<?, ?it/s]\u001b[A\u001b[A\u001b[A\n",
      "\n",
      "\n",
      " 50%|██████████████████████████████████████████▌                                          | 2/4 [00:00<00:00, 12.72it/s]\u001b[A\u001b[A\u001b[A"
     ]
    },
    {
     "name": "stdout",
     "output_type": "stream",
     "text": [
      "30\n"
     ]
    },
    {
     "name": "stderr",
     "output_type": "stream",
     "text": [
      "\n",
      "\n",
      "\n",
      "100%|█████████████████████████████████████████████████████████████████████████████████████| 4/4 [00:00<00:00,  7.53it/s]\u001b[A\u001b[A\u001b[A\n",
      "\n",
      "\n",
      " 60%|███████████████████████████████████████████████████                                  | 3/5 [00:01<00:01,  1.73it/s]\u001b[A\u001b[A\n",
      "\n",
      "\n",
      "  0%|                                                                                             | 0/4 [00:00<?, ?it/s]\u001b[A\u001b[A\u001b[A\n",
      "\n",
      "\n",
      " 50%|██████████████████████████████████████████▌                                          | 2/4 [00:00<00:00, 12.57it/s]\u001b[A\u001b[A\u001b[A\n",
      "\n",
      "\n",
      "100%|█████████████████████████████████████████████████████████████████████████████████████| 4/4 [00:00<00:00,  8.52it/s]\u001b[A\u001b[A\u001b[A\n",
      "\n",
      "\n",
      " 80%|████████████████████████████████████████████████████████████████████                 | 4/5 [00:02<00:00,  1.86it/s]\u001b[A\u001b[A\n",
      "\n",
      "\n",
      "  0%|                                                                                             | 0/4 [00:00<?, ?it/s]\u001b[A\u001b[A\u001b[A\n",
      "\n",
      "\n",
      " 50%|██████████████████████████████████████████▌                                          | 2/4 [00:00<00:00, 12.28it/s]\u001b[A\u001b[A\u001b[A"
     ]
    },
    {
     "name": "stdout",
     "output_type": "stream",
     "text": [
      "40\n"
     ]
    },
    {
     "name": "stderr",
     "output_type": "stream",
     "text": [
      "\n",
      "\n",
      "\n",
      "100%|█████████████████████████████████████████████████████████████████████████████████████| 4/4 [00:00<00:00,  8.01it/s]\u001b[A\u001b[A\u001b[A\n",
      "\n",
      "\n",
      "100%|█████████████████████████████████████████████████████████████████████████████████████| 5/5 [00:02<00:00,  1.80it/s]\u001b[A\u001b[A\n",
      "\n",
      " 67%|████████████████████████████████████████████████████████▋                            | 2/3 [00:05<00:02,  2.80s/it]\u001b[A\n",
      "\n",
      "  0%|                                                                                             | 0/5 [00:00<?, ?it/s]\u001b[A\u001b[A\n",
      "\n",
      "\n",
      "  0%|                                                                                             | 0/4 [00:00<?, ?it/s]\u001b[A\u001b[A\u001b[A\n",
      "\n",
      "\n",
      " 50%|██████████████████████████████████████████▌                                          | 2/4 [00:00<00:00,  9.36it/s]\u001b[A\u001b[A\u001b[A\n",
      "\n",
      "\n",
      " 75%|███████████████████████████████████████████████████████████████▊                     | 3/4 [00:00<00:00,  6.78it/s]\u001b[A\u001b[A\u001b[A\n",
      "\n",
      "\n",
      "100%|█████████████████████████████████████████████████████████████████████████████████████| 4/4 [00:00<00:00,  5.10it/s]\u001b[A\u001b[A\u001b[A\n",
      "\n",
      "\n",
      " 20%|█████████████████                                                                    | 1/5 [00:00<00:03,  1.27it/s]\u001b[A\u001b[A\n",
      "\n",
      "\n",
      "  0%|                                                                                             | 0/4 [00:00<?, ?it/s]\u001b[A\u001b[A\u001b[A\n",
      "\n",
      "\n",
      " 50%|██████████████████████████████████████████▌                                          | 2/4 [00:00<00:00, 12.62it/s]\u001b[A\u001b[A\u001b[A\n",
      "\n",
      "\n",
      "100%|█████████████████████████████████████████████████████████████████████████████████████| 4/4 [00:00<00:00,  8.16it/s]\u001b[A\u001b[A\u001b[A\n",
      "\n",
      "\n",
      " 40%|██████████████████████████████████                                                   | 2/5 [00:01<00:01,  1.63it/s]\u001b[A\u001b[A\n",
      "\n",
      "\n",
      "  0%|                                                                                             | 0/4 [00:00<?, ?it/s]\u001b[A\u001b[A\u001b[A\n",
      "\n",
      "\n",
      " 50%|██████████████████████████████████████████▌                                          | 2/4 [00:00<00:00, 13.05it/s]\u001b[A\u001b[A\u001b[A"
     ]
    },
    {
     "name": "stdout",
     "output_type": "stream",
     "text": [
      "50\n"
     ]
    },
    {
     "name": "stderr",
     "output_type": "stream",
     "text": [
      "\n",
      "\n",
      "\n",
      "100%|█████████████████████████████████████████████████████████████████████████████████████| 4/4 [00:00<00:00,  8.38it/s]\u001b[A\u001b[A\u001b[A\n",
      "\n",
      "\n",
      " 60%|███████████████████████████████████████████████████                                  | 3/5 [00:01<00:01,  1.81it/s]\u001b[A\u001b[A\n",
      "\n",
      "\n",
      "  0%|                                                                                             | 0/4 [00:00<?, ?it/s]\u001b[A\u001b[A\u001b[A\n",
      "\n",
      "\n",
      " 50%|██████████████████████████████████████████▌                                          | 2/4 [00:00<00:00, 12.99it/s]\u001b[A\u001b[A\u001b[A\n",
      "\n",
      "\n",
      "100%|█████████████████████████████████████████████████████████████████████████████████████| 4/4 [00:00<00:00,  7.86it/s]\u001b[A\u001b[A\u001b[A\n",
      "\n",
      "\n",
      " 80%|████████████████████████████████████████████████████████████████████                 | 4/5 [00:02<00:00,  1.86it/s]\u001b[A\u001b[A\n",
      "\n",
      "\n",
      "  0%|                                                                                             | 0/4 [00:00<?, ?it/s]\u001b[A\u001b[A\u001b[A\n",
      "\n",
      "\n",
      " 50%|██████████████████████████████████████████▌                                          | 2/4 [00:00<00:00, 13.27it/s]\u001b[A\u001b[A\u001b[A"
     ]
    },
    {
     "name": "stdout",
     "output_type": "stream",
     "text": [
      "60\n"
     ]
    },
    {
     "name": "stderr",
     "output_type": "stream",
     "text": [
      "\n",
      "\n",
      "\n",
      "100%|█████████████████████████████████████████████████████████████████████████████████████| 4/4 [00:00<00:00,  8.37it/s]\u001b[A\u001b[A\u001b[A\n",
      "\n",
      "\n",
      "100%|█████████████████████████████████████████████████████████████████████████████████████| 5/5 [00:02<00:00,  1.81it/s]\u001b[A\u001b[A\n",
      "\n",
      "100%|█████████████████████████████████████████████████████████████████████████████████████| 3/3 [00:08<00:00,  2.79s/it]\u001b[A\n",
      " 25%|█████████████████████▎                                                               | 1/4 [00:08<00:25,  8.39s/it]\n",
      "  0%|                                                                                             | 0/3 [00:00<?, ?it/s]\u001b[A\n",
      "\n",
      "  0%|                                                                                             | 0/5 [00:00<?, ?it/s]\u001b[A\u001b[A\n",
      "\n",
      "\n",
      "  0%|                                                                                             | 0/4 [00:00<?, ?it/s]\u001b[A\u001b[A\u001b[A\n",
      "\n",
      "\n",
      " 25%|█████████████████████▎                                                               | 1/4 [00:00<00:00,  5.88it/s]\u001b[A\u001b[A\u001b[A\n",
      "\n",
      "\n",
      " 50%|██████████████████████████████████████████▌                                          | 2/4 [00:00<00:00,  4.99it/s]\u001b[A\u001b[A\u001b[A\n",
      "\n",
      "\n",
      " 75%|███████████████████████████████████████████████████████████████▊                     | 3/4 [00:00<00:00,  4.37it/s]\u001b[A\u001b[A\u001b[A\n",
      "\n",
      "\n",
      "100%|█████████████████████████████████████████████████████████████████████████████████████| 4/4 [00:01<00:00,  3.78it/s]\u001b[A\u001b[A\u001b[A\n",
      "\n",
      "\n",
      " 20%|█████████████████                                                                    | 1/5 [00:01<00:04,  1.06s/it]\u001b[A\u001b[A\n",
      "\n",
      "\n",
      "  0%|                                                                                             | 0/4 [00:00<?, ?it/s]\u001b[A\u001b[A\u001b[A\n",
      "\n",
      "\n",
      " 25%|█████████████████████▎                                                               | 1/4 [00:00<00:00,  6.39it/s]\u001b[A\u001b[A\u001b[A\n",
      "\n",
      "\n",
      " 50%|██████████████████████████████████████████▌                                          | 2/4 [00:00<00:00,  5.82it/s]\u001b[A\u001b[A\u001b[A\n",
      "\n",
      "\n",
      " 75%|███████████████████████████████████████████████████████████████▊                     | 3/4 [00:00<00:00,  5.26it/s]\u001b[A\u001b[A\u001b[A\n",
      "\n",
      "\n",
      "100%|█████████████████████████████████████████████████████████████████████████████████████| 4/4 [00:00<00:00,  4.77it/s]\u001b[A\u001b[A\u001b[A\n",
      "\n",
      "\n",
      " 40%|██████████████████████████████████                                                   | 2/5 [00:01<00:02,  1.07it/s]\u001b[A\u001b[A\n",
      "\n",
      "\n",
      "  0%|                                                                                             | 0/4 [00:00<?, ?it/s]\u001b[A\u001b[A\u001b[A\n",
      "\n",
      "\n",
      " 25%|█████████████████████▎                                                               | 1/4 [00:00<00:00,  6.98it/s]\u001b[A\u001b[A\u001b[A"
     ]
    },
    {
     "name": "stdout",
     "output_type": "stream",
     "text": [
      "70\n"
     ]
    },
    {
     "name": "stderr",
     "output_type": "stream",
     "text": [
      "\n",
      "\n",
      "\n",
      " 50%|██████████████████████████████████████████▌                                          | 2/4 [00:00<00:00,  5.64it/s]\u001b[A\u001b[A\u001b[A\n",
      "\n",
      "\n",
      " 75%|███████████████████████████████████████████████████████████████▊                     | 3/4 [00:00<00:00,  4.91it/s]\u001b[A\u001b[A\u001b[A\n",
      "\n",
      "\n",
      "100%|█████████████████████████████████████████████████████████████████████████████████████| 4/4 [00:00<00:00,  4.62it/s]\u001b[A\u001b[A\u001b[A\n",
      "\n",
      "\n",
      " 60%|███████████████████████████████████████████████████                                  | 3/5 [00:02<00:01,  1.11it/s]\u001b[A\u001b[A\n",
      "\n",
      "\n",
      "  0%|                                                                                             | 0/4 [00:00<?, ?it/s]\u001b[A\u001b[A\u001b[A\n",
      "\n",
      "\n",
      " 25%|█████████████████████▎                                                               | 1/4 [00:00<00:00,  7.03it/s]\u001b[A\u001b[A\u001b[A\n",
      "\n",
      "\n",
      " 50%|██████████████████████████████████████████▌                                          | 2/4 [00:00<00:00,  6.08it/s]\u001b[A\u001b[A\u001b[A\n",
      "\n",
      "\n",
      " 75%|███████████████████████████████████████████████████████████████▊                     | 3/4 [00:00<00:00,  5.15it/s]\u001b[A\u001b[A\u001b[A\n",
      "\n",
      "\n",
      "100%|█████████████████████████████████████████████████████████████████████████████████████| 4/4 [00:00<00:00,  4.88it/s]\u001b[A\u001b[A\u001b[A\n",
      "\n",
      "\n",
      " 80%|████████████████████████████████████████████████████████████████████                 | 4/5 [00:03<00:00,  1.15it/s]\u001b[A\u001b[A\n",
      "\n",
      "\n",
      "  0%|                                                                                             | 0/4 [00:00<?, ?it/s]\u001b[A\u001b[A\u001b[A\n",
      "\n",
      "\n",
      " 25%|█████████████████████▎                                                               | 1/4 [00:00<00:00,  6.55it/s]\u001b[A\u001b[A\u001b[A\n",
      "\n",
      "\n",
      " 50%|██████████████████████████████████████████▌                                          | 2/4 [00:00<00:00,  5.88it/s]\u001b[A\u001b[A\u001b[A"
     ]
    },
    {
     "name": "stdout",
     "output_type": "stream",
     "text": [
      "80\n"
     ]
    },
    {
     "name": "stderr",
     "output_type": "stream",
     "text": [
      "\n",
      "\n",
      "\n",
      " 75%|███████████████████████████████████████████████████████████████▊                     | 3/4 [00:00<00:00,  5.20it/s]\u001b[A\u001b[A\u001b[A\n",
      "\n",
      "\n",
      "100%|█████████████████████████████████████████████████████████████████████████████████████| 4/4 [00:00<00:00,  4.74it/s]\u001b[A\u001b[A\u001b[A\n",
      "\n",
      "\n",
      "100%|█████████████████████████████████████████████████████████████████████████████████████| 5/5 [00:04<00:00,  1.12it/s]\u001b[A\u001b[A\n",
      "\n",
      " 33%|████████████████████████████▎                                                        | 1/3 [00:04<00:08,  4.45s/it]\u001b[A\n",
      "\n",
      "  0%|                                                                                             | 0/5 [00:00<?, ?it/s]\u001b[A\u001b[A\n",
      "\n",
      "\n",
      "  0%|                                                                                             | 0/4 [00:00<?, ?it/s]\u001b[A\u001b[A\u001b[A\n",
      "\n",
      "\n",
      " 25%|█████████████████████▎                                                               | 1/4 [00:00<00:00,  5.63it/s]\u001b[A\u001b[A\u001b[A\n",
      "\n",
      "\n",
      " 50%|██████████████████████████████████████████▌                                          | 2/4 [00:00<00:00,  4.77it/s]\u001b[A\u001b[A\u001b[A\n",
      "\n",
      "\n",
      " 75%|███████████████████████████████████████████████████████████████▊                     | 3/4 [00:00<00:00,  4.26it/s]\u001b[A\u001b[A\u001b[A\n",
      "\n",
      "\n",
      "100%|█████████████████████████████████████████████████████████████████████████████████████| 4/4 [00:01<00:00,  3.78it/s]\u001b[A\u001b[A\u001b[A\n",
      "\n",
      "\n",
      " 20%|█████████████████                                                                    | 1/5 [00:01<00:04,  1.06s/it]\u001b[A\u001b[A\n",
      "\n",
      "\n",
      "  0%|                                                                                             | 0/4 [00:00<?, ?it/s]\u001b[A\u001b[A\u001b[A\n",
      "\n",
      "\n",
      " 25%|█████████████████████▎                                                               | 1/4 [00:00<00:00,  6.72it/s]\u001b[A\u001b[A\u001b[A\n",
      "\n",
      "\n",
      " 50%|██████████████████████████████████████████▌                                          | 2/4 [00:00<00:00,  5.71it/s]\u001b[A\u001b[A\u001b[A\n",
      "\n",
      "\n",
      " 75%|███████████████████████████████████████████████████████████████▊                     | 3/4 [00:00<00:00,  5.26it/s]\u001b[A\u001b[A\u001b[A\n",
      "\n",
      "\n",
      "100%|█████████████████████████████████████████████████████████████████████████████████████| 4/4 [00:00<00:00,  4.74it/s]\u001b[A\u001b[A\u001b[A\n",
      "\n",
      "\n",
      " 40%|██████████████████████████████████                                                   | 2/5 [00:01<00:02,  1.07it/s]\u001b[A\u001b[A\n",
      "\n",
      "\n",
      "  0%|                                                                                             | 0/4 [00:00<?, ?it/s]\u001b[A\u001b[A\u001b[A\n",
      "\n",
      "\n",
      " 25%|█████████████████████▎                                                               | 1/4 [00:00<00:00,  6.84it/s]\u001b[A\u001b[A\u001b[A"
     ]
    },
    {
     "name": "stdout",
     "output_type": "stream",
     "text": [
      "90\n"
     ]
    },
    {
     "name": "stderr",
     "output_type": "stream",
     "text": [
      "\n",
      "\n",
      "\n",
      " 50%|██████████████████████████████████████████▌                                          | 2/4 [00:00<00:00,  6.04it/s]\u001b[A\u001b[A\u001b[A\n",
      "\n",
      "\n",
      " 75%|███████████████████████████████████████████████████████████████▊                     | 3/4 [00:00<00:00,  5.35it/s]\u001b[A\u001b[A\u001b[A\n",
      "\n",
      "\n",
      "100%|█████████████████████████████████████████████████████████████████████████████████████| 4/4 [00:00<00:00,  4.93it/s]\u001b[A\u001b[A\u001b[A\n",
      "\n",
      "\n",
      " 60%|███████████████████████████████████████████████████                                  | 3/5 [00:02<00:01,  1.14it/s]\u001b[A\u001b[A\n",
      "\n",
      "\n",
      "  0%|                                                                                             | 0/4 [00:00<?, ?it/s]\u001b[A\u001b[A\u001b[A\n",
      "\n",
      "\n",
      " 25%|█████████████████████▎                                                               | 1/4 [00:00<00:00,  6.82it/s]\u001b[A\u001b[A\u001b[A\n",
      "\n",
      "\n",
      " 50%|██████████████████████████████████████████▌                                          | 2/4 [00:00<00:00,  6.00it/s]\u001b[A\u001b[A\u001b[A\n",
      "\n",
      "\n",
      " 75%|███████████████████████████████████████████████████████████████▊                     | 3/4 [00:00<00:00,  5.28it/s]\u001b[A\u001b[A\u001b[A\n",
      "\n",
      "\n",
      "100%|█████████████████████████████████████████████████████████████████████████████████████| 4/4 [00:00<00:00,  4.90it/s]\u001b[A\u001b[A\u001b[A\n",
      "\n",
      "\n",
      " 80%|████████████████████████████████████████████████████████████████████                 | 4/5 [00:03<00:00,  1.17it/s]\u001b[A\u001b[A\n",
      "\n",
      "\n",
      "  0%|                                                                                             | 0/4 [00:00<?, ?it/s]\u001b[A\u001b[A\u001b[A\n",
      "\n",
      "\n",
      " 25%|█████████████████████▎                                                               | 1/4 [00:00<00:00,  6.74it/s]\u001b[A\u001b[A\u001b[A\n",
      "\n",
      "\n",
      " 50%|██████████████████████████████████████████▌                                          | 2/4 [00:00<00:00,  6.05it/s]\u001b[A\u001b[A\u001b[A"
     ]
    },
    {
     "name": "stdout",
     "output_type": "stream",
     "text": [
      "100\n"
     ]
    },
    {
     "name": "stderr",
     "output_type": "stream",
     "text": [
      "\n",
      "\n",
      "\n",
      " 75%|███████████████████████████████████████████████████████████████▊                     | 3/4 [00:00<00:00,  5.21it/s]\u001b[A\u001b[A\u001b[A\n",
      "\n",
      "\n",
      "100%|█████████████████████████████████████████████████████████████████████████████████████| 4/4 [00:00<00:00,  4.79it/s]\u001b[A\u001b[A\u001b[A\n",
      "\n",
      "\n",
      "100%|█████████████████████████████████████████████████████████████████████████████████████| 5/5 [00:04<00:00,  1.14it/s]\u001b[A\u001b[A\n",
      "\n",
      " 67%|████████████████████████████████████████████████████████▋                            | 2/3 [00:08<00:04,  4.41s/it]\u001b[A\n",
      "\n",
      "  0%|                                                                                             | 0/5 [00:00<?, ?it/s]\u001b[A\u001b[A\n",
      "\n",
      "\n",
      "  0%|                                                                                             | 0/4 [00:00<?, ?it/s]\u001b[A\u001b[A\u001b[A\n",
      "\n",
      "\n",
      " 25%|█████████████████████▎                                                               | 1/4 [00:00<00:00,  7.09it/s]\u001b[A\u001b[A\u001b[A\n",
      "\n",
      "\n",
      " 50%|██████████████████████████████████████████▌                                          | 2/4 [00:00<00:00,  5.81it/s]\u001b[A\u001b[A\u001b[A\n",
      "\n",
      "\n",
      " 75%|███████████████████████████████████████████████████████████████▊                     | 3/4 [00:00<00:00,  5.03it/s]\u001b[A\u001b[A\u001b[A\n",
      "\n",
      "\n",
      "100%|█████████████████████████████████████████████████████████████████████████████████████| 4/4 [00:00<00:00,  4.33it/s]\u001b[A\u001b[A\u001b[A\n",
      "\n",
      "\n",
      " 20%|█████████████████                                                                    | 1/5 [00:00<00:03,  1.08it/s]\u001b[A\u001b[A\n",
      "\n",
      "\n",
      "  0%|                                                                                             | 0/4 [00:00<?, ?it/s]\u001b[A\u001b[A\u001b[A\n",
      "\n",
      "\n",
      " 25%|█████████████████████▎                                                               | 1/4 [00:00<00:00,  8.53it/s]\u001b[A\u001b[A\u001b[A\n",
      "\n",
      "\n",
      " 50%|██████████████████████████████████████████▌                                          | 2/4 [00:00<00:00,  6.86it/s]\u001b[A\u001b[A\u001b[A\n",
      "\n",
      "\n",
      " 75%|███████████████████████████████████████████████████████████████▊                     | 3/4 [00:00<00:00,  5.82it/s]\u001b[A\u001b[A\u001b[A\n",
      "\n",
      "\n",
      "100%|█████████████████████████████████████████████████████████████████████████████████████| 4/4 [00:00<00:00,  5.23it/s]\u001b[A\u001b[A\u001b[A\n",
      "\n",
      "\n",
      " 40%|██████████████████████████████████                                                   | 2/5 [00:01<00:02,  1.20it/s]\u001b[A\u001b[A\n",
      "\n",
      "\n",
      "  0%|                                                                                             | 0/4 [00:00<?, ?it/s]\u001b[A\u001b[A\u001b[A\n",
      "\n",
      "\n",
      " 25%|█████████████████████▎                                                               | 1/4 [00:00<00:00,  8.63it/s]\u001b[A\u001b[A\u001b[A"
     ]
    },
    {
     "name": "stdout",
     "output_type": "stream",
     "text": [
      "110\n"
     ]
    },
    {
     "name": "stderr",
     "output_type": "stream",
     "text": [
      "\n",
      "\n",
      "\n",
      " 50%|██████████████████████████████████████████▌                                          | 2/4 [00:00<00:00,  6.78it/s]\u001b[A\u001b[A\u001b[A\n",
      "\n",
      "\n",
      " 75%|███████████████████████████████████████████████████████████████▊                     | 3/4 [00:00<00:00,  5.72it/s]\u001b[A\u001b[A\u001b[A\n",
      "\n",
      "\n",
      "100%|█████████████████████████████████████████████████████████████████████████████████████| 4/4 [00:00<00:00,  5.15it/s]\u001b[A\u001b[A\u001b[A\n",
      "\n",
      "\n",
      " 60%|███████████████████████████████████████████████████                                  | 3/5 [00:02<00:01,  1.23it/s]\u001b[A\u001b[A\n",
      "\n",
      "\n",
      "  0%|                                                                                             | 0/4 [00:00<?, ?it/s]\u001b[A\u001b[A\u001b[A\n",
      "\n",
      "\n",
      " 25%|█████████████████████▎                                                               | 1/4 [00:00<00:00,  7.49it/s]\u001b[A\u001b[A\u001b[A\n",
      "\n",
      "\n",
      " 50%|██████████████████████████████████████████▌                                          | 2/4 [00:00<00:00,  6.33it/s]\u001b[A\u001b[A\u001b[A\n",
      "\n",
      "\n",
      " 75%|███████████████████████████████████████████████████████████████▊                     | 3/4 [00:00<00:00,  5.93it/s]\u001b[A\u001b[A\u001b[A\n",
      "\n",
      "\n",
      "100%|█████████████████████████████████████████████████████████████████████████████████████| 4/4 [00:00<00:00,  5.21it/s]\u001b[A\u001b[A\u001b[A\n",
      "\n",
      "\n",
      " 80%|████████████████████████████████████████████████████████████████████                 | 4/5 [00:03<00:00,  1.26it/s]\u001b[A\u001b[A\n",
      "\n",
      "\n",
      "  0%|                                                                                             | 0/4 [00:00<?, ?it/s]\u001b[A\u001b[A\u001b[A\n",
      "\n",
      "\n",
      " 25%|█████████████████████▎                                                               | 1/4 [00:00<00:00,  7.48it/s]\u001b[A\u001b[A\u001b[A\n",
      "\n",
      "\n",
      " 50%|██████████████████████████████████████████▌                                          | 2/4 [00:00<00:00,  6.27it/s]\u001b[A\u001b[A\u001b[A\n",
      "\n",
      "\n",
      " 75%|███████████████████████████████████████████████████████████████▊                     | 3/4 [00:00<00:00,  5.47it/s]\u001b[A\u001b[A\u001b[A"
     ]
    },
    {
     "name": "stdout",
     "output_type": "stream",
     "text": [
      "120\n"
     ]
    },
    {
     "name": "stderr",
     "output_type": "stream",
     "text": [
      "\n",
      "\n",
      "\n",
      "100%|█████████████████████████████████████████████████████████████████████████████████████| 4/4 [00:00<00:00,  4.72it/s]\u001b[A\u001b[A\u001b[A\n",
      "\n",
      "\n",
      "100%|█████████████████████████████████████████████████████████████████████████████████████| 5/5 [00:04<00:00,  1.22it/s]\u001b[A\u001b[A\n",
      "\n",
      "100%|█████████████████████████████████████████████████████████████████████████████████████| 3/3 [00:12<00:00,  4.32s/it]\u001b[A\n",
      " 50%|██████████████████████████████████████████▌                                          | 2/4 [00:21<00:22, 11.07s/it]\n",
      "  0%|                                                                                             | 0/3 [00:00<?, ?it/s]\u001b[A\n",
      "\n",
      "  0%|                                                                                             | 0/5 [00:00<?, ?it/s]\u001b[A\u001b[A\n",
      "\n",
      "\n",
      "  0%|                                                                                             | 0/4 [00:00<?, ?it/s]\u001b[A\u001b[A\u001b[A\n",
      "\n",
      "\n",
      " 25%|█████████████████████▎                                                               | 1/4 [00:01<00:04,  1.47s/it]\u001b[A\u001b[A\u001b[A\n",
      "\n",
      "\n",
      " 50%|██████████████████████████████████████████▌                                          | 2/4 [00:03<00:03,  1.58s/it]\u001b[A\u001b[A\u001b[A\n",
      "\n",
      "\n",
      " 75%|███████████████████████████████████████████████████████████████▊                     | 3/4 [00:04<00:01,  1.54s/it]\u001b[A\u001b[A\u001b[A\n",
      "\n",
      "\n",
      "100%|█████████████████████████████████████████████████████████████████████████████████████| 4/4 [00:06<00:00,  1.57s/it]\u001b[A\u001b[A\u001b[A\n",
      "\n",
      "\n",
      " 20%|█████████████████                                                                    | 1/5 [00:06<00:25,  6.26s/it]\u001b[A\u001b[A\n",
      "\n",
      "\n",
      "  0%|                                                                                             | 0/4 [00:00<?, ?it/s]\u001b[A\u001b[A\u001b[A\n",
      "\n",
      "\n",
      " 25%|█████████████████████▎                                                               | 1/4 [00:01<00:04,  1.38s/it]\u001b[A\u001b[A\u001b[A\n",
      "\n",
      "\n",
      " 50%|██████████████████████████████████████████▌                                          | 2/4 [00:02<00:02,  1.46s/it]\u001b[A\u001b[A\u001b[A\n",
      "\n",
      "\n",
      " 75%|███████████████████████████████████████████████████████████████▊                     | 3/4 [00:04<00:01,  1.51s/it]\u001b[A\u001b[A\u001b[A\n",
      "\n",
      "\n",
      "100%|█████████████████████████████████████████████████████████████████████████████████████| 4/4 [00:06<00:00,  1.54s/it]\u001b[A\u001b[A\u001b[A\n",
      "\n",
      "\n",
      " 40%|██████████████████████████████████                                                   | 2/5 [00:12<00:18,  6.21s/it]\u001b[A\u001b[A\n",
      "\n",
      "\n",
      "  0%|                                                                                             | 0/4 [00:00<?, ?it/s]\u001b[A\u001b[A\u001b[A"
     ]
    },
    {
     "name": "stdout",
     "output_type": "stream",
     "text": [
      "130\n"
     ]
    },
    {
     "name": "stderr",
     "output_type": "stream",
     "text": [
      "\n",
      "\n",
      "\n",
      " 25%|█████████████████████▎                                                               | 1/4 [00:01<00:04,  1.53s/it]\u001b[A\u001b[A\u001b[A\n",
      "\n",
      "\n",
      " 50%|██████████████████████████████████████████▌                                          | 2/4 [00:03<00:03,  1.58s/it]\u001b[A\u001b[A\u001b[A\n",
      "\n",
      "\n",
      " 75%|███████████████████████████████████████████████████████████████▊                     | 3/4 [00:04<00:01,  1.57s/it]\u001b[A\u001b[A\u001b[A\n",
      "\n",
      "\n",
      "100%|█████████████████████████████████████████████████████████████████████████████████████| 4/4 [00:06<00:00,  1.61s/it]\u001b[A\u001b[A\u001b[A\n",
      "\n",
      "\n",
      " 60%|███████████████████████████████████████████████████                                  | 3/5 [00:18<00:12,  6.32s/it]\u001b[A\u001b[A\n",
      "\n",
      "\n",
      "  0%|                                                                                             | 0/4 [00:00<?, ?it/s]\u001b[A\u001b[A\u001b[A\n",
      "\n",
      "\n",
      " 25%|█████████████████████▎                                                               | 1/4 [00:01<00:04,  1.61s/it]\u001b[A\u001b[A\u001b[A\n",
      "\n",
      "\n",
      " 50%|██████████████████████████████████████████▌                                          | 2/4 [00:03<00:03,  1.53s/it]\u001b[A\u001b[A\u001b[A\n",
      "\n",
      "\n",
      " 75%|███████████████████████████████████████████████████████████████▊                     | 3/4 [00:04<00:01,  1.51s/it]\u001b[A\u001b[A\u001b[A\n",
      "\n",
      "\n",
      "100%|█████████████████████████████████████████████████████████████████████████████████████| 4/4 [00:06<00:00,  1.52s/it]\u001b[A\u001b[A\u001b[A\n",
      "\n",
      "\n",
      " 80%|████████████████████████████████████████████████████████████████████                 | 4/5 [00:24<00:06,  6.22s/it]\u001b[A\u001b[A\n",
      "\n",
      "\n",
      "  0%|                                                                                             | 0/4 [00:00<?, ?it/s]\u001b[A\u001b[A\u001b[A\n",
      "\n",
      "\n",
      " 25%|█████████████████████▎                                                               | 1/4 [00:01<00:04,  1.41s/it]\u001b[A\u001b[A\u001b[A\n",
      "\n",
      "\n",
      " 50%|██████████████████████████████████████████▌                                          | 2/4 [00:02<00:02,  1.41s/it]\u001b[A\u001b[A\u001b[A"
     ]
    },
    {
     "name": "stdout",
     "output_type": "stream",
     "text": [
      "140\n"
     ]
    },
    {
     "name": "stderr",
     "output_type": "stream",
     "text": [
      "\n",
      "\n",
      "\n",
      " 75%|███████████████████████████████████████████████████████████████▊                     | 3/4 [00:04<00:01,  1.43s/it]\u001b[A\u001b[A\u001b[A\n",
      "\n",
      "\n",
      "100%|█████████████████████████████████████████████████████████████████████████████████████| 4/4 [00:06<00:00,  1.51s/it]\u001b[A\u001b[A\u001b[A\n",
      "\n",
      "\n",
      "100%|█████████████████████████████████████████████████████████████████████████████████████| 5/5 [00:31<00:00,  6.20s/it]\u001b[A\u001b[A\n",
      "\n",
      " 33%|████████████████████████████▎                                                        | 1/3 [00:31<01:02, 31.01s/it]\u001b[A\n",
      "\n",
      "  0%|                                                                                             | 0/5 [00:00<?, ?it/s]\u001b[A\u001b[A\n",
      "\n",
      "\n",
      "  0%|                                                                                             | 0/4 [00:00<?, ?it/s]\u001b[A\u001b[A\u001b[A\n",
      "\n",
      "\n",
      " 25%|█████████████████████▎                                                               | 1/4 [00:01<00:04,  1.45s/it]\u001b[A\u001b[A\u001b[A\n",
      "\n",
      "\n",
      " 50%|██████████████████████████████████████████▌                                          | 2/4 [00:02<00:02,  1.42s/it]\u001b[A\u001b[A\u001b[A\n",
      "\n",
      "\n",
      " 75%|███████████████████████████████████████████████████████████████▊                     | 3/4 [00:04<00:01,  1.47s/it]\u001b[A\u001b[A\u001b[A\n",
      "\n",
      "\n",
      "100%|█████████████████████████████████████████████████████████████████████████████████████| 4/4 [00:05<00:00,  1.47s/it]\u001b[A\u001b[A\u001b[A\n",
      "\n",
      "\n",
      " 20%|█████████████████                                                                    | 1/5 [00:05<00:23,  5.87s/it]\u001b[A\u001b[A\n",
      "\n",
      "\n",
      "  0%|                                                                                             | 0/4 [00:00<?, ?it/s]\u001b[A\u001b[A\u001b[A\n",
      "\n",
      "\n",
      " 25%|█████████████████████▎                                                               | 1/4 [00:01<00:03,  1.26s/it]\u001b[A\u001b[A\u001b[A\n",
      "\n",
      "\n",
      " 50%|██████████████████████████████████████████▌                                          | 2/4 [00:02<00:02,  1.33s/it]\u001b[A\u001b[A\u001b[A\n",
      "\n",
      "\n",
      " 75%|███████████████████████████████████████████████████████████████▊                     | 3/4 [00:04<00:01,  1.47s/it]\u001b[A\u001b[A\u001b[A\n",
      "\n",
      "\n",
      "100%|█████████████████████████████████████████████████████████████████████████████████████| 4/4 [00:05<00:00,  1.40s/it]\u001b[A\u001b[A\u001b[A\n",
      "\n",
      "\n",
      " 40%|██████████████████████████████████                                                   | 2/5 [00:11<00:17,  5.72s/it]\u001b[A\u001b[A\n",
      "\n",
      "\n",
      "  0%|                                                                                             | 0/4 [00:00<?, ?it/s]\u001b[A\u001b[A\u001b[A"
     ]
    },
    {
     "name": "stdout",
     "output_type": "stream",
     "text": [
      "150\n"
     ]
    },
    {
     "name": "stderr",
     "output_type": "stream",
     "text": [
      "\n",
      "\n",
      "\n",
      " 25%|█████████████████████▎                                                               | 1/4 [00:01<00:03,  1.21s/it]\u001b[A\u001b[A\u001b[A\n",
      "\n",
      "\n",
      " 50%|██████████████████████████████████████████▌                                          | 2/4 [00:02<00:02,  1.29s/it]\u001b[A\u001b[A\u001b[A\n",
      "\n",
      "\n",
      " 75%|███████████████████████████████████████████████████████████████▊                     | 3/4 [00:03<00:01,  1.30s/it]\u001b[A\u001b[A\u001b[A\n",
      "\n",
      "\n",
      "100%|█████████████████████████████████████████████████████████████████████████████████████| 4/4 [00:05<00:00,  1.33s/it]\u001b[A\u001b[A\u001b[A\n",
      "\n",
      "\n",
      " 60%|███████████████████████████████████████████████████                                  | 3/5 [00:16<00:11,  5.54s/it]\u001b[A\u001b[A\n",
      "\n",
      "\n",
      "  0%|                                                                                             | 0/4 [00:00<?, ?it/s]\u001b[A\u001b[A\u001b[A\n",
      "\n",
      "\n",
      " 25%|█████████████████████▎                                                               | 1/4 [00:01<00:03,  1.15s/it]\u001b[A\u001b[A\u001b[A\n",
      "\n",
      "\n",
      " 50%|██████████████████████████████████████████▌                                          | 2/4 [00:02<00:02,  1.32s/it]\u001b[A\u001b[A\u001b[A\n",
      "\n",
      "\n",
      " 75%|███████████████████████████████████████████████████████████████▊                     | 3/4 [00:04<00:01,  1.44s/it]\u001b[A\u001b[A\u001b[A\n",
      "\n",
      "\n",
      "100%|█████████████████████████████████████████████████████████████████████████████████████| 4/4 [00:05<00:00,  1.40s/it]\u001b[A\u001b[A\u001b[A\n",
      "\n",
      "\n",
      " 80%|████████████████████████████████████████████████████████████████████                 | 4/5 [00:22<00:05,  5.56s/it]\u001b[A\u001b[A\n",
      "\n",
      "\n",
      "  0%|                                                                                             | 0/4 [00:00<?, ?it/s]\u001b[A\u001b[A\u001b[A\n",
      "\n",
      "\n",
      " 25%|█████████████████████▎                                                               | 1/4 [00:01<00:04,  1.39s/it]\u001b[A\u001b[A\u001b[A\n",
      "\n",
      "\n",
      " 50%|██████████████████████████████████████████▌                                          | 2/4 [00:02<00:02,  1.36s/it]\u001b[A\u001b[A\u001b[A"
     ]
    },
    {
     "name": "stdout",
     "output_type": "stream",
     "text": [
      "160\n"
     ]
    },
    {
     "name": "stderr",
     "output_type": "stream",
     "text": [
      "\n",
      "\n",
      "\n",
      " 75%|███████████████████████████████████████████████████████████████▊                     | 3/4 [00:04<00:01,  1.32s/it]\u001b[A\u001b[A\u001b[A\n",
      "\n",
      "\n",
      "100%|█████████████████████████████████████████████████████████████████████████████████████| 4/4 [00:05<00:00,  1.34s/it]\u001b[A\u001b[A\u001b[A\n",
      "\n",
      "\n",
      "100%|█████████████████████████████████████████████████████████████████████████████████████| 5/5 [00:27<00:00,  5.55s/it]\u001b[A\u001b[A\n",
      "\n",
      " 67%|████████████████████████████████████████████████████████▋                            | 2/3 [00:58<00:29, 29.10s/it]\u001b[A\n",
      "\n",
      "  0%|                                                                                             | 0/5 [00:00<?, ?it/s]\u001b[A\u001b[A\n",
      "\n",
      "\n",
      "  0%|                                                                                             | 0/4 [00:00<?, ?it/s]\u001b[A\u001b[A\u001b[A\n",
      "\n",
      "\n",
      " 25%|█████████████████████▎                                                               | 1/4 [00:01<00:03,  1.04s/it]\u001b[A\u001b[A\u001b[A\n",
      "\n",
      "\n",
      " 50%|██████████████████████████████████████████▌                                          | 2/4 [00:02<00:02,  1.09s/it]\u001b[A\u001b[A\u001b[A\n",
      "\n",
      "\n",
      " 75%|███████████████████████████████████████████████████████████████▊                     | 3/4 [00:03<00:01,  1.14s/it]\u001b[A\u001b[A\u001b[A\n",
      "\n",
      "\n",
      "100%|█████████████████████████████████████████████████████████████████████████████████████| 4/4 [00:04<00:00,  1.19s/it]\u001b[A\u001b[A\u001b[A\n",
      "\n",
      "\n",
      " 20%|█████████████████                                                                    | 1/5 [00:04<00:19,  4.78s/it]\u001b[A\u001b[A\n",
      "\n",
      "\n",
      "  0%|                                                                                             | 0/4 [00:00<?, ?it/s]\u001b[A\u001b[A\u001b[A\n",
      "\n",
      "\n",
      " 25%|█████████████████████▎                                                               | 1/4 [00:01<00:03,  1.22s/it]\u001b[A\u001b[A\u001b[A\n",
      "\n",
      "\n",
      " 50%|██████████████████████████████████████████▌                                          | 2/4 [00:02<00:02,  1.15s/it]\u001b[A\u001b[A\u001b[A\n",
      "\n",
      "\n",
      " 75%|███████████████████████████████████████████████████████████████▊                     | 3/4 [00:03<00:01,  1.15s/it]\u001b[A\u001b[A\u001b[A\n",
      "\n",
      "\n",
      "100%|█████████████████████████████████████████████████████████████████████████████████████| 4/4 [00:04<00:00,  1.18s/it]\u001b[A\u001b[A\u001b[A\n",
      "\n",
      "\n",
      " 40%|██████████████████████████████████                                                   | 2/5 [00:09<00:14,  4.74s/it]\u001b[A\u001b[A\n",
      "\n",
      "\n",
      "  0%|                                                                                             | 0/4 [00:00<?, ?it/s]\u001b[A\u001b[A\u001b[A"
     ]
    },
    {
     "name": "stdout",
     "output_type": "stream",
     "text": [
      "170\n"
     ]
    },
    {
     "name": "stderr",
     "output_type": "stream",
     "text": [
      "\n",
      "\n",
      "\n",
      " 25%|█████████████████████▎                                                               | 1/4 [00:01<00:03,  1.05s/it]\u001b[A\u001b[A\u001b[A\n",
      "\n",
      "\n",
      " 50%|██████████████████████████████████████████▌                                          | 2/4 [00:02<00:02,  1.11s/it]\u001b[A\u001b[A\u001b[A\n",
      "\n",
      "\n",
      " 75%|███████████████████████████████████████████████████████████████▊                     | 3/4 [00:03<00:01,  1.18s/it]\u001b[A\u001b[A\u001b[A\n",
      "\n",
      "\n",
      "100%|█████████████████████████████████████████████████████████████████████████████████████| 4/4 [00:04<00:00,  1.17s/it]\u001b[A\u001b[A\u001b[A\n",
      "\n",
      "\n",
      " 60%|███████████████████████████████████████████████████                                  | 3/5 [00:14<00:09,  4.72s/it]\u001b[A\u001b[A\n",
      "\n",
      "\n",
      "  0%|                                                                                             | 0/4 [00:00<?, ?it/s]\u001b[A\u001b[A\u001b[A\n",
      "\n",
      "\n",
      " 25%|█████████████████████▎                                                               | 1/4 [00:01<00:03,  1.05s/it]\u001b[A\u001b[A\u001b[A\n",
      "\n",
      "\n",
      " 50%|██████████████████████████████████████████▌                                          | 2/4 [00:02<00:02,  1.19s/it]\u001b[A\u001b[A\u001b[A\n",
      "\n",
      "\n",
      " 75%|███████████████████████████████████████████████████████████████▊                     | 3/4 [00:03<00:01,  1.22s/it]\u001b[A\u001b[A\u001b[A\n",
      "\n",
      "\n",
      "100%|█████████████████████████████████████████████████████████████████████████████████████| 4/4 [00:04<00:00,  1.23s/it]\u001b[A\u001b[A\u001b[A\n",
      "\n",
      "\n",
      " 80%|████████████████████████████████████████████████████████████████████                 | 4/5 [00:19<00:04,  4.80s/it]\u001b[A\u001b[A\n",
      "\n",
      "\n",
      "  0%|                                                                                             | 0/4 [00:00<?, ?it/s]\u001b[A\u001b[A\u001b[A\n",
      "\n",
      "\n",
      " 25%|█████████████████████▎                                                               | 1/4 [00:01<00:03,  1.10s/it]\u001b[A\u001b[A\u001b[A\n",
      "\n",
      "\n",
      " 50%|██████████████████████████████████████████▌                                          | 2/4 [00:02<00:02,  1.11s/it]\u001b[A\u001b[A\u001b[A"
     ]
    },
    {
     "name": "stdout",
     "output_type": "stream",
     "text": [
      "180\n"
     ]
    },
    {
     "name": "stderr",
     "output_type": "stream",
     "text": [
      "\n",
      "\n",
      "\n",
      " 75%|███████████████████████████████████████████████████████████████▊                     | 3/4 [00:03<00:01,  1.17s/it]\u001b[A\u001b[A\u001b[A\n",
      "\n",
      "\n",
      "100%|█████████████████████████████████████████████████████████████████████████████████████| 4/4 [00:04<00:00,  1.19s/it]\u001b[A\u001b[A\u001b[A\n",
      "\n",
      "\n",
      "100%|█████████████████████████████████████████████████████████████████████████████████████| 5/5 [00:23<00:00,  4.77s/it]\u001b[A\u001b[A\n",
      "\n",
      "100%|█████████████████████████████████████████████████████████████████████████████████████| 3/3 [01:22<00:00, 27.54s/it]\u001b[A\n",
      " 75%|███████████████████████████████████████████████████████████████▊                     | 3/4 [01:43<00:43, 43.75s/it]\n",
      "  0%|                                                                                             | 0/3 [00:00<?, ?it/s]\u001b[A\n",
      "\n",
      "  0%|                                                                                             | 0/5 [00:00<?, ?it/s]\u001b[A\u001b[A\n",
      "\n",
      "\n",
      "  0%|                                                                                             | 0/4 [00:00<?, ?it/s]\u001b[A\u001b[A\u001b[A\n",
      "\n",
      "\n",
      " 25%|█████████████████████▎                                                               | 1/4 [00:02<00:06,  2.02s/it]\u001b[A\u001b[A\u001b[A\n",
      "\n",
      "\n",
      " 50%|██████████████████████████████████████████▌                                          | 2/4 [00:09<00:10,  5.02s/it]\u001b[A\u001b[A\u001b[A\n",
      "\n",
      "\n",
      " 75%|███████████████████████████████████████████████████████████████▊                     | 3/4 [00:18<00:06,  6.95s/it]\u001b[A\u001b[A\u001b[A\n",
      "\n",
      "\n",
      "100%|█████████████████████████████████████████████████████████████████████████████████████| 4/4 [00:41<00:00, 10.28s/it]\u001b[A\u001b[A\u001b[A\n",
      "\n",
      "\n",
      " 20%|█████████████████                                                                    | 1/5 [00:41<02:44, 41.13s/it]\u001b[A\u001b[A\n",
      "\n",
      "\n",
      "  0%|                                                                                             | 0/4 [00:00<?, ?it/s]\u001b[A\u001b[A\u001b[A\n",
      "\n",
      "\n",
      " 25%|█████████████████████▎                                                               | 1/4 [00:02<00:06,  2.10s/it]\u001b[A\u001b[A\u001b[A\n",
      "\n",
      "\n",
      " 50%|██████████████████████████████████████████▌                                          | 2/4 [00:06<00:06,  3.36s/it]\u001b[A\u001b[A\u001b[A\n",
      "\n",
      "\n",
      " 75%|███████████████████████████████████████████████████████████████▊                     | 3/4 [00:24<00:08,  8.29s/it]\u001b[A\u001b[A\u001b[A\n",
      " 20%|█████████████████                                                                    | 1/5 [01:06<04:24, 66.02s/it]\n",
      "  0%|                                                                                             | 0/3 [01:06<?, ?it/s]\n",
      " 75%|███████████████████████████████████████████████████████████████▊                     | 3/4 [02:50<00:56, 56.67s/it]\n"
     ]
    },
    {
     "ename": "KeyboardInterrupt",
     "evalue": "",
     "output_type": "error",
     "traceback": [
      "\u001b[0;31m---------------------------------------------------------------------------\u001b[0m",
      "\u001b[0;31mKeyboardInterrupt\u001b[0m                         Traceback (most recent call last)",
      "\u001b[0;32m/var/folders/9g/0dtmfj9d405bv9y4fj50w6wr0000gq/T/ipykernel_2477/1273797532.py\u001b[0m in \u001b[0;36m<module>\u001b[0;34m\u001b[0m\n\u001b[0;32m----> 1\u001b[0;31m \u001b[0mparam_df\u001b[0m \u001b[0;34m=\u001b[0m \u001b[0mtrainModels\u001b[0m\u001b[0;34m(\u001b[0m\u001b[0mtrain_v1\u001b[0m\u001b[0;34m,\u001b[0m \u001b[0mtargets_v1\u001b[0m\u001b[0;34m,\u001b[0m \u001b[0mvocab_sizes\u001b[0m\u001b[0;34m,\u001b[0m \u001b[0mmodels\u001b[0m\u001b[0;34m,\u001b[0m \u001b[0mtext_columns\u001b[0m\u001b[0;34m,\u001b[0m \u001b[0mngrams\u001b[0m\u001b[0;34m,\u001b[0m \u001b[0mthreshold\u001b[0m\u001b[0;34m)\u001b[0m\u001b[0;34m\u001b[0m\u001b[0;34m\u001b[0m\u001b[0m\n\u001b[0m",
      "\u001b[0;32m/var/folders/9g/0dtmfj9d405bv9y4fj50w6wr0000gq/T/ipykernel_2477/138472507.py\u001b[0m in \u001b[0;36mtrainModels\u001b[0;34m(df, targets, vocab_sizes, models, text_columns, ngrams, threshold)\u001b[0m\n\u001b[1;32m     27\u001b[0m                     \u001b[0mX_train\u001b[0m\u001b[0;34m,\u001b[0m \u001b[0mX_valid\u001b[0m\u001b[0;34m,\u001b[0m \u001b[0my_train\u001b[0m\u001b[0;34m,\u001b[0m \u001b[0my_valid\u001b[0m \u001b[0;34m=\u001b[0m \u001b[0mtrain_test_split\u001b[0m\u001b[0;34m(\u001b[0m\u001b[0mBOW_array\u001b[0m\u001b[0;34m,\u001b[0m \u001b[0mtargets\u001b[0m\u001b[0;34m,\u001b[0m \u001b[0mtest_size\u001b[0m\u001b[0;34m=\u001b[0m\u001b[0;36m0.2\u001b[0m\u001b[0;34m,\u001b[0m \u001b[0mrandom_state\u001b[0m\u001b[0;34m=\u001b[0m\u001b[0;36m42\u001b[0m\u001b[0;34m)\u001b[0m\u001b[0;34m\u001b[0m\u001b[0;34m\u001b[0m\u001b[0m\n\u001b[1;32m     28\u001b[0m \u001b[0;31m#                     print('fitting data')\u001b[0m\u001b[0;34m\u001b[0m\u001b[0;34m\u001b[0m\u001b[0;34m\u001b[0m\u001b[0m\n\u001b[0;32m---> 29\u001b[0;31m                     \u001b[0mmodel\u001b[0m\u001b[0;34m.\u001b[0m\u001b[0mfit\u001b[0m\u001b[0;34m(\u001b[0m\u001b[0mX_train\u001b[0m\u001b[0;34m,\u001b[0m \u001b[0my_train\u001b[0m\u001b[0;34m)\u001b[0m\u001b[0;34m\u001b[0m\u001b[0;34m\u001b[0m\u001b[0m\n\u001b[0m\u001b[1;32m     30\u001b[0m \u001b[0;34m\u001b[0m\u001b[0m\n\u001b[1;32m     31\u001b[0m \u001b[0;34m\u001b[0m\u001b[0m\n",
      "\u001b[0;32m~/Desktop/MILA/Fall2022/IFT6390 - ML/kaggle/ift6390-kaggle-2/env/lib/python3.7/site-packages/sklearn/naive_bayes.py\u001b[0m in \u001b[0;36mfit\u001b[0;34m(self, X, y, sample_weight)\u001b[0m\n\u001b[1;32m    688\u001b[0m         \u001b[0mn_classes\u001b[0m \u001b[0;34m=\u001b[0m \u001b[0mY\u001b[0m\u001b[0;34m.\u001b[0m\u001b[0mshape\u001b[0m\u001b[0;34m[\u001b[0m\u001b[0;36m1\u001b[0m\u001b[0;34m]\u001b[0m\u001b[0;34m\u001b[0m\u001b[0;34m\u001b[0m\u001b[0m\n\u001b[1;32m    689\u001b[0m         \u001b[0mself\u001b[0m\u001b[0;34m.\u001b[0m\u001b[0m_init_counters\u001b[0m\u001b[0;34m(\u001b[0m\u001b[0mn_classes\u001b[0m\u001b[0;34m,\u001b[0m \u001b[0mn_features\u001b[0m\u001b[0;34m)\u001b[0m\u001b[0;34m\u001b[0m\u001b[0;34m\u001b[0m\u001b[0m\n\u001b[0;32m--> 690\u001b[0;31m         \u001b[0mself\u001b[0m\u001b[0;34m.\u001b[0m\u001b[0m_count\u001b[0m\u001b[0;34m(\u001b[0m\u001b[0mX\u001b[0m\u001b[0;34m,\u001b[0m \u001b[0mY\u001b[0m\u001b[0;34m)\u001b[0m\u001b[0;34m\u001b[0m\u001b[0;34m\u001b[0m\u001b[0m\n\u001b[0m\u001b[1;32m    691\u001b[0m         \u001b[0malpha\u001b[0m \u001b[0;34m=\u001b[0m \u001b[0mself\u001b[0m\u001b[0;34m.\u001b[0m\u001b[0m_check_alpha\u001b[0m\u001b[0;34m(\u001b[0m\u001b[0;34m)\u001b[0m\u001b[0;34m\u001b[0m\u001b[0;34m\u001b[0m\u001b[0m\n\u001b[1;32m    692\u001b[0m         \u001b[0mself\u001b[0m\u001b[0;34m.\u001b[0m\u001b[0m_update_feature_log_prob\u001b[0m\u001b[0;34m(\u001b[0m\u001b[0malpha\u001b[0m\u001b[0;34m)\u001b[0m\u001b[0;34m\u001b[0m\u001b[0;34m\u001b[0m\u001b[0m\n",
      "\u001b[0;32m~/Desktop/MILA/Fall2022/IFT6390 - ML/kaggle/ift6390-kaggle-2/env/lib/python3.7/site-packages/sklearn/naive_bayes.py\u001b[0m in \u001b[0;36m_count\u001b[0;34m(self, X, Y)\u001b[0m\n\u001b[1;32m   1158\u001b[0m     \u001b[0;32mdef\u001b[0m \u001b[0m_count\u001b[0m\u001b[0;34m(\u001b[0m\u001b[0mself\u001b[0m\u001b[0;34m,\u001b[0m \u001b[0mX\u001b[0m\u001b[0;34m,\u001b[0m \u001b[0mY\u001b[0m\u001b[0;34m)\u001b[0m\u001b[0;34m:\u001b[0m\u001b[0;34m\u001b[0m\u001b[0;34m\u001b[0m\u001b[0m\n\u001b[1;32m   1159\u001b[0m         \u001b[0;34m\"\"\"Count and smooth feature occurrences.\"\"\"\u001b[0m\u001b[0;34m\u001b[0m\u001b[0;34m\u001b[0m\u001b[0m\n\u001b[0;32m-> 1160\u001b[0;31m         \u001b[0mself\u001b[0m\u001b[0;34m.\u001b[0m\u001b[0mfeature_count_\u001b[0m \u001b[0;34m+=\u001b[0m \u001b[0msafe_sparse_dot\u001b[0m\u001b[0;34m(\u001b[0m\u001b[0mY\u001b[0m\u001b[0;34m.\u001b[0m\u001b[0mT\u001b[0m\u001b[0;34m,\u001b[0m \u001b[0mX\u001b[0m\u001b[0;34m)\u001b[0m\u001b[0;34m\u001b[0m\u001b[0;34m\u001b[0m\u001b[0m\n\u001b[0m\u001b[1;32m   1161\u001b[0m         \u001b[0mself\u001b[0m\u001b[0;34m.\u001b[0m\u001b[0mclass_count_\u001b[0m \u001b[0;34m+=\u001b[0m \u001b[0mY\u001b[0m\u001b[0;34m.\u001b[0m\u001b[0msum\u001b[0m\u001b[0;34m(\u001b[0m\u001b[0maxis\u001b[0m\u001b[0;34m=\u001b[0m\u001b[0;36m0\u001b[0m\u001b[0;34m)\u001b[0m\u001b[0;34m\u001b[0m\u001b[0;34m\u001b[0m\u001b[0m\n\u001b[1;32m   1162\u001b[0m \u001b[0;34m\u001b[0m\u001b[0m\n",
      "\u001b[0;32m~/Desktop/MILA/Fall2022/IFT6390 - ML/kaggle/ift6390-kaggle-2/env/lib/python3.7/site-packages/sklearn/utils/extmath.py\u001b[0m in \u001b[0;36msafe_sparse_dot\u001b[0;34m(a, b, dense_output)\u001b[0m\n\u001b[1;32m    151\u001b[0m             \u001b[0mret\u001b[0m \u001b[0;34m=\u001b[0m \u001b[0mnp\u001b[0m\u001b[0;34m.\u001b[0m\u001b[0mdot\u001b[0m\u001b[0;34m(\u001b[0m\u001b[0ma\u001b[0m\u001b[0;34m,\u001b[0m \u001b[0mb\u001b[0m\u001b[0;34m)\u001b[0m\u001b[0;34m\u001b[0m\u001b[0;34m\u001b[0m\u001b[0m\n\u001b[1;32m    152\u001b[0m     \u001b[0;32melse\u001b[0m\u001b[0;34m:\u001b[0m\u001b[0;34m\u001b[0m\u001b[0;34m\u001b[0m\u001b[0m\n\u001b[0;32m--> 153\u001b[0;31m         \u001b[0mret\u001b[0m \u001b[0;34m=\u001b[0m \u001b[0ma\u001b[0m \u001b[0;34m@\u001b[0m \u001b[0mb\u001b[0m\u001b[0;34m\u001b[0m\u001b[0;34m\u001b[0m\u001b[0m\n\u001b[0m\u001b[1;32m    154\u001b[0m \u001b[0;34m\u001b[0m\u001b[0m\n\u001b[1;32m    155\u001b[0m     if (\n",
      "\u001b[0;31mKeyboardInterrupt\u001b[0m: "
     ]
    }
   ],
   "source": [
    "param_df = trainModels(train_v1, targets_v1, vocab_sizes, models, text_columns, ngrams, threshold)"
   ]
  },
  {
   "cell_type": "code",
   "execution_count": null,
   "metadata": {},
   "outputs": [],
   "source": [
    "param_df[:20]"
   ]
  },
  {
   "cell_type": "code",
   "execution_count": null,
   "metadata": {},
   "outputs": [],
   "source": [
    "# param_df.to_csv('data/output/naive_bayes_params.csv', index=False)"
   ]
  },
  {
   "cell_type": "code",
   "execution_count": 30,
   "metadata": {},
   "outputs": [],
   "source": [
    "param_df = pd.read_csv('data/output/naive_bayes_params.csv')\n",
    "\n",
    "# ngrams get saved as string, convert back to int tuple\n",
    "param_df['ngram'] = [(int(ng[1]), int(ng[4])) for ng in param_df['ngram'].values]"
   ]
  },
  {
   "cell_type": "markdown",
   "metadata": {},
   "source": [
    "based on these results, we'll train the full dataset on these 20 combinations"
   ]
  },
  {
   "cell_type": "code",
   "execution_count": 32,
   "metadata": {},
   "outputs": [],
   "source": [
    "top_params = param_df[:10]"
   ]
  },
  {
   "cell_type": "code",
   "execution_count": 36,
   "metadata": {},
   "outputs": [],
   "source": [
    "num_points = 100_000\n",
    "num_train = int(num_points*0.8)"
   ]
  },
  {
   "cell_type": "code",
   "execution_count": 37,
   "metadata": {},
   "outputs": [
    {
     "data": {
      "text/plain": [
       "1040239"
      ]
     },
     "execution_count": 37,
     "metadata": {},
     "output_type": "execute_result"
    }
   ],
   "source": [
    "len(train)"
   ]
  },
  {
   "cell_type": "code",
   "execution_count": null,
   "metadata": {},
   "outputs": [],
   "source": [
    "\n",
    "full_data_accuracy = []\n",
    "for i, param_set in enumerate(tqdm(top_20.values)):\n",
    "    vocab_size, model_type, text_column, ngram, _ = param_set\n",
    "    print(vocab_size, model_type, text_column, ngram,)\n",
    "    \n",
    "    print('splitting train-validation data')\n",
    "    \n",
    "    # train is all training data with targets included!\n",
    "    train = train.sample(len(train))\n",
    "    training_data = train_X.iloc[:num_points]\n",
    "    targets  = train_y.iloc[:num_points]\n",
    "    \n",
    "    \n",
    "    \n",
    "\n",
    "   \n",
    "    \n",
    "#     print(len(X_train), len(y_train), len(X_valid), len(y_valid))\n",
    "    \n",
    "    if vocab_size:\n",
    "        vocab_size = int(vocab_size)\n",
    "    \n",
    "    if model_type == 'MultinomialNB()':\n",
    "        model = MultinomialNB()\n",
    "    elif model_type == 'BernoulliNB()':\n",
    "        model = BernoulliNB()\n",
    "    elif model_type == 'GaussianNB()':\n",
    "        model = GaussianNB()\n",
    "    else:\n",
    "        print('warning, unrecognized model!')\n",
    "        print(i, param_set)\n",
    "        \n",
    "    print('vectorizing')\n",
    "    vectorizer = CountVectorizer(max_features=vocab_size, ngram_range=ngram)\n",
    "\n",
    "    print('creating BOW')\n",
    "    \n",
    "    BOW = vectorizer.fit_transform(training_data[text_column])\n",
    "    BOW_array = BOW.toarray()\n",
    "    \n",
    "    X_train = BOW_array[:num_train]\n",
    "    y_train = training_targets[:num_train]\n",
    "    \n",
    "    X_valid = BOW_array[num_train:]\n",
    "    y_valid = training_targets[num_train:]\n",
    "    \n",
    "    \n",
    "    \n",
    "    #     X_train, X_valid, y_train, y_valid = train_test_split(BOW_array, train_y, test_size=0.2, random_state=42)\n",
    "    \n",
    "    print('fitting model')\n",
    "    model.fit(X_train, y_train)\n",
    "\n",
    "    print('getting predictions')\n",
    "    prob_predictions = model.predict_proba(X_valid)\n",
    "\n",
    "    # gets index of 1 column in prob_predictions\n",
    "    pos_predictions = [pred[list(model.classes_).index(1)] for pred in prob_predictions]\n",
    "    \n",
    "    \n",
    "    # get accuracy\n",
    "    num_correct_pred = 0\n",
    "    for pred, actual in zip(pos_predictions, y_valid):\n",
    "        if pred >= threshold:\n",
    "            binary_pred = 1\n",
    "        else:\n",
    "            binary_pred = 0\n",
    "\n",
    "        if binary_pred==actual:\n",
    "            num_correct_pred+=1\n",
    "    accuracy = num_correct_pred / len(y_valid)\n",
    "    print(accuracy)\n",
    "    print('\\n')\n",
    "    \n",
    "    full_data_accuracy.append(accuracy)\n",
    "    \n",
    "    "
   ]
  },
  {
   "cell_type": "code",
   "execution_count": null,
   "metadata": {},
   "outputs": [],
   "source": [
    "top_20['final_validation_acc'] = full_data_accuracy"
   ]
  },
  {
   "cell_type": "code",
   "execution_count": null,
   "metadata": {},
   "outputs": [],
   "source": [
    "top_20.to_csv('top_20_naive_bayes.csv', index=False)"
   ]
  },
  {
   "cell_type": "markdown",
   "metadata": {},
   "source": [
    "## train final model with best parameters"
   ]
  },
  {
   "cell_type": "code",
   "execution_count": null,
   "metadata": {},
   "outputs": [],
   "source": [
    "#10000.0 BernoulliNB() text_lemmatized (1, 2)\n",
    "\n",
    "print('vectorizing')\n",
    "vectorizer = CountVectorizer(max_features=10000, ngram_range=(1, 2))\n",
    "\n",
    "print('creating BOW')\n",
    "\n",
    "BOW = vectorizer.fit_transform(training_data['text_lemmatized'])\n",
    "BOW_array = BOW.toarray()\n",
    "\n",
    "\n",
    "model = BernoulliNB()\n",
    "model.fit()"
   ]
  },
  {
   "cell_type": "code",
   "execution_count": null,
   "metadata": {},
   "outputs": [],
   "source": []
  },
  {
   "cell_type": "code",
   "execution_count": null,
   "metadata": {},
   "outputs": [],
   "source": []
  },
  {
   "cell_type": "code",
   "execution_count": null,
   "metadata": {},
   "outputs": [],
   "source": [
    "len(train_y)"
   ]
  },
  {
   "cell_type": "code",
   "execution_count": null,
   "metadata": {},
   "outputs": [],
   "source": [
    "train_y"
   ]
  },
  {
   "cell_type": "code",
   "execution_count": null,
   "metadata": {},
   "outputs": [],
   "source": []
  }
 ],
 "metadata": {
  "kernelspec": {
   "display_name": "env",
   "language": "python",
   "name": "env"
  },
  "language_info": {
   "codemirror_mode": {
    "name": "ipython",
    "version": 3
   },
   "file_extension": ".py",
   "mimetype": "text/x-python",
   "name": "python",
   "nbconvert_exporter": "python",
   "pygments_lexer": "ipython3",
   "version": "3.7.3"
  }
 },
 "nbformat": 4,
 "nbformat_minor": 4
}
