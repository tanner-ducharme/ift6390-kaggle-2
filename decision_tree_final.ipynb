{
  "cells": [
    {
      "cell_type": "markdown",
      "source": [
        "# code runs!<br>\n",
        "do final clean and add ROC"
      ],
      "metadata": {
        "id": "8qfb6FLwQtj8"
      }
    },
    {
      "cell_type": "code",
      "source": [
        "from sklearn.tree import DecisionTreeClassifier\n",
        "\n",
        "from sklearn.experimental import enable_halving_search_cv \n",
        "from sklearn.model_selection import RandomizedSearchCV\n",
        "from sklearn.feature_extraction.text import CountVectorizer, TfidfVectorizer\n",
        "from sklearn.model_selection import train_test_split\n",
        "\n",
        "\n",
        "import pandas as pd\n",
        "import numpy as np\n",
        "from tqdm import tqdm\n",
        "\n",
        "import json\n",
        "from sklearn.model_selection import KFold \n",
        "from sklearn.metrics import accuracy_score\n",
        "\n",
        "from sklearn.metrics import roc_curve\n",
        "\n",
        "from matplotlib import pyplot as plt\n",
        "from sklearn import tree"
      ],
      "metadata": {
        "id": "zPRSEwuxQr2e"
      },
      "execution_count": 1,
      "outputs": []
    },
    {
      "cell_type": "code",
      "source": [
        "from google.colab import drive\n",
        "drive.mount('/content/gdrive') \n",
        "path = '/content/gdrive/MyDrive/IFT 6390/kaggle2/'"
      ],
      "metadata": {
        "colab": {
          "base_uri": "https://localhost:8080/"
        },
        "id": "0lp-kC12GBqb",
        "outputId": "614b1248-a24b-4e27-b23d-914c0c944ea9"
      },
      "execution_count": 2,
      "outputs": [
        {
          "output_type": "stream",
          "name": "stdout",
          "text": [
            "Drive already mounted at /content/gdrive; to attempt to forcibly remount, call drive.mount(\"/content/gdrive\", force_remount=True).\n"
          ]
        }
      ]
    },
    {
      "cell_type": "code",
      "execution_count": 3,
      "metadata": {
        "id": "r-89zBRTF66H"
      },
      "outputs": [],
      "source": [
        "tqdm.pandas()"
      ]
    },
    {
      "cell_type": "markdown",
      "source": [
        "### read and prep data"
      ],
      "metadata": {
        "id": "o--JWtIq6MGD"
      }
    },
    {
      "cell_type": "code",
      "execution_count": 4,
      "metadata": {
        "id": "91E-hfJIF66I"
      },
      "outputs": [],
      "source": [
        "input_path = path+'data/input/'"
      ]
    },
    {
      "cell_type": "code",
      "execution_count": 5,
      "metadata": {
        "id": "gsPCeIVZF66J"
      },
      "outputs": [],
      "source": [
        "all_train_data = pd.read_csv(input_path + 'train_data_prepped.csv').fillna('')\n",
        "all_test_data = pd.read_csv(input_path + 'test_data_prepped.csv').fillna('')"
      ]
    },
    {
      "cell_type": "code",
      "execution_count": 6,
      "metadata": {
        "colab": {
          "base_uri": "https://localhost:8080/"
        },
        "id": "_1qV9MLOF66J",
        "outputId": "4e7c1c72-96c0-48c9-a1ac-37466400fa76"
      },
      "outputs": [
        {
          "output_type": "execute_result",
          "data": {
            "text/plain": [
              "positive    520436\n",
              "negative    519803\n",
              "neutral         84\n",
              "Name: target, dtype: int64"
            ]
          },
          "metadata": {},
          "execution_count": 6
        }
      ],
      "source": [
        "train_target = pd.read_csv(input_path + 'train_results.csv')\n",
        "train_target['target'].value_counts()"
      ]
    },
    {
      "cell_type": "code",
      "execution_count": 7,
      "metadata": {
        "id": "sLhXLnbfF66L"
      },
      "outputs": [],
      "source": [
        "train_target['target'] = [0 if t == 'negative' else 2 if t == 'positive' else 2 for t in train_target['target'].values]"
      ]
    },
    {
      "cell_type": "code",
      "execution_count": 8,
      "metadata": {
        "id": "R6EZ1ZXYF66L"
      },
      "outputs": [],
      "source": [
        "all_train_data['target'] = train_target['target']"
      ]
    },
    {
      "cell_type": "code",
      "execution_count": 9,
      "metadata": {
        "colab": {
          "base_uri": "https://localhost:8080/"
        },
        "id": "BGg8jhr3F66M",
        "outputId": "87255849-c086-40e6-c964-06a3d743d08a"
      },
      "outputs": [
        {
          "output_type": "execute_result",
          "data": {
            "text/plain": [
              "2    520520\n",
              "0    519803\n",
              "Name: target, dtype: int64"
            ]
          },
          "metadata": {},
          "execution_count": 9
        }
      ],
      "source": [
        "all_train_data['target'].value_counts()"
      ]
    },
    {
      "cell_type": "markdown",
      "metadata": {
        "id": "mkY3CZX6F66N"
      },
      "source": [
        "### establish parameters"
      ]
    },
    {
      "cell_type": "code",
      "execution_count": 62,
      "metadata": {
        "id": "0cXhSXdnF66R"
      },
      "outputs": [],
      "source": [
        "vocab_sizes = [100, 1_000, 10_000]\n",
        "ngrams = [(1, 1), (2, 2), (1, 2)]\n",
        "text_columns = ['text_no_numerals', 'text_no_sw', 'text_lancaster_stemmed', 'text_lemmatized']\n",
        "vectorizers = [TfidfVectorizer, CountVectorizer]\n",
        "models = [DecisionTreeClassifier()]\n"
      ]
    },
    {
      "cell_type": "markdown",
      "metadata": {
        "id": "QAE3BuMrF66S"
      },
      "source": [
        "set decision tree parameters"
      ]
    },
    {
      "cell_type": "code",
      "execution_count": 63,
      "metadata": {
        "id": "5v4V1aJyF66S"
      },
      "outputs": [],
      "source": [
        "param_grid = {\n",
        "    'criterion': ['gini',],\n",
        "    'max_depth': [3, 5, 7],\n",
        "    'max_features': ['sqrt', 'log2', None],\n",
        "    \n",
        "}"
      ]
    },
    {
      "cell_type": "code",
      "execution_count": 44,
      "metadata": {
        "id": "LvmfNgBzF66S"
      },
      "outputs": [],
      "source": [
        "def trainModels(train_data, targets, vocab_sizes, text_columns, ngrams, vectorizers, models, param_grid):\n",
        "    param_tracker = []\n",
        "    predictions_tracker = []\n",
        "    counter = 1\n",
        "    for size in tqdm(vocab_sizes):\n",
        "\n",
        "\n",
        "        for col in text_columns:\n",
        "\n",
        "            text = train_data[col]\n",
        "            for ng in ngrams:\n",
        "\n",
        "                for vectorizer in vectorizers:\n",
        "                  \n",
        "                    vectorizer_name = str(vectorizer).split('.')[-1].replace('>', '').replace(\"\\'\",'').strip()\n",
        "                    print('vectorizer name: ', vectorizer_name)\n",
        "                    vectorizer = vectorizer(max_features=size, ngram_range=ng)\n",
        "                    print('vectorizer: ', vectorizer)\n",
        "\n",
        "\n",
        "\n",
        "                    BOW = vectorizer.fit_transform(text)\n",
        "        \n",
        "                    print('BOW shape: ', BOW.shape)\n",
        "\n",
        "                    X_train, X_valid, y_train, y_valid = train_test_split(BOW, targets, test_size=0.2, random_state=42)\n",
        "\n",
        "\n",
        "                    for model in models:\n",
        "                        model_name = str(model)\n",
        "                        counter+=1\n",
        "                        if counter % 10==0:\n",
        "                            print(f'{counter}')\n",
        "\n",
        "                        grid = RandomizedSearchCV(estimator = model,\n",
        "                                         param_distributions=param_grid,\n",
        "                                         scoring = 'accuracy',\n",
        "                                         cv=3,\n",
        "                                         n_iter=5,\n",
        "                                         verbose=0)\n",
        "\n",
        "                        grid.fit(X_train, y_train)\n",
        "\n",
        "                        accuracy = grid.score(X_valid, y_valid)\n",
        "\n",
        "                        grid_params = grid.best_params_\n",
        "                        criterion = grid_params['criterion']\n",
        "                        max_depth = grid_params['max_depth']\n",
        "                        max_features = grid_params['max_features']\n",
        "                        print('accuracy: ', accuracy, '\\n')\n",
        "\n",
        "                        model_params = {\n",
        "\n",
        "                            'vocab_size': size,\n",
        "                            'model_name': model_name,\n",
        "                            'text_column': col,\n",
        "                            'ngram': ng,\n",
        "                            'vectorizer': vectorizer_name,\n",
        "                            'splitting_criterion': criterion,\n",
        "                            'tree_max_depth': max_depth,\n",
        "                            'tree_max_features': max_features,\n",
        "                            'accuracy': accuracy\n",
        "\n",
        "\n",
        "                        }\n",
        "\n",
        "\n",
        "                        param_tracker.append(model_params)\n",
        "\n",
        "\n",
        "            \n",
        "\n",
        "    return param_tracker\n",
        "\n"
      ]
    },
    {
      "cell_type": "code",
      "source": [
        "sample_size=10_000\n",
        "v1_data = all_train_data.sample(sample_size)\n",
        "v1_train_X = v1_data.iloc[:, :-1]\n",
        "v1_train_y  = v1_data.iloc[:, -1]"
      ],
      "metadata": {
        "id": "RVtpUoQ-JLJv"
      },
      "execution_count": 45,
      "outputs": []
    },
    {
      "cell_type": "code",
      "execution_count": 48,
      "metadata": {
        "scrolled": true,
        "colab": {
          "base_uri": "https://localhost:8080/"
        },
        "id": "Mfi6TdgWF66U",
        "outputId": "71f6ab6e-d76a-40b3-e420-2720a0a06416"
      },
      "outputs": [
        {
          "output_type": "stream",
          "name": "stderr",
          "text": [
            "\r  0%|          | 0/3 [00:00<?, ?it/s]"
          ]
        },
        {
          "output_type": "stream",
          "name": "stdout",
          "text": [
            "vectorizer name:  TfidfVectorizer\n",
            "vectorizer:  TfidfVectorizer(max_features=100)\n",
            "BOW shape:  (10000, 100)\n",
            "accuracy:  0.5645 \n",
            "\n",
            "vectorizer name:  CountVectorizer\n",
            "vectorizer:  CountVectorizer(max_features=100)\n",
            "BOW shape:  (10000, 100)\n",
            "accuracy:  0.562 \n",
            "\n",
            "vectorizer name:  TfidfVectorizer\n",
            "vectorizer:  TfidfVectorizer(max_features=100, ngram_range=(2, 2))\n",
            "BOW shape:  (10000, 100)\n",
            "accuracy:  0.5295 \n",
            "\n",
            "vectorizer name:  CountVectorizer\n",
            "vectorizer:  CountVectorizer(max_features=100, ngram_range=(2, 2))\n",
            "BOW shape:  (10000, 100)\n",
            "accuracy:  0.531 \n",
            "\n",
            "vectorizer name:  TfidfVectorizer\n",
            "vectorizer:  TfidfVectorizer(max_features=100, ngram_range=(1, 2))\n",
            "BOW shape:  (10000, 100)\n",
            "accuracy:  0.5535 \n",
            "\n",
            "vectorizer name:  CountVectorizer\n",
            "vectorizer:  CountVectorizer(max_features=100, ngram_range=(1, 2))\n",
            "BOW shape:  (10000, 100)\n",
            "accuracy:  0.574 \n",
            "\n",
            "vectorizer name:  TfidfVectorizer\n",
            "vectorizer:  TfidfVectorizer(max_features=100, ngram_range=(1, 3))\n",
            "BOW shape:  (10000, 100)\n",
            "accuracy:  0.5655 \n",
            "\n",
            "vectorizer name:  CountVectorizer\n",
            "vectorizer:  CountVectorizer(max_features=100, ngram_range=(1, 3))\n",
            "BOW shape:  (10000, 100)\n",
            "accuracy:  0.5735 \n",
            "\n",
            "vectorizer name:  TfidfVectorizer\n",
            "vectorizer:  TfidfVectorizer(max_features=100)\n",
            "BOW shape:  (10000, 100)\n",
            "10\n",
            "accuracy:  0.5485 \n",
            "\n",
            "vectorizer name:  CountVectorizer\n",
            "vectorizer:  CountVectorizer(max_features=100)\n",
            "BOW shape:  (10000, 100)\n",
            "accuracy:  0.552 \n",
            "\n",
            "vectorizer name:  TfidfVectorizer\n",
            "vectorizer:  TfidfVectorizer(max_features=100, ngram_range=(2, 2))\n",
            "BOW shape:  (10000, 100)\n",
            "accuracy:  0.5205 \n",
            "\n",
            "vectorizer name:  CountVectorizer\n",
            "vectorizer:  CountVectorizer(max_features=100, ngram_range=(2, 2))\n",
            "BOW shape:  (10000, 100)\n",
            "accuracy:  0.4945 \n",
            "\n",
            "vectorizer name:  TfidfVectorizer\n",
            "vectorizer:  TfidfVectorizer(max_features=100, ngram_range=(1, 2))\n",
            "BOW shape:  (10000, 100)\n",
            "accuracy:  0.5475 \n",
            "\n",
            "vectorizer name:  CountVectorizer\n",
            "vectorizer:  CountVectorizer(max_features=100, ngram_range=(1, 2))\n",
            "BOW shape:  (10000, 100)\n",
            "accuracy:  0.542 \n",
            "\n",
            "vectorizer name:  TfidfVectorizer\n",
            "vectorizer:  TfidfVectorizer(max_features=100, ngram_range=(1, 3))\n",
            "BOW shape:  (10000, 100)\n",
            "accuracy:  0.547 \n",
            "\n",
            "vectorizer name:  CountVectorizer\n",
            "vectorizer:  CountVectorizer(max_features=100, ngram_range=(1, 3))\n",
            "BOW shape:  (10000, 100)\n",
            "accuracy:  0.552 \n",
            "\n",
            "vectorizer name:  TfidfVectorizer\n",
            "vectorizer:  TfidfVectorizer(max_features=100)\n",
            "BOW shape:  (10000, 100)\n",
            "accuracy:  0.5625 \n",
            "\n",
            "vectorizer name:  CountVectorizer\n",
            "vectorizer:  CountVectorizer(max_features=100)\n",
            "BOW shape:  (10000, 100)\n",
            "accuracy:  0.521 \n",
            "\n",
            "vectorizer name:  TfidfVectorizer\n",
            "vectorizer:  TfidfVectorizer(max_features=100, ngram_range=(2, 2))\n",
            "BOW shape:  (10000, 100)\n",
            "20\n",
            "accuracy:  0.507 \n",
            "\n",
            "vectorizer name:  CountVectorizer\n",
            "vectorizer:  CountVectorizer(max_features=100, ngram_range=(2, 2))\n",
            "BOW shape:  (10000, 100)\n",
            "accuracy:  0.5225 \n",
            "\n",
            "vectorizer name:  TfidfVectorizer\n",
            "vectorizer:  TfidfVectorizer(max_features=100, ngram_range=(1, 2))\n",
            "BOW shape:  (10000, 100)\n",
            "accuracy:  0.5585 \n",
            "\n",
            "vectorizer name:  CountVectorizer\n",
            "vectorizer:  CountVectorizer(max_features=100, ngram_range=(1, 2))\n",
            "BOW shape:  (10000, 100)\n",
            "accuracy:  0.5725 \n",
            "\n",
            "vectorizer name:  TfidfVectorizer\n",
            "vectorizer:  TfidfVectorizer(max_features=100, ngram_range=(1, 3))\n",
            "BOW shape:  (10000, 100)\n",
            "accuracy:  0.559 \n",
            "\n",
            "vectorizer name:  CountVectorizer\n",
            "vectorizer:  CountVectorizer(max_features=100, ngram_range=(1, 3))\n",
            "BOW shape:  (10000, 100)\n",
            "accuracy:  0.5625 \n",
            "\n",
            "vectorizer name:  TfidfVectorizer\n",
            "vectorizer:  TfidfVectorizer(max_features=100)\n",
            "BOW shape:  (10000, 100)\n",
            "accuracy:  0.5565 \n",
            "\n",
            "vectorizer name:  CountVectorizer\n",
            "vectorizer:  CountVectorizer(max_features=100)\n",
            "BOW shape:  (10000, 100)\n",
            "accuracy:  0.5705 \n",
            "\n",
            "vectorizer name:  TfidfVectorizer\n",
            "vectorizer:  TfidfVectorizer(max_features=100, ngram_range=(2, 2))\n",
            "BOW shape:  (10000, 100)\n",
            "accuracy:  0.499 \n",
            "\n",
            "vectorizer name:  CountVectorizer\n",
            "vectorizer:  CountVectorizer(max_features=100, ngram_range=(2, 2))\n",
            "BOW shape:  (10000, 100)\n",
            "accuracy:  0.5115 \n",
            "\n",
            "vectorizer name:  TfidfVectorizer\n",
            "vectorizer:  TfidfVectorizer(max_features=100, ngram_range=(1, 2))\n",
            "BOW shape:  (10000, 100)\n",
            "30\n",
            "accuracy:  0.5715 \n",
            "\n",
            "vectorizer name:  CountVectorizer\n",
            "vectorizer:  CountVectorizer(max_features=100, ngram_range=(1, 2))\n",
            "BOW shape:  (10000, 100)\n",
            "accuracy:  0.5705 \n",
            "\n",
            "vectorizer name:  TfidfVectorizer\n",
            "vectorizer:  TfidfVectorizer(max_features=100, ngram_range=(1, 3))\n",
            "BOW shape:  (10000, 100)\n",
            "accuracy:  0.562 \n",
            "\n",
            "vectorizer name:  CountVectorizer\n",
            "vectorizer:  CountVectorizer(max_features=100, ngram_range=(1, 3))\n",
            "BOW shape:  (10000, 100)\n",
            "accuracy:  0.5495 \n",
            "\n",
            "vectorizer name:  TfidfVectorizer\n",
            "vectorizer:  TfidfVectorizer(max_features=100)\n",
            "BOW shape:  (10000, 100)\n",
            "accuracy:  0.555 \n",
            "\n",
            "vectorizer name:  CountVectorizer\n",
            "vectorizer:  CountVectorizer(max_features=100)\n",
            "BOW shape:  (10000, 100)\n",
            "accuracy:  0.5585 \n",
            "\n",
            "vectorizer name:  TfidfVectorizer\n",
            "vectorizer:  TfidfVectorizer(max_features=100, ngram_range=(2, 2))\n",
            "BOW shape:  (10000, 100)\n",
            "accuracy:  0.512 \n",
            "\n",
            "vectorizer name:  CountVectorizer\n",
            "vectorizer:  CountVectorizer(max_features=100, ngram_range=(2, 2))\n",
            "BOW shape:  (10000, 100)\n",
            "accuracy:  0.5075 \n",
            "\n",
            "vectorizer name:  TfidfVectorizer\n",
            "vectorizer:  TfidfVectorizer(max_features=100, ngram_range=(1, 2))\n",
            "BOW shape:  (10000, 100)\n",
            "accuracy:  0.5625 \n",
            "\n",
            "vectorizer name:  CountVectorizer\n",
            "vectorizer:  CountVectorizer(max_features=100, ngram_range=(1, 2))\n",
            "BOW shape:  (10000, 100)\n",
            "accuracy:  0.568 \n",
            "\n",
            "vectorizer name:  TfidfVectorizer\n",
            "vectorizer:  TfidfVectorizer(max_features=100, ngram_range=(1, 3))\n",
            "BOW shape:  (10000, 100)\n",
            "40\n",
            "accuracy:  0.564 \n",
            "\n",
            "vectorizer name:  CountVectorizer\n",
            "vectorizer:  CountVectorizer(max_features=100, ngram_range=(1, 3))\n"
          ]
        },
        {
          "output_type": "stream",
          "name": "stderr",
          "text": [
            "\r 33%|███▎      | 1/3 [00:28<00:57, 28.77s/it]"
          ]
        },
        {
          "output_type": "stream",
          "name": "stdout",
          "text": [
            "BOW shape:  (10000, 100)\n",
            "accuracy:  0.559 \n",
            "\n",
            "vectorizer name:  TfidfVectorizer\n",
            "vectorizer:  TfidfVectorizer(max_features=1000)\n",
            "BOW shape:  (10000, 1000)\n",
            "accuracy:  0.567 \n",
            "\n",
            "vectorizer name:  CountVectorizer\n",
            "vectorizer:  CountVectorizer(max_features=1000)\n",
            "BOW shape:  (10000, 1000)\n",
            "accuracy:  0.555 \n",
            "\n",
            "vectorizer name:  TfidfVectorizer\n",
            "vectorizer:  TfidfVectorizer(max_features=1000, ngram_range=(2, 2))\n",
            "BOW shape:  (10000, 1000)\n",
            "accuracy:  0.531 \n",
            "\n",
            "vectorizer name:  CountVectorizer\n",
            "vectorizer:  CountVectorizer(max_features=1000, ngram_range=(2, 2))\n",
            "BOW shape:  (10000, 1000)\n",
            "accuracy:  0.5315 \n",
            "\n",
            "vectorizer name:  TfidfVectorizer\n",
            "vectorizer:  TfidfVectorizer(max_features=1000, ngram_range=(1, 2))\n",
            "BOW shape:  (10000, 1000)\n",
            "accuracy:  0.5515 \n",
            "\n",
            "vectorizer name:  CountVectorizer\n",
            "vectorizer:  CountVectorizer(max_features=1000, ngram_range=(1, 2))\n",
            "BOW shape:  (10000, 1000)\n",
            "accuracy:  0.5665 \n",
            "\n",
            "vectorizer name:  TfidfVectorizer\n",
            "vectorizer:  TfidfVectorizer(max_features=1000, ngram_range=(1, 3))\n",
            "BOW shape:  (10000, 1000)\n",
            "accuracy:  0.558 \n",
            "\n",
            "vectorizer name:  CountVectorizer\n",
            "vectorizer:  CountVectorizer(max_features=1000, ngram_range=(1, 3))\n",
            "BOW shape:  (10000, 1000)\n",
            "accuracy:  0.5685 \n",
            "\n",
            "vectorizer name:  TfidfVectorizer\n",
            "vectorizer:  TfidfVectorizer(max_features=1000)\n",
            "BOW shape:  (10000, 1000)\n",
            "50\n",
            "accuracy:  0.5545 \n",
            "\n",
            "vectorizer name:  CountVectorizer\n",
            "vectorizer:  CountVectorizer(max_features=1000)\n",
            "BOW shape:  (10000, 1000)\n",
            "accuracy:  0.5425 \n",
            "\n",
            "vectorizer name:  TfidfVectorizer\n",
            "vectorizer:  TfidfVectorizer(max_features=1000, ngram_range=(2, 2))\n",
            "BOW shape:  (10000, 1000)\n",
            "accuracy:  0.495 \n",
            "\n",
            "vectorizer name:  CountVectorizer\n",
            "vectorizer:  CountVectorizer(max_features=1000, ngram_range=(2, 2))\n",
            "BOW shape:  (10000, 1000)\n",
            "accuracy:  0.4945 \n",
            "\n",
            "vectorizer name:  TfidfVectorizer\n",
            "vectorizer:  TfidfVectorizer(max_features=1000, ngram_range=(1, 2))\n",
            "BOW shape:  (10000, 1000)\n",
            "accuracy:  0.5415 \n",
            "\n",
            "vectorizer name:  CountVectorizer\n",
            "vectorizer:  CountVectorizer(max_features=1000, ngram_range=(1, 2))\n",
            "BOW shape:  (10000, 1000)\n",
            "accuracy:  0.5565 \n",
            "\n",
            "vectorizer name:  TfidfVectorizer\n",
            "vectorizer:  TfidfVectorizer(max_features=1000, ngram_range=(1, 3))\n",
            "BOW shape:  (10000, 1000)\n",
            "accuracy:  0.535 \n",
            "\n",
            "vectorizer name:  CountVectorizer\n",
            "vectorizer:  CountVectorizer(max_features=1000, ngram_range=(1, 3))\n",
            "BOW shape:  (10000, 1000)\n",
            "accuracy:  0.5585 \n",
            "\n",
            "vectorizer name:  TfidfVectorizer\n",
            "vectorizer:  TfidfVectorizer(max_features=1000)\n",
            "BOW shape:  (10000, 1000)\n",
            "accuracy:  0.572 \n",
            "\n",
            "vectorizer name:  CountVectorizer\n",
            "vectorizer:  CountVectorizer(max_features=1000)\n",
            "BOW shape:  (10000, 1000)\n",
            "accuracy:  0.5725 \n",
            "\n",
            "vectorizer name:  TfidfVectorizer\n",
            "vectorizer:  TfidfVectorizer(max_features=1000, ngram_range=(2, 2))\n",
            "BOW shape:  (10000, 1000)\n",
            "60\n",
            "accuracy:  0.4985 \n",
            "\n",
            "vectorizer name:  CountVectorizer\n",
            "vectorizer:  CountVectorizer(max_features=1000, ngram_range=(2, 2))\n",
            "BOW shape:  (10000, 1000)\n",
            "accuracy:  0.514 \n",
            "\n",
            "vectorizer name:  TfidfVectorizer\n",
            "vectorizer:  TfidfVectorizer(max_features=1000, ngram_range=(1, 2))\n",
            "BOW shape:  (10000, 1000)\n",
            "accuracy:  0.5735 \n",
            "\n",
            "vectorizer name:  CountVectorizer\n",
            "vectorizer:  CountVectorizer(max_features=1000, ngram_range=(1, 2))\n",
            "BOW shape:  (10000, 1000)\n",
            "accuracy:  0.5785 \n",
            "\n",
            "vectorizer name:  TfidfVectorizer\n",
            "vectorizer:  TfidfVectorizer(max_features=1000, ngram_range=(1, 3))\n",
            "BOW shape:  (10000, 1000)\n",
            "accuracy:  0.5545 \n",
            "\n",
            "vectorizer name:  CountVectorizer\n",
            "vectorizer:  CountVectorizer(max_features=1000, ngram_range=(1, 3))\n",
            "BOW shape:  (10000, 1000)\n",
            "accuracy:  0.5765 \n",
            "\n",
            "vectorizer name:  TfidfVectorizer\n",
            "vectorizer:  TfidfVectorizer(max_features=1000)\n",
            "BOW shape:  (10000, 1000)\n",
            "accuracy:  0.569 \n",
            "\n",
            "vectorizer name:  CountVectorizer\n",
            "vectorizer:  CountVectorizer(max_features=1000)\n",
            "BOW shape:  (10000, 1000)\n",
            "accuracy:  0.571 \n",
            "\n",
            "vectorizer name:  TfidfVectorizer\n",
            "vectorizer:  TfidfVectorizer(max_features=1000, ngram_range=(2, 2))\n",
            "BOW shape:  (10000, 1000)\n",
            "accuracy:  0.5135 \n",
            "\n",
            "vectorizer name:  CountVectorizer\n",
            "vectorizer:  CountVectorizer(max_features=1000, ngram_range=(2, 2))\n",
            "BOW shape:  (10000, 1000)\n",
            "accuracy:  0.5145 \n",
            "\n",
            "vectorizer name:  TfidfVectorizer\n",
            "vectorizer:  TfidfVectorizer(max_features=1000, ngram_range=(1, 2))\n",
            "BOW shape:  (10000, 1000)\n",
            "70\n",
            "accuracy:  0.568 \n",
            "\n",
            "vectorizer name:  CountVectorizer\n",
            "vectorizer:  CountVectorizer(max_features=1000, ngram_range=(1, 2))\n",
            "BOW shape:  (10000, 1000)\n",
            "accuracy:  0.5785 \n",
            "\n",
            "vectorizer name:  TfidfVectorizer\n",
            "vectorizer:  TfidfVectorizer(max_features=1000, ngram_range=(1, 3))\n",
            "BOW shape:  (10000, 1000)\n",
            "accuracy:  0.5515 \n",
            "\n",
            "vectorizer name:  CountVectorizer\n",
            "vectorizer:  CountVectorizer(max_features=1000, ngram_range=(1, 3))\n",
            "BOW shape:  (10000, 1000)\n",
            "accuracy:  0.533 \n",
            "\n",
            "vectorizer name:  TfidfVectorizer\n",
            "vectorizer:  TfidfVectorizer(max_features=1000)\n",
            "BOW shape:  (10000, 1000)\n",
            "accuracy:  0.5655 \n",
            "\n",
            "vectorizer name:  CountVectorizer\n",
            "vectorizer:  CountVectorizer(max_features=1000)\n",
            "BOW shape:  (10000, 1000)\n",
            "accuracy:  0.566 \n",
            "\n",
            "vectorizer name:  TfidfVectorizer\n",
            "vectorizer:  TfidfVectorizer(max_features=1000, ngram_range=(2, 2))\n",
            "BOW shape:  (10000, 1000)\n",
            "accuracy:  0.532 \n",
            "\n",
            "vectorizer name:  CountVectorizer\n",
            "vectorizer:  CountVectorizer(max_features=1000, ngram_range=(2, 2))\n",
            "BOW shape:  (10000, 1000)\n",
            "accuracy:  0.51 \n",
            "\n",
            "vectorizer name:  TfidfVectorizer\n",
            "vectorizer:  TfidfVectorizer(max_features=1000, ngram_range=(1, 2))\n",
            "BOW shape:  (10000, 1000)\n",
            "accuracy:  0.568 \n",
            "\n",
            "vectorizer name:  CountVectorizer\n",
            "vectorizer:  CountVectorizer(max_features=1000, ngram_range=(1, 2))\n",
            "BOW shape:  (10000, 1000)\n",
            "accuracy:  0.5695 \n",
            "\n",
            "vectorizer name:  TfidfVectorizer\n",
            "vectorizer:  TfidfVectorizer(max_features=1000, ngram_range=(1, 3))\n",
            "BOW shape:  (10000, 1000)\n",
            "80\n",
            "accuracy:  0.5715 \n",
            "\n",
            "vectorizer name:  CountVectorizer\n",
            "vectorizer:  CountVectorizer(max_features=1000, ngram_range=(1, 3))\n",
            "BOW shape:  (10000, 1000)\n"
          ]
        },
        {
          "output_type": "stream",
          "name": "stderr",
          "text": [
            "\r 67%|██████▋   | 2/3 [03:22<01:53, 113.90s/it]"
          ]
        },
        {
          "output_type": "stream",
          "name": "stdout",
          "text": [
            "accuracy:  0.5695 \n",
            "\n",
            "vectorizer name:  TfidfVectorizer\n",
            "vectorizer:  TfidfVectorizer(max_features=10000)\n",
            "BOW shape:  (10000, 10000)\n",
            "accuracy:  0.5655 \n",
            "\n",
            "vectorizer name:  CountVectorizer\n",
            "vectorizer:  CountVectorizer(max_features=10000)\n",
            "BOW shape:  (10000, 10000)\n",
            "accuracy:  0.569 \n",
            "\n",
            "vectorizer name:  TfidfVectorizer\n",
            "vectorizer:  TfidfVectorizer(max_features=10000, ngram_range=(2, 2))\n",
            "BOW shape:  (10000, 10000)\n",
            "accuracy:  0.4955 \n",
            "\n",
            "vectorizer name:  CountVectorizer\n",
            "vectorizer:  CountVectorizer(max_features=10000, ngram_range=(2, 2))\n",
            "BOW shape:  (10000, 10000)\n",
            "accuracy:  0.5305 \n",
            "\n",
            "vectorizer name:  TfidfVectorizer\n",
            "vectorizer:  TfidfVectorizer(max_features=10000, ngram_range=(1, 2))\n",
            "BOW shape:  (10000, 10000)\n",
            "accuracy:  0.564 \n",
            "\n",
            "vectorizer name:  CountVectorizer\n",
            "vectorizer:  CountVectorizer(max_features=10000, ngram_range=(1, 2))\n",
            "BOW shape:  (10000, 10000)\n",
            "accuracy:  0.5675 \n",
            "\n",
            "vectorizer name:  TfidfVectorizer\n",
            "vectorizer:  TfidfVectorizer(max_features=10000, ngram_range=(1, 3))\n",
            "BOW shape:  (10000, 10000)\n",
            "accuracy:  0.554 \n",
            "\n",
            "vectorizer name:  CountVectorizer\n",
            "vectorizer:  CountVectorizer(max_features=10000, ngram_range=(1, 3))\n",
            "BOW shape:  (10000, 10000)\n",
            "accuracy:  0.567 \n",
            "\n",
            "vectorizer name:  TfidfVectorizer\n",
            "vectorizer:  TfidfVectorizer(max_features=10000)\n",
            "BOW shape:  (10000, 10000)\n",
            "90\n",
            "accuracy:  0.5495 \n",
            "\n",
            "vectorizer name:  CountVectorizer\n",
            "vectorizer:  CountVectorizer(max_features=10000)\n",
            "BOW shape:  (10000, 10000)\n",
            "accuracy:  0.538 \n",
            "\n",
            "vectorizer name:  TfidfVectorizer\n",
            "vectorizer:  TfidfVectorizer(max_features=10000, ngram_range=(2, 2))\n",
            "BOW shape:  (10000, 10000)\n",
            "accuracy:  0.4965 \n",
            "\n",
            "vectorizer name:  CountVectorizer\n",
            "vectorizer:  CountVectorizer(max_features=10000, ngram_range=(2, 2))\n",
            "BOW shape:  (10000, 10000)\n",
            "accuracy:  0.494 \n",
            "\n",
            "vectorizer name:  TfidfVectorizer\n",
            "vectorizer:  TfidfVectorizer(max_features=10000, ngram_range=(1, 2))\n",
            "BOW shape:  (10000, 10000)\n",
            "accuracy:  0.5155 \n",
            "\n",
            "vectorizer name:  CountVectorizer\n",
            "vectorizer:  CountVectorizer(max_features=10000, ngram_range=(1, 2))\n",
            "BOW shape:  (10000, 10000)\n",
            "accuracy:  0.558 \n",
            "\n",
            "vectorizer name:  TfidfVectorizer\n",
            "vectorizer:  TfidfVectorizer(max_features=10000, ngram_range=(1, 3))\n",
            "BOW shape:  (10000, 10000)\n",
            "accuracy:  0.552 \n",
            "\n",
            "vectorizer name:  CountVectorizer\n",
            "vectorizer:  CountVectorizer(max_features=10000, ngram_range=(1, 3))\n",
            "BOW shape:  (10000, 10000)\n",
            "accuracy:  0.557 \n",
            "\n",
            "vectorizer name:  TfidfVectorizer\n",
            "vectorizer:  TfidfVectorizer(max_features=10000)\n",
            "BOW shape:  (10000, 10000)\n",
            "accuracy:  0.5685 \n",
            "\n",
            "vectorizer name:  CountVectorizer\n",
            "vectorizer:  CountVectorizer(max_features=10000)\n",
            "BOW shape:  (10000, 10000)\n",
            "accuracy:  0.579 \n",
            "\n",
            "vectorizer name:  TfidfVectorizer\n",
            "vectorizer:  TfidfVectorizer(max_features=10000, ngram_range=(2, 2))\n",
            "BOW shape:  (10000, 10000)\n",
            "100\n",
            "accuracy:  0.5075 \n",
            "\n",
            "vectorizer name:  CountVectorizer\n",
            "vectorizer:  CountVectorizer(max_features=10000, ngram_range=(2, 2))\n",
            "BOW shape:  (10000, 10000)\n",
            "accuracy:  0.513 \n",
            "\n",
            "vectorizer name:  TfidfVectorizer\n",
            "vectorizer:  TfidfVectorizer(max_features=10000, ngram_range=(1, 2))\n",
            "BOW shape:  (10000, 10000)\n",
            "accuracy:  0.553 \n",
            "\n",
            "vectorizer name:  CountVectorizer\n",
            "vectorizer:  CountVectorizer(max_features=10000, ngram_range=(1, 2))\n",
            "BOW shape:  (10000, 10000)\n",
            "accuracy:  0.5715 \n",
            "\n",
            "vectorizer name:  TfidfVectorizer\n",
            "vectorizer:  TfidfVectorizer(max_features=10000, ngram_range=(1, 3))\n",
            "BOW shape:  (10000, 10000)\n",
            "accuracy:  0.5555 \n",
            "\n",
            "vectorizer name:  CountVectorizer\n",
            "vectorizer:  CountVectorizer(max_features=10000, ngram_range=(1, 3))\n",
            "BOW shape:  (10000, 10000)\n",
            "accuracy:  0.579 \n",
            "\n",
            "vectorizer name:  TfidfVectorizer\n",
            "vectorizer:  TfidfVectorizer(max_features=10000)\n",
            "BOW shape:  (10000, 10000)\n",
            "accuracy:  0.555 \n",
            "\n",
            "vectorizer name:  CountVectorizer\n",
            "vectorizer:  CountVectorizer(max_features=10000)\n",
            "BOW shape:  (10000, 10000)\n",
            "accuracy:  0.5335 \n",
            "\n",
            "vectorizer name:  TfidfVectorizer\n",
            "vectorizer:  TfidfVectorizer(max_features=10000, ngram_range=(2, 2))\n",
            "BOW shape:  (10000, 10000)\n",
            "accuracy:  0.5165 \n",
            "\n",
            "vectorizer name:  CountVectorizer\n",
            "vectorizer:  CountVectorizer(max_features=10000, ngram_range=(2, 2))\n",
            "BOW shape:  (10000, 10000)\n",
            "accuracy:  0.5135 \n",
            "\n",
            "vectorizer name:  TfidfVectorizer\n",
            "vectorizer:  TfidfVectorizer(max_features=10000, ngram_range=(1, 2))\n",
            "BOW shape:  (10000, 10000)\n",
            "110\n",
            "accuracy:  0.569 \n",
            "\n",
            "vectorizer name:  CountVectorizer\n",
            "vectorizer:  CountVectorizer(max_features=10000, ngram_range=(1, 2))\n",
            "BOW shape:  (10000, 10000)\n",
            "accuracy:  0.571 \n",
            "\n",
            "vectorizer name:  TfidfVectorizer\n",
            "vectorizer:  TfidfVectorizer(max_features=10000, ngram_range=(1, 3))\n",
            "BOW shape:  (10000, 10000)\n",
            "accuracy:  0.567 \n",
            "\n",
            "vectorizer name:  CountVectorizer\n",
            "vectorizer:  CountVectorizer(max_features=10000, ngram_range=(1, 3))\n",
            "BOW shape:  (10000, 10000)\n",
            "accuracy:  0.572 \n",
            "\n",
            "vectorizer name:  TfidfVectorizer\n",
            "vectorizer:  TfidfVectorizer(max_features=10000)\n",
            "BOW shape:  (10000, 10000)\n",
            "accuracy:  0.5645 \n",
            "\n",
            "vectorizer name:  CountVectorizer\n",
            "vectorizer:  CountVectorizer(max_features=10000)\n",
            "BOW shape:  (10000, 10000)\n",
            "accuracy:  0.5665 \n",
            "\n",
            "vectorizer name:  TfidfVectorizer\n",
            "vectorizer:  TfidfVectorizer(max_features=10000, ngram_range=(2, 2))\n",
            "BOW shape:  (10000, 10000)\n",
            "accuracy:  0.529 \n",
            "\n",
            "vectorizer name:  CountVectorizer\n",
            "vectorizer:  CountVectorizer(max_features=10000, ngram_range=(2, 2))\n",
            "BOW shape:  (10000, 10000)\n",
            "accuracy:  0.526 \n",
            "\n",
            "vectorizer name:  TfidfVectorizer\n",
            "vectorizer:  TfidfVectorizer(max_features=10000, ngram_range=(1, 2))\n",
            "BOW shape:  (10000, 10000)\n",
            "accuracy:  0.561 \n",
            "\n",
            "vectorizer name:  CountVectorizer\n",
            "vectorizer:  CountVectorizer(max_features=10000, ngram_range=(1, 2))\n",
            "BOW shape:  (10000, 10000)\n",
            "accuracy:  0.568 \n",
            "\n",
            "vectorizer name:  TfidfVectorizer\n",
            "vectorizer:  TfidfVectorizer(max_features=10000, ngram_range=(1, 3))\n",
            "BOW shape:  (10000, 10000)\n",
            "120\n",
            "accuracy:  0.557 \n",
            "\n",
            "vectorizer name:  CountVectorizer\n",
            "vectorizer:  CountVectorizer(max_features=10000, ngram_range=(1, 3))\n",
            "BOW shape:  (10000, 10000)\n"
          ]
        },
        {
          "output_type": "stream",
          "name": "stderr",
          "text": [
            "100%|██████████| 3/3 [35:41<00:00, 713.76s/it]"
          ]
        },
        {
          "output_type": "stream",
          "name": "stdout",
          "text": [
            "accuracy:  0.567 \n",
            "\n"
          ]
        },
        {
          "output_type": "stream",
          "name": "stderr",
          "text": [
            "\n"
          ]
        }
      ],
      "source": [
        "param_tracker = trainModels(v1_train_X, v1_train_y, vocab_sizes, text_columns, ngrams, vectorizers, models, param_grid)"
      ]
    },
    {
      "cell_type": "code",
      "execution_count": 49,
      "metadata": {
        "id": "G9kDEHvjF66V"
      },
      "outputs": [],
      "source": [
        "param_df = pd.DataFrame(param_tracker,)\n",
        "param_df = param_df.sort_values(by='accuracy', ascending=False).reset_index(drop=True)\n"
      ]
    },
    {
      "cell_type": "code",
      "execution_count": 50,
      "metadata": {
        "colab": {
          "base_uri": "https://localhost:8080/",
          "height": 35
        },
        "id": "SC1zJEoiF66V",
        "outputId": "19907ff9-17ea-4c3b-a084-1686fee5efb1"
      },
      "outputs": [
        {
          "output_type": "execute_result",
          "data": {
            "text/plain": [
              "'CountVectorizer(max_features=10000, ngram_range=(1, 3))'"
            ],
            "application/vnd.google.colaboratory.intrinsic+json": {
              "type": "string"
            }
          },
          "metadata": {},
          "execution_count": 50
        }
      ],
      "source": [
        "param_df.iloc[0]['vectorizer'].split('.')[-1].replace('>', '').replace(\"\\'\",'').strip()"
      ]
    },
    {
      "cell_type": "markdown",
      "source": [
        "saving and loading results"
      ],
      "metadata": {
        "id": "0z4jQNaR75EB"
      }
    },
    {
      "cell_type": "code",
      "execution_count": 51,
      "metadata": {
        "id": "hoelNi5NF66V"
      },
      "outputs": [],
      "source": [
        "param_df.to_csv(path+'data/output/decision_tree/decision_tree_params.csv', index=False)\n"
      ]
    },
    {
      "cell_type": "code",
      "execution_count": 52,
      "metadata": {
        "colab": {
          "base_uri": "https://localhost:8080/",
          "height": 242
        },
        "id": "upCChfyfF66W",
        "outputId": "6ea8afa0-a8da-4f5a-e6e3-f3d85c37407e"
      },
      "outputs": [
        {
          "output_type": "execute_result",
          "data": {
            "text/plain": [
              "   vocab_size                model_name             text_column   ngram  \\\n",
              "0       10000  DecisionTreeClassifier()     text_porter_stemmed  (1, 3)   \n",
              "1       10000  DecisionTreeClassifier()     text_porter_stemmed  (1, 1)   \n",
              "2        1000  DecisionTreeClassifier()  text_lancaster_stemmed  (1, 2)   \n",
              "\n",
              "                                          vectorizer splitting_criterion  \\\n",
              "0  CountVectorizer(max_features=10000, ngram_rang...                gini   \n",
              "1                CountVectorizer(max_features=10000)                gini   \n",
              "2  CountVectorizer(max_features=1000, ngram_range...                gini   \n",
              "\n",
              "   tree_max_depth tree_max_features  accuracy  \n",
              "0               7              None    0.5790  \n",
              "1               7              None    0.5790  \n",
              "2               7              None    0.5785  "
            ],
            "text/html": [
              "\n",
              "  <div id=\"df-b224af5a-b65a-45c5-b510-aa07197e078f\">\n",
              "    <div class=\"colab-df-container\">\n",
              "      <div>\n",
              "<style scoped>\n",
              "    .dataframe tbody tr th:only-of-type {\n",
              "        vertical-align: middle;\n",
              "    }\n",
              "\n",
              "    .dataframe tbody tr th {\n",
              "        vertical-align: top;\n",
              "    }\n",
              "\n",
              "    .dataframe thead th {\n",
              "        text-align: right;\n",
              "    }\n",
              "</style>\n",
              "<table border=\"1\" class=\"dataframe\">\n",
              "  <thead>\n",
              "    <tr style=\"text-align: right;\">\n",
              "      <th></th>\n",
              "      <th>vocab_size</th>\n",
              "      <th>model_name</th>\n",
              "      <th>text_column</th>\n",
              "      <th>ngram</th>\n",
              "      <th>vectorizer</th>\n",
              "      <th>splitting_criterion</th>\n",
              "      <th>tree_max_depth</th>\n",
              "      <th>tree_max_features</th>\n",
              "      <th>accuracy</th>\n",
              "    </tr>\n",
              "  </thead>\n",
              "  <tbody>\n",
              "    <tr>\n",
              "      <th>0</th>\n",
              "      <td>10000</td>\n",
              "      <td>DecisionTreeClassifier()</td>\n",
              "      <td>text_porter_stemmed</td>\n",
              "      <td>(1, 3)</td>\n",
              "      <td>CountVectorizer(max_features=10000, ngram_rang...</td>\n",
              "      <td>gini</td>\n",
              "      <td>7</td>\n",
              "      <td>None</td>\n",
              "      <td>0.5790</td>\n",
              "    </tr>\n",
              "    <tr>\n",
              "      <th>1</th>\n",
              "      <td>10000</td>\n",
              "      <td>DecisionTreeClassifier()</td>\n",
              "      <td>text_porter_stemmed</td>\n",
              "      <td>(1, 1)</td>\n",
              "      <td>CountVectorizer(max_features=10000)</td>\n",
              "      <td>gini</td>\n",
              "      <td>7</td>\n",
              "      <td>None</td>\n",
              "      <td>0.5790</td>\n",
              "    </tr>\n",
              "    <tr>\n",
              "      <th>2</th>\n",
              "      <td>1000</td>\n",
              "      <td>DecisionTreeClassifier()</td>\n",
              "      <td>text_lancaster_stemmed</td>\n",
              "      <td>(1, 2)</td>\n",
              "      <td>CountVectorizer(max_features=1000, ngram_range...</td>\n",
              "      <td>gini</td>\n",
              "      <td>7</td>\n",
              "      <td>None</td>\n",
              "      <td>0.5785</td>\n",
              "    </tr>\n",
              "  </tbody>\n",
              "</table>\n",
              "</div>\n",
              "      <button class=\"colab-df-convert\" onclick=\"convertToInteractive('df-b224af5a-b65a-45c5-b510-aa07197e078f')\"\n",
              "              title=\"Convert this dataframe to an interactive table.\"\n",
              "              style=\"display:none;\">\n",
              "        \n",
              "  <svg xmlns=\"http://www.w3.org/2000/svg\" height=\"24px\"viewBox=\"0 0 24 24\"\n",
              "       width=\"24px\">\n",
              "    <path d=\"M0 0h24v24H0V0z\" fill=\"none\"/>\n",
              "    <path d=\"M18.56 5.44l.94 2.06.94-2.06 2.06-.94-2.06-.94-.94-2.06-.94 2.06-2.06.94zm-11 1L8.5 8.5l.94-2.06 2.06-.94-2.06-.94L8.5 2.5l-.94 2.06-2.06.94zm10 10l.94 2.06.94-2.06 2.06-.94-2.06-.94-.94-2.06-.94 2.06-2.06.94z\"/><path d=\"M17.41 7.96l-1.37-1.37c-.4-.4-.92-.59-1.43-.59-.52 0-1.04.2-1.43.59L10.3 9.45l-7.72 7.72c-.78.78-.78 2.05 0 2.83L4 21.41c.39.39.9.59 1.41.59.51 0 1.02-.2 1.41-.59l7.78-7.78 2.81-2.81c.8-.78.8-2.07 0-2.86zM5.41 20L4 18.59l7.72-7.72 1.47 1.35L5.41 20z\"/>\n",
              "  </svg>\n",
              "      </button>\n",
              "      \n",
              "  <style>\n",
              "    .colab-df-container {\n",
              "      display:flex;\n",
              "      flex-wrap:wrap;\n",
              "      gap: 12px;\n",
              "    }\n",
              "\n",
              "    .colab-df-convert {\n",
              "      background-color: #E8F0FE;\n",
              "      border: none;\n",
              "      border-radius: 50%;\n",
              "      cursor: pointer;\n",
              "      display: none;\n",
              "      fill: #1967D2;\n",
              "      height: 32px;\n",
              "      padding: 0 0 0 0;\n",
              "      width: 32px;\n",
              "    }\n",
              "\n",
              "    .colab-df-convert:hover {\n",
              "      background-color: #E2EBFA;\n",
              "      box-shadow: 0px 1px 2px rgba(60, 64, 67, 0.3), 0px 1px 3px 1px rgba(60, 64, 67, 0.15);\n",
              "      fill: #174EA6;\n",
              "    }\n",
              "\n",
              "    [theme=dark] .colab-df-convert {\n",
              "      background-color: #3B4455;\n",
              "      fill: #D2E3FC;\n",
              "    }\n",
              "\n",
              "    [theme=dark] .colab-df-convert:hover {\n",
              "      background-color: #434B5C;\n",
              "      box-shadow: 0px 1px 3px 1px rgba(0, 0, 0, 0.15);\n",
              "      filter: drop-shadow(0px 1px 2px rgba(0, 0, 0, 0.3));\n",
              "      fill: #FFFFFF;\n",
              "    }\n",
              "  </style>\n",
              "\n",
              "      <script>\n",
              "        const buttonEl =\n",
              "          document.querySelector('#df-b224af5a-b65a-45c5-b510-aa07197e078f button.colab-df-convert');\n",
              "        buttonEl.style.display =\n",
              "          google.colab.kernel.accessAllowed ? 'block' : 'none';\n",
              "\n",
              "        async function convertToInteractive(key) {\n",
              "          const element = document.querySelector('#df-b224af5a-b65a-45c5-b510-aa07197e078f');\n",
              "          const dataTable =\n",
              "            await google.colab.kernel.invokeFunction('convertToInteractive',\n",
              "                                                     [key], {});\n",
              "          if (!dataTable) return;\n",
              "\n",
              "          const docLinkHtml = 'Like what you see? Visit the ' +\n",
              "            '<a target=\"_blank\" href=https://colab.research.google.com/notebooks/data_table.ipynb>data table notebook</a>'\n",
              "            + ' to learn more about interactive tables.';\n",
              "          element.innerHTML = '';\n",
              "          dataTable['output_type'] = 'display_data';\n",
              "          await google.colab.output.renderOutput(dataTable, element);\n",
              "          const docLink = document.createElement('div');\n",
              "          docLink.innerHTML = docLinkHtml;\n",
              "          element.appendChild(docLink);\n",
              "        }\n",
              "      </script>\n",
              "    </div>\n",
              "  </div>\n",
              "  "
            ]
          },
          "metadata": {},
          "execution_count": 52
        }
      ],
      "source": [
        "param_df = pd.read_csv(path+'data/output/decision_tree/decision_tree_params.csv')\n",
        "param_df['ngram'] = [(int(ng[1]), int(ng[4])) for ng in param_df['ngram'].values]\n",
        "param_df = param_df.replace({np.nan: None})\n",
        "param_df.head(3)\n"
      ]
    },
    {
      "cell_type": "markdown",
      "source": [
        "get best 20 combinations and train on more data"
      ],
      "metadata": {
        "id": "FQbmbiQb77Wl"
      }
    },
    {
      "cell_type": "code",
      "execution_count": 58,
      "metadata": {
        "id": "N67MJ8NDF66X"
      },
      "outputs": [],
      "source": [
        "top_20_params = param_df[:20]\n",
        "\n",
        "# for cross validation, num folds   \n",
        "k = 3"
      ]
    },
    {
      "cell_type": "code",
      "source": [
        "sample_size=50_000\n",
        "v2_data = all_train_data.sample(sample_size).reset_index(drop=True)\n",
        "v2_train_X = v2_data.iloc[:, :-1]\n",
        "v2_train_y  = v2_data.iloc[:, -1].values"
      ],
      "metadata": {
        "id": "xrUm-DVANyMM"
      },
      "execution_count": 68,
      "outputs": []
    },
    {
      "cell_type": "code",
      "source": [],
      "metadata": {
        "colab": {
          "base_uri": "https://localhost:8080/"
        },
        "id": "8V5fgcGWiAPD",
        "outputId": "b8e40b05-d4cc-4db6-9120-c532f3ab52ef"
      },
      "execution_count": 67,
      "outputs": [
        {
          "output_type": "execute_result",
          "data": {
            "text/plain": [
              "0        2\n",
              "1        2\n",
              "2        2\n",
              "3        0\n",
              "4        2\n",
              "        ..\n",
              "49995    0\n",
              "49996    0\n",
              "49997    2\n",
              "49998    2\n",
              "49999    0\n",
              "Name: target, Length: 50000, dtype: int64"
            ]
          },
          "metadata": {},
          "execution_count": 67
        }
      ]
    },
    {
      "cell_type": "code",
      "execution_count": 69,
      "metadata": {
        "id": "Wsg4SExKF66X",
        "colab": {
          "base_uri": "https://localhost:8080/"
        },
        "outputId": "1c68042c-3397-45f4-bc1e-85e70e4461a8"
      },
      "outputs": [
        {
          "output_type": "stream",
          "name": "stderr",
          "text": [
            "\r  0%|          | 0/50 [00:00<?, ?it/s]"
          ]
        },
        {
          "output_type": "stream",
          "name": "stdout",
          "text": [
            "10000 DecisionTreeClassifier() text_porter_stemmed (1, 3) <class 'sklearn.feature_extraction.text.TfidfVectorizer'> gini 7 None\n",
            "vectorizing\n",
            "creating BOW\n",
            "fitting fold\n",
            "fold acc:  0.5839083218335633\n",
            "fitting fold\n"
          ]
        },
        {
          "output_type": "stream",
          "name": "stderr",
          "text": [
            "\r  2%|▏         | 1/50 [00:05<04:36,  5.65s/it]"
          ]
        },
        {
          "output_type": "stream",
          "name": "stdout",
          "text": [
            "fold acc:  0.5922481550368993\n",
            "fitting fold\n",
            "fold acc:  0.5963638545541822\n",
            "0.5908401104748816 \n",
            "\n",
            "\n",
            "10000 DecisionTreeClassifier() text_porter_stemmed (1, 1) <class 'sklearn.feature_extraction.text.CountVectorizer'> gini 7 None\n",
            "vectorizing\n",
            "creating BOW\n",
            "fitting fold\n",
            "fold acc:  0.5842083158336834\n",
            "fitting fold\n",
            "fold acc:  0.5927881442371152\n",
            "fitting fold\n"
          ]
        },
        {
          "output_type": "stream",
          "name": "stderr",
          "text": [
            "\r  4%|▍         | 2/50 [00:07<02:32,  3.18s/it]"
          ]
        },
        {
          "output_type": "stream",
          "name": "stdout",
          "text": [
            "fold acc:  0.5958838353534142\n",
            "0.5909600984747376 \n",
            "\n",
            "\n",
            "1000 DecisionTreeClassifier() text_lancaster_stemmed (1, 2) <class 'sklearn.feature_extraction.text.CountVectorizer'> gini 7 None\n",
            "vectorizing\n",
            "creating BOW\n",
            "fitting fold\n",
            "fold acc:  0.5850482990340193\n",
            "fitting fold\n",
            "fold acc:  0.5920681586368273\n"
          ]
        },
        {
          "output_type": "stream",
          "name": "stderr",
          "text": [
            "\r  6%|▌         | 3/50 [00:09<02:17,  2.92s/it]"
          ]
        },
        {
          "output_type": "stream",
          "name": "stdout",
          "text": [
            "fitting fold\n",
            "fold acc:  0.5953438137525501\n",
            "0.5908200904744656 \n",
            "\n",
            "\n",
            "1000 DecisionTreeClassifier() text_porter_stemmed (1, 2) <class 'sklearn.feature_extraction.text.CountVectorizer'> gini 7 None\n",
            "vectorizing\n",
            "creating BOW\n",
            "fitting fold\n",
            "fold acc:  0.5845683086338274\n",
            "fitting fold\n",
            "fold acc:  0.5921881562368753\n",
            "fitting fold\n"
          ]
        },
        {
          "output_type": "stream",
          "name": "stderr",
          "text": [
            "\r  8%|▊         | 4/50 [00:12<02:18,  3.02s/it]"
          ]
        },
        {
          "output_type": "stream",
          "name": "stdout",
          "text": [
            "fold acc:  0.5962438497539901\n",
            "0.5910001048748975 \n",
            "\n",
            "\n",
            "1000 DecisionTreeClassifier() text_porter_stemmed (1, 3) <class 'sklearn.feature_extraction.text.CountVectorizer'> gini 7 None\n",
            "vectorizing\n",
            "creating BOW\n",
            "fitting fold\n",
            "fold acc:  0.5845083098338033\n",
            "fitting fold\n",
            "fold acc:  0.5922481550368993\n",
            "fitting fold\n"
          ]
        },
        {
          "output_type": "stream",
          "name": "stderr",
          "text": [
            "\r 10%|█         | 5/50 [00:18<02:51,  3.82s/it]"
          ]
        },
        {
          "output_type": "stream",
          "name": "stdout",
          "text": [
            "fold acc:  0.5964838593543742\n",
            "0.5910801080750255 \n",
            "\n",
            "\n",
            "100 DecisionTreeClassifier() text_no_numerals (1, 2) <class 'sklearn.feature_extraction.text.CountVectorizer'> gini 7 None\n",
            "vectorizing\n",
            "creating BOW\n",
            "fitting fold\n",
            "fold acc:  0.5762284754304914\n",
            "fitting fold\n",
            "fold acc:  0.5800683986320273\n",
            "fitting fold\n",
            "fold acc:  0.5859834393375735\n"
          ]
        },
        {
          "output_type": "stream",
          "name": "stderr",
          "text": [
            "\r 12%|█▏        | 6/50 [00:20<02:31,  3.45s/it]"
          ]
        },
        {
          "output_type": "stream",
          "name": "stdout",
          "text": [
            "0.5807601044666973 \n",
            "\n",
            "\n",
            "1000 DecisionTreeClassifier() text_porter_stemmed (1, 2) <class 'sklearn.feature_extraction.text.CountVectorizer'> gini 7 None\n",
            "vectorizing\n",
            "creating BOW\n",
            "fitting fold\n",
            "fold acc:  0.5794084118317634\n",
            "fitting fold\n",
            "fold acc:  0.5860082798344033\n",
            "fitting fold\n"
          ]
        },
        {
          "output_type": "stream",
          "name": "stderr",
          "text": [
            "\r 14%|█▍        | 7/50 [00:24<02:29,  3.48s/it]"
          ]
        },
        {
          "output_type": "stream",
          "name": "stdout",
          "text": [
            "fold acc:  0.592823712948518\n",
            "0.5860801348715615 \n",
            "\n",
            "\n",
            "100 DecisionTreeClassifier() text_no_numerals (1, 3) <class 'sklearn.feature_extraction.text.TfidfVectorizer'> gini 7 None\n",
            "vectorizing\n",
            "creating BOW\n",
            "fitting fold\n",
            "fold acc:  0.5756884862302754\n",
            "fitting fold\n",
            "fold acc:  0.5801283974320514\n",
            "fitting fold\n"
          ]
        },
        {
          "output_type": "stream",
          "name": "stderr",
          "text": [
            "\r 16%|█▌        | 8/50 [00:29<02:51,  4.07s/it]"
          ]
        },
        {
          "output_type": "stream",
          "name": "stdout",
          "text": [
            "fold acc:  0.5859234369374775\n",
            "0.5805801068666013 \n",
            "\n",
            "\n",
            "1000 DecisionTreeClassifier() text_porter_stemmed (1, 1) <class 'sklearn.feature_extraction.text.CountVectorizer'> gini 5 None\n",
            "vectorizing\n",
            "creating BOW\n"
          ]
        },
        {
          "output_type": "stream",
          "name": "stderr",
          "text": [
            "\r 18%|█▊        | 9/50 [00:30<02:07,  3.11s/it]"
          ]
        },
        {
          "output_type": "stream",
          "name": "stdout",
          "text": [
            "fitting fold\n",
            "fold acc:  0.5642287154256915\n",
            "fitting fold\n",
            "fold acc:  0.5771284574308514\n",
            "fitting fold\n",
            "fold acc:  0.561382455298212\n",
            "0.567579876051585 \n",
            "\n",
            "\n",
            "100 DecisionTreeClassifier() text_porter_stemmed (1, 2) <class 'sklearn.feature_extraction.text.CountVectorizer'> gini 5 None\n",
            "vectorizing\n",
            "creating BOW\n"
          ]
        },
        {
          "output_type": "stream",
          "name": "stderr",
          "text": [
            "\r 20%|██        | 10/50 [00:33<01:57,  2.94s/it]"
          ]
        },
        {
          "output_type": "stream",
          "name": "stdout",
          "text": [
            "fitting fold\n",
            "fold acc:  0.5620087598248035\n",
            "fitting fold\n",
            "fold acc:  0.5758084838303233\n",
            "fitting fold\n",
            "fold acc:  0.578663146525861\n",
            "0.5721601300603293 \n",
            "\n",
            "\n",
            "1000 DecisionTreeClassifier() text_porter_stemmed (1, 1) <class 'sklearn.feature_extraction.text.CountVectorizer'> gini 7 None\n",
            "vectorizing\n",
            "creating BOW\n",
            "fitting fold\n",
            "fold acc:  0.5806683866322674\n",
            "fitting fold\n",
            "fold acc:  0.5912881742365153\n",
            "fitting fold\n"
          ]
        },
        {
          "output_type": "stream",
          "name": "stderr",
          "text": [
            "\r 22%|██▏       | 11/50 [00:35<01:40,  2.58s/it]"
          ]
        },
        {
          "output_type": "stream",
          "name": "stdout",
          "text": [
            "fold acc:  0.5915636625465018\n",
            "0.5878400744717616 \n",
            "\n",
            "\n",
            "10000 DecisionTreeClassifier() text_lancaster_stemmed (1, 3) <class 'sklearn.feature_extraction.text.TfidfVectorizer'> gini 5 None\n",
            "vectorizing\n",
            "creating BOW\n",
            "fitting fold\n",
            "fold acc:  0.5647687046259074\n",
            "fitting fold\n"
          ]
        },
        {
          "output_type": "stream",
          "name": "stderr",
          "text": [
            "\r 24%|██▍       | 12/50 [00:40<02:14,  3.55s/it]"
          ]
        },
        {
          "output_type": "stream",
          "name": "stdout",
          "text": [
            "fold acc:  0.5760484790304194\n",
            "fitting fold\n",
            "fold acc:  0.562822512900516\n",
            "0.567879898852281 \n",
            "\n",
            "\n",
            "100 DecisionTreeClassifier() text_lancaster_stemmed (1, 2) <class 'sklearn.feature_extraction.text.CountVectorizer'> gini 7 None\n",
            "vectorizing\n",
            "creating BOW\n",
            "fitting fold\n",
            "fold acc:  0.5878682426351473\n",
            "fitting fold\n",
            "fold acc:  0.5843283134337314\n",
            "fitting fold\n"
          ]
        },
        {
          "output_type": "stream",
          "name": "stderr",
          "text": [
            "\r 26%|██▌       | 13/50 [00:43<02:05,  3.40s/it]"
          ]
        },
        {
          "output_type": "stream",
          "name": "stdout",
          "text": [
            "fold acc:  0.5920436817472698\n",
            "0.5880800792720494 \n",
            "\n",
            "\n",
            "1000 DecisionTreeClassifier() text_lemmatized (1, 3) <class 'sklearn.feature_extraction.text.TfidfVectorizer'> gini 7 None\n",
            "vectorizing\n",
            "creating BOW\n",
            "fitting fold\n",
            "fold acc:  0.5749685006299874\n",
            "fitting fold\n",
            "fold acc:  0.5843883122337553\n",
            "fitting fold\n"
          ]
        },
        {
          "output_type": "stream",
          "name": "stderr",
          "text": [
            "\r 28%|██▊       | 14/50 [00:50<02:32,  4.25s/it]"
          ]
        },
        {
          "output_type": "stream",
          "name": "stdout",
          "text": [
            "fold acc:  0.5898835953438137\n",
            "0.5830801360691855 \n",
            "\n",
            "\n",
            "10000 DecisionTreeClassifier() text_porter_stemmed (1, 2) <class 'sklearn.feature_extraction.text.TfidfVectorizer'> gini 5 None\n",
            "vectorizing\n",
            "creating BOW\n",
            "fitting fold\n",
            "fold acc:  0.5639287214255715\n",
            "fitting fold\n"
          ]
        },
        {
          "output_type": "stream",
          "name": "stderr",
          "text": [
            "\r 30%|███       | 15/50 [00:52<02:14,  3.84s/it]"
          ]
        },
        {
          "output_type": "stream",
          "name": "stdout",
          "text": [
            "fold acc:  0.5767084658306834\n",
            "fitting fold\n",
            "fold acc:  0.561382455298212\n",
            "0.567339880851489 \n",
            "\n",
            "\n",
            "1000 DecisionTreeClassifier() text_lancaster_stemmed (1, 1) <class 'sklearn.feature_extraction.text.CountVectorizer'> gini 5 None\n",
            "vectorizing\n",
            "creating BOW\n",
            "fitting fold\n",
            "fold acc:  0.5650686986260275\n",
            "fitting fold\n",
            "fold acc:  0.5759284814303713\n",
            "fitting fold\n"
          ]
        },
        {
          "output_type": "stream",
          "name": "stderr",
          "text": [
            "\r 32%|███▏      | 16/50 [00:53<01:40,  2.97s/it]"
          ]
        },
        {
          "output_type": "stream",
          "name": "stdout",
          "text": [
            "fold acc:  0.562702508100324\n",
            "0.5678998960522409 \n",
            "\n",
            "\n",
            "10000 DecisionTreeClassifier() text_lancaster_stemmed (1, 2) <class 'sklearn.feature_extraction.text.CountVectorizer'> gini 5 None\n",
            "vectorizing\n",
            "creating BOW\n",
            "fitting fold\n",
            "fold acc:  0.5648287034259315\n",
            "fitting fold\n"
          ]
        },
        {
          "output_type": "stream",
          "name": "stderr",
          "text": [
            "\r 34%|███▍      | 17/50 [00:56<01:35,  2.89s/it]"
          ]
        },
        {
          "output_type": "stream",
          "name": "stdout",
          "text": [
            "fold acc:  0.5761684766304674\n",
            "fitting fold\n",
            "fold acc:  0.5628825153006121\n",
            "0.567959898452337 \n",
            "\n",
            "\n",
            "100 DecisionTreeClassifier() text_lancaster_stemmed (1, 1) <class 'sklearn.feature_extraction.text.CountVectorizer'> gini 7 sqrt\n",
            "vectorizing\n",
            "creating BOW\n"
          ]
        },
        {
          "output_type": "stream",
          "name": "stderr",
          "text": [
            "\r 36%|███▌      | 18/50 [00:57<01:12,  2.27s/it]"
          ]
        },
        {
          "output_type": "stream",
          "name": "stdout",
          "text": [
            "fitting fold\n",
            "fold acc:  0.5672886542269154\n",
            "fitting fold\n",
            "fold acc:  0.5828883422331553\n",
            "fitting fold\n",
            "fold acc:  0.578003120124805\n",
            "0.5760600388616253 \n",
            "\n",
            "\n",
            "100 DecisionTreeClassifier() text_lancaster_stemmed (1, 2) <class 'sklearn.feature_extraction.text.CountVectorizer'> gini 5 None\n",
            "vectorizing\n",
            "creating BOW\n"
          ]
        },
        {
          "output_type": "stream",
          "name": "stderr",
          "text": [
            "\r 38%|███▊      | 19/50 [00:59<01:11,  2.32s/it]"
          ]
        },
        {
          "output_type": "stream",
          "name": "stdout",
          "text": [
            "fitting fold\n",
            "fold acc:  0.5624887502249954\n",
            "fitting fold\n",
            "fold acc:  0.5860082798344033\n",
            "fitting fold\n",
            "fold acc:  0.5786031441257651\n",
            "0.5757000580617213 \n",
            "\n",
            "\n",
            "1000 DecisionTreeClassifier() text_lemmatized (1, 3) <class 'sklearn.feature_extraction.text.CountVectorizer'> gini 5 None\n",
            "vectorizing\n",
            "creating BOW\n",
            "fitting fold\n",
            "fold acc:  0.5666886662266755\n",
            "fitting fold\n",
            "fold acc:  0.5732885342293154\n",
            "fitting fold\n"
          ]
        },
        {
          "output_type": "stream",
          "name": "stderr",
          "text": [
            "\r 40%|████      | 20/50 [01:05<01:36,  3.21s/it]"
          ]
        },
        {
          "output_type": "stream",
          "name": "stdout",
          "text": [
            "fold acc:  0.5810032401296051\n",
            "0.5736601468618653 \n",
            "\n",
            "\n",
            "1000 DecisionTreeClassifier() text_lemmatized (1, 2) <class 'sklearn.feature_extraction.text.CountVectorizer'> gini 5 None\n",
            "vectorizing\n",
            "creating BOW\n",
            "fitting fold\n",
            "fold acc:  0.5666886662266755\n",
            "fitting fold\n",
            "fold acc:  0.5731085378292434\n",
            "fitting fold\n"
          ]
        },
        {
          "output_type": "stream",
          "name": "stderr",
          "text": [
            "\r 42%|████▏     | 21/50 [01:07<01:29,  3.07s/it]"
          ]
        },
        {
          "output_type": "stream",
          "name": "stdout",
          "text": [
            "fold acc:  0.5812432497299892\n",
            "0.5736801512619695 \n",
            "\n",
            "\n",
            "1000 DecisionTreeClassifier() text_lancaster_stemmed (1, 1) <class 'sklearn.feature_extraction.text.CountVectorizer'> gini 5 None\n",
            "vectorizing\n",
            "creating BOW\n",
            "fitting fold\n",
            "fold acc:  0.5621887562248755\n",
            "fitting fold\n",
            "fold acc:  0.5750884982300354\n",
            "fitting fold\n"
          ]
        },
        {
          "output_type": "stream",
          "name": "stderr",
          "text": [
            "\r 44%|████▍     | 22/50 [01:09<01:12,  2.60s/it]"
          ]
        },
        {
          "output_type": "stream",
          "name": "stdout",
          "text": [
            "fold acc:  0.5649225969038761\n",
            "0.5673999504529291 \n",
            "\n",
            "\n",
            "10000 DecisionTreeClassifier() text_no_numerals (1, 1) <class 'sklearn.feature_extraction.text.TfidfVectorizer'> gini 5 None\n",
            "vectorizing\n",
            "creating BOW\n",
            "fitting fold\n",
            "fold acc:  0.5668686626267475\n",
            "fitting fold\n"
          ]
        },
        {
          "output_type": "stream",
          "name": "stderr",
          "text": [
            "\r 46%|████▌     | 23/50 [01:10<00:58,  2.18s/it]"
          ]
        },
        {
          "output_type": "stream",
          "name": "stdout",
          "text": [
            "fold acc:  0.5758684826303474\n",
            "fitting fold\n",
            "fold acc:  0.5807632305292212\n",
            "0.5745001252621054 \n",
            "\n",
            "\n",
            "10000 DecisionTreeClassifier() text_lancaster_stemmed (1, 2) <class 'sklearn.feature_extraction.text.CountVectorizer'> gini 5 None\n",
            "vectorizing\n",
            "creating BOW\n",
            "fitting fold\n",
            "fold acc:  0.5623687526249475\n",
            "fitting fold\n",
            "fold acc:  0.5756284874302514\n",
            "fitting fold\n"
          ]
        },
        {
          "output_type": "stream",
          "name": "stderr",
          "text": [
            "\r 48%|████▊     | 24/50 [01:18<01:43,  4.00s/it]"
          ]
        },
        {
          "output_type": "stream",
          "name": "stdout",
          "text": [
            "fold acc:  0.5645025801032041\n",
            "0.567499940052801 \n",
            "\n",
            "\n",
            "1000 DecisionTreeClassifier() text_no_numerals (1, 3) <class 'sklearn.feature_extraction.text.TfidfVectorizer'> gini 7 None\n",
            "vectorizing\n",
            "creating BOW\n",
            "fitting fold\n",
            "fold acc:  0.5789884202315954\n",
            "fitting fold\n"
          ]
        },
        {
          "output_type": "stream",
          "name": "stderr",
          "text": [
            "\r 50%|█████     | 25/50 [01:29<02:29,  5.96s/it]"
          ]
        },
        {
          "output_type": "stream",
          "name": "stdout",
          "text": [
            "fold acc:  0.5871482570348593\n",
            "fitting fold\n",
            "fold acc:  0.5688827553102124\n",
            "0.5783398108588891 \n",
            "\n",
            "\n",
            "10000 DecisionTreeClassifier() text_porter_stemmed (1, 1) <class 'sklearn.feature_extraction.text.CountVectorizer'> gini 5 None\n",
            "vectorizing\n",
            "creating BOW\n",
            "fitting fold\n",
            "fold acc:  0.5611687766244675\n",
            "fitting fold\n",
            "fold acc:  0.5749685006299874\n",
            "fitting fold\n"
          ]
        },
        {
          "output_type": "stream",
          "name": "stderr",
          "text": [
            "\r 52%|█████▏    | 26/50 [01:31<01:53,  4.74s/it]"
          ]
        },
        {
          "output_type": "stream",
          "name": "stdout",
          "text": [
            "fold acc:  0.5616224648985959\n",
            "0.5659199140510169 \n",
            "\n",
            "\n",
            "10000 DecisionTreeClassifier() text_lemmatized (1, 2) <class 'sklearn.feature_extraction.text.TfidfVectorizer'> gini 5 None\n",
            "vectorizing\n",
            "creating BOW\n",
            "fitting fold\n",
            "fold acc:  0.5665686686266275\n",
            "fitting fold\n"
          ]
        },
        {
          "output_type": "stream",
          "name": "stderr",
          "text": [
            "\r 54%|█████▍    | 27/50 [01:34<01:35,  4.16s/it]"
          ]
        },
        {
          "output_type": "stream",
          "name": "stdout",
          "text": [
            "fold acc:  0.5733485330293394\n",
            "fitting fold\n",
            "fold acc:  0.5814832593303733\n",
            "0.5738001536621135 \n",
            "\n",
            "\n",
            "100 DecisionTreeClassifier() text_lemmatized (1, 2) <class 'sklearn.feature_extraction.text.CountVectorizer'> gini 5 None\n",
            "vectorizing\n",
            "creating BOW\n"
          ]
        },
        {
          "output_type": "stream",
          "name": "stderr",
          "text": [
            "\r 56%|█████▌    | 28/50 [01:36<01:21,  3.69s/it]"
          ]
        },
        {
          "output_type": "stream",
          "name": "stdout",
          "text": [
            "fitting fold\n",
            "fold acc:  0.5643487130257395\n",
            "fitting fold\n",
            "fold acc:  0.5837283254334913\n",
            "fitting fold\n",
            "fold acc:  0.576803072122885\n",
            "0.5749600368607052 \n",
            "\n",
            "\n",
            "1000 DecisionTreeClassifier() text_lemmatized (1, 2) <class 'sklearn.feature_extraction.text.CountVectorizer'> gini 5 None\n",
            "vectorizing\n",
            "creating BOW\n",
            "fitting fold\n",
            "fold acc:  0.5633887322253555\n",
            "fitting fold\n",
            "fold acc:  0.5813283734325313\n",
            "fitting fold\n"
          ]
        },
        {
          "output_type": "stream",
          "name": "stderr",
          "text": [
            "\r 58%|█████▊    | 29/50 [01:39<01:14,  3.54s/it]"
          ]
        },
        {
          "output_type": "stream",
          "name": "stdout",
          "text": [
            "fold acc:  0.578663146525861\n",
            "0.5744600840612493 \n",
            "\n",
            "\n",
            "1000 DecisionTreeClassifier() text_lancaster_stemmed (1, 2) <class 'sklearn.feature_extraction.text.TfidfVectorizer'> gini 5 None\n",
            "vectorizing\n",
            "creating BOW\n",
            "fitting fold\n",
            "fold acc:  0.5625487490250195\n",
            "fitting fold\n",
            "fold acc:  0.5710685786284274\n",
            "fitting fold\n"
          ]
        },
        {
          "output_type": "stream",
          "name": "stderr",
          "text": [
            "\r 60%|██████    | 30/50 [01:43<01:08,  3.42s/it]"
          ]
        },
        {
          "output_type": "stream",
          "name": "stdout",
          "text": [
            "fold acc:  0.5641425657026281\n",
            "0.565919964452025 \n",
            "\n",
            "\n",
            "10000 DecisionTreeClassifier() text_no_numerals (1, 2) <class 'sklearn.feature_extraction.text.TfidfVectorizer'> gini 7 None\n",
            "vectorizing\n",
            "creating BOW\n",
            "fitting fold\n",
            "fold acc:  0.5791684166316674\n",
            "fitting fold\n",
            "fold acc:  0.5875682486350273\n",
            "fitting fold\n",
            "fold acc:  0.5700828033121325\n",
            "0.5789398228596091 \n",
            "\n",
            "\n"
          ]
        },
        {
          "output_type": "stream",
          "name": "stderr",
          "text": [
            "\r 62%|██████▏   | 31/50 [01:46<01:03,  3.33s/it]"
          ]
        },
        {
          "output_type": "stream",
          "name": "stdout",
          "text": [
            "10000 DecisionTreeClassifier() text_lancaster_stemmed (1, 3) <class 'sklearn.feature_extraction.text.CountVectorizer'> gini 5 None\n",
            "vectorizing\n",
            "creating BOW\n",
            "fitting fold\n",
            "fold acc:  0.5622487550248995\n",
            "fitting fold\n",
            "fold acc:  0.5756884862302754\n",
            "fitting fold\n"
          ]
        },
        {
          "output_type": "stream",
          "name": "stderr",
          "text": [
            "\r 64%|██████▍   | 32/50 [01:52<01:14,  4.15s/it]"
          ]
        },
        {
          "output_type": "stream",
          "name": "stdout",
          "text": [
            "fold acc:  0.5646825873034922\n",
            "0.567539942852889 \n",
            "\n",
            "\n",
            "10000 DecisionTreeClassifier() text_no_numerals (1, 3) <class 'sklearn.feature_extraction.text.TfidfVectorizer'> gini 5 None\n",
            "vectorizing\n",
            "creating BOW\n",
            "fitting fold\n",
            "fold acc:  0.5665686686266275\n",
            "fitting fold\n"
          ]
        },
        {
          "output_type": "stream",
          "name": "stderr",
          "text": [
            "\r 66%|██████▌   | 33/50 [01:57<01:17,  4.58s/it]"
          ]
        },
        {
          "output_type": "stream",
          "name": "stdout",
          "text": [
            "fold acc:  0.5759284814303713\n",
            "fitting fold\n",
            "fold acc:  0.5808232329293171\n",
            "0.5744401276621054 \n",
            "\n",
            "\n",
            "1000 DecisionTreeClassifier() text_no_numerals (1, 1) <class 'sklearn.feature_extraction.text.CountVectorizer'> gini 7 None\n",
            "vectorizing\n",
            "creating BOW\n",
            "fitting fold\n",
            "fold acc:  0.5766484670306594\n",
            "fitting fold\n",
            "fold acc:  0.5849283014339713\n",
            "fitting fold\n"
          ]
        },
        {
          "output_type": "stream",
          "name": "stderr",
          "text": [
            "\r 68%|██████▊   | 34/50 [01:59<00:59,  3.74s/it]"
          ]
        },
        {
          "output_type": "stream",
          "name": "stdout",
          "text": [
            "fold acc:  0.5686427457098284\n",
            "0.5767398380581531 \n",
            "\n",
            "\n",
            "10000 DecisionTreeClassifier() text_lemmatized (1, 3) <class 'sklearn.feature_extraction.text.TfidfVectorizer'> gini 7 None\n",
            "vectorizing\n",
            "creating BOW\n",
            "fitting fold\n",
            "fold acc:  0.5801883962320754\n",
            "fitting fold\n",
            "fold acc:  0.5885882282354353\n",
            "fitting fold\n"
          ]
        },
        {
          "output_type": "stream",
          "name": "stderr",
          "text": [
            "\r 70%|███████   | 35/50 [02:05<01:04,  4.29s/it]"
          ]
        },
        {
          "output_type": "stream",
          "name": "stdout",
          "text": [
            "fold acc:  0.5709228369134766\n",
            "0.5798998204603292 \n",
            "\n",
            "\n",
            "1000 DecisionTreeClassifier() text_no_numerals (1, 2) <class 'sklearn.feature_extraction.text.CountVectorizer'> gini 7 None\n",
            "vectorizing\n",
            "creating BOW\n",
            "fitting fold\n",
            "fold acc:  0.5791084178316434\n",
            "fitting fold\n"
          ]
        },
        {
          "output_type": "stream",
          "name": "stderr",
          "text": [
            "\r 72%|███████▏  | 36/50 [02:08<00:54,  3.86s/it]"
          ]
        },
        {
          "output_type": "stream",
          "name": "stdout",
          "text": [
            "fold acc:  0.5872082558348833\n",
            "fitting fold\n",
            "fold acc:  0.5690027601104044\n",
            "0.578439811258977 \n",
            "\n",
            "\n",
            "10000 DecisionTreeClassifier() text_lemmatized (1, 1) <class 'sklearn.feature_extraction.text.CountVectorizer'> gini 7 None\n",
            "vectorizing\n",
            "creating BOW\n",
            "fitting fold\n",
            "fold acc:  0.5801883962320754\n",
            "fitting fold\n",
            "fold acc:  0.5880482390352193\n",
            "fitting fold\n"
          ]
        },
        {
          "output_type": "stream",
          "name": "stderr",
          "text": [
            "\r 74%|███████▍  | 37/50 [02:09<00:40,  3.13s/it]"
          ]
        },
        {
          "output_type": "stream",
          "name": "stdout",
          "text": [
            "fold acc:  0.5705028201128045\n",
            "0.579579818460033 \n",
            "\n",
            "\n",
            "1000 DecisionTreeClassifier() text_lemmatized (1, 1) <class 'sklearn.feature_extraction.text.CountVectorizer'> gini 7 None\n",
            "vectorizing\n",
            "creating BOW\n",
            "fitting fold\n",
            "fold acc:  0.5802483950320994\n",
            "fitting fold\n",
            "fold acc:  0.5882282354352913\n"
          ]
        },
        {
          "output_type": "stream",
          "name": "stderr",
          "text": [
            "\r 76%|███████▌  | 38/50 [02:10<00:31,  2.60s/it]"
          ]
        },
        {
          "output_type": "stream",
          "name": "stdout",
          "text": [
            "fitting fold\n",
            "fold acc:  0.5702028081123245\n",
            "0.5795598128599051 \n",
            "\n",
            "\n",
            "1000 DecisionTreeClassifier() text_lemmatized (1, 1) <class 'sklearn.feature_extraction.text.CountVectorizer'> gini 7 None\n",
            "vectorizing\n",
            "creating BOW\n",
            "fitting fold\n",
            "fold acc:  0.5787484250314994\n",
            "fitting fold\n",
            "fold acc:  0.5833083338333234\n",
            "fitting fold\n"
          ]
        },
        {
          "output_type": "stream",
          "name": "stderr",
          "text": [
            "\r 78%|███████▊  | 39/50 [02:12<00:25,  2.34s/it]"
          ]
        },
        {
          "output_type": "stream",
          "name": "stdout",
          "text": [
            "fold acc:  0.5890435617424697\n",
            "0.5837001068690975 \n",
            "\n",
            "\n",
            "10000 DecisionTreeClassifier() text_no_numerals (1, 1) <class 'sklearn.feature_extraction.text.TfidfVectorizer'> gini 5 None\n",
            "vectorizing\n",
            "creating BOW\n",
            "fitting fold\n",
            "fold acc:  0.5633287334253315\n",
            "fitting fold\n",
            "fold acc:  0.5744885102297954\n",
            "fitting fold\n"
          ]
        },
        {
          "output_type": "stream",
          "name": "stderr",
          "text": [
            "\r 80%|████████  | 40/50 [02:14<00:21,  2.17s/it]"
          ]
        },
        {
          "output_type": "stream",
          "name": "stdout",
          "text": [
            "fold acc:  0.5798631945277811\n",
            "0.5725601460609693 \n",
            "\n",
            "\n",
            "100 DecisionTreeClassifier() text_no_numerals (1, 3) <class 'sklearn.feature_extraction.text.TfidfVectorizer'> gini 7 None\n",
            "vectorizing\n",
            "creating BOW\n",
            "fitting fold\n",
            "fold acc:  0.5734685306293874\n",
            "fitting fold\n",
            "fold acc:  0.5820483590328194\n",
            "fitting fold\n"
          ]
        },
        {
          "output_type": "stream",
          "name": "stderr",
          "text": [
            "\r 82%|████████▏ | 41/50 [02:20<00:29,  3.26s/it]"
          ]
        },
        {
          "output_type": "stream",
          "name": "stdout",
          "text": [
            "fold acc:  0.5874834993399736\n",
            "0.5810001296673935 \n",
            "\n",
            "\n",
            "10000 DecisionTreeClassifier() text_lemmatized (1, 1) <class 'sklearn.feature_extraction.text.TfidfVectorizer'> gini 7 None\n",
            "vectorizing\n",
            "creating BOW\n",
            "fitting fold\n",
            "fold acc:  0.5771284574308514\n",
            "fitting fold\n",
            "fold acc:  0.5860082798344033\n",
            "fitting fold\n"
          ]
        },
        {
          "output_type": "stream",
          "name": "stderr",
          "text": [
            "\r 84%|████████▍ | 42/50 [02:22<00:23,  2.95s/it]"
          ]
        },
        {
          "output_type": "stream",
          "name": "stdout",
          "text": [
            "fold acc:  0.5675627025081004\n",
            "0.576899813257785 \n",
            "\n",
            "\n",
            "100 DecisionTreeClassifier() text_no_numerals (1, 1) <class 'sklearn.feature_extraction.text.TfidfVectorizer'> gini 7 sqrt\n",
            "vectorizing\n",
            "creating BOW\n"
          ]
        },
        {
          "output_type": "stream",
          "name": "stderr",
          "text": [
            "\r 86%|████████▌ | 43/50 [02:23<00:16,  2.33s/it]"
          ]
        },
        {
          "output_type": "stream",
          "name": "stdout",
          "text": [
            "fitting fold\n",
            "fold acc:  0.5570288594228116\n",
            "fitting fold\n",
            "fold acc:  0.5291294174116518\n",
            "fitting fold\n",
            "fold acc:  0.5549021960878435\n",
            "0.547020157640769 \n",
            "\n",
            "\n",
            "100 DecisionTreeClassifier() text_lemmatized (1, 3) <class 'sklearn.feature_extraction.text.TfidfVectorizer'> gini 5 None\n",
            "vectorizing\n",
            "creating BOW\n",
            "fitting fold\n",
            "fold acc:  0.5750884982300354\n",
            "fitting fold\n"
          ]
        },
        {
          "output_type": "stream",
          "name": "stderr",
          "text": [
            "\r 88%|████████▊ | 44/50 [02:28<00:19,  3.27s/it]"
          ]
        },
        {
          "output_type": "stream",
          "name": "stdout",
          "text": [
            "fold acc:  0.5795284094318114\n",
            "fitting fold\n",
            "fold acc:  0.5767430697227889\n",
            "0.5771199924615452 \n",
            "\n",
            "\n",
            "10000 DecisionTreeClassifier() text_no_numerals (1, 2) <class 'sklearn.feature_extraction.text.TfidfVectorizer'> gini 5 None\n",
            "vectorizing\n",
            "creating BOW\n",
            "fitting fold\n",
            "fold acc:  0.5620687586248275\n",
            "fitting fold\n",
            "fold acc:  0.5740685186296274\n",
            "fitting fold\n"
          ]
        },
        {
          "output_type": "stream",
          "name": "stderr",
          "text": [
            "\r 90%|█████████ | 45/50 [02:32<00:16,  3.40s/it]"
          ]
        },
        {
          "output_type": "stream",
          "name": "stdout",
          "text": [
            "fold acc:  0.578723148925957\n",
            "0.5716201420601373 \n",
            "\n",
            "\n",
            "100 DecisionTreeClassifier() text_lemmatized (1, 2) <class 'sklearn.feature_extraction.text.TfidfVectorizer'> gini 3 None\n",
            "vectorizing\n",
            "creating BOW\n",
            "fitting fold\n",
            "fold acc:  0.5570888582228355\n",
            "fitting fold\n",
            "fold acc:  0.5693886122277555\n",
            "fitting fold\n"
          ]
        },
        {
          "output_type": "stream",
          "name": "stderr",
          "text": [
            "\r 92%|█████████▏| 46/50 [02:35<00:12,  3.21s/it]"
          ]
        },
        {
          "output_type": "stream",
          "name": "stdout",
          "text": [
            "fold acc:  0.5607224288971558\n",
            "0.5623999664492488 \n",
            "\n",
            "\n",
            "100 DecisionTreeClassifier() text_porter_stemmed (1, 1) <class 'sklearn.feature_extraction.text.TfidfVectorizer'> gini 5 None\n",
            "vectorizing\n",
            "creating BOW\n",
            "fitting fold\n",
            "fold acc:  0.5624287514249715\n",
            "fitting fold\n"
          ]
        },
        {
          "output_type": "stream",
          "name": "stderr",
          "text": [
            "\r 94%|█████████▍| 47/50 [02:36<00:07,  2.62s/it]"
          ]
        },
        {
          "output_type": "stream",
          "name": "stdout",
          "text": [
            "fold acc:  0.5849883002339953\n",
            "fitting fold\n",
            "fold acc:  0.578243129725189\n",
            "0.5752200604613852 \n",
            "\n",
            "\n",
            "100 DecisionTreeClassifier() text_porter_stemmed (1, 3) <class 'sklearn.feature_extraction.text.TfidfVectorizer'> gini 7 log2\n",
            "vectorizing\n",
            "creating BOW\n"
          ]
        },
        {
          "output_type": "stream",
          "name": "stderr",
          "text": [
            "\r 96%|█████████▌| 48/50 [02:41<00:06,  3.31s/it]"
          ]
        },
        {
          "output_type": "stream",
          "name": "stdout",
          "text": [
            "fitting fold\n",
            "fold acc:  0.5645287094258115\n",
            "fitting fold\n",
            "fold acc:  0.5749085018299634\n",
            "fitting fold\n",
            "fold acc:  0.5529821192847714\n",
            "0.5641397768468487 \n",
            "\n",
            "\n",
            "100 DecisionTreeClassifier() text_no_numerals (1, 1) <class 'sklearn.feature_extraction.text.CountVectorizer'> gini 7 None\n",
            "vectorizing\n",
            "creating BOW\n",
            "fitting fold\n",
            "fold acc:  0.5773084538309233\n",
            "fitting fold\n",
            "fold acc:  0.5806083878322433\n",
            "fitting fold\n"
          ]
        },
        {
          "output_type": "stream",
          "name": "stderr",
          "text": [
            "\r 98%|█████████▊| 49/50 [02:42<00:02,  2.64s/it]"
          ]
        },
        {
          "output_type": "stream",
          "name": "stdout",
          "text": [
            "fold acc:  0.5868834753390135\n",
            "0.5816001056673934 \n",
            "\n",
            "\n",
            "100 DecisionTreeClassifier() text_lancaster_stemmed (1, 3) <class 'sklearn.feature_extraction.text.CountVectorizer'> gini 5 None\n",
            "vectorizing\n",
            "creating BOW\n",
            "fitting fold\n",
            "fold acc:  0.5609887802243955\n",
            "fitting fold\n"
          ]
        },
        {
          "output_type": "stream",
          "name": "stderr",
          "text": [
            "100%|██████████| 50/50 [02:47<00:00,  3.35s/it]"
          ]
        },
        {
          "output_type": "stream",
          "name": "stdout",
          "text": [
            "fold acc:  0.5836083278334433\n",
            "fitting fold\n",
            "fold acc:  0.5765030601224049\n",
            "0.5737000560600812 \n",
            "\n",
            "\n"
          ]
        },
        {
          "output_type": "stream",
          "name": "stderr",
          "text": [
            "\n"
          ]
        }
      ],
      "source": [
        "\n",
        "model_accuracy = []\n",
        "predictions = []\n",
        "for i, param_set in enumerate(tqdm(top_20_params.values)):\n",
        "    (vocab_size, \n",
        "     model_type, \n",
        "     text_column, \n",
        "     ngram, \n",
        "     vectorizer_name, \n",
        "     criterion, \n",
        "     max_depth,\n",
        "     max_features, \n",
        "     *_) = param_set\n",
        "    \n",
        "\n",
        "    \n",
        "    print(vocab_size, model_type, text_column, ngram, vectorizer, criterion, max_depth, max_features)\n",
        "    \n",
        "    if vocab_size:\n",
        "        vocab_size = int(vocab_size)\n",
        "        \n",
        "    vectorizer = vectorizer_name.split('(')[0]\n",
        "    if vectorizer == 'TfidfVectorizer':\n",
        "        vectorizer = TfidfVectorizer\n",
        "    elif vectorizer == 'CountVectorizer':\n",
        "        vectorizer = CountVectorizer\n",
        "\n",
        "    else:\n",
        "        print('warning, unrecognized vectorizer!')\n",
        "        print(i, param_set)\n",
        "    \n",
        "    print('vectorizing')\n",
        "    model_vectorizer = vectorizer(max_features=vocab_size, ngram_range=ngram)\n",
        "\n",
        "    print('creating BOW')\n",
        "    \n",
        "    BOW = model_vectorizer.fit_transform(v2_train_X[text_column])\n",
        "   \n",
        "    \n",
        "    \n",
        "    kfolds = KFold(n_splits=k)\n",
        "    model = DecisionTreeClassifier(criterion=criterion, max_depth=max_depth, max_features=max_features)\n",
        "    \n",
        "    acc_score = []\n",
        "    for train_index , valid_index in kfolds.split(BOW):\n",
        "        X_train , X_valid = BOW[train_index,:],BOW[valid_index,:]\n",
        "        y_train , y_valid = v2_train_y[train_index] , v2_train_y[valid_index]\n",
        "        \n",
        "        print('fitting fold')\n",
        "        model.fit(X_train,y_train)\n",
        "        pred_values = model.predict(X_valid)\n",
        "\n",
        "        acc = accuracy_score(pred_values , y_valid)\n",
        "        print('fold acc: ', acc)\n",
        "        acc_score.append(acc)\n",
        "        \n",
        "        pred_probs = model.predict_proba(X_valid)\n",
        "\n",
        "    mean_acc = sum(acc_score)/len(acc_score)\n",
        "    \n",
        "    print(mean_acc, '\\n\\n')\n",
        "    model_accuracy.append(mean_acc)\n",
        "    predictions.append(pred_probs)\n",
        "    \n"
      ]
    },
    {
      "cell_type": "code",
      "execution_count": 70,
      "metadata": {
        "id": "WwB-p0a2F66Y",
        "colab": {
          "base_uri": "https://localhost:8080/",
          "height": 1000
        },
        "outputId": "75c01216-a9a2-408c-e1e0-bea46f7efbaa"
      },
      "outputs": [
        {
          "output_type": "stream",
          "name": "stderr",
          "text": [
            "<ipython-input-70-beeda0af3506>:1: SettingWithCopyWarning: \n",
            "A value is trying to be set on a copy of a slice from a DataFrame.\n",
            "Try using .loc[row_indexer,col_indexer] = value instead\n",
            "\n",
            "See the caveats in the documentation: https://pandas.pydata.org/pandas-docs/stable/user_guide/indexing.html#returning-a-view-versus-a-copy\n",
            "  top_20_params['acc2'] = model_accuracy\n"
          ]
        },
        {
          "output_type": "execute_result",
          "data": {
            "text/plain": [
              "    vocab_size                model_name             text_column   ngram  \\\n",
              "0         1000  DecisionTreeClassifier()     text_porter_stemmed  (1, 3)   \n",
              "1         1000  DecisionTreeClassifier()     text_porter_stemmed  (1, 2)   \n",
              "2        10000  DecisionTreeClassifier()     text_porter_stemmed  (1, 1)   \n",
              "3        10000  DecisionTreeClassifier()     text_porter_stemmed  (1, 3)   \n",
              "4         1000  DecisionTreeClassifier()  text_lancaster_stemmed  (1, 2)   \n",
              "5          100  DecisionTreeClassifier()  text_lancaster_stemmed  (1, 2)   \n",
              "6         1000  DecisionTreeClassifier()     text_porter_stemmed  (1, 1)   \n",
              "7         1000  DecisionTreeClassifier()     text_porter_stemmed  (1, 2)   \n",
              "8         1000  DecisionTreeClassifier()         text_lemmatized  (1, 1)   \n",
              "9         1000  DecisionTreeClassifier()         text_lemmatized  (1, 3)   \n",
              "10         100  DecisionTreeClassifier()        text_no_numerals  (1, 1)   \n",
              "11         100  DecisionTreeClassifier()        text_no_numerals  (1, 3)   \n",
              "12         100  DecisionTreeClassifier()        text_no_numerals  (1, 2)   \n",
              "13         100  DecisionTreeClassifier()        text_no_numerals  (1, 3)   \n",
              "14       10000  DecisionTreeClassifier()         text_lemmatized  (1, 3)   \n",
              "15       10000  DecisionTreeClassifier()         text_lemmatized  (1, 1)   \n",
              "16        1000  DecisionTreeClassifier()         text_lemmatized  (1, 1)   \n",
              "17       10000  DecisionTreeClassifier()        text_no_numerals  (1, 2)   \n",
              "18        1000  DecisionTreeClassifier()        text_no_numerals  (1, 2)   \n",
              "19        1000  DecisionTreeClassifier()        text_no_numerals  (1, 3)   \n",
              "20         100  DecisionTreeClassifier()         text_lemmatized  (1, 3)   \n",
              "21       10000  DecisionTreeClassifier()         text_lemmatized  (1, 1)   \n",
              "22        1000  DecisionTreeClassifier()        text_no_numerals  (1, 1)   \n",
              "23         100  DecisionTreeClassifier()  text_lancaster_stemmed  (1, 1)   \n",
              "24         100  DecisionTreeClassifier()  text_lancaster_stemmed  (1, 2)   \n",
              "25         100  DecisionTreeClassifier()     text_porter_stemmed  (1, 1)   \n",
              "26         100  DecisionTreeClassifier()         text_lemmatized  (1, 2)   \n",
              "27       10000  DecisionTreeClassifier()        text_no_numerals  (1, 1)   \n",
              "28        1000  DecisionTreeClassifier()         text_lemmatized  (1, 2)   \n",
              "29       10000  DecisionTreeClassifier()        text_no_numerals  (1, 3)   \n",
              "30       10000  DecisionTreeClassifier()         text_lemmatized  (1, 2)   \n",
              "31         100  DecisionTreeClassifier()  text_lancaster_stemmed  (1, 3)   \n",
              "32        1000  DecisionTreeClassifier()         text_lemmatized  (1, 2)   \n",
              "33        1000  DecisionTreeClassifier()         text_lemmatized  (1, 3)   \n",
              "34       10000  DecisionTreeClassifier()        text_no_numerals  (1, 1)   \n",
              "35         100  DecisionTreeClassifier()     text_porter_stemmed  (1, 2)   \n",
              "36       10000  DecisionTreeClassifier()        text_no_numerals  (1, 2)   \n",
              "37       10000  DecisionTreeClassifier()  text_lancaster_stemmed  (1, 2)   \n",
              "38        1000  DecisionTreeClassifier()  text_lancaster_stemmed  (1, 1)   \n",
              "39       10000  DecisionTreeClassifier()  text_lancaster_stemmed  (1, 3)   \n",
              "40        1000  DecisionTreeClassifier()     text_porter_stemmed  (1, 1)   \n",
              "41       10000  DecisionTreeClassifier()  text_lancaster_stemmed  (1, 3)   \n",
              "42       10000  DecisionTreeClassifier()  text_lancaster_stemmed  (1, 2)   \n",
              "43        1000  DecisionTreeClassifier()  text_lancaster_stemmed  (1, 1)   \n",
              "44       10000  DecisionTreeClassifier()     text_porter_stemmed  (1, 2)   \n",
              "45        1000  DecisionTreeClassifier()  text_lancaster_stemmed  (1, 2)   \n",
              "46       10000  DecisionTreeClassifier()     text_porter_stemmed  (1, 1)   \n",
              "47         100  DecisionTreeClassifier()     text_porter_stemmed  (1, 3)   \n",
              "48         100  DecisionTreeClassifier()         text_lemmatized  (1, 2)   \n",
              "49         100  DecisionTreeClassifier()        text_no_numerals  (1, 1)   \n",
              "\n",
              "                                           vectorizer splitting_criterion  \\\n",
              "0   CountVectorizer(max_features=1000, ngram_range...                gini   \n",
              "1   CountVectorizer(max_features=1000, ngram_range...                gini   \n",
              "2                 CountVectorizer(max_features=10000)                gini   \n",
              "3   CountVectorizer(max_features=10000, ngram_rang...                gini   \n",
              "4   CountVectorizer(max_features=1000, ngram_range...                gini   \n",
              "5   TfidfVectorizer(max_features=100, ngram_range=...                gini   \n",
              "6                  TfidfVectorizer(max_features=1000)                gini   \n",
              "7   TfidfVectorizer(max_features=1000, ngram_range...                gini   \n",
              "8                  TfidfVectorizer(max_features=1000)                gini   \n",
              "9   TfidfVectorizer(max_features=1000, ngram_range...                gini   \n",
              "10                  CountVectorizer(max_features=100)                gini   \n",
              "11  TfidfVectorizer(max_features=100, ngram_range=...                gini   \n",
              "12  CountVectorizer(max_features=100, ngram_range=...                gini   \n",
              "13  CountVectorizer(max_features=100, ngram_range=...                gini   \n",
              "14  CountVectorizer(max_features=10000, ngram_rang...                gini   \n",
              "15                CountVectorizer(max_features=10000)                gini   \n",
              "16                 CountVectorizer(max_features=1000)                gini   \n",
              "17  CountVectorizer(max_features=10000, ngram_rang...                gini   \n",
              "18  CountVectorizer(max_features=1000, ngram_range...                gini   \n",
              "19  CountVectorizer(max_features=1000, ngram_range...                gini   \n",
              "20  TfidfVectorizer(max_features=100, ngram_range=...                gini   \n",
              "21                TfidfVectorizer(max_features=10000)                gini   \n",
              "22                 TfidfVectorizer(max_features=1000)                gini   \n",
              "23                  CountVectorizer(max_features=100)                gini   \n",
              "24  CountVectorizer(max_features=100, ngram_range=...                gini   \n",
              "25                  TfidfVectorizer(max_features=100)                gini   \n",
              "26  CountVectorizer(max_features=100, ngram_range=...                gini   \n",
              "27                CountVectorizer(max_features=10000)                gini   \n",
              "28  TfidfVectorizer(max_features=1000, ngram_range...                gini   \n",
              "29  CountVectorizer(max_features=10000, ngram_rang...                gini   \n",
              "30  CountVectorizer(max_features=10000, ngram_rang...                gini   \n",
              "31  TfidfVectorizer(max_features=100, ngram_range=...                gini   \n",
              "32  CountVectorizer(max_features=1000, ngram_range...                gini   \n",
              "33  CountVectorizer(max_features=1000, ngram_range...                gini   \n",
              "34                TfidfVectorizer(max_features=10000)                gini   \n",
              "35  CountVectorizer(max_features=100, ngram_range=...                gini   \n",
              "36  TfidfVectorizer(max_features=10000, ngram_rang...                gini   \n",
              "37  CountVectorizer(max_features=10000, ngram_rang...                gini   \n",
              "38                 CountVectorizer(max_features=1000)                gini   \n",
              "39  CountVectorizer(max_features=10000, ngram_rang...                gini   \n",
              "40                 CountVectorizer(max_features=1000)                gini   \n",
              "41  TfidfVectorizer(max_features=10000, ngram_rang...                gini   \n",
              "42  TfidfVectorizer(max_features=10000, ngram_rang...                gini   \n",
              "43                 TfidfVectorizer(max_features=1000)                gini   \n",
              "44  CountVectorizer(max_features=10000, ngram_rang...                gini   \n",
              "45  TfidfVectorizer(max_features=1000, ngram_range...                gini   \n",
              "46                TfidfVectorizer(max_features=10000)                gini   \n",
              "47  CountVectorizer(max_features=100, ngram_range=...                gini   \n",
              "48  TfidfVectorizer(max_features=100, ngram_range=...                gini   \n",
              "49                  TfidfVectorizer(max_features=100)                gini   \n",
              "\n",
              "    tree_max_depth tree_max_features  accuracy     acc2  \n",
              "0                7              None    0.5765  0.59108  \n",
              "1                7              None    0.5785  0.59100  \n",
              "2                7              None    0.5790  0.59096  \n",
              "3                7              None    0.5790  0.59084  \n",
              "4                7              None    0.5785  0.59082  \n",
              "5                7              None    0.5715  0.58808  \n",
              "6                7              None    0.5720  0.58784  \n",
              "7                7              None    0.5735  0.58608  \n",
              "8                7              None    0.5655  0.58370  \n",
              "9                7              None    0.5715  0.58308  \n",
              "10               7              None    0.5620  0.58160  \n",
              "11               7              None    0.5655  0.58100  \n",
              "12               7              None    0.5740  0.58076  \n",
              "13               7              None    0.5735  0.58058  \n",
              "14               7              None    0.5670  0.57990  \n",
              "15               7              None    0.5665  0.57958  \n",
              "16               7              None    0.5660  0.57956  \n",
              "17               7              None    0.5675  0.57894  \n",
              "18               7              None    0.5665  0.57844  \n",
              "19               7              None    0.5685  0.57834  \n",
              "20               5              None    0.5640  0.57712  \n",
              "21               7              None    0.5645  0.57690  \n",
              "22               7              None    0.5670  0.57674  \n",
              "23               7              sqrt    0.5705  0.57606  \n",
              "24               5              None    0.5705  0.57570  \n",
              "25               5              None    0.5625  0.57522  \n",
              "26               5              None    0.5680  0.57496  \n",
              "27               5              None    0.5690  0.57450  \n",
              "28               5              None    0.5680  0.57446  \n",
              "29               5              None    0.5670  0.57444  \n",
              "30               5              None    0.5680  0.57380  \n",
              "31               5              None    0.5620  0.57370  \n",
              "32               5              None    0.5695  0.57368  \n",
              "33               5              None    0.5695  0.57366  \n",
              "34               5              None    0.5655  0.57256  \n",
              "35               5              None    0.5725  0.57216  \n",
              "36               5              None    0.5640  0.57162  \n",
              "37               5              None    0.5710  0.56796  \n",
              "38               5              None    0.5710  0.56790  \n",
              "39               5              None    0.5720  0.56788  \n",
              "40               5              None    0.5725  0.56758  \n",
              "41               5              None    0.5670  0.56754  \n",
              "42               5              None    0.5690  0.56750  \n",
              "43               5              None    0.5690  0.56740  \n",
              "44               5              None    0.5715  0.56734  \n",
              "45               5              None    0.5680  0.56592  \n",
              "46               5              None    0.5685  0.56592  \n",
              "47               7              log2    0.5625  0.56414  \n",
              "48               3              None    0.5625  0.56240  \n",
              "49               7              sqrt    0.5645  0.54702  "
            ],
            "text/html": [
              "\n",
              "  <div id=\"df-8a4c1594-667c-483f-affe-5bb4ee132c45\">\n",
              "    <div class=\"colab-df-container\">\n",
              "      <div>\n",
              "<style scoped>\n",
              "    .dataframe tbody tr th:only-of-type {\n",
              "        vertical-align: middle;\n",
              "    }\n",
              "\n",
              "    .dataframe tbody tr th {\n",
              "        vertical-align: top;\n",
              "    }\n",
              "\n",
              "    .dataframe thead th {\n",
              "        text-align: right;\n",
              "    }\n",
              "</style>\n",
              "<table border=\"1\" class=\"dataframe\">\n",
              "  <thead>\n",
              "    <tr style=\"text-align: right;\">\n",
              "      <th></th>\n",
              "      <th>vocab_size</th>\n",
              "      <th>model_name</th>\n",
              "      <th>text_column</th>\n",
              "      <th>ngram</th>\n",
              "      <th>vectorizer</th>\n",
              "      <th>splitting_criterion</th>\n",
              "      <th>tree_max_depth</th>\n",
              "      <th>tree_max_features</th>\n",
              "      <th>accuracy</th>\n",
              "      <th>acc2</th>\n",
              "    </tr>\n",
              "  </thead>\n",
              "  <tbody>\n",
              "    <tr>\n",
              "      <th>0</th>\n",
              "      <td>1000</td>\n",
              "      <td>DecisionTreeClassifier()</td>\n",
              "      <td>text_porter_stemmed</td>\n",
              "      <td>(1, 3)</td>\n",
              "      <td>CountVectorizer(max_features=1000, ngram_range...</td>\n",
              "      <td>gini</td>\n",
              "      <td>7</td>\n",
              "      <td>None</td>\n",
              "      <td>0.5765</td>\n",
              "      <td>0.59108</td>\n",
              "    </tr>\n",
              "    <tr>\n",
              "      <th>1</th>\n",
              "      <td>1000</td>\n",
              "      <td>DecisionTreeClassifier()</td>\n",
              "      <td>text_porter_stemmed</td>\n",
              "      <td>(1, 2)</td>\n",
              "      <td>CountVectorizer(max_features=1000, ngram_range...</td>\n",
              "      <td>gini</td>\n",
              "      <td>7</td>\n",
              "      <td>None</td>\n",
              "      <td>0.5785</td>\n",
              "      <td>0.59100</td>\n",
              "    </tr>\n",
              "    <tr>\n",
              "      <th>2</th>\n",
              "      <td>10000</td>\n",
              "      <td>DecisionTreeClassifier()</td>\n",
              "      <td>text_porter_stemmed</td>\n",
              "      <td>(1, 1)</td>\n",
              "      <td>CountVectorizer(max_features=10000)</td>\n",
              "      <td>gini</td>\n",
              "      <td>7</td>\n",
              "      <td>None</td>\n",
              "      <td>0.5790</td>\n",
              "      <td>0.59096</td>\n",
              "    </tr>\n",
              "    <tr>\n",
              "      <th>3</th>\n",
              "      <td>10000</td>\n",
              "      <td>DecisionTreeClassifier()</td>\n",
              "      <td>text_porter_stemmed</td>\n",
              "      <td>(1, 3)</td>\n",
              "      <td>CountVectorizer(max_features=10000, ngram_rang...</td>\n",
              "      <td>gini</td>\n",
              "      <td>7</td>\n",
              "      <td>None</td>\n",
              "      <td>0.5790</td>\n",
              "      <td>0.59084</td>\n",
              "    </tr>\n",
              "    <tr>\n",
              "      <th>4</th>\n",
              "      <td>1000</td>\n",
              "      <td>DecisionTreeClassifier()</td>\n",
              "      <td>text_lancaster_stemmed</td>\n",
              "      <td>(1, 2)</td>\n",
              "      <td>CountVectorizer(max_features=1000, ngram_range...</td>\n",
              "      <td>gini</td>\n",
              "      <td>7</td>\n",
              "      <td>None</td>\n",
              "      <td>0.5785</td>\n",
              "      <td>0.59082</td>\n",
              "    </tr>\n",
              "    <tr>\n",
              "      <th>5</th>\n",
              "      <td>100</td>\n",
              "      <td>DecisionTreeClassifier()</td>\n",
              "      <td>text_lancaster_stemmed</td>\n",
              "      <td>(1, 2)</td>\n",
              "      <td>TfidfVectorizer(max_features=100, ngram_range=...</td>\n",
              "      <td>gini</td>\n",
              "      <td>7</td>\n",
              "      <td>None</td>\n",
              "      <td>0.5715</td>\n",
              "      <td>0.58808</td>\n",
              "    </tr>\n",
              "    <tr>\n",
              "      <th>6</th>\n",
              "      <td>1000</td>\n",
              "      <td>DecisionTreeClassifier()</td>\n",
              "      <td>text_porter_stemmed</td>\n",
              "      <td>(1, 1)</td>\n",
              "      <td>TfidfVectorizer(max_features=1000)</td>\n",
              "      <td>gini</td>\n",
              "      <td>7</td>\n",
              "      <td>None</td>\n",
              "      <td>0.5720</td>\n",
              "      <td>0.58784</td>\n",
              "    </tr>\n",
              "    <tr>\n",
              "      <th>7</th>\n",
              "      <td>1000</td>\n",
              "      <td>DecisionTreeClassifier()</td>\n",
              "      <td>text_porter_stemmed</td>\n",
              "      <td>(1, 2)</td>\n",
              "      <td>TfidfVectorizer(max_features=1000, ngram_range...</td>\n",
              "      <td>gini</td>\n",
              "      <td>7</td>\n",
              "      <td>None</td>\n",
              "      <td>0.5735</td>\n",
              "      <td>0.58608</td>\n",
              "    </tr>\n",
              "    <tr>\n",
              "      <th>8</th>\n",
              "      <td>1000</td>\n",
              "      <td>DecisionTreeClassifier()</td>\n",
              "      <td>text_lemmatized</td>\n",
              "      <td>(1, 1)</td>\n",
              "      <td>TfidfVectorizer(max_features=1000)</td>\n",
              "      <td>gini</td>\n",
              "      <td>7</td>\n",
              "      <td>None</td>\n",
              "      <td>0.5655</td>\n",
              "      <td>0.58370</td>\n",
              "    </tr>\n",
              "    <tr>\n",
              "      <th>9</th>\n",
              "      <td>1000</td>\n",
              "      <td>DecisionTreeClassifier()</td>\n",
              "      <td>text_lemmatized</td>\n",
              "      <td>(1, 3)</td>\n",
              "      <td>TfidfVectorizer(max_features=1000, ngram_range...</td>\n",
              "      <td>gini</td>\n",
              "      <td>7</td>\n",
              "      <td>None</td>\n",
              "      <td>0.5715</td>\n",
              "      <td>0.58308</td>\n",
              "    </tr>\n",
              "    <tr>\n",
              "      <th>10</th>\n",
              "      <td>100</td>\n",
              "      <td>DecisionTreeClassifier()</td>\n",
              "      <td>text_no_numerals</td>\n",
              "      <td>(1, 1)</td>\n",
              "      <td>CountVectorizer(max_features=100)</td>\n",
              "      <td>gini</td>\n",
              "      <td>7</td>\n",
              "      <td>None</td>\n",
              "      <td>0.5620</td>\n",
              "      <td>0.58160</td>\n",
              "    </tr>\n",
              "    <tr>\n",
              "      <th>11</th>\n",
              "      <td>100</td>\n",
              "      <td>DecisionTreeClassifier()</td>\n",
              "      <td>text_no_numerals</td>\n",
              "      <td>(1, 3)</td>\n",
              "      <td>TfidfVectorizer(max_features=100, ngram_range=...</td>\n",
              "      <td>gini</td>\n",
              "      <td>7</td>\n",
              "      <td>None</td>\n",
              "      <td>0.5655</td>\n",
              "      <td>0.58100</td>\n",
              "    </tr>\n",
              "    <tr>\n",
              "      <th>12</th>\n",
              "      <td>100</td>\n",
              "      <td>DecisionTreeClassifier()</td>\n",
              "      <td>text_no_numerals</td>\n",
              "      <td>(1, 2)</td>\n",
              "      <td>CountVectorizer(max_features=100, ngram_range=...</td>\n",
              "      <td>gini</td>\n",
              "      <td>7</td>\n",
              "      <td>None</td>\n",
              "      <td>0.5740</td>\n",
              "      <td>0.58076</td>\n",
              "    </tr>\n",
              "    <tr>\n",
              "      <th>13</th>\n",
              "      <td>100</td>\n",
              "      <td>DecisionTreeClassifier()</td>\n",
              "      <td>text_no_numerals</td>\n",
              "      <td>(1, 3)</td>\n",
              "      <td>CountVectorizer(max_features=100, ngram_range=...</td>\n",
              "      <td>gini</td>\n",
              "      <td>7</td>\n",
              "      <td>None</td>\n",
              "      <td>0.5735</td>\n",
              "      <td>0.58058</td>\n",
              "    </tr>\n",
              "    <tr>\n",
              "      <th>14</th>\n",
              "      <td>10000</td>\n",
              "      <td>DecisionTreeClassifier()</td>\n",
              "      <td>text_lemmatized</td>\n",
              "      <td>(1, 3)</td>\n",
              "      <td>CountVectorizer(max_features=10000, ngram_rang...</td>\n",
              "      <td>gini</td>\n",
              "      <td>7</td>\n",
              "      <td>None</td>\n",
              "      <td>0.5670</td>\n",
              "      <td>0.57990</td>\n",
              "    </tr>\n",
              "    <tr>\n",
              "      <th>15</th>\n",
              "      <td>10000</td>\n",
              "      <td>DecisionTreeClassifier()</td>\n",
              "      <td>text_lemmatized</td>\n",
              "      <td>(1, 1)</td>\n",
              "      <td>CountVectorizer(max_features=10000)</td>\n",
              "      <td>gini</td>\n",
              "      <td>7</td>\n",
              "      <td>None</td>\n",
              "      <td>0.5665</td>\n",
              "      <td>0.57958</td>\n",
              "    </tr>\n",
              "    <tr>\n",
              "      <th>16</th>\n",
              "      <td>1000</td>\n",
              "      <td>DecisionTreeClassifier()</td>\n",
              "      <td>text_lemmatized</td>\n",
              "      <td>(1, 1)</td>\n",
              "      <td>CountVectorizer(max_features=1000)</td>\n",
              "      <td>gini</td>\n",
              "      <td>7</td>\n",
              "      <td>None</td>\n",
              "      <td>0.5660</td>\n",
              "      <td>0.57956</td>\n",
              "    </tr>\n",
              "    <tr>\n",
              "      <th>17</th>\n",
              "      <td>10000</td>\n",
              "      <td>DecisionTreeClassifier()</td>\n",
              "      <td>text_no_numerals</td>\n",
              "      <td>(1, 2)</td>\n",
              "      <td>CountVectorizer(max_features=10000, ngram_rang...</td>\n",
              "      <td>gini</td>\n",
              "      <td>7</td>\n",
              "      <td>None</td>\n",
              "      <td>0.5675</td>\n",
              "      <td>0.57894</td>\n",
              "    </tr>\n",
              "    <tr>\n",
              "      <th>18</th>\n",
              "      <td>1000</td>\n",
              "      <td>DecisionTreeClassifier()</td>\n",
              "      <td>text_no_numerals</td>\n",
              "      <td>(1, 2)</td>\n",
              "      <td>CountVectorizer(max_features=1000, ngram_range...</td>\n",
              "      <td>gini</td>\n",
              "      <td>7</td>\n",
              "      <td>None</td>\n",
              "      <td>0.5665</td>\n",
              "      <td>0.57844</td>\n",
              "    </tr>\n",
              "    <tr>\n",
              "      <th>19</th>\n",
              "      <td>1000</td>\n",
              "      <td>DecisionTreeClassifier()</td>\n",
              "      <td>text_no_numerals</td>\n",
              "      <td>(1, 3)</td>\n",
              "      <td>CountVectorizer(max_features=1000, ngram_range...</td>\n",
              "      <td>gini</td>\n",
              "      <td>7</td>\n",
              "      <td>None</td>\n",
              "      <td>0.5685</td>\n",
              "      <td>0.57834</td>\n",
              "    </tr>\n",
              "    <tr>\n",
              "      <th>20</th>\n",
              "      <td>100</td>\n",
              "      <td>DecisionTreeClassifier()</td>\n",
              "      <td>text_lemmatized</td>\n",
              "      <td>(1, 3)</td>\n",
              "      <td>TfidfVectorizer(max_features=100, ngram_range=...</td>\n",
              "      <td>gini</td>\n",
              "      <td>5</td>\n",
              "      <td>None</td>\n",
              "      <td>0.5640</td>\n",
              "      <td>0.57712</td>\n",
              "    </tr>\n",
              "    <tr>\n",
              "      <th>21</th>\n",
              "      <td>10000</td>\n",
              "      <td>DecisionTreeClassifier()</td>\n",
              "      <td>text_lemmatized</td>\n",
              "      <td>(1, 1)</td>\n",
              "      <td>TfidfVectorizer(max_features=10000)</td>\n",
              "      <td>gini</td>\n",
              "      <td>7</td>\n",
              "      <td>None</td>\n",
              "      <td>0.5645</td>\n",
              "      <td>0.57690</td>\n",
              "    </tr>\n",
              "    <tr>\n",
              "      <th>22</th>\n",
              "      <td>1000</td>\n",
              "      <td>DecisionTreeClassifier()</td>\n",
              "      <td>text_no_numerals</td>\n",
              "      <td>(1, 1)</td>\n",
              "      <td>TfidfVectorizer(max_features=1000)</td>\n",
              "      <td>gini</td>\n",
              "      <td>7</td>\n",
              "      <td>None</td>\n",
              "      <td>0.5670</td>\n",
              "      <td>0.57674</td>\n",
              "    </tr>\n",
              "    <tr>\n",
              "      <th>23</th>\n",
              "      <td>100</td>\n",
              "      <td>DecisionTreeClassifier()</td>\n",
              "      <td>text_lancaster_stemmed</td>\n",
              "      <td>(1, 1)</td>\n",
              "      <td>CountVectorizer(max_features=100)</td>\n",
              "      <td>gini</td>\n",
              "      <td>7</td>\n",
              "      <td>sqrt</td>\n",
              "      <td>0.5705</td>\n",
              "      <td>0.57606</td>\n",
              "    </tr>\n",
              "    <tr>\n",
              "      <th>24</th>\n",
              "      <td>100</td>\n",
              "      <td>DecisionTreeClassifier()</td>\n",
              "      <td>text_lancaster_stemmed</td>\n",
              "      <td>(1, 2)</td>\n",
              "      <td>CountVectorizer(max_features=100, ngram_range=...</td>\n",
              "      <td>gini</td>\n",
              "      <td>5</td>\n",
              "      <td>None</td>\n",
              "      <td>0.5705</td>\n",
              "      <td>0.57570</td>\n",
              "    </tr>\n",
              "    <tr>\n",
              "      <th>25</th>\n",
              "      <td>100</td>\n",
              "      <td>DecisionTreeClassifier()</td>\n",
              "      <td>text_porter_stemmed</td>\n",
              "      <td>(1, 1)</td>\n",
              "      <td>TfidfVectorizer(max_features=100)</td>\n",
              "      <td>gini</td>\n",
              "      <td>5</td>\n",
              "      <td>None</td>\n",
              "      <td>0.5625</td>\n",
              "      <td>0.57522</td>\n",
              "    </tr>\n",
              "    <tr>\n",
              "      <th>26</th>\n",
              "      <td>100</td>\n",
              "      <td>DecisionTreeClassifier()</td>\n",
              "      <td>text_lemmatized</td>\n",
              "      <td>(1, 2)</td>\n",
              "      <td>CountVectorizer(max_features=100, ngram_range=...</td>\n",
              "      <td>gini</td>\n",
              "      <td>5</td>\n",
              "      <td>None</td>\n",
              "      <td>0.5680</td>\n",
              "      <td>0.57496</td>\n",
              "    </tr>\n",
              "    <tr>\n",
              "      <th>27</th>\n",
              "      <td>10000</td>\n",
              "      <td>DecisionTreeClassifier()</td>\n",
              "      <td>text_no_numerals</td>\n",
              "      <td>(1, 1)</td>\n",
              "      <td>CountVectorizer(max_features=10000)</td>\n",
              "      <td>gini</td>\n",
              "      <td>5</td>\n",
              "      <td>None</td>\n",
              "      <td>0.5690</td>\n",
              "      <td>0.57450</td>\n",
              "    </tr>\n",
              "    <tr>\n",
              "      <th>28</th>\n",
              "      <td>1000</td>\n",
              "      <td>DecisionTreeClassifier()</td>\n",
              "      <td>text_lemmatized</td>\n",
              "      <td>(1, 2)</td>\n",
              "      <td>TfidfVectorizer(max_features=1000, ngram_range...</td>\n",
              "      <td>gini</td>\n",
              "      <td>5</td>\n",
              "      <td>None</td>\n",
              "      <td>0.5680</td>\n",
              "      <td>0.57446</td>\n",
              "    </tr>\n",
              "    <tr>\n",
              "      <th>29</th>\n",
              "      <td>10000</td>\n",
              "      <td>DecisionTreeClassifier()</td>\n",
              "      <td>text_no_numerals</td>\n",
              "      <td>(1, 3)</td>\n",
              "      <td>CountVectorizer(max_features=10000, ngram_rang...</td>\n",
              "      <td>gini</td>\n",
              "      <td>5</td>\n",
              "      <td>None</td>\n",
              "      <td>0.5670</td>\n",
              "      <td>0.57444</td>\n",
              "    </tr>\n",
              "    <tr>\n",
              "      <th>30</th>\n",
              "      <td>10000</td>\n",
              "      <td>DecisionTreeClassifier()</td>\n",
              "      <td>text_lemmatized</td>\n",
              "      <td>(1, 2)</td>\n",
              "      <td>CountVectorizer(max_features=10000, ngram_rang...</td>\n",
              "      <td>gini</td>\n",
              "      <td>5</td>\n",
              "      <td>None</td>\n",
              "      <td>0.5680</td>\n",
              "      <td>0.57380</td>\n",
              "    </tr>\n",
              "    <tr>\n",
              "      <th>31</th>\n",
              "      <td>100</td>\n",
              "      <td>DecisionTreeClassifier()</td>\n",
              "      <td>text_lancaster_stemmed</td>\n",
              "      <td>(1, 3)</td>\n",
              "      <td>TfidfVectorizer(max_features=100, ngram_range=...</td>\n",
              "      <td>gini</td>\n",
              "      <td>5</td>\n",
              "      <td>None</td>\n",
              "      <td>0.5620</td>\n",
              "      <td>0.57370</td>\n",
              "    </tr>\n",
              "    <tr>\n",
              "      <th>32</th>\n",
              "      <td>1000</td>\n",
              "      <td>DecisionTreeClassifier()</td>\n",
              "      <td>text_lemmatized</td>\n",
              "      <td>(1, 2)</td>\n",
              "      <td>CountVectorizer(max_features=1000, ngram_range...</td>\n",
              "      <td>gini</td>\n",
              "      <td>5</td>\n",
              "      <td>None</td>\n",
              "      <td>0.5695</td>\n",
              "      <td>0.57368</td>\n",
              "    </tr>\n",
              "    <tr>\n",
              "      <th>33</th>\n",
              "      <td>1000</td>\n",
              "      <td>DecisionTreeClassifier()</td>\n",
              "      <td>text_lemmatized</td>\n",
              "      <td>(1, 3)</td>\n",
              "      <td>CountVectorizer(max_features=1000, ngram_range...</td>\n",
              "      <td>gini</td>\n",
              "      <td>5</td>\n",
              "      <td>None</td>\n",
              "      <td>0.5695</td>\n",
              "      <td>0.57366</td>\n",
              "    </tr>\n",
              "    <tr>\n",
              "      <th>34</th>\n",
              "      <td>10000</td>\n",
              "      <td>DecisionTreeClassifier()</td>\n",
              "      <td>text_no_numerals</td>\n",
              "      <td>(1, 1)</td>\n",
              "      <td>TfidfVectorizer(max_features=10000)</td>\n",
              "      <td>gini</td>\n",
              "      <td>5</td>\n",
              "      <td>None</td>\n",
              "      <td>0.5655</td>\n",
              "      <td>0.57256</td>\n",
              "    </tr>\n",
              "    <tr>\n",
              "      <th>35</th>\n",
              "      <td>100</td>\n",
              "      <td>DecisionTreeClassifier()</td>\n",
              "      <td>text_porter_stemmed</td>\n",
              "      <td>(1, 2)</td>\n",
              "      <td>CountVectorizer(max_features=100, ngram_range=...</td>\n",
              "      <td>gini</td>\n",
              "      <td>5</td>\n",
              "      <td>None</td>\n",
              "      <td>0.5725</td>\n",
              "      <td>0.57216</td>\n",
              "    </tr>\n",
              "    <tr>\n",
              "      <th>36</th>\n",
              "      <td>10000</td>\n",
              "      <td>DecisionTreeClassifier()</td>\n",
              "      <td>text_no_numerals</td>\n",
              "      <td>(1, 2)</td>\n",
              "      <td>TfidfVectorizer(max_features=10000, ngram_rang...</td>\n",
              "      <td>gini</td>\n",
              "      <td>5</td>\n",
              "      <td>None</td>\n",
              "      <td>0.5640</td>\n",
              "      <td>0.57162</td>\n",
              "    </tr>\n",
              "    <tr>\n",
              "      <th>37</th>\n",
              "      <td>10000</td>\n",
              "      <td>DecisionTreeClassifier()</td>\n",
              "      <td>text_lancaster_stemmed</td>\n",
              "      <td>(1, 2)</td>\n",
              "      <td>CountVectorizer(max_features=10000, ngram_rang...</td>\n",
              "      <td>gini</td>\n",
              "      <td>5</td>\n",
              "      <td>None</td>\n",
              "      <td>0.5710</td>\n",
              "      <td>0.56796</td>\n",
              "    </tr>\n",
              "    <tr>\n",
              "      <th>38</th>\n",
              "      <td>1000</td>\n",
              "      <td>DecisionTreeClassifier()</td>\n",
              "      <td>text_lancaster_stemmed</td>\n",
              "      <td>(1, 1)</td>\n",
              "      <td>CountVectorizer(max_features=1000)</td>\n",
              "      <td>gini</td>\n",
              "      <td>5</td>\n",
              "      <td>None</td>\n",
              "      <td>0.5710</td>\n",
              "      <td>0.56790</td>\n",
              "    </tr>\n",
              "    <tr>\n",
              "      <th>39</th>\n",
              "      <td>10000</td>\n",
              "      <td>DecisionTreeClassifier()</td>\n",
              "      <td>text_lancaster_stemmed</td>\n",
              "      <td>(1, 3)</td>\n",
              "      <td>CountVectorizer(max_features=10000, ngram_rang...</td>\n",
              "      <td>gini</td>\n",
              "      <td>5</td>\n",
              "      <td>None</td>\n",
              "      <td>0.5720</td>\n",
              "      <td>0.56788</td>\n",
              "    </tr>\n",
              "    <tr>\n",
              "      <th>40</th>\n",
              "      <td>1000</td>\n",
              "      <td>DecisionTreeClassifier()</td>\n",
              "      <td>text_porter_stemmed</td>\n",
              "      <td>(1, 1)</td>\n",
              "      <td>CountVectorizer(max_features=1000)</td>\n",
              "      <td>gini</td>\n",
              "      <td>5</td>\n",
              "      <td>None</td>\n",
              "      <td>0.5725</td>\n",
              "      <td>0.56758</td>\n",
              "    </tr>\n",
              "    <tr>\n",
              "      <th>41</th>\n",
              "      <td>10000</td>\n",
              "      <td>DecisionTreeClassifier()</td>\n",
              "      <td>text_lancaster_stemmed</td>\n",
              "      <td>(1, 3)</td>\n",
              "      <td>TfidfVectorizer(max_features=10000, ngram_rang...</td>\n",
              "      <td>gini</td>\n",
              "      <td>5</td>\n",
              "      <td>None</td>\n",
              "      <td>0.5670</td>\n",
              "      <td>0.56754</td>\n",
              "    </tr>\n",
              "    <tr>\n",
              "      <th>42</th>\n",
              "      <td>10000</td>\n",
              "      <td>DecisionTreeClassifier()</td>\n",
              "      <td>text_lancaster_stemmed</td>\n",
              "      <td>(1, 2)</td>\n",
              "      <td>TfidfVectorizer(max_features=10000, ngram_rang...</td>\n",
              "      <td>gini</td>\n",
              "      <td>5</td>\n",
              "      <td>None</td>\n",
              "      <td>0.5690</td>\n",
              "      <td>0.56750</td>\n",
              "    </tr>\n",
              "    <tr>\n",
              "      <th>43</th>\n",
              "      <td>1000</td>\n",
              "      <td>DecisionTreeClassifier()</td>\n",
              "      <td>text_lancaster_stemmed</td>\n",
              "      <td>(1, 1)</td>\n",
              "      <td>TfidfVectorizer(max_features=1000)</td>\n",
              "      <td>gini</td>\n",
              "      <td>5</td>\n",
              "      <td>None</td>\n",
              "      <td>0.5690</td>\n",
              "      <td>0.56740</td>\n",
              "    </tr>\n",
              "    <tr>\n",
              "      <th>44</th>\n",
              "      <td>10000</td>\n",
              "      <td>DecisionTreeClassifier()</td>\n",
              "      <td>text_porter_stemmed</td>\n",
              "      <td>(1, 2)</td>\n",
              "      <td>CountVectorizer(max_features=10000, ngram_rang...</td>\n",
              "      <td>gini</td>\n",
              "      <td>5</td>\n",
              "      <td>None</td>\n",
              "      <td>0.5715</td>\n",
              "      <td>0.56734</td>\n",
              "    </tr>\n",
              "    <tr>\n",
              "      <th>45</th>\n",
              "      <td>1000</td>\n",
              "      <td>DecisionTreeClassifier()</td>\n",
              "      <td>text_lancaster_stemmed</td>\n",
              "      <td>(1, 2)</td>\n",
              "      <td>TfidfVectorizer(max_features=1000, ngram_range...</td>\n",
              "      <td>gini</td>\n",
              "      <td>5</td>\n",
              "      <td>None</td>\n",
              "      <td>0.5680</td>\n",
              "      <td>0.56592</td>\n",
              "    </tr>\n",
              "    <tr>\n",
              "      <th>46</th>\n",
              "      <td>10000</td>\n",
              "      <td>DecisionTreeClassifier()</td>\n",
              "      <td>text_porter_stemmed</td>\n",
              "      <td>(1, 1)</td>\n",
              "      <td>TfidfVectorizer(max_features=10000)</td>\n",
              "      <td>gini</td>\n",
              "      <td>5</td>\n",
              "      <td>None</td>\n",
              "      <td>0.5685</td>\n",
              "      <td>0.56592</td>\n",
              "    </tr>\n",
              "    <tr>\n",
              "      <th>47</th>\n",
              "      <td>100</td>\n",
              "      <td>DecisionTreeClassifier()</td>\n",
              "      <td>text_porter_stemmed</td>\n",
              "      <td>(1, 3)</td>\n",
              "      <td>CountVectorizer(max_features=100, ngram_range=...</td>\n",
              "      <td>gini</td>\n",
              "      <td>7</td>\n",
              "      <td>log2</td>\n",
              "      <td>0.5625</td>\n",
              "      <td>0.56414</td>\n",
              "    </tr>\n",
              "    <tr>\n",
              "      <th>48</th>\n",
              "      <td>100</td>\n",
              "      <td>DecisionTreeClassifier()</td>\n",
              "      <td>text_lemmatized</td>\n",
              "      <td>(1, 2)</td>\n",
              "      <td>TfidfVectorizer(max_features=100, ngram_range=...</td>\n",
              "      <td>gini</td>\n",
              "      <td>3</td>\n",
              "      <td>None</td>\n",
              "      <td>0.5625</td>\n",
              "      <td>0.56240</td>\n",
              "    </tr>\n",
              "    <tr>\n",
              "      <th>49</th>\n",
              "      <td>100</td>\n",
              "      <td>DecisionTreeClassifier()</td>\n",
              "      <td>text_no_numerals</td>\n",
              "      <td>(1, 1)</td>\n",
              "      <td>TfidfVectorizer(max_features=100)</td>\n",
              "      <td>gini</td>\n",
              "      <td>7</td>\n",
              "      <td>sqrt</td>\n",
              "      <td>0.5645</td>\n",
              "      <td>0.54702</td>\n",
              "    </tr>\n",
              "  </tbody>\n",
              "</table>\n",
              "</div>\n",
              "      <button class=\"colab-df-convert\" onclick=\"convertToInteractive('df-8a4c1594-667c-483f-affe-5bb4ee132c45')\"\n",
              "              title=\"Convert this dataframe to an interactive table.\"\n",
              "              style=\"display:none;\">\n",
              "        \n",
              "  <svg xmlns=\"http://www.w3.org/2000/svg\" height=\"24px\"viewBox=\"0 0 24 24\"\n",
              "       width=\"24px\">\n",
              "    <path d=\"M0 0h24v24H0V0z\" fill=\"none\"/>\n",
              "    <path d=\"M18.56 5.44l.94 2.06.94-2.06 2.06-.94-2.06-.94-.94-2.06-.94 2.06-2.06.94zm-11 1L8.5 8.5l.94-2.06 2.06-.94-2.06-.94L8.5 2.5l-.94 2.06-2.06.94zm10 10l.94 2.06.94-2.06 2.06-.94-2.06-.94-.94-2.06-.94 2.06-2.06.94z\"/><path d=\"M17.41 7.96l-1.37-1.37c-.4-.4-.92-.59-1.43-.59-.52 0-1.04.2-1.43.59L10.3 9.45l-7.72 7.72c-.78.78-.78 2.05 0 2.83L4 21.41c.39.39.9.59 1.41.59.51 0 1.02-.2 1.41-.59l7.78-7.78 2.81-2.81c.8-.78.8-2.07 0-2.86zM5.41 20L4 18.59l7.72-7.72 1.47 1.35L5.41 20z\"/>\n",
              "  </svg>\n",
              "      </button>\n",
              "      \n",
              "  <style>\n",
              "    .colab-df-container {\n",
              "      display:flex;\n",
              "      flex-wrap:wrap;\n",
              "      gap: 12px;\n",
              "    }\n",
              "\n",
              "    .colab-df-convert {\n",
              "      background-color: #E8F0FE;\n",
              "      border: none;\n",
              "      border-radius: 50%;\n",
              "      cursor: pointer;\n",
              "      display: none;\n",
              "      fill: #1967D2;\n",
              "      height: 32px;\n",
              "      padding: 0 0 0 0;\n",
              "      width: 32px;\n",
              "    }\n",
              "\n",
              "    .colab-df-convert:hover {\n",
              "      background-color: #E2EBFA;\n",
              "      box-shadow: 0px 1px 2px rgba(60, 64, 67, 0.3), 0px 1px 3px 1px rgba(60, 64, 67, 0.15);\n",
              "      fill: #174EA6;\n",
              "    }\n",
              "\n",
              "    [theme=dark] .colab-df-convert {\n",
              "      background-color: #3B4455;\n",
              "      fill: #D2E3FC;\n",
              "    }\n",
              "\n",
              "    [theme=dark] .colab-df-convert:hover {\n",
              "      background-color: #434B5C;\n",
              "      box-shadow: 0px 1px 3px 1px rgba(0, 0, 0, 0.15);\n",
              "      filter: drop-shadow(0px 1px 2px rgba(0, 0, 0, 0.3));\n",
              "      fill: #FFFFFF;\n",
              "    }\n",
              "  </style>\n",
              "\n",
              "      <script>\n",
              "        const buttonEl =\n",
              "          document.querySelector('#df-8a4c1594-667c-483f-affe-5bb4ee132c45 button.colab-df-convert');\n",
              "        buttonEl.style.display =\n",
              "          google.colab.kernel.accessAllowed ? 'block' : 'none';\n",
              "\n",
              "        async function convertToInteractive(key) {\n",
              "          const element = document.querySelector('#df-8a4c1594-667c-483f-affe-5bb4ee132c45');\n",
              "          const dataTable =\n",
              "            await google.colab.kernel.invokeFunction('convertToInteractive',\n",
              "                                                     [key], {});\n",
              "          if (!dataTable) return;\n",
              "\n",
              "          const docLinkHtml = 'Like what you see? Visit the ' +\n",
              "            '<a target=\"_blank\" href=https://colab.research.google.com/notebooks/data_table.ipynb>data table notebook</a>'\n",
              "            + ' to learn more about interactive tables.';\n",
              "          element.innerHTML = '';\n",
              "          dataTable['output_type'] = 'display_data';\n",
              "          await google.colab.output.renderOutput(dataTable, element);\n",
              "          const docLink = document.createElement('div');\n",
              "          docLink.innerHTML = docLinkHtml;\n",
              "          element.appendChild(docLink);\n",
              "        }\n",
              "      </script>\n",
              "    </div>\n",
              "  </div>\n",
              "  "
            ]
          },
          "metadata": {},
          "execution_count": 70
        }
      ],
      "source": [
        "top_20_params['acc2'] = model_accuracy\n",
        "top_20_params = top_20_params.sort_values(by='acc2', ascending=False).reset_index(drop=True)\n",
        "top_20_params"
      ]
    },
    {
      "cell_type": "markdown",
      "source": [
        "save and load results"
      ],
      "metadata": {
        "id": "AF9i_9WS8LCO"
      }
    },
    {
      "cell_type": "code",
      "execution_count": 71,
      "metadata": {
        "id": "_F9nhHL-F66Z"
      },
      "outputs": [],
      "source": [
        "top_20_params.to_csv(path+'data/output/decision_tree/decision_tree_top_20_params.csv', index=False)"
      ]
    },
    {
      "cell_type": "code",
      "source": [
        "top_20_params = pd.read_csv(path+'data/output/decision_tree/decision_tree_top_20_params.csv')\n",
        "top_20_params['ngram'] = [(int(ng[1]), int(ng[4])) for ng in top_20_params['ngram'].values]\n",
        "top_20_params = top_20_params.replace({np.nan: None})\n",
        "top_20_params.head(3)"
      ],
      "metadata": {
        "colab": {
          "base_uri": "https://localhost:8080/",
          "height": 242
        },
        "id": "syB-EB40o95q",
        "outputId": "9bfc476a-ce0f-43b9-a942-9b56d972c279"
      },
      "execution_count": 72,
      "outputs": [
        {
          "output_type": "execute_result",
          "data": {
            "text/plain": [
              "   vocab_size                model_name          text_column   ngram  \\\n",
              "0        1000  DecisionTreeClassifier()  text_porter_stemmed  (1, 3)   \n",
              "1        1000  DecisionTreeClassifier()  text_porter_stemmed  (1, 2)   \n",
              "2       10000  DecisionTreeClassifier()  text_porter_stemmed  (1, 1)   \n",
              "\n",
              "                                          vectorizer splitting_criterion  \\\n",
              "0  CountVectorizer(max_features=1000, ngram_range...                gini   \n",
              "1  CountVectorizer(max_features=1000, ngram_range...                gini   \n",
              "2                CountVectorizer(max_features=10000)                gini   \n",
              "\n",
              "   tree_max_depth tree_max_features  accuracy     acc2  \n",
              "0               7              None    0.5765  0.59108  \n",
              "1               7              None    0.5785  0.59100  \n",
              "2               7              None    0.5790  0.59096  "
            ],
            "text/html": [
              "\n",
              "  <div id=\"df-4bb198ec-2038-4e45-8049-f31fdc6c0bf7\">\n",
              "    <div class=\"colab-df-container\">\n",
              "      <div>\n",
              "<style scoped>\n",
              "    .dataframe tbody tr th:only-of-type {\n",
              "        vertical-align: middle;\n",
              "    }\n",
              "\n",
              "    .dataframe tbody tr th {\n",
              "        vertical-align: top;\n",
              "    }\n",
              "\n",
              "    .dataframe thead th {\n",
              "        text-align: right;\n",
              "    }\n",
              "</style>\n",
              "<table border=\"1\" class=\"dataframe\">\n",
              "  <thead>\n",
              "    <tr style=\"text-align: right;\">\n",
              "      <th></th>\n",
              "      <th>vocab_size</th>\n",
              "      <th>model_name</th>\n",
              "      <th>text_column</th>\n",
              "      <th>ngram</th>\n",
              "      <th>vectorizer</th>\n",
              "      <th>splitting_criterion</th>\n",
              "      <th>tree_max_depth</th>\n",
              "      <th>tree_max_features</th>\n",
              "      <th>accuracy</th>\n",
              "      <th>acc2</th>\n",
              "    </tr>\n",
              "  </thead>\n",
              "  <tbody>\n",
              "    <tr>\n",
              "      <th>0</th>\n",
              "      <td>1000</td>\n",
              "      <td>DecisionTreeClassifier()</td>\n",
              "      <td>text_porter_stemmed</td>\n",
              "      <td>(1, 3)</td>\n",
              "      <td>CountVectorizer(max_features=1000, ngram_range...</td>\n",
              "      <td>gini</td>\n",
              "      <td>7</td>\n",
              "      <td>None</td>\n",
              "      <td>0.5765</td>\n",
              "      <td>0.59108</td>\n",
              "    </tr>\n",
              "    <tr>\n",
              "      <th>1</th>\n",
              "      <td>1000</td>\n",
              "      <td>DecisionTreeClassifier()</td>\n",
              "      <td>text_porter_stemmed</td>\n",
              "      <td>(1, 2)</td>\n",
              "      <td>CountVectorizer(max_features=1000, ngram_range...</td>\n",
              "      <td>gini</td>\n",
              "      <td>7</td>\n",
              "      <td>None</td>\n",
              "      <td>0.5785</td>\n",
              "      <td>0.59100</td>\n",
              "    </tr>\n",
              "    <tr>\n",
              "      <th>2</th>\n",
              "      <td>10000</td>\n",
              "      <td>DecisionTreeClassifier()</td>\n",
              "      <td>text_porter_stemmed</td>\n",
              "      <td>(1, 1)</td>\n",
              "      <td>CountVectorizer(max_features=10000)</td>\n",
              "      <td>gini</td>\n",
              "      <td>7</td>\n",
              "      <td>None</td>\n",
              "      <td>0.5790</td>\n",
              "      <td>0.59096</td>\n",
              "    </tr>\n",
              "  </tbody>\n",
              "</table>\n",
              "</div>\n",
              "      <button class=\"colab-df-convert\" onclick=\"convertToInteractive('df-4bb198ec-2038-4e45-8049-f31fdc6c0bf7')\"\n",
              "              title=\"Convert this dataframe to an interactive table.\"\n",
              "              style=\"display:none;\">\n",
              "        \n",
              "  <svg xmlns=\"http://www.w3.org/2000/svg\" height=\"24px\"viewBox=\"0 0 24 24\"\n",
              "       width=\"24px\">\n",
              "    <path d=\"M0 0h24v24H0V0z\" fill=\"none\"/>\n",
              "    <path d=\"M18.56 5.44l.94 2.06.94-2.06 2.06-.94-2.06-.94-.94-2.06-.94 2.06-2.06.94zm-11 1L8.5 8.5l.94-2.06 2.06-.94-2.06-.94L8.5 2.5l-.94 2.06-2.06.94zm10 10l.94 2.06.94-2.06 2.06-.94-2.06-.94-.94-2.06-.94 2.06-2.06.94z\"/><path d=\"M17.41 7.96l-1.37-1.37c-.4-.4-.92-.59-1.43-.59-.52 0-1.04.2-1.43.59L10.3 9.45l-7.72 7.72c-.78.78-.78 2.05 0 2.83L4 21.41c.39.39.9.59 1.41.59.51 0 1.02-.2 1.41-.59l7.78-7.78 2.81-2.81c.8-.78.8-2.07 0-2.86zM5.41 20L4 18.59l7.72-7.72 1.47 1.35L5.41 20z\"/>\n",
              "  </svg>\n",
              "      </button>\n",
              "      \n",
              "  <style>\n",
              "    .colab-df-container {\n",
              "      display:flex;\n",
              "      flex-wrap:wrap;\n",
              "      gap: 12px;\n",
              "    }\n",
              "\n",
              "    .colab-df-convert {\n",
              "      background-color: #E8F0FE;\n",
              "      border: none;\n",
              "      border-radius: 50%;\n",
              "      cursor: pointer;\n",
              "      display: none;\n",
              "      fill: #1967D2;\n",
              "      height: 32px;\n",
              "      padding: 0 0 0 0;\n",
              "      width: 32px;\n",
              "    }\n",
              "\n",
              "    .colab-df-convert:hover {\n",
              "      background-color: #E2EBFA;\n",
              "      box-shadow: 0px 1px 2px rgba(60, 64, 67, 0.3), 0px 1px 3px 1px rgba(60, 64, 67, 0.15);\n",
              "      fill: #174EA6;\n",
              "    }\n",
              "\n",
              "    [theme=dark] .colab-df-convert {\n",
              "      background-color: #3B4455;\n",
              "      fill: #D2E3FC;\n",
              "    }\n",
              "\n",
              "    [theme=dark] .colab-df-convert:hover {\n",
              "      background-color: #434B5C;\n",
              "      box-shadow: 0px 1px 3px 1px rgba(0, 0, 0, 0.15);\n",
              "      filter: drop-shadow(0px 1px 2px rgba(0, 0, 0, 0.3));\n",
              "      fill: #FFFFFF;\n",
              "    }\n",
              "  </style>\n",
              "\n",
              "      <script>\n",
              "        const buttonEl =\n",
              "          document.querySelector('#df-4bb198ec-2038-4e45-8049-f31fdc6c0bf7 button.colab-df-convert');\n",
              "        buttonEl.style.display =\n",
              "          google.colab.kernel.accessAllowed ? 'block' : 'none';\n",
              "\n",
              "        async function convertToInteractive(key) {\n",
              "          const element = document.querySelector('#df-4bb198ec-2038-4e45-8049-f31fdc6c0bf7');\n",
              "          const dataTable =\n",
              "            await google.colab.kernel.invokeFunction('convertToInteractive',\n",
              "                                                     [key], {});\n",
              "          if (!dataTable) return;\n",
              "\n",
              "          const docLinkHtml = 'Like what you see? Visit the ' +\n",
              "            '<a target=\"_blank\" href=https://colab.research.google.com/notebooks/data_table.ipynb>data table notebook</a>'\n",
              "            + ' to learn more about interactive tables.';\n",
              "          element.innerHTML = '';\n",
              "          dataTable['output_type'] = 'display_data';\n",
              "          await google.colab.output.renderOutput(dataTable, element);\n",
              "          const docLink = document.createElement('div');\n",
              "          docLink.innerHTML = docLinkHtml;\n",
              "          element.appendChild(docLink);\n",
              "        }\n",
              "      </script>\n",
              "    </div>\n",
              "  </div>\n",
              "  "
            ]
          },
          "metadata": {},
          "execution_count": 72
        }
      ]
    },
    {
      "cell_type": "markdown",
      "metadata": {
        "id": "CuHBnWYpF66Z"
      },
      "source": [
        "repeat tuning one last time with top 3 parameter combos and more data"
      ]
    },
    {
      "cell_type": "code",
      "execution_count": 73,
      "metadata": {
        "id": "wdZ0OAFGF66Z"
      },
      "outputs": [],
      "source": [
        "top_3_params = top_20_params[:3]"
      ]
    },
    {
      "cell_type": "code",
      "source": [
        "sample_size=200_000\n",
        "k=3\n",
        "v3_data = all_train_data.sample(sample_size).reset_index(drop=True)\n",
        "v3_train_X = v3_data.iloc[:, :-1]\n",
        "v3_train_y  = v3_data.iloc[:, -1]"
      ],
      "metadata": {
        "id": "js7xpdNCf9SC"
      },
      "execution_count": 74,
      "outputs": []
    },
    {
      "cell_type": "code",
      "execution_count": 76,
      "metadata": {
        "colab": {
          "base_uri": "https://localhost:8080/"
        },
        "id": "U3a-XdVWF66Z",
        "outputId": "64396a43-d54c-47a2-83a7-218e206b041c"
      },
      "outputs": [
        {
          "output_type": "stream",
          "name": "stderr",
          "text": [
            "\r  0%|          | 0/3 [00:00<?, ?it/s]"
          ]
        },
        {
          "output_type": "stream",
          "name": "stdout",
          "text": [
            "1000 DecisionTreeClassifier() text_porter_stemmed (1, 3) CountVectorizer(max_features=1000, ngram_range=(1, 3)) gini 7 None\n",
            "vectorizing\n",
            "creating BOW\n",
            "splitting train-validation data\n"
          ]
        },
        {
          "output_type": "stream",
          "name": "stderr",
          "text": [
            "\r 33%|███▎      | 1/3 [00:25<00:50, 25.04s/it]"
          ]
        },
        {
          "output_type": "stream",
          "name": "stdout",
          "text": [
            "0.5960699889297482 \n",
            "\n",
            "\n",
            "1000 DecisionTreeClassifier() text_porter_stemmed (1, 2) <class 'sklearn.feature_extraction.text.CountVectorizer'> gini 7 None\n",
            "vectorizing\n",
            "creating BOW\n",
            "splitting train-validation data\n"
          ]
        },
        {
          "output_type": "stream",
          "name": "stderr",
          "text": [
            "\r 67%|██████▋   | 2/3 [00:36<00:17, 17.05s/it]"
          ]
        },
        {
          "output_type": "stream",
          "name": "stdout",
          "text": [
            "0.5960549887797467 \n",
            "\n",
            "\n",
            "10000 DecisionTreeClassifier() text_porter_stemmed (1, 1) <class 'sklearn.feature_extraction.text.CountVectorizer'> gini 7 None\n",
            "vectorizing\n",
            "creating BOW\n",
            "splitting train-validation data\n"
          ]
        },
        {
          "output_type": "stream",
          "name": "stderr",
          "text": [
            "100%|██████████| 3/3 [00:41<00:00, 13.77s/it]"
          ]
        },
        {
          "output_type": "stream",
          "name": "stdout",
          "text": [
            "0.5962299896297596 \n",
            "\n",
            "\n"
          ]
        },
        {
          "output_type": "stream",
          "name": "stderr",
          "text": [
            "\n"
          ]
        }
      ],
      "source": [
        "\n",
        "model_accuracy = []\n",
        "top_3_predictions = []\n",
        "for i, param_set in enumerate(tqdm(top_3_params.values)):\n",
        "    (vocab_size, \n",
        "     model_type, \n",
        "     text_column, \n",
        "     ngram, \n",
        "     vectorizer_name, \n",
        "     criterion, \n",
        "     max_depth,\n",
        "     max_features, \n",
        "     *_) = param_set\n",
        "    \n",
        "\n",
        "    \n",
        "    print(vocab_size, model_type, text_column, ngram, vectorizer, criterion, max_depth, max_features)\n",
        "    \n",
        "    if vocab_size:\n",
        "        vocab_size = int(vocab_size)\n",
        "        \n",
        "    vectorizer = vectorizer_name.split('(')[0]\n",
        "    if vectorizer == 'TfidfVectorizer':\n",
        "        vectorizer = TfidfVectorizer\n",
        "    elif vectorizer == 'CountVectorizer':\n",
        "        vectorizer = CountVectorizer\n",
        "\n",
        "    else:\n",
        "        print('warning, unrecognized vectorizer!')\n",
        "        print(i, param_set)\n",
        "    \n",
        "    print('vectorizing')\n",
        "    model_vectorizer = vectorizer(max_features=vocab_size, ngram_range=ngram)\n",
        "\n",
        "    print('creating BOW')\n",
        "    \n",
        "    BOW = model_vectorizer.fit_transform(v3_train_X[text_column])\n",
        "  \n",
        "    print('splitting train-validation data')\n",
        "    \n",
        "\n",
        "\n",
        "    \n",
        "\n",
        "    kfolds = KFold(n_splits=k)\n",
        "    model = DecisionTreeClassifier(criterion=criterion, max_depth=max_depth, max_features=max_features)\n",
        "    \n",
        "    acc_score = []\n",
        "    for train_index , valid_index in kfolds.split(BOW):\n",
        "        X_train , X_valid = BOW[train_index,:],BOW[valid_index,:]\n",
        "        y_train , y_valid = v3_train_y[train_index] , v3_train_y[valid_index]\n",
        "        \n",
        "        model.fit(X_train, y_train)\n",
        "        pred_values = model.predict(X_valid)\n",
        "\n",
        "        acc = accuracy_score(pred_values , y_valid)\n",
        "        acc_score.append(acc)\n",
        "        \n",
        "        pred_probs = model.predict_proba(X_valid)\n",
        "\n",
        "    mean_acc = sum(acc_score)/len(acc_score)\n",
        "    # mean_probs = \n",
        "    \n",
        "    print(mean_acc, '\\n\\n')\n",
        "    model_accuracy.append(mean_acc)\n",
        "    top_3_predictions.append(pred_probs)\n",
        "    \n"
      ]
    },
    {
      "cell_type": "code",
      "execution_count": 77,
      "metadata": {
        "colab": {
          "base_uri": "https://localhost:8080/",
          "height": 349
        },
        "id": "ZiSIybUzF66a",
        "outputId": "5d3d9be7-72b3-41ac-ee7f-a5f069619839"
      },
      "outputs": [
        {
          "output_type": "stream",
          "name": "stderr",
          "text": [
            "<ipython-input-77-1f294fd60d34>:1: SettingWithCopyWarning: \n",
            "A value is trying to be set on a copy of a slice from a DataFrame.\n",
            "Try using .loc[row_indexer,col_indexer] = value instead\n",
            "\n",
            "See the caveats in the documentation: https://pandas.pydata.org/pandas-docs/stable/user_guide/indexing.html#returning-a-view-versus-a-copy\n",
            "  top_3_params['acc3'] = model_accuracy\n"
          ]
        },
        {
          "output_type": "execute_result",
          "data": {
            "text/plain": [
              "   vocab_size                model_name          text_column   ngram  \\\n",
              "0       10000  DecisionTreeClassifier()  text_porter_stemmed  (1, 1)   \n",
              "1        1000  DecisionTreeClassifier()  text_porter_stemmed  (1, 3)   \n",
              "2        1000  DecisionTreeClassifier()  text_porter_stemmed  (1, 2)   \n",
              "\n",
              "                                          vectorizer splitting_criterion  \\\n",
              "0                CountVectorizer(max_features=10000)                gini   \n",
              "1  CountVectorizer(max_features=1000, ngram_range...                gini   \n",
              "2  CountVectorizer(max_features=1000, ngram_range...                gini   \n",
              "\n",
              "   tree_max_depth tree_max_features  accuracy     acc2      acc3  \n",
              "0               7              None    0.5790  0.59096  0.596230  \n",
              "1               7              None    0.5765  0.59108  0.596070  \n",
              "2               7              None    0.5785  0.59100  0.596055  "
            ],
            "text/html": [
              "\n",
              "  <div id=\"df-c0fd01e3-68ee-487a-9b51-8bbe75b605ce\">\n",
              "    <div class=\"colab-df-container\">\n",
              "      <div>\n",
              "<style scoped>\n",
              "    .dataframe tbody tr th:only-of-type {\n",
              "        vertical-align: middle;\n",
              "    }\n",
              "\n",
              "    .dataframe tbody tr th {\n",
              "        vertical-align: top;\n",
              "    }\n",
              "\n",
              "    .dataframe thead th {\n",
              "        text-align: right;\n",
              "    }\n",
              "</style>\n",
              "<table border=\"1\" class=\"dataframe\">\n",
              "  <thead>\n",
              "    <tr style=\"text-align: right;\">\n",
              "      <th></th>\n",
              "      <th>vocab_size</th>\n",
              "      <th>model_name</th>\n",
              "      <th>text_column</th>\n",
              "      <th>ngram</th>\n",
              "      <th>vectorizer</th>\n",
              "      <th>splitting_criterion</th>\n",
              "      <th>tree_max_depth</th>\n",
              "      <th>tree_max_features</th>\n",
              "      <th>accuracy</th>\n",
              "      <th>acc2</th>\n",
              "      <th>acc3</th>\n",
              "    </tr>\n",
              "  </thead>\n",
              "  <tbody>\n",
              "    <tr>\n",
              "      <th>0</th>\n",
              "      <td>10000</td>\n",
              "      <td>DecisionTreeClassifier()</td>\n",
              "      <td>text_porter_stemmed</td>\n",
              "      <td>(1, 1)</td>\n",
              "      <td>CountVectorizer(max_features=10000)</td>\n",
              "      <td>gini</td>\n",
              "      <td>7</td>\n",
              "      <td>None</td>\n",
              "      <td>0.5790</td>\n",
              "      <td>0.59096</td>\n",
              "      <td>0.596230</td>\n",
              "    </tr>\n",
              "    <tr>\n",
              "      <th>1</th>\n",
              "      <td>1000</td>\n",
              "      <td>DecisionTreeClassifier()</td>\n",
              "      <td>text_porter_stemmed</td>\n",
              "      <td>(1, 3)</td>\n",
              "      <td>CountVectorizer(max_features=1000, ngram_range...</td>\n",
              "      <td>gini</td>\n",
              "      <td>7</td>\n",
              "      <td>None</td>\n",
              "      <td>0.5765</td>\n",
              "      <td>0.59108</td>\n",
              "      <td>0.596070</td>\n",
              "    </tr>\n",
              "    <tr>\n",
              "      <th>2</th>\n",
              "      <td>1000</td>\n",
              "      <td>DecisionTreeClassifier()</td>\n",
              "      <td>text_porter_stemmed</td>\n",
              "      <td>(1, 2)</td>\n",
              "      <td>CountVectorizer(max_features=1000, ngram_range...</td>\n",
              "      <td>gini</td>\n",
              "      <td>7</td>\n",
              "      <td>None</td>\n",
              "      <td>0.5785</td>\n",
              "      <td>0.59100</td>\n",
              "      <td>0.596055</td>\n",
              "    </tr>\n",
              "  </tbody>\n",
              "</table>\n",
              "</div>\n",
              "      <button class=\"colab-df-convert\" onclick=\"convertToInteractive('df-c0fd01e3-68ee-487a-9b51-8bbe75b605ce')\"\n",
              "              title=\"Convert this dataframe to an interactive table.\"\n",
              "              style=\"display:none;\">\n",
              "        \n",
              "  <svg xmlns=\"http://www.w3.org/2000/svg\" height=\"24px\"viewBox=\"0 0 24 24\"\n",
              "       width=\"24px\">\n",
              "    <path d=\"M0 0h24v24H0V0z\" fill=\"none\"/>\n",
              "    <path d=\"M18.56 5.44l.94 2.06.94-2.06 2.06-.94-2.06-.94-.94-2.06-.94 2.06-2.06.94zm-11 1L8.5 8.5l.94-2.06 2.06-.94-2.06-.94L8.5 2.5l-.94 2.06-2.06.94zm10 10l.94 2.06.94-2.06 2.06-.94-2.06-.94-.94-2.06-.94 2.06-2.06.94z\"/><path d=\"M17.41 7.96l-1.37-1.37c-.4-.4-.92-.59-1.43-.59-.52 0-1.04.2-1.43.59L10.3 9.45l-7.72 7.72c-.78.78-.78 2.05 0 2.83L4 21.41c.39.39.9.59 1.41.59.51 0 1.02-.2 1.41-.59l7.78-7.78 2.81-2.81c.8-.78.8-2.07 0-2.86zM5.41 20L4 18.59l7.72-7.72 1.47 1.35L5.41 20z\"/>\n",
              "  </svg>\n",
              "      </button>\n",
              "      \n",
              "  <style>\n",
              "    .colab-df-container {\n",
              "      display:flex;\n",
              "      flex-wrap:wrap;\n",
              "      gap: 12px;\n",
              "    }\n",
              "\n",
              "    .colab-df-convert {\n",
              "      background-color: #E8F0FE;\n",
              "      border: none;\n",
              "      border-radius: 50%;\n",
              "      cursor: pointer;\n",
              "      display: none;\n",
              "      fill: #1967D2;\n",
              "      height: 32px;\n",
              "      padding: 0 0 0 0;\n",
              "      width: 32px;\n",
              "    }\n",
              "\n",
              "    .colab-df-convert:hover {\n",
              "      background-color: #E2EBFA;\n",
              "      box-shadow: 0px 1px 2px rgba(60, 64, 67, 0.3), 0px 1px 3px 1px rgba(60, 64, 67, 0.15);\n",
              "      fill: #174EA6;\n",
              "    }\n",
              "\n",
              "    [theme=dark] .colab-df-convert {\n",
              "      background-color: #3B4455;\n",
              "      fill: #D2E3FC;\n",
              "    }\n",
              "\n",
              "    [theme=dark] .colab-df-convert:hover {\n",
              "      background-color: #434B5C;\n",
              "      box-shadow: 0px 1px 3px 1px rgba(0, 0, 0, 0.15);\n",
              "      filter: drop-shadow(0px 1px 2px rgba(0, 0, 0, 0.3));\n",
              "      fill: #FFFFFF;\n",
              "    }\n",
              "  </style>\n",
              "\n",
              "      <script>\n",
              "        const buttonEl =\n",
              "          document.querySelector('#df-c0fd01e3-68ee-487a-9b51-8bbe75b605ce button.colab-df-convert');\n",
              "        buttonEl.style.display =\n",
              "          google.colab.kernel.accessAllowed ? 'block' : 'none';\n",
              "\n",
              "        async function convertToInteractive(key) {\n",
              "          const element = document.querySelector('#df-c0fd01e3-68ee-487a-9b51-8bbe75b605ce');\n",
              "          const dataTable =\n",
              "            await google.colab.kernel.invokeFunction('convertToInteractive',\n",
              "                                                     [key], {});\n",
              "          if (!dataTable) return;\n",
              "\n",
              "          const docLinkHtml = 'Like what you see? Visit the ' +\n",
              "            '<a target=\"_blank\" href=https://colab.research.google.com/notebooks/data_table.ipynb>data table notebook</a>'\n",
              "            + ' to learn more about interactive tables.';\n",
              "          element.innerHTML = '';\n",
              "          dataTable['output_type'] = 'display_data';\n",
              "          await google.colab.output.renderOutput(dataTable, element);\n",
              "          const docLink = document.createElement('div');\n",
              "          docLink.innerHTML = docLinkHtml;\n",
              "          element.appendChild(docLink);\n",
              "        }\n",
              "      </script>\n",
              "    </div>\n",
              "  </div>\n",
              "  "
            ]
          },
          "metadata": {},
          "execution_count": 77
        }
      ],
      "source": [
        "top_3_params['acc3'] = model_accuracy\n",
        "top_3_params = top_3_params.sort_values(by='acc3', ascending=False).reset_index(drop=True)\n",
        "top_3_params"
      ]
    },
    {
      "cell_type": "code",
      "execution_count": 78,
      "metadata": {
        "id": "fW9UYtc7F66a"
      },
      "outputs": [],
      "source": [
        "top_3_params.to_csv(path+'data/output/decision_tree/decision_tree_top_3_params.csv', index=False)"
      ]
    },
    {
      "cell_type": "markdown",
      "source": [
        "### train final model on best params"
      ],
      "metadata": {
        "id": "OUqMWvxfxgIr"
      }
    },
    {
      "cell_type": "markdown",
      "source": [
        "the validation data will be used to generate the ROC curve"
      ],
      "metadata": {
        "id": "Nvo3uDGVkzHV"
      }
    },
    {
      "cell_type": "code",
      "source": [
        "X_train, X_valid, y_train, y_valid = train_test_split(all_train_data, all_train_data['target'], test_size=0.2, random_state=42)\n"
      ],
      "metadata": {
        "id": "aPYl4QCNjva0"
      },
      "execution_count": 87,
      "outputs": []
    },
    {
      "cell_type": "code",
      "source": [
        "\n",
        "vectorizer = CountVectorizer(max_features=10000, ngram_range=(1, 1))\n",
        "\n",
        "\n",
        "train_BOW = vectorizer.fit_transform(X_train['text_porter_stemmed'])\n",
        "valid_BOW = vectorizer.transform(X_valid['text_porter_stemmed'])\n",
        "test_BOW = vectorizer.transform(all_test_data['text_porter_stemmed'])\n",
        "\n"
      ],
      "metadata": {
        "id": "XfJGgoJxjlKV"
      },
      "execution_count": 89,
      "outputs": []
    },
    {
      "cell_type": "code",
      "source": [
        "model = DecisionTreeClassifier(criterion='gini', max_depth=7, max_features=None)"
      ],
      "metadata": {
        "id": "x6STMI7djlM0"
      },
      "execution_count": 90,
      "outputs": []
    },
    {
      "cell_type": "code",
      "source": [
        "model.fit(train_BOW, y_train)"
      ],
      "metadata": {
        "colab": {
          "base_uri": "https://localhost:8080/"
        },
        "id": "nRnVKzRjjlO_",
        "outputId": "c232bf5e-69ad-48f9-8f2c-3a309756daea"
      },
      "execution_count": 91,
      "outputs": [
        {
          "output_type": "execute_result",
          "data": {
            "text/plain": [
              "DecisionTreeClassifier(max_depth=7)"
            ]
          },
          "metadata": {},
          "execution_count": 91
        }
      ]
    },
    {
      "cell_type": "markdown",
      "source": [
        "### generate and save results for kaggle submission"
      ],
      "metadata": {
        "id": "NO-8Mb2Qk7TN"
      }
    },
    {
      "cell_type": "code",
      "source": [
        "model.classes_"
      ],
      "metadata": {
        "colab": {
          "base_uri": "https://localhost:8080/"
        },
        "id": "ypYrMAyTl8bF",
        "outputId": "a47b7469-2139-471b-93cb-ab2bc6a4666c"
      },
      "execution_count": 92,
      "outputs": [
        {
          "output_type": "execute_result",
          "data": {
            "text/plain": [
              "array([0, 2])"
            ]
          },
          "metadata": {},
          "execution_count": 92
        }
      ]
    },
    {
      "cell_type": "code",
      "source": [
        "test_predictions = model.predict_proba(test_BOW)\n",
        "pos_predictions = [pred[-1] for pred in test_predictions]\n"
      ],
      "metadata": {
        "id": "SFwAQRIKjlRi"
      },
      "execution_count": 93,
      "outputs": []
    },
    {
      "cell_type": "code",
      "source": [
        "thresh = 0.5\n",
        "\n",
        "bin_pred = []\n",
        "for pred in pos_predictions:\n",
        "    if pred >= thresh:\n",
        "        binary_pred = 2\n",
        "    else:\n",
        "        binary_pred = 0\n",
        "    bin_pred.append(binary_pred)"
      ],
      "metadata": {
        "id": "DqTpR27ljlTj"
      },
      "execution_count": 94,
      "outputs": []
    },
    {
      "cell_type": "code",
      "source": [
        "pdf = pd.DataFrame(bin_pred).reset_index()\n",
        "pdf.columns = ['id', 'target']"
      ],
      "metadata": {
        "id": "ua3G4izfjlVs"
      },
      "execution_count": 95,
      "outputs": []
    },
    {
      "cell_type": "code",
      "source": [
        "pdf['target'].value_counts()"
      ],
      "metadata": {
        "colab": {
          "base_uri": "https://localhost:8080/"
        },
        "id": "5UBt_N9MjlX_",
        "outputId": "ecffccd3-e7a1-49ba-f1f1-90f081584e3e"
      },
      "execution_count": 96,
      "outputs": [
        {
          "output_type": "execute_result",
          "data": {
            "text/plain": [
              "0    445282\n",
              "2    114893\n",
              "Name: target, dtype: int64"
            ]
          },
          "metadata": {},
          "execution_count": 96
        }
      ]
    },
    {
      "cell_type": "code",
      "source": [
        "pdf.to_csv(path+'data/output/decision_tree/decision_tree_predictions.csv', index=False)"
      ],
      "metadata": {
        "id": "m5nyIAMAjlas"
      },
      "execution_count": 19,
      "outputs": []
    },
    {
      "cell_type": "markdown",
      "source": [
        "## generate ROC curve"
      ],
      "metadata": {
        "id": "m8vxepD6lxeV"
      }
    },
    {
      "cell_type": "code",
      "source": [
        "model.predict(valid_BOW).sum()/2"
      ],
      "metadata": {
        "colab": {
          "base_uri": "https://localhost:8080/"
        },
        "id": "UccngnBh2hJA",
        "outputId": "eb45820b-4181-4859-ee51-3d1c24c459c1"
      },
      "execution_count": 97,
      "outputs": [
        {
          "output_type": "execute_result",
          "data": {
            "text/plain": [
              "42810.0"
            ]
          },
          "metadata": {},
          "execution_count": 97
        }
      ]
    },
    {
      "cell_type": "code",
      "source": [
        "y_valid.value_counts()"
      ],
      "metadata": {
        "colab": {
          "base_uri": "https://localhost:8080/"
        },
        "id": "stGeUeyw2nvs",
        "outputId": "191d7b77-0cc4-4c9c-f089-1fbc13d5f01a"
      },
      "execution_count": 98,
      "outputs": [
        {
          "output_type": "execute_result",
          "data": {
            "text/plain": [
              "2    104174\n",
              "0    103891\n",
              "Name: target, dtype: int64"
            ]
          },
          "metadata": {},
          "execution_count": 98
        }
      ]
    },
    {
      "cell_type": "code",
      "source": [
        "valid_predictions = model.predict_proba(valid_BOW)"
      ],
      "metadata": {
        "id": "CKF5qOq4lwtM"
      },
      "execution_count": 99,
      "outputs": []
    },
    {
      "cell_type": "code",
      "source": [
        "valid_predictions = [p[1] for p in valid_predictions]"
      ],
      "metadata": {
        "id": "mm4RPorWlwyZ"
      },
      "execution_count": 100,
      "outputs": []
    },
    {
      "cell_type": "code",
      "source": [
        "fpr, tpr, thresholds = roc_curve(y_valid, valid_predictions, pos_label=2)"
      ],
      "metadata": {
        "id": "vp6O5s65lw1I"
      },
      "execution_count": 101,
      "outputs": []
    },
    {
      "cell_type": "code",
      "source": [
        "plt.figure(1)\n",
        "plt.plot([0, 1], [0, 1], 'k--')\n",
        "plt.plot(fpr, tpr)\n",
        "plt.xlabel('False positive rate')\n",
        "plt.ylabel('True positive rate')\n",
        "plt.title('ROC curve')\n",
        "plt.savefig(path+'data/output/decision_tree/ROC.png')\n",
        "plt.show()"
      ],
      "metadata": {
        "colab": {
          "base_uri": "https://localhost:8080/",
          "height": 295
        },
        "id": "_GJCYsrSlw3S",
        "outputId": "929ae322-199a-4144-c3f5-5523759cc450"
      },
      "execution_count": 102,
      "outputs": [
        {
          "output_type": "display_data",
          "data": {
            "text/plain": [
              "<Figure size 432x288 with 1 Axes>"
            ],
            "image/png": "[encoded data removed]"
          },
          "metadata": {
            "needs_background": "light"
          }
        }
      ]
    },
    {
      "cell_type": "markdown",
      "source": [
        "## visualize results"
      ],
      "metadata": {
        "id": "1uKVVmrymav6"
      }
    },
    {
      "cell_type": "code",
      "source": [
        "text_representation = tree.export_text(model)"
      ],
      "metadata": {
        "id": "bima19fQmbwV"
      },
      "execution_count": 103,
      "outputs": []
    },
    {
      "cell_type": "code",
      "source": [
        "reverse_vocab = {idx:word for word, idx in vectorizer.vocabulary_.items()}"
      ],
      "metadata": {
        "id": "lIR9cmWa32_h"
      },
      "execution_count": 104,
      "outputs": []
    },
    {
      "cell_type": "code",
      "source": [
        "# reverse_vocab[:100]"
      ],
      "metadata": {
        "id": "3qZLsPxu4B_T"
      },
      "execution_count": 105,
      "outputs": []
    },
    {
      "cell_type": "code",
      "source": [
        "print(text_representation[:800])"
      ],
      "metadata": {
        "colab": {
          "base_uri": "https://localhost:8080/"
        },
        "id": "oSgCcQZvnQVj",
        "outputId": "c6d952e5-6dfa-4f52-fe66-14b6c341eec2"
      },
      "execution_count": 106,
      "outputs": [
        {
          "output_type": "stream",
          "name": "stdout",
          "text": [
            "|--- feature_8610 <= 0.50\n",
            "|   |--- feature_5517 <= 0.50\n",
            "|   |   |--- feature_7403 <= 0.50\n",
            "|   |   |   |--- feature_9894 <= 0.50\n",
            "|   |   |   |   |--- feature_5102 <= 0.50\n",
            "|   |   |   |   |   |--- feature_5962 <= 0.50\n",
            "|   |   |   |   |   |   |--- feature_3501 <= 0.50\n",
            "|   |   |   |   |   |   |   |--- class: 0\n",
            "|   |   |   |   |   |   |--- feature_3501 >  0.50\n",
            "|   |   |   |   |   |   |   |--- class: 2\n",
            "|   |   |   |   |   |--- feature_5962 >  0.50\n",
            "|   |   |   |   |   |   |--- feature_2977 <= 0.50\n",
            "|   |   |   |   |   |   |   |--- class: 0\n",
            "|   |   |   |   |   |   |--- feature_2977 >  0.50\n",
            "|   |   |   |   |   |   |   |--- class: 0\n",
            "|   |   |   |   |--- feature_5102 >  0.50\n",
            "|   |   |   |   |   |--- feature_1211 <= 0.50\n",
            "|   |   |   |   |   |   |--- feature_9641 <= 0.50\n",
            "|   |   |   |   |   |   |   |---\n"
          ]
        }
      ]
    },
    {
      "cell_type": "code",
      "source": [
        "import scipy\n",
        "not_check_list = [8610, 5517, 7403, 9894, 5102, 5962]"
      ],
      "metadata": {
        "id": "xS8UUokJzibK"
      },
      "execution_count": 74,
      "outputs": []
    },
    {
      "cell_type": "code",
      "source": [
        "counter = 0\n",
        "first_split_pos = []\n",
        "for i in range(valid_BOW.shape[0]):\n",
        "  row = valid_BOW[i]\n",
        "  _ ,cols = row.nonzero()\n",
        "\n",
        "  in_list = False\n",
        "  for c in cols:\n",
        "    # print(row[:, c].toarray()[0][0])\n",
        "    if c in not_check_list:\n",
        "      in_list=True\n",
        "  \n",
        "  # in line with the criteria, none of the words are present in this doc\n",
        "  if not in_list:\n",
        "    counter+=1\n",
        "\n",
        "    # now check for 3501. if it's present, we assign class 2, else class 0\n",
        "    if 3501 in cols:\n",
        "      first_split_pos.append(i)\n",
        "      \n",
        "\n",
        "  "
      ],
      "metadata": {
        "id": "gdZWvXVQnehL"
      },
      "execution_count": 118,
      "outputs": []
    },
    {
      "cell_type": "code",
      "source": [
        "first_split_pos[:10]"
      ],
      "metadata": {
        "colab": {
          "base_uri": "https://localhost:8080/"
        },
        "id": "vXaW4-IU6tNu",
        "outputId": "8e8a89b3-ee64-425b-b52b-6aea85013eb0"
      },
      "execution_count": 119,
      "outputs": [
        {
          "output_type": "execute_result",
          "data": {
            "text/plain": [
              "[14, 18, 35, 41, 42, 63, 65, 67, 102, 110]"
            ]
          },
          "metadata": {},
          "execution_count": 119
        }
      ]
    },
    {
      "cell_type": "code",
      "source": [
        "print(X_valid['text'].iloc[110])\n",
        "print(y_valid.iloc[110])"
      ],
      "metadata": {
        "colab": {
          "base_uri": "https://localhost:8080/"
        },
        "id": "pfaKFiqQ3unJ",
        "outputId": "263488f6-f21f-4ad9-a1ce-a9403d186544"
      },
      "execution_count": 125,
      "outputs": [
        {
          "output_type": "stream",
          "name": "stdout",
          "text": [
            "tonight was my silly night of the year good night twitterhomies! haha\n",
            "2\n"
          ]
        }
      ]
    },
    {
      "cell_type": "code",
      "source": [
        "print(X_valid['text'].iloc[3])\n",
        "print(y_valid.iloc[3])"
      ],
      "metadata": {
        "colab": {
          "base_uri": "https://localhost:8080/"
        },
        "id": "Va4yaxjq3t8y",
        "outputId": "fc405687-0e0a-4885-b77c-8544ac331874"
      },
      "execution_count": 126,
      "outputs": [
        {
          "output_type": "stream",
          "name": "stdout",
          "text": [
            "today i realized i am a stalker. also the meaning of my nickname banana nutz\n",
            "0\n"
          ]
        }
      ]
    },
    {
      "cell_type": "code",
      "source": [
        "for idx in not_check_list:\n",
        "  if idx in reverse_vocab:\n",
        "    print(idx, reverse_vocab[idx])\n",
        "\n",
        "reverse_vocab[3501]"
      ],
      "metadata": {
        "colab": {
          "base_uri": "https://localhost:8080/",
          "height": 143
        },
        "id": "x27YvG7v3qRk",
        "outputId": "c9c5351a-b75b-47eb-8110-c38a350f1e51"
      },
      "execution_count": 81,
      "outputs": [
        {
          "output_type": "stream",
          "name": "stdout",
          "text": [
            "8610 thank\n",
            "5517 miss\n",
            "7403 sad\n",
            "9894 you\n",
            "5102 love\n",
            "5962 not\n"
          ]
        },
        {
          "output_type": "execute_result",
          "data": {
            "text/plain": [
              "'good'"
            ],
            "application/vnd.google.colaboratory.intrinsic+json": {
              "type": "string"
            }
          },
          "metadata": {},
          "execution_count": 81
        }
      ]
    },
    {
      "cell_type": "code",
      "source": [
        "with open(path+\"data/output/decision_tree/text_representation.txt\", \"w\") as text_file:\n",
        "  for line in text_representation.split('\\n'):\n",
        "    text_file.write(line+'\\n')"
      ],
      "metadata": {
        "id": "L9VbOeQQn-pj"
      },
      "execution_count": 130,
      "outputs": []
    },
    {
      "cell_type": "code",
      "source": [],
      "metadata": {
        "id": "RaDX0-Bu9fDA"
      },
      "execution_count": 129,
      "outputs": []
    },
    {
      "cell_type": "code",
      "source": [],
      "metadata": {
        "id": "wyRWvX1n9hdJ"
      },
      "execution_count": null,
      "outputs": []
    }
  ],
  "metadata": {
    "kernelspec": {
      "display_name": "env",
      "language": "python",
      "name": "env"
    },
    "language_info": {
      "codemirror_mode": {
        "name": "ipython",
        "version": 3
      },
      "file_extension": ".py",
      "mimetype": "text/x-python",
      "name": "python",
      "nbconvert_exporter": "python",
      "pygments_lexer": "ipython3",
      "version": "3.7.3"
    },
    "colab": {
      "provenance": []
    }
  },
  "nbformat": 4,
  "nbformat_minor": 0
}