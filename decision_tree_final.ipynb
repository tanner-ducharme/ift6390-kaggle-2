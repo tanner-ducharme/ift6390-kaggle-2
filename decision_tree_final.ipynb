{
 "cells": [
  {
   "cell_type": "markdown",
   "metadata": {
    "id": "8qfb6FLwQtj8"
   },
   "source": [
    "# code runs!<br>\n",
    "do final clean and add ROC"
   ]
  },
  {
   "cell_type": "code",
   "execution_count": 1,
   "metadata": {
    "id": "zPRSEwuxQr2e"
   },
   "outputs": [],
   "source": [
    "from sklearn.tree import DecisionTreeClassifier\n",
    "\n",
    "from sklearn.experimental import enable_halving_search_cv \n",
    "from sklearn.model_selection import RandomizedSearchCV\n",
    "from sklearn.feature_extraction.text import CountVectorizer, TfidfVectorizer\n",
    "from sklearn.model_selection import train_test_split\n",
    "\n",
    "import pandas as pd\n",
    "import numpy as np\n",
    "from tqdm import tqdm\n",
    "\n",
    "import json\n",
    "from sklearn.model_selection import KFold \n",
    "from sklearn.metrics import accuracy_score\n",
    "\n",
    "from sklearn.metrics import roc_curve\n",
    "from sklearn.metrics import auc\n",
    "import matplotlib.pyplot as plt\n",
    "from sklearn import tree"
   ]
  },
  {
   "cell_type": "code",
   "execution_count": 2,
   "metadata": {
    "colab": {
     "base_uri": "https://localhost:8080/"
    },
    "executionInfo": {
     "elapsed": 1013,
     "status": "ok",
     "timestamp": 1670813099810,
     "user": {
      "displayName": "Tanner Ducharme",
      "userId": "10129333221032718302"
     },
     "user_tz": 300
    },
    "id": "0lp-kC12GBqb",
    "outputId": "79e958b3-c461-4f0b-c524-7bf0c143bdef"
   },
   "outputs": [],
   "source": [
    "# from google.colab import drive\n",
    "# drive.mount('/content/gdrive') \n",
    "# path = '/content/gdrive/MyDrive/IFT 6390/kaggle2/'"
   ]
  },
  {
   "cell_type": "code",
   "execution_count": 3,
   "metadata": {
    "executionInfo": {
     "elapsed": 3,
     "status": "ok",
     "timestamp": 1670813099810,
     "user": {
      "displayName": "Tanner Ducharme",
      "userId": "10129333221032718302"
     },
     "user_tz": 300
    },
    "id": "r-89zBRTF66H"
   },
   "outputs": [],
   "source": [
    "tqdm.pandas()"
   ]
  },
  {
   "cell_type": "markdown",
   "metadata": {
    "id": "o--JWtIq6MGD"
   },
   "source": [
    "### read and prep data"
   ]
  },
  {
   "cell_type": "code",
   "execution_count": 4,
   "metadata": {
    "executionInfo": {
     "elapsed": 4,
     "status": "ok",
     "timestamp": 1670813099811,
     "user": {
      "displayName": "Tanner Ducharme",
      "userId": "10129333221032718302"
     },
     "user_tz": 300
    },
    "id": "91E-hfJIF66I"
   },
   "outputs": [],
   "source": [
    "# input_path = path+'data/input/'\n",
    "input_path = 'data/input/'"
   ]
  },
  {
   "cell_type": "code",
   "execution_count": 5,
   "metadata": {
    "executionInfo": {
     "elapsed": 30189,
     "status": "ok",
     "timestamp": 1670813129997,
     "user": {
      "displayName": "Tanner Ducharme",
      "userId": "10129333221032718302"
     },
     "user_tz": 300
    },
    "id": "gsPCeIVZF66J"
   },
   "outputs": [],
   "source": [
    "all_train_data = pd.read_csv(input_path + 'train_data_prepped.csv').fillna('')\n",
    "all_test_data = pd.read_csv(input_path + 'test_data_prepped.csv').fillna('')"
   ]
  },
  {
   "cell_type": "code",
   "execution_count": 6,
   "metadata": {
    "colab": {
     "base_uri": "https://localhost:8080/"
    },
    "executionInfo": {
     "elapsed": 421,
     "status": "ok",
     "timestamp": 1670813130403,
     "user": {
      "displayName": "Tanner Ducharme",
      "userId": "10129333221032718302"
     },
     "user_tz": 300
    },
    "id": "_1qV9MLOF66J",
    "outputId": "e8fa1eca-c775-4aa9-a980-e45b2abd31d1"
   },
   "outputs": [
    {
     "data": {
      "text/plain": [
       "positive    520436\n",
       "negative    519803\n",
       "neutral         84\n",
       "Name: target, dtype: int64"
      ]
     },
     "execution_count": 6,
     "metadata": {},
     "output_type": "execute_result"
    }
   ],
   "source": [
    "train_target = pd.read_csv(input_path + 'train_results.csv')\n",
    "train_target['target'].value_counts()"
   ]
  },
  {
   "cell_type": "code",
   "execution_count": 7,
   "metadata": {
    "executionInfo": {
     "elapsed": 370,
     "status": "ok",
     "timestamp": 1670813130770,
     "user": {
      "displayName": "Tanner Ducharme",
      "userId": "10129333221032718302"
     },
     "user_tz": 300
    },
    "id": "sLhXLnbfF66L"
   },
   "outputs": [],
   "source": [
    "train_target['target'] = [0 if t == 'negative' else 2 if t == 'positive' else 2 for t in train_target['target'].values]"
   ]
  },
  {
   "cell_type": "code",
   "execution_count": 8,
   "metadata": {
    "executionInfo": {
     "elapsed": 5,
     "status": "ok",
     "timestamp": 1670813130770,
     "user": {
      "displayName": "Tanner Ducharme",
      "userId": "10129333221032718302"
     },
     "user_tz": 300
    },
    "id": "R6EZ1ZXYF66L"
   },
   "outputs": [],
   "source": [
    "all_train_data['target'] = train_target['target']"
   ]
  },
  {
   "cell_type": "code",
   "execution_count": 9,
   "metadata": {
    "colab": {
     "base_uri": "https://localhost:8080/"
    },
    "executionInfo": {
     "elapsed": 5,
     "status": "ok",
     "timestamp": 1670813130771,
     "user": {
      "displayName": "Tanner Ducharme",
      "userId": "10129333221032718302"
     },
     "user_tz": 300
    },
    "id": "BGg8jhr3F66M",
    "outputId": "ea9ed3cc-f7d0-472b-e80f-c4bc2366379a"
   },
   "outputs": [
    {
     "data": {
      "text/plain": [
       "2    520520\n",
       "0    519803\n",
       "Name: target, dtype: int64"
      ]
     },
     "execution_count": 9,
     "metadata": {},
     "output_type": "execute_result"
    }
   ],
   "source": [
    "all_train_data['target'].value_counts()"
   ]
  },
  {
   "cell_type": "markdown",
   "metadata": {
    "id": "mkY3CZX6F66N"
   },
   "source": [
    "### establish parameters"
   ]
  },
  {
   "cell_type": "code",
   "execution_count": 10,
   "metadata": {
    "executionInfo": {
     "elapsed": 4,
     "status": "ok",
     "timestamp": 1670813130771,
     "user": {
      "displayName": "Tanner Ducharme",
      "userId": "10129333221032718302"
     },
     "user_tz": 300
    },
    "id": "0cXhSXdnF66R"
   },
   "outputs": [],
   "source": [
    "vocab_sizes = [100, 1_000, 10_000]\n",
    "ngrams = [(1, 1), (2, 2), (1, 2), (1, 3)]\n",
    "text_columns = ['text_no_numerals', 'text_no_sw', 'text_porter_stemmed', 'text_lancaster_stemmed', 'text_lemmatized']\n",
    "vectorizers = [TfidfVectorizer, CountVectorizer]\n",
    "models = [DecisionTreeClassifier()]\n"
   ]
  },
  {
   "cell_type": "markdown",
   "metadata": {
    "id": "QAE3BuMrF66S"
   },
   "source": [
    "set decision tree parameters"
   ]
  },
  {
   "cell_type": "code",
   "execution_count": 11,
   "metadata": {
    "executionInfo": {
     "elapsed": 4,
     "status": "ok",
     "timestamp": 1670813130771,
     "user": {
      "displayName": "Tanner Ducharme",
      "userId": "10129333221032718302"
     },
     "user_tz": 300
    },
    "id": "5v4V1aJyF66S"
   },
   "outputs": [],
   "source": [
    "param_grid = {\n",
    "    'criterion': ['gini',],\n",
    "    'max_depth': [3,5,7],\n",
    "    'max_features': ['sqrt', 'log2', None],\n",
    "    \n",
    "}"
   ]
  },
  {
   "cell_type": "code",
   "execution_count": 12,
   "metadata": {
    "executionInfo": {
     "elapsed": 6,
     "status": "ok",
     "timestamp": 1670812942143,
     "user": {
      "displayName": "Tanner Ducharme",
      "userId": "10129333221032718302"
     },
     "user_tz": 300
    },
    "id": "LvmfNgBzF66S"
   },
   "outputs": [],
   "source": [
    "def trainModels(train_data, targets, vocab_sizes, text_columns, ngrams, vectorizers, models, param_grid):\n",
    "    param_tracker = []\n",
    "    predictions_tracker = []\n",
    "    counter = 1\n",
    "    for size in tqdm(vocab_sizes):\n",
    "\n",
    "\n",
    "        for col in text_columns:\n",
    "\n",
    "            text = train_data[col]\n",
    "            for ng in ngrams:\n",
    "\n",
    "                for vectorizer in vectorizers:\n",
    "                    vectorizer_name = str(vectorizer).split('.')[-1].replace('>', '').replace(\"\\'\",'').strip()\n",
    "                    vectorizer = vectorizer(max_features=size, ngram_range=ng)\n",
    "                    BOW = vectorizer.fit_transform(text)\n",
    "                    BOW_array = BOW.toarray()\n",
    "                    print('BOW shape: ', BOW_array.shape)\n",
    "\n",
    "                    X_train, X_valid, y_train, y_valid = train_test_split(BOW_array, targets, test_size=0.2, random_state=42)\n",
    "\n",
    "\n",
    "                    for model in models:\n",
    "                        \n",
    "                        model_name = str(model)\n",
    "                        counter+=1\n",
    "                        if counter % 10==0:\n",
    "                            print(f'{counter}')\n",
    "\n",
    "                        grid = RandomizedSearchCV(estimator = model,\n",
    "                                         param_distributions=param_grid,\n",
    "                                         scoring = 'accuracy',\n",
    "                                         cv=3,\n",
    "                                         n_iter=5,\n",
    "                                         verbose=0)\n",
    "\n",
    "                        grid.fit(X_train, y_train)\n",
    "\n",
    "                        accuracy = grid.score(X_valid, y_valid)\n",
    "\n",
    "                        grid_params = grid.best_params_\n",
    "                        criterion = grid_params['criterion']\n",
    "                        max_depth = grid_params['max_depth']\n",
    "                        max_features = grid_params['max_features']\n",
    "                        print('accuracy: ', accuracy, '\\n')\n",
    "\n",
    "                        model_params = {\n",
    "\n",
    "                            'vocab_size': size,\n",
    "                            'model_name': model_name,\n",
    "                            'text_column': col,\n",
    "                            'ngram': ng,\n",
    "                            'vectorizer': vectorizer_name,\n",
    "                            'splitting_criterion': criterion,\n",
    "                            'tree_max_depth': max_depth,\n",
    "                            'tree_max_features': max_features,\n",
    "                            'accuracy': accuracy\n",
    "\n",
    "\n",
    "                        }\n",
    "\n",
    "\n",
    "                        param_tracker.append(model_params)\n",
    "\n",
    "\n",
    "\n",
    "            \n",
    "\n",
    "    return param_tracker\n",
    "\n"
   ]
  },
  {
   "cell_type": "code",
   "execution_count": 13,
   "metadata": {
    "executionInfo": {
     "elapsed": 448,
     "status": "ok",
     "timestamp": 1670807977417,
     "user": {
      "displayName": "Tanner Ducharme",
      "userId": "10129333221032718302"
     },
     "user_tz": 300
    },
    "id": "RVtpUoQ-JLJv"
   },
   "outputs": [],
   "source": [
    "sample_size=5000\n",
    "v1_data = all_train_data.sample(sample_size)\n",
    "v1_train_X = v1_data.iloc[:, :-1]\n",
    "v1_train_y  = v1_data.iloc[:, -1]"
   ]
  },
  {
   "cell_type": "code",
   "execution_count": 14,
   "metadata": {
    "colab": {
     "base_uri": "https://localhost:8080/"
    },
    "executionInfo": {
     "elapsed": 1099994,
     "status": "ok",
     "timestamp": 1670809079194,
     "user": {
      "displayName": "Tanner Ducharme",
      "userId": "10129333221032718302"
     },
     "user_tz": 300
    },
    "id": "Mfi6TdgWF66U",
    "outputId": "fdb8a3da-c80c-409c-83bf-0124e8df5d1d",
    "scrolled": true
   },
   "outputs": [
    {
     "name": "stderr",
     "output_type": "stream",
     "text": [
      "\r",
      "  0%|                                                                              | 0/3 [00:00<?, ?it/s]"
     ]
    },
    {
     "name": "stdout",
     "output_type": "stream",
     "text": [
      "BOW shape:  (5000, 100)\n",
      "accuracy:  0.613 \n",
      "\n",
      "BOW shape:  (5000, 100)\n",
      "accuracy:  0.609 \n",
      "\n",
      "BOW shape:  (5000, 100)\n",
      "accuracy:  0.539 \n",
      "\n",
      "BOW shape:  (5000, 100)\n",
      "accuracy:  0.554 \n",
      "\n",
      "BOW shape:  (5000, 100)\n",
      "accuracy:  0.61 \n",
      "\n",
      "BOW shape:  (5000, 100)\n",
      "accuracy:  0.553 \n",
      "\n",
      "BOW shape:  (5000, 100)\n",
      "accuracy:  0.574 \n",
      "\n",
      "BOW shape:  (5000, 100)\n",
      "accuracy:  0.576 \n",
      "\n",
      "BOW shape:  (5000, 100)\n",
      "10\n",
      "accuracy:  0.58 \n",
      "\n",
      "BOW shape:  (5000, 100)\n",
      "accuracy:  0.574 \n",
      "\n",
      "BOW shape:  (5000, 100)\n",
      "accuracy:  0.534 \n",
      "\n",
      "BOW shape:  (5000, 100)\n",
      "accuracy:  0.541 \n",
      "\n",
      "BOW shape:  (5000, 100)\n",
      "accuracy:  0.581 \n",
      "\n",
      "BOW shape:  (5000, 100)\n",
      "accuracy:  0.523 \n",
      "\n",
      "BOW shape:  (5000, 100)\n",
      "accuracy:  0.58 \n",
      "\n",
      "BOW shape:  (5000, 100)\n",
      "accuracy:  0.575 \n",
      "\n",
      "BOW shape:  (5000, 100)\n",
      "accuracy:  0.61 \n",
      "\n",
      "BOW shape:  (5000, 100)\n",
      "accuracy:  0.604 \n",
      "\n",
      "BOW shape:  (5000, 100)\n",
      "20\n",
      "accuracy:  0.549 \n",
      "\n",
      "BOW shape:  (5000, 100)\n",
      "accuracy:  0.551 \n",
      "\n",
      "BOW shape:  (5000, 100)\n",
      "accuracy:  0.599 \n",
      "\n",
      "BOW shape:  (5000, 100)\n",
      "accuracy:  0.596 \n",
      "\n",
      "BOW shape:  (5000, 100)\n",
      "accuracy:  0.598 \n",
      "\n",
      "BOW shape:  (5000, 100)\n",
      "accuracy:  0.604 \n",
      "\n",
      "BOW shape:  (5000, 100)\n",
      "accuracy:  0.599 \n",
      "\n",
      "BOW shape:  (5000, 100)\n",
      "accuracy:  0.606 \n",
      "\n",
      "BOW shape:  (5000, 100)\n",
      "accuracy:  0.486 \n",
      "\n",
      "BOW shape:  (5000, 100)\n",
      "accuracy:  0.571 \n",
      "\n",
      "BOW shape:  (5000, 100)\n",
      "30\n",
      "accuracy:  0.579 \n",
      "\n",
      "BOW shape:  (5000, 100)\n",
      "accuracy:  0.606 \n",
      "\n",
      "BOW shape:  (5000, 100)\n",
      "accuracy:  0.596 \n",
      "\n",
      "BOW shape:  (5000, 100)\n",
      "accuracy:  0.571 \n",
      "\n",
      "BOW shape:  (5000, 100)\n",
      "accuracy:  0.573 \n",
      "\n",
      "BOW shape:  (5000, 100)\n",
      "accuracy:  0.576 \n",
      "\n",
      "BOW shape:  (5000, 100)\n",
      "accuracy:  0.485 \n",
      "\n",
      "BOW shape:  (5000, 100)\n",
      "accuracy:  0.548 \n",
      "\n",
      "BOW shape:  (5000, 100)\n",
      "accuracy:  0.608 \n",
      "\n",
      "BOW shape:  (5000, 100)\n",
      "accuracy:  0.604 \n",
      "\n",
      "BOW shape:  (5000, 100)\n",
      "40\n",
      "accuracy:  0.608 \n",
      "\n"
     ]
    },
    {
     "name": "stderr",
     "output_type": "stream",
     "text": [
      "\r",
      " 33%|███████████████████████▎                                              | 1/3 [00:12<00:25, 12.63s/it]"
     ]
    },
    {
     "name": "stdout",
     "output_type": "stream",
     "text": [
      "BOW shape:  (5000, 100)\n",
      "accuracy:  0.612 \n",
      "\n",
      "BOW shape:  (5000, 1000)\n",
      "accuracy:  0.57 \n",
      "\n",
      "BOW shape:  (5000, 1000)\n",
      "accuracy:  0.603 \n",
      "\n",
      "BOW shape:  (5000, 1000)\n",
      "accuracy:  0.548 \n",
      "\n",
      "BOW shape:  (5000, 1000)\n",
      "accuracy:  0.555 \n",
      "\n",
      "BOW shape:  (5000, 1000)\n",
      "accuracy:  0.618 \n",
      "\n",
      "BOW shape:  (5000, 1000)\n",
      "accuracy:  0.605 \n",
      "\n",
      "BOW shape:  (5000, 1000)\n",
      "accuracy:  0.58 \n",
      "\n",
      "BOW shape:  (5000, 1000)\n",
      "accuracy:  0.605 \n",
      "\n",
      "BOW shape:  (5000, 1000)\n",
      "50\n",
      "accuracy:  0.498 \n",
      "\n",
      "BOW shape:  (5000, 1000)\n",
      "accuracy:  0.578 \n",
      "\n",
      "BOW shape:  (5000, 1000)\n",
      "accuracy:  0.541 \n",
      "\n",
      "BOW shape:  (5000, 1000)\n",
      "accuracy:  0.543 \n",
      "\n",
      "BOW shape:  (5000, 1000)\n",
      "accuracy:  0.517 \n",
      "\n",
      "BOW shape:  (5000, 1000)\n",
      "accuracy:  0.578 \n",
      "\n",
      "BOW shape:  (5000, 1000)\n",
      "accuracy:  0.558 \n",
      "\n",
      "BOW shape:  (5000, 1000)\n",
      "accuracy:  0.579 \n",
      "\n",
      "BOW shape:  (5000, 1000)\n",
      "accuracy:  0.611 \n",
      "\n",
      "BOW shape:  (5000, 1000)\n",
      "accuracy:  0.624 \n",
      "\n",
      "BOW shape:  (5000, 1000)\n",
      "60\n",
      "accuracy:  0.551 \n",
      "\n",
      "BOW shape:  (5000, 1000)\n",
      "accuracy:  0.551 \n",
      "\n",
      "BOW shape:  (5000, 1000)\n",
      "accuracy:  0.596 \n",
      "\n",
      "BOW shape:  (5000, 1000)\n",
      "accuracy:  0.59 \n",
      "\n",
      "BOW shape:  (5000, 1000)\n",
      "accuracy:  0.615 \n",
      "\n",
      "BOW shape:  (5000, 1000)\n",
      "accuracy:  0.624 \n",
      "\n",
      "BOW shape:  (5000, 1000)\n",
      "accuracy:  0.616 \n",
      "\n",
      "BOW shape:  (5000, 1000)\n",
      "accuracy:  0.609 \n",
      "\n",
      "BOW shape:  (5000, 1000)\n",
      "accuracy:  0.551 \n",
      "\n",
      "BOW shape:  (5000, 1000)\n",
      "accuracy:  0.557 \n",
      "\n",
      "BOW shape:  (5000, 1000)\n",
      "70\n",
      "accuracy:  0.619 \n",
      "\n",
      "BOW shape:  (5000, 1000)\n",
      "accuracy:  0.628 \n",
      "\n",
      "BOW shape:  (5000, 1000)\n",
      "accuracy:  0.623 \n",
      "\n",
      "BOW shape:  (5000, 1000)\n",
      "accuracy:  0.478 \n",
      "\n",
      "BOW shape:  (5000, 1000)\n",
      "accuracy:  0.62 \n",
      "\n",
      "BOW shape:  (5000, 1000)\n",
      "accuracy:  0.558 \n",
      "\n",
      "BOW shape:  (5000, 1000)\n",
      "accuracy:  0.486 \n",
      "\n",
      "BOW shape:  (5000, 1000)\n",
      "accuracy:  0.555 \n",
      "\n",
      "BOW shape:  (5000, 1000)\n",
      "accuracy:  0.558 \n",
      "\n",
      "BOW shape:  (5000, 1000)\n",
      "accuracy:  0.61 \n",
      "\n",
      "BOW shape:  (5000, 1000)\n",
      "80\n",
      "accuracy:  0.603 \n",
      "\n",
      "BOW shape:  (5000, 1000)\n"
     ]
    },
    {
     "name": "stderr",
     "output_type": "stream",
     "text": [
      "\r",
      " 67%|██████████████████████████████████████████████▋                       | 2/3 [01:08<00:37, 37.84s/it]"
     ]
    },
    {
     "name": "stdout",
     "output_type": "stream",
     "text": [
      "accuracy:  0.605 \n",
      "\n",
      "BOW shape:  (5000, 9211)\n",
      "accuracy:  0.567 \n",
      "\n",
      "BOW shape:  (5000, 9211)\n",
      "accuracy:  0.609 \n",
      "\n",
      "BOW shape:  (5000, 10000)\n",
      "accuracy:  0.551 \n",
      "\n",
      "BOW shape:  (5000, 10000)\n",
      "accuracy:  0.556 \n",
      "\n",
      "BOW shape:  (5000, 10000)\n",
      "accuracy:  0.565 \n",
      "\n",
      "BOW shape:  (5000, 10000)\n",
      "accuracy:  0.603 \n",
      "\n",
      "BOW shape:  (5000, 10000)\n",
      "accuracy:  0.602 \n",
      "\n",
      "BOW shape:  (5000, 10000)\n",
      "accuracy:  0.607 \n",
      "\n",
      "BOW shape:  (5000, 9122)\n",
      "90\n",
      "accuracy:  0.585 \n",
      "\n",
      "BOW shape:  (5000, 9122)\n",
      "accuracy:  0.516 \n",
      "\n",
      "BOW shape:  (5000, 10000)\n",
      "accuracy:  0.543 \n",
      "\n",
      "BOW shape:  (5000, 10000)\n",
      "accuracy:  0.543 \n",
      "\n",
      "BOW shape:  (5000, 10000)\n",
      "accuracy:  0.586 \n",
      "\n",
      "BOW shape:  (5000, 10000)\n",
      "accuracy:  0.559 \n",
      "\n",
      "BOW shape:  (5000, 10000)\n",
      "accuracy:  0.583 \n",
      "\n",
      "BOW shape:  (5000, 10000)\n",
      "accuracy:  0.515 \n",
      "\n",
      "BOW shape:  (5000, 7922)\n",
      "accuracy:  0.54 \n",
      "\n",
      "BOW shape:  (5000, 7922)\n",
      "accuracy:  0.589 \n",
      "\n",
      "BOW shape:  (5000, 10000)\n",
      "100\n",
      "accuracy:  0.547 \n",
      "\n",
      "BOW shape:  (5000, 10000)\n",
      "accuracy:  0.551 \n",
      "\n",
      "BOW shape:  (5000, 10000)\n",
      "accuracy:  0.596 \n",
      "\n",
      "BOW shape:  (5000, 10000)\n",
      "accuracy:  0.628 \n",
      "\n",
      "BOW shape:  (5000, 10000)\n",
      "accuracy:  0.597 \n",
      "\n",
      "BOW shape:  (5000, 10000)\n",
      "accuracy:  0.629 \n",
      "\n",
      "BOW shape:  (5000, 7231)\n",
      "accuracy:  0.569 \n",
      "\n",
      "BOW shape:  (5000, 7231)\n",
      "accuracy:  0.617 \n",
      "\n",
      "BOW shape:  (5000, 10000)\n",
      "accuracy:  0.546 \n",
      "\n",
      "BOW shape:  (5000, 10000)\n",
      "accuracy:  0.555 \n",
      "\n",
      "BOW shape:  (5000, 10000)\n",
      "110\n",
      "accuracy:  0.608 \n",
      "\n",
      "BOW shape:  (5000, 10000)\n",
      "accuracy:  0.579 \n",
      "\n",
      "BOW shape:  (5000, 10000)\n",
      "accuracy:  0.62 \n",
      "\n",
      "BOW shape:  (5000, 10000)\n",
      "accuracy:  0.579 \n",
      "\n",
      "BOW shape:  (5000, 8659)\n",
      "accuracy:  0.561 \n",
      "\n",
      "BOW shape:  (5000, 8659)\n",
      "accuracy:  0.553 \n",
      "\n",
      "BOW shape:  (5000, 10000)\n",
      "accuracy:  0.553 \n",
      "\n",
      "BOW shape:  (5000, 10000)\n",
      "accuracy:  0.556 \n",
      "\n",
      "BOW shape:  (5000, 10000)\n",
      "accuracy:  0.546 \n",
      "\n",
      "BOW shape:  (5000, 10000)\n",
      "accuracy:  0.606 \n",
      "\n",
      "BOW shape:  (5000, 10000)\n",
      "120\n",
      "accuracy:  0.544 \n",
      "\n",
      "BOW shape:  (5000, 10000)\n"
     ]
    },
    {
     "name": "stderr",
     "output_type": "stream",
     "text": [
      "100%|█████████████████████████████████████████████████████████████████████| 3/3 [15:31<00:00, 310.48s/it]"
     ]
    },
    {
     "name": "stdout",
     "output_type": "stream",
     "text": [
      "accuracy:  0.61 \n",
      "\n"
     ]
    },
    {
     "name": "stderr",
     "output_type": "stream",
     "text": [
      "\n"
     ]
    }
   ],
   "source": [
    "param_tracker = trainModels(v1_train_X, v1_train_y, vocab_sizes, text_columns, ngrams, vectorizers, models, param_grid)"
   ]
  },
  {
   "cell_type": "code",
   "execution_count": 15,
   "metadata": {
    "executionInfo": {
     "elapsed": 17,
     "status": "ok",
     "timestamp": 1670809079194,
     "user": {
      "displayName": "Tanner Ducharme",
      "userId": "10129333221032718302"
     },
     "user_tz": 300
    },
    "id": "G9kDEHvjF66V"
   },
   "outputs": [],
   "source": [
    "param_df = pd.DataFrame(param_tracker,)\n",
    "param_df = param_df.sort_values(by='accuracy', ascending=False).reset_index(drop=True)\n"
   ]
  },
  {
   "cell_type": "code",
   "execution_count": 16,
   "metadata": {},
   "outputs": [
    {
     "data": {
      "text/html": [
       "<div>\n",
       "<style scoped>\n",
       "    .dataframe tbody tr th:only-of-type {\n",
       "        vertical-align: middle;\n",
       "    }\n",
       "\n",
       "    .dataframe tbody tr th {\n",
       "        vertical-align: top;\n",
       "    }\n",
       "\n",
       "    .dataframe thead th {\n",
       "        text-align: right;\n",
       "    }\n",
       "</style>\n",
       "<table border=\"1\" class=\"dataframe\">\n",
       "  <thead>\n",
       "    <tr style=\"text-align: right;\">\n",
       "      <th></th>\n",
       "      <th>vocab_size</th>\n",
       "      <th>model_name</th>\n",
       "      <th>text_column</th>\n",
       "      <th>ngram</th>\n",
       "      <th>vectorizer</th>\n",
       "      <th>splitting_criterion</th>\n",
       "      <th>tree_max_depth</th>\n",
       "      <th>tree_max_features</th>\n",
       "      <th>accuracy</th>\n",
       "    </tr>\n",
       "  </thead>\n",
       "  <tbody>\n",
       "    <tr>\n",
       "      <th>0</th>\n",
       "      <td>10000</td>\n",
       "      <td>DecisionTreeClassifier()</td>\n",
       "      <td>text_porter_stemmed</td>\n",
       "      <td>(1, 3)</td>\n",
       "      <td>CountVectorizer</td>\n",
       "      <td>gini</td>\n",
       "      <td>7</td>\n",
       "      <td>None</td>\n",
       "      <td>0.629</td>\n",
       "    </tr>\n",
       "    <tr>\n",
       "      <th>1</th>\n",
       "      <td>1000</td>\n",
       "      <td>DecisionTreeClassifier()</td>\n",
       "      <td>text_lancaster_stemmed</td>\n",
       "      <td>(1, 2)</td>\n",
       "      <td>CountVectorizer</td>\n",
       "      <td>gini</td>\n",
       "      <td>7</td>\n",
       "      <td>None</td>\n",
       "      <td>0.628</td>\n",
       "    </tr>\n",
       "    <tr>\n",
       "      <th>2</th>\n",
       "      <td>10000</td>\n",
       "      <td>DecisionTreeClassifier()</td>\n",
       "      <td>text_porter_stemmed</td>\n",
       "      <td>(1, 2)</td>\n",
       "      <td>CountVectorizer</td>\n",
       "      <td>gini</td>\n",
       "      <td>7</td>\n",
       "      <td>None</td>\n",
       "      <td>0.628</td>\n",
       "    </tr>\n",
       "    <tr>\n",
       "      <th>3</th>\n",
       "      <td>1000</td>\n",
       "      <td>DecisionTreeClassifier()</td>\n",
       "      <td>text_porter_stemmed</td>\n",
       "      <td>(1, 1)</td>\n",
       "      <td>CountVectorizer</td>\n",
       "      <td>gini</td>\n",
       "      <td>7</td>\n",
       "      <td>None</td>\n",
       "      <td>0.624</td>\n",
       "    </tr>\n",
       "    <tr>\n",
       "      <th>4</th>\n",
       "      <td>1000</td>\n",
       "      <td>DecisionTreeClassifier()</td>\n",
       "      <td>text_porter_stemmed</td>\n",
       "      <td>(1, 3)</td>\n",
       "      <td>CountVectorizer</td>\n",
       "      <td>gini</td>\n",
       "      <td>7</td>\n",
       "      <td>None</td>\n",
       "      <td>0.624</td>\n",
       "    </tr>\n",
       "    <tr>\n",
       "      <th>...</th>\n",
       "      <td>...</td>\n",
       "      <td>...</td>\n",
       "      <td>...</td>\n",
       "      <td>...</td>\n",
       "      <td>...</td>\n",
       "      <td>...</td>\n",
       "      <td>...</td>\n",
       "      <td>...</td>\n",
       "      <td>...</td>\n",
       "    </tr>\n",
       "    <tr>\n",
       "      <th>115</th>\n",
       "      <td>1000</td>\n",
       "      <td>DecisionTreeClassifier()</td>\n",
       "      <td>text_no_sw</td>\n",
       "      <td>(1, 1)</td>\n",
       "      <td>TfidfVectorizer</td>\n",
       "      <td>gini</td>\n",
       "      <td>3</td>\n",
       "      <td>None</td>\n",
       "      <td>0.498</td>\n",
       "    </tr>\n",
       "    <tr>\n",
       "      <th>116</th>\n",
       "      <td>1000</td>\n",
       "      <td>DecisionTreeClassifier()</td>\n",
       "      <td>text_lemmatized</td>\n",
       "      <td>(2, 2)</td>\n",
       "      <td>TfidfVectorizer</td>\n",
       "      <td>gini</td>\n",
       "      <td>5</td>\n",
       "      <td>None</td>\n",
       "      <td>0.486</td>\n",
       "    </tr>\n",
       "    <tr>\n",
       "      <th>117</th>\n",
       "      <td>100</td>\n",
       "      <td>DecisionTreeClassifier()</td>\n",
       "      <td>text_lancaster_stemmed</td>\n",
       "      <td>(2, 2)</td>\n",
       "      <td>TfidfVectorizer</td>\n",
       "      <td>gini</td>\n",
       "      <td>5</td>\n",
       "      <td>sqrt</td>\n",
       "      <td>0.486</td>\n",
       "    </tr>\n",
       "    <tr>\n",
       "      <th>118</th>\n",
       "      <td>100</td>\n",
       "      <td>DecisionTreeClassifier()</td>\n",
       "      <td>text_lemmatized</td>\n",
       "      <td>(2, 2)</td>\n",
       "      <td>TfidfVectorizer</td>\n",
       "      <td>gini</td>\n",
       "      <td>5</td>\n",
       "      <td>None</td>\n",
       "      <td>0.485</td>\n",
       "    </tr>\n",
       "    <tr>\n",
       "      <th>119</th>\n",
       "      <td>1000</td>\n",
       "      <td>DecisionTreeClassifier()</td>\n",
       "      <td>text_lancaster_stemmed</td>\n",
       "      <td>(1, 3)</td>\n",
       "      <td>CountVectorizer</td>\n",
       "      <td>gini</td>\n",
       "      <td>7</td>\n",
       "      <td>log2</td>\n",
       "      <td>0.478</td>\n",
       "    </tr>\n",
       "  </tbody>\n",
       "</table>\n",
       "<p>120 rows × 9 columns</p>\n",
       "</div>"
      ],
      "text/plain": [
       "     vocab_size                model_name             text_column   ngram  \\\n",
       "0         10000  DecisionTreeClassifier()     text_porter_stemmed  (1, 3)   \n",
       "1          1000  DecisionTreeClassifier()  text_lancaster_stemmed  (1, 2)   \n",
       "2         10000  DecisionTreeClassifier()     text_porter_stemmed  (1, 2)   \n",
       "3          1000  DecisionTreeClassifier()     text_porter_stemmed  (1, 1)   \n",
       "4          1000  DecisionTreeClassifier()     text_porter_stemmed  (1, 3)   \n",
       "..          ...                       ...                     ...     ...   \n",
       "115        1000  DecisionTreeClassifier()              text_no_sw  (1, 1)   \n",
       "116        1000  DecisionTreeClassifier()         text_lemmatized  (2, 2)   \n",
       "117         100  DecisionTreeClassifier()  text_lancaster_stemmed  (2, 2)   \n",
       "118         100  DecisionTreeClassifier()         text_lemmatized  (2, 2)   \n",
       "119        1000  DecisionTreeClassifier()  text_lancaster_stemmed  (1, 3)   \n",
       "\n",
       "          vectorizer splitting_criterion  tree_max_depth tree_max_features  \\\n",
       "0    CountVectorizer                gini               7              None   \n",
       "1    CountVectorizer                gini               7              None   \n",
       "2    CountVectorizer                gini               7              None   \n",
       "3    CountVectorizer                gini               7              None   \n",
       "4    CountVectorizer                gini               7              None   \n",
       "..               ...                 ...             ...               ...   \n",
       "115  TfidfVectorizer                gini               3              None   \n",
       "116  TfidfVectorizer                gini               5              None   \n",
       "117  TfidfVectorizer                gini               5              sqrt   \n",
       "118  TfidfVectorizer                gini               5              None   \n",
       "119  CountVectorizer                gini               7              log2   \n",
       "\n",
       "     accuracy  \n",
       "0       0.629  \n",
       "1       0.628  \n",
       "2       0.628  \n",
       "3       0.624  \n",
       "4       0.624  \n",
       "..        ...  \n",
       "115     0.498  \n",
       "116     0.486  \n",
       "117     0.486  \n",
       "118     0.485  \n",
       "119     0.478  \n",
       "\n",
       "[120 rows x 9 columns]"
      ]
     },
     "execution_count": 16,
     "metadata": {},
     "output_type": "execute_result"
    }
   ],
   "source": [
    "param_df"
   ]
  },
  {
   "cell_type": "markdown",
   "metadata": {
    "id": "0z4jQNaR75EB"
   },
   "source": [
    "saving and loading results"
   ]
  },
  {
   "cell_type": "code",
   "execution_count": 17,
   "metadata": {
    "executionInfo": {
     "elapsed": 731,
     "status": "ok",
     "timestamp": 1670809079911,
     "user": {
      "displayName": "Tanner Ducharme",
      "userId": "10129333221032718302"
     },
     "user_tz": 300
    },
    "id": "hoelNi5NF66V"
   },
   "outputs": [],
   "source": [
    "param_df.to_csv('data/output/decision_tree/decision_tree_params.csv', index=False)\n"
   ]
  },
  {
   "cell_type": "code",
   "execution_count": 18,
   "metadata": {
    "colab": {
     "base_uri": "https://localhost:8080/",
     "height": 143
    },
    "executionInfo": {
     "elapsed": 246,
     "status": "ok",
     "timestamp": 1670809080155,
     "user": {
      "displayName": "Tanner Ducharme",
      "userId": "10129333221032718302"
     },
     "user_tz": 300
    },
    "id": "upCChfyfF66W",
    "outputId": "09f06535-ce50-4d3c-d0a1-6b7490a3addd"
   },
   "outputs": [
    {
     "data": {
      "text/html": [
       "<div>\n",
       "<style scoped>\n",
       "    .dataframe tbody tr th:only-of-type {\n",
       "        vertical-align: middle;\n",
       "    }\n",
       "\n",
       "    .dataframe tbody tr th {\n",
       "        vertical-align: top;\n",
       "    }\n",
       "\n",
       "    .dataframe thead th {\n",
       "        text-align: right;\n",
       "    }\n",
       "</style>\n",
       "<table border=\"1\" class=\"dataframe\">\n",
       "  <thead>\n",
       "    <tr style=\"text-align: right;\">\n",
       "      <th></th>\n",
       "      <th>vocab_size</th>\n",
       "      <th>model_name</th>\n",
       "      <th>text_column</th>\n",
       "      <th>ngram</th>\n",
       "      <th>vectorizer</th>\n",
       "      <th>splitting_criterion</th>\n",
       "      <th>tree_max_depth</th>\n",
       "      <th>tree_max_features</th>\n",
       "      <th>accuracy</th>\n",
       "    </tr>\n",
       "  </thead>\n",
       "  <tbody>\n",
       "    <tr>\n",
       "      <th>0</th>\n",
       "      <td>10000</td>\n",
       "      <td>DecisionTreeClassifier()</td>\n",
       "      <td>text_porter_stemmed</td>\n",
       "      <td>(1, 3)</td>\n",
       "      <td>CountVectorizer</td>\n",
       "      <td>gini</td>\n",
       "      <td>7</td>\n",
       "      <td>None</td>\n",
       "      <td>0.629</td>\n",
       "    </tr>\n",
       "    <tr>\n",
       "      <th>1</th>\n",
       "      <td>1000</td>\n",
       "      <td>DecisionTreeClassifier()</td>\n",
       "      <td>text_lancaster_stemmed</td>\n",
       "      <td>(1, 2)</td>\n",
       "      <td>CountVectorizer</td>\n",
       "      <td>gini</td>\n",
       "      <td>7</td>\n",
       "      <td>None</td>\n",
       "      <td>0.628</td>\n",
       "    </tr>\n",
       "    <tr>\n",
       "      <th>2</th>\n",
       "      <td>10000</td>\n",
       "      <td>DecisionTreeClassifier()</td>\n",
       "      <td>text_porter_stemmed</td>\n",
       "      <td>(1, 2)</td>\n",
       "      <td>CountVectorizer</td>\n",
       "      <td>gini</td>\n",
       "      <td>7</td>\n",
       "      <td>None</td>\n",
       "      <td>0.628</td>\n",
       "    </tr>\n",
       "  </tbody>\n",
       "</table>\n",
       "</div>"
      ],
      "text/plain": [
       "   vocab_size                model_name             text_column   ngram  \\\n",
       "0       10000  DecisionTreeClassifier()     text_porter_stemmed  (1, 3)   \n",
       "1        1000  DecisionTreeClassifier()  text_lancaster_stemmed  (1, 2)   \n",
       "2       10000  DecisionTreeClassifier()     text_porter_stemmed  (1, 2)   \n",
       "\n",
       "        vectorizer splitting_criterion  tree_max_depth tree_max_features  \\\n",
       "0  CountVectorizer                gini               7              None   \n",
       "1  CountVectorizer                gini               7              None   \n",
       "2  CountVectorizer                gini               7              None   \n",
       "\n",
       "   accuracy  \n",
       "0     0.629  \n",
       "1     0.628  \n",
       "2     0.628  "
      ]
     },
     "execution_count": 18,
     "metadata": {},
     "output_type": "execute_result"
    }
   ],
   "source": [
    "param_df = pd.read_csv('data/output/decision_tree/decision_tree_params.csv')\n",
    "param_df['ngram'] = [(int(ng[1]), int(ng[4])) for ng in param_df['ngram'].values]\n",
    "param_df = param_df.replace({np.nan: None})\n",
    "param_df.head(3)\n"
   ]
  },
  {
   "cell_type": "markdown",
   "metadata": {
    "id": "FQbmbiQb77Wl"
   },
   "source": [
    "get best 20 combinations and train on more data"
   ]
  },
  {
   "cell_type": "code",
   "execution_count": 19,
   "metadata": {
    "executionInfo": {
     "elapsed": 2,
     "status": "ok",
     "timestamp": 1670809743189,
     "user": {
      "displayName": "Tanner Ducharme",
      "userId": "10129333221032718302"
     },
     "user_tz": 300
    },
    "id": "N67MJ8NDF66X"
   },
   "outputs": [],
   "source": [
    "top_10_params = param_df[:10]\n",
    "\n",
    "# for cross validation, num folds   \n",
    "k = 3"
   ]
  },
  {
   "cell_type": "code",
   "execution_count": 20,
   "metadata": {
    "executionInfo": {
     "elapsed": 1576,
     "status": "ok",
     "timestamp": 1670809745610,
     "user": {
      "displayName": "Tanner Ducharme",
      "userId": "10129333221032718302"
     },
     "user_tz": 300
    },
    "id": "xrUm-DVANyMM"
   },
   "outputs": [],
   "source": [
    "sample_size=50_000\n",
    "v2_data = all_train_data.sample(sample_size).reset_index(drop=True)\n",
    "v2_train_X = v2_data.iloc[:, :-1]\n",
    "v2_train_y  = v2_data.iloc[:, -1]"
   ]
  },
  {
   "cell_type": "code",
   "execution_count": 25,
   "metadata": {
    "colab": {
     "base_uri": "https://localhost:8080/"
    },
    "executionInfo": {
     "elapsed": 1331441,
     "status": "ok",
     "timestamp": 1670811078267,
     "user": {
      "displayName": "Tanner Ducharme",
      "userId": "10129333221032718302"
     },
     "user_tz": 300
    },
    "id": "Wsg4SExKF66X",
    "outputId": "bb9155e6-2a07-4161-b253-0b54d0ccb2c4"
   },
   "outputs": [
    {
     "name": "stderr",
     "output_type": "stream",
     "text": [
      "\r",
      "  0%|                                                                             | 0/10 [00:00<?, ?it/s]"
     ]
    },
    {
     "name": "stdout",
     "output_type": "stream",
     "text": [
      "10000 DecisionTreeClassifier() text_lancaster_stemmed (1, 3) TfidfVectorizer gini 7 None\n",
      "\n",
      "\n",
      "vectorizing\n",
      "creating BOW\n",
      "fitting fold\n",
      "fold acc:  0.5839683206335873\n",
      "fitting fold\n",
      "fold acc:  0.5859482810343793\n",
      "fitting fold\n"
     ]
    },
    {
     "name": "stderr",
     "output_type": "stream",
     "text": [
      "\r",
      " 10%|██████▉                                                              | 1/10 [00:07<01:10,  7.85s/it]"
     ]
    },
    {
     "name": "stdout",
     "output_type": "stream",
     "text": [
      "fold acc:  0.5853834153366134\n",
      "0.5851000056681933 \n",
      "\n",
      "\n",
      "1000 DecisionTreeClassifier() text_lancaster_stemmed (1, 3) TfidfVectorizer gini 7 None\n",
      "\n",
      "\n",
      "vectorizing\n",
      "creating BOW\n"
     ]
    },
    {
     "name": "stderr",
     "output_type": "stream",
     "text": [
      " 10%|██████▉                                                              | 1/10 [00:12<01:54, 12.74s/it]\n"
     ]
    },
    {
     "ename": "KeyboardInterrupt",
     "evalue": "",
     "output_type": "error",
     "traceback": [
      "\u001b[0;31m---------------------------------------------------------------------------\u001b[0m",
      "\u001b[0;31mKeyboardInterrupt\u001b[0m                         Traceback (most recent call last)",
      "\u001b[0;32m/var/folders/9g/0dtmfj9d405bv9y4fj50w6wr0000gq/T/ipykernel_21311/3889764947.py\u001b[0m in \u001b[0;36m<module>\u001b[0;34m\u001b[0m\n\u001b[1;32m     35\u001b[0m     \u001b[0mprint\u001b[0m\u001b[0;34m(\u001b[0m\u001b[0;34m'creating BOW'\u001b[0m\u001b[0;34m)\u001b[0m\u001b[0;34m\u001b[0m\u001b[0;34m\u001b[0m\u001b[0m\n\u001b[1;32m     36\u001b[0m \u001b[0;34m\u001b[0m\u001b[0m\n\u001b[0;32m---> 37\u001b[0;31m     \u001b[0mBOW\u001b[0m \u001b[0;34m=\u001b[0m \u001b[0mmodel_vectorizer\u001b[0m\u001b[0;34m.\u001b[0m\u001b[0mfit_transform\u001b[0m\u001b[0;34m(\u001b[0m\u001b[0mv2_train_X\u001b[0m\u001b[0;34m[\u001b[0m\u001b[0mtext_column\u001b[0m\u001b[0;34m]\u001b[0m\u001b[0;34m)\u001b[0m\u001b[0;34m\u001b[0m\u001b[0;34m\u001b[0m\u001b[0m\n\u001b[0m\u001b[1;32m     38\u001b[0m \u001b[0;34m\u001b[0m\u001b[0m\n\u001b[1;32m     39\u001b[0m \u001b[0;34m\u001b[0m\u001b[0m\n",
      "\u001b[0;32m~/Desktop/MILA/Fall2022/IFT6390 - ML/kaggle/ift6390-kaggle-2/env/lib/python3.7/site-packages/sklearn/feature_extraction/text.py\u001b[0m in \u001b[0;36mfit_transform\u001b[0;34m(self, raw_documents, y)\u001b[0m\n\u001b[1;32m   2075\u001b[0m         \"\"\"\n\u001b[1;32m   2076\u001b[0m         \u001b[0mself\u001b[0m\u001b[0;34m.\u001b[0m\u001b[0m_check_params\u001b[0m\u001b[0;34m(\u001b[0m\u001b[0;34m)\u001b[0m\u001b[0;34m\u001b[0m\u001b[0;34m\u001b[0m\u001b[0m\n\u001b[0;32m-> 2077\u001b[0;31m         \u001b[0mX\u001b[0m \u001b[0;34m=\u001b[0m \u001b[0msuper\u001b[0m\u001b[0;34m(\u001b[0m\u001b[0;34m)\u001b[0m\u001b[0;34m.\u001b[0m\u001b[0mfit_transform\u001b[0m\u001b[0;34m(\u001b[0m\u001b[0mraw_documents\u001b[0m\u001b[0;34m)\u001b[0m\u001b[0;34m\u001b[0m\u001b[0;34m\u001b[0m\u001b[0m\n\u001b[0m\u001b[1;32m   2078\u001b[0m         \u001b[0mself\u001b[0m\u001b[0;34m.\u001b[0m\u001b[0m_tfidf\u001b[0m\u001b[0;34m.\u001b[0m\u001b[0mfit\u001b[0m\u001b[0;34m(\u001b[0m\u001b[0mX\u001b[0m\u001b[0;34m)\u001b[0m\u001b[0;34m\u001b[0m\u001b[0;34m\u001b[0m\u001b[0m\n\u001b[1;32m   2079\u001b[0m         \u001b[0;31m# X is already a transformed view of raw_documents so\u001b[0m\u001b[0;34m\u001b[0m\u001b[0;34m\u001b[0m\u001b[0;34m\u001b[0m\u001b[0m\n",
      "\u001b[0;32m~/Desktop/MILA/Fall2022/IFT6390 - ML/kaggle/ift6390-kaggle-2/env/lib/python3.7/site-packages/sklearn/feature_extraction/text.py\u001b[0m in \u001b[0;36mfit_transform\u001b[0;34m(self, raw_documents, y)\u001b[0m\n\u001b[1;32m   1346\u001b[0m                 \u001b[0mX\u001b[0m \u001b[0;34m=\u001b[0m \u001b[0mself\u001b[0m\u001b[0;34m.\u001b[0m\u001b[0m_sort_features\u001b[0m\u001b[0;34m(\u001b[0m\u001b[0mX\u001b[0m\u001b[0;34m,\u001b[0m \u001b[0mvocabulary\u001b[0m\u001b[0;34m)\u001b[0m\u001b[0;34m\u001b[0m\u001b[0;34m\u001b[0m\u001b[0m\n\u001b[1;32m   1347\u001b[0m             X, self.stop_words_ = self._limit_features(\n\u001b[0;32m-> 1348\u001b[0;31m                 \u001b[0mX\u001b[0m\u001b[0;34m,\u001b[0m \u001b[0mvocabulary\u001b[0m\u001b[0;34m,\u001b[0m \u001b[0mmax_doc_count\u001b[0m\u001b[0;34m,\u001b[0m \u001b[0mmin_doc_count\u001b[0m\u001b[0;34m,\u001b[0m \u001b[0mmax_features\u001b[0m\u001b[0;34m\u001b[0m\u001b[0;34m\u001b[0m\u001b[0m\n\u001b[0m\u001b[1;32m   1349\u001b[0m             )\n\u001b[1;32m   1350\u001b[0m             \u001b[0;32mif\u001b[0m \u001b[0mmax_features\u001b[0m \u001b[0;32mis\u001b[0m \u001b[0;32mNone\u001b[0m\u001b[0;34m:\u001b[0m\u001b[0;34m\u001b[0m\u001b[0;34m\u001b[0m\u001b[0m\n",
      "\u001b[0;32m~/Desktop/MILA/Fall2022/IFT6390 - ML/kaggle/ift6390-kaggle-2/env/lib/python3.7/site-packages/sklearn/feature_extraction/text.py\u001b[0m in \u001b[0;36m_limit_features\u001b[0;34m(self, X, vocabulary, high, low, limit)\u001b[0m\n\u001b[1;32m   1170\u001b[0m         \u001b[0mremoved_terms\u001b[0m \u001b[0;34m=\u001b[0m \u001b[0mset\u001b[0m\u001b[0;34m(\u001b[0m\u001b[0;34m)\u001b[0m\u001b[0;34m\u001b[0m\u001b[0;34m\u001b[0m\u001b[0m\n\u001b[1;32m   1171\u001b[0m         \u001b[0;32mfor\u001b[0m \u001b[0mterm\u001b[0m\u001b[0;34m,\u001b[0m \u001b[0mold_index\u001b[0m \u001b[0;32min\u001b[0m \u001b[0mlist\u001b[0m\u001b[0;34m(\u001b[0m\u001b[0mvocabulary\u001b[0m\u001b[0;34m.\u001b[0m\u001b[0mitems\u001b[0m\u001b[0;34m(\u001b[0m\u001b[0;34m)\u001b[0m\u001b[0;34m)\u001b[0m\u001b[0;34m:\u001b[0m\u001b[0;34m\u001b[0m\u001b[0;34m\u001b[0m\u001b[0m\n\u001b[0;32m-> 1172\u001b[0;31m             \u001b[0;32mif\u001b[0m \u001b[0mmask\u001b[0m\u001b[0;34m[\u001b[0m\u001b[0mold_index\u001b[0m\u001b[0;34m]\u001b[0m\u001b[0;34m:\u001b[0m\u001b[0;34m\u001b[0m\u001b[0;34m\u001b[0m\u001b[0m\n\u001b[0m\u001b[1;32m   1173\u001b[0m                 \u001b[0mvocabulary\u001b[0m\u001b[0;34m[\u001b[0m\u001b[0mterm\u001b[0m\u001b[0;34m]\u001b[0m \u001b[0;34m=\u001b[0m \u001b[0mnew_indices\u001b[0m\u001b[0;34m[\u001b[0m\u001b[0mold_index\u001b[0m\u001b[0;34m]\u001b[0m\u001b[0;34m\u001b[0m\u001b[0;34m\u001b[0m\u001b[0m\n\u001b[1;32m   1174\u001b[0m             \u001b[0;32melse\u001b[0m\u001b[0;34m:\u001b[0m\u001b[0;34m\u001b[0m\u001b[0;34m\u001b[0m\u001b[0m\n",
      "\u001b[0;31mKeyboardInterrupt\u001b[0m: "
     ]
    }
   ],
   "source": [
    "\n",
    "model_accuracy = []\n",
    "predictions = []\n",
    "for i, param_set in enumerate(tqdm(top_10_params.values)):\n",
    "    (vocab_size, \n",
    "     model_type, \n",
    "     text_column, \n",
    "     ngram, \n",
    "     vectorizer, \n",
    "     criterion, \n",
    "     max_depth,\n",
    "     max_features, \n",
    "     *_) = param_set\n",
    "    \n",
    "\n",
    "    \n",
    "    print(vocab_size, model_type, text_column, ngram, vectorizer, criterion, max_depth, max_features)\n",
    "    print('\\n')\n",
    "    \n",
    "    if vocab_size:\n",
    "        vocab_size = int(vocab_size)\n",
    "        \n",
    "        \n",
    "    if vectorizer == 'TfidfVectorizer':\n",
    "        vectorizer = TfidfVectorizer\n",
    "    elif vectorizer == 'CountVectorizer':\n",
    "        vectorizer = CountVectorizer\n",
    "\n",
    "    else:\n",
    "        print('warning, unrecognized vectorizer!')\n",
    "        print(i, param_set)\n",
    "    \n",
    "    print('vectorizing')\n",
    "    model_vectorizer = vectorizer(max_features=vocab_size, ngram_range=ngram)\n",
    "\n",
    "    print('creating BOW')\n",
    "    \n",
    "    BOW = model_vectorizer.fit_transform(v2_train_X[text_column])\n",
    "    \n",
    "    \n",
    "    kfolds = KFold(n_splits=k)\n",
    "    model = DecisionTreeClassifier(criterion=criterion, max_depth=max_depth, max_features=max_features)\n",
    "    \n",
    "    acc_score = []\n",
    "    for train_index , valid_index in kfolds.split(BOW):\n",
    "        X_train , X_test = BOW[train_index,:],BOW[valid_index,:]\n",
    "        y_train , y_test = v2_train_y[train_index] , v2_train_y[valid_index]\n",
    "        \n",
    "        print('fitting fold')\n",
    "        model.fit(X_train,y_train)\n",
    "        pred_values = model.predict(X_test)\n",
    "\n",
    "        acc = accuracy_score(pred_values , y_test)\n",
    "        print('fold acc: ', acc)\n",
    "        acc_score.append(acc)\n",
    "        \n",
    "        pred_probs = model.predict_proba(X_test)\n",
    "\n",
    "    mean_acc = sum(acc_score)/len(acc_score)\n",
    "    \n",
    "    print(mean_acc, '\\n\\n')\n",
    "    model_accuracy.append(mean_acc)\n",
    "    predictions.append(pred_probs)\n",
    "    \n"
   ]
  },
  {
   "cell_type": "code",
   "execution_count": 22,
   "metadata": {
    "colab": {
     "base_uri": "https://localhost:8080/"
    },
    "executionInfo": {
     "elapsed": 35,
     "status": "ok",
     "timestamp": 1670811078267,
     "user": {
      "displayName": "Tanner Ducharme",
      "userId": "10129333221032718302"
     },
     "user_tz": 300
    },
    "id": "aPnf5axzF66Y",
    "outputId": "c65eb6c9-0ae7-45c9-fe16-22ef4c7cb3ce"
   },
   "outputs": [
    {
     "data": {
      "text/plain": [
       "[0.580199812060401,\n",
       " 0.5827399016642252,\n",
       " 0.5800798168604011,\n",
       " 0.5798598056600012,\n",
       " 0.579879822060345,\n",
       " 0.5852400580693534,\n",
       " 0.5852800068683615,\n",
       " 0.5812599612642332,\n",
       " 0.5840400472681774,\n",
       " 0.5804600768659053]"
      ]
     },
     "execution_count": 22,
     "metadata": {},
     "output_type": "execute_result"
    }
   ],
   "source": [
    "model_accuracy"
   ]
  },
  {
   "cell_type": "code",
   "execution_count": 23,
   "metadata": {
    "colab": {
     "base_uri": "https://localhost:8080/",
     "height": 784
    },
    "executionInfo": {
     "elapsed": 19,
     "status": "ok",
     "timestamp": 1670811078268,
     "user": {
      "displayName": "Tanner Ducharme",
      "userId": "10129333221032718302"
     },
     "user_tz": 300
    },
    "id": "WwB-p0a2F66Y",
    "outputId": "781f2b40-14eb-4316-d47f-426503849f4f"
   },
   "outputs": [
    {
     "name": "stderr",
     "output_type": "stream",
     "text": [
      "/Users/Tanner1/Desktop/MILA/Fall2022/IFT6390 - ML/kaggle/ift6390-kaggle-2/env/lib/python3.7/site-packages/ipykernel_launcher.py:1: SettingWithCopyWarning: \n",
      "A value is trying to be set on a copy of a slice from a DataFrame.\n",
      "Try using .loc[row_indexer,col_indexer] = value instead\n",
      "\n",
      "See the caveats in the documentation: https://pandas.pydata.org/pandas-docs/stable/user_guide/indexing.html#returning-a-view-versus-a-copy\n",
      "  \"\"\"Entry point for launching an IPython kernel.\n"
     ]
    },
    {
     "data": {
      "text/html": [
       "<div>\n",
       "<style scoped>\n",
       "    .dataframe tbody tr th:only-of-type {\n",
       "        vertical-align: middle;\n",
       "    }\n",
       "\n",
       "    .dataframe tbody tr th {\n",
       "        vertical-align: top;\n",
       "    }\n",
       "\n",
       "    .dataframe thead th {\n",
       "        text-align: right;\n",
       "    }\n",
       "</style>\n",
       "<table border=\"1\" class=\"dataframe\">\n",
       "  <thead>\n",
       "    <tr style=\"text-align: right;\">\n",
       "      <th></th>\n",
       "      <th>vocab_size</th>\n",
       "      <th>model_name</th>\n",
       "      <th>text_column</th>\n",
       "      <th>ngram</th>\n",
       "      <th>vectorizer</th>\n",
       "      <th>splitting_criterion</th>\n",
       "      <th>tree_max_depth</th>\n",
       "      <th>tree_max_features</th>\n",
       "      <th>accuracy</th>\n",
       "      <th>acc2</th>\n",
       "    </tr>\n",
       "  </thead>\n",
       "  <tbody>\n",
       "    <tr>\n",
       "      <th>0</th>\n",
       "      <td>10000</td>\n",
       "      <td>DecisionTreeClassifier()</td>\n",
       "      <td>text_lancaster_stemmed</td>\n",
       "      <td>(1, 3)</td>\n",
       "      <td>TfidfVectorizer</td>\n",
       "      <td>gini</td>\n",
       "      <td>7</td>\n",
       "      <td>None</td>\n",
       "      <td>0.620</td>\n",
       "      <td>0.58528</td>\n",
       "    </tr>\n",
       "    <tr>\n",
       "      <th>1</th>\n",
       "      <td>1000</td>\n",
       "      <td>DecisionTreeClassifier()</td>\n",
       "      <td>text_lancaster_stemmed</td>\n",
       "      <td>(1, 3)</td>\n",
       "      <td>TfidfVectorizer</td>\n",
       "      <td>gini</td>\n",
       "      <td>7</td>\n",
       "      <td>None</td>\n",
       "      <td>0.623</td>\n",
       "      <td>0.58524</td>\n",
       "    </tr>\n",
       "    <tr>\n",
       "      <th>2</th>\n",
       "      <td>1000</td>\n",
       "      <td>DecisionTreeClassifier()</td>\n",
       "      <td>text_lancaster_stemmed</td>\n",
       "      <td>(1, 2)</td>\n",
       "      <td>TfidfVectorizer</td>\n",
       "      <td>gini</td>\n",
       "      <td>7</td>\n",
       "      <td>None</td>\n",
       "      <td>0.619</td>\n",
       "      <td>0.58404</td>\n",
       "    </tr>\n",
       "    <tr>\n",
       "      <th>3</th>\n",
       "      <td>1000</td>\n",
       "      <td>DecisionTreeClassifier()</td>\n",
       "      <td>text_lancaster_stemmed</td>\n",
       "      <td>(1, 2)</td>\n",
       "      <td>CountVectorizer</td>\n",
       "      <td>gini</td>\n",
       "      <td>7</td>\n",
       "      <td>None</td>\n",
       "      <td>0.628</td>\n",
       "      <td>0.58274</td>\n",
       "    </tr>\n",
       "    <tr>\n",
       "      <th>4</th>\n",
       "      <td>1000</td>\n",
       "      <td>DecisionTreeClassifier()</td>\n",
       "      <td>text_lemmatized</td>\n",
       "      <td>(1, 1)</td>\n",
       "      <td>TfidfVectorizer</td>\n",
       "      <td>gini</td>\n",
       "      <td>7</td>\n",
       "      <td>None</td>\n",
       "      <td>0.620</td>\n",
       "      <td>0.58126</td>\n",
       "    </tr>\n",
       "    <tr>\n",
       "      <th>5</th>\n",
       "      <td>1000</td>\n",
       "      <td>DecisionTreeClassifier()</td>\n",
       "      <td>text_no_numerals</td>\n",
       "      <td>(1, 2)</td>\n",
       "      <td>TfidfVectorizer</td>\n",
       "      <td>gini</td>\n",
       "      <td>7</td>\n",
       "      <td>None</td>\n",
       "      <td>0.618</td>\n",
       "      <td>0.58046</td>\n",
       "    </tr>\n",
       "    <tr>\n",
       "      <th>6</th>\n",
       "      <td>10000</td>\n",
       "      <td>DecisionTreeClassifier()</td>\n",
       "      <td>text_porter_stemmed</td>\n",
       "      <td>(1, 3)</td>\n",
       "      <td>CountVectorizer</td>\n",
       "      <td>gini</td>\n",
       "      <td>7</td>\n",
       "      <td>None</td>\n",
       "      <td>0.629</td>\n",
       "      <td>0.58020</td>\n",
       "    </tr>\n",
       "    <tr>\n",
       "      <th>7</th>\n",
       "      <td>10000</td>\n",
       "      <td>DecisionTreeClassifier()</td>\n",
       "      <td>text_porter_stemmed</td>\n",
       "      <td>(1, 2)</td>\n",
       "      <td>CountVectorizer</td>\n",
       "      <td>gini</td>\n",
       "      <td>7</td>\n",
       "      <td>None</td>\n",
       "      <td>0.628</td>\n",
       "      <td>0.58008</td>\n",
       "    </tr>\n",
       "    <tr>\n",
       "      <th>8</th>\n",
       "      <td>1000</td>\n",
       "      <td>DecisionTreeClassifier()</td>\n",
       "      <td>text_porter_stemmed</td>\n",
       "      <td>(1, 3)</td>\n",
       "      <td>CountVectorizer</td>\n",
       "      <td>gini</td>\n",
       "      <td>7</td>\n",
       "      <td>None</td>\n",
       "      <td>0.624</td>\n",
       "      <td>0.57988</td>\n",
       "    </tr>\n",
       "    <tr>\n",
       "      <th>9</th>\n",
       "      <td>1000</td>\n",
       "      <td>DecisionTreeClassifier()</td>\n",
       "      <td>text_porter_stemmed</td>\n",
       "      <td>(1, 1)</td>\n",
       "      <td>CountVectorizer</td>\n",
       "      <td>gini</td>\n",
       "      <td>7</td>\n",
       "      <td>None</td>\n",
       "      <td>0.624</td>\n",
       "      <td>0.57986</td>\n",
       "    </tr>\n",
       "  </tbody>\n",
       "</table>\n",
       "</div>"
      ],
      "text/plain": [
       "   vocab_size                model_name             text_column   ngram  \\\n",
       "0       10000  DecisionTreeClassifier()  text_lancaster_stemmed  (1, 3)   \n",
       "1        1000  DecisionTreeClassifier()  text_lancaster_stemmed  (1, 3)   \n",
       "2        1000  DecisionTreeClassifier()  text_lancaster_stemmed  (1, 2)   \n",
       "3        1000  DecisionTreeClassifier()  text_lancaster_stemmed  (1, 2)   \n",
       "4        1000  DecisionTreeClassifier()         text_lemmatized  (1, 1)   \n",
       "5        1000  DecisionTreeClassifier()        text_no_numerals  (1, 2)   \n",
       "6       10000  DecisionTreeClassifier()     text_porter_stemmed  (1, 3)   \n",
       "7       10000  DecisionTreeClassifier()     text_porter_stemmed  (1, 2)   \n",
       "8        1000  DecisionTreeClassifier()     text_porter_stemmed  (1, 3)   \n",
       "9        1000  DecisionTreeClassifier()     text_porter_stemmed  (1, 1)   \n",
       "\n",
       "        vectorizer splitting_criterion  tree_max_depth tree_max_features  \\\n",
       "0  TfidfVectorizer                gini               7              None   \n",
       "1  TfidfVectorizer                gini               7              None   \n",
       "2  TfidfVectorizer                gini               7              None   \n",
       "3  CountVectorizer                gini               7              None   \n",
       "4  TfidfVectorizer                gini               7              None   \n",
       "5  TfidfVectorizer                gini               7              None   \n",
       "6  CountVectorizer                gini               7              None   \n",
       "7  CountVectorizer                gini               7              None   \n",
       "8  CountVectorizer                gini               7              None   \n",
       "9  CountVectorizer                gini               7              None   \n",
       "\n",
       "   accuracy     acc2  \n",
       "0     0.620  0.58528  \n",
       "1     0.623  0.58524  \n",
       "2     0.619  0.58404  \n",
       "3     0.628  0.58274  \n",
       "4     0.620  0.58126  \n",
       "5     0.618  0.58046  \n",
       "6     0.629  0.58020  \n",
       "7     0.628  0.58008  \n",
       "8     0.624  0.57988  \n",
       "9     0.624  0.57986  "
      ]
     },
     "execution_count": 23,
     "metadata": {},
     "output_type": "execute_result"
    }
   ],
   "source": [
    "top_10_params['acc2'] = model_accuracy\n",
    "top_10_params = top_10_params.sort_values(by='acc2', ascending=False).reset_index(drop=True)\n",
    "top_10_params"
   ]
  },
  {
   "cell_type": "markdown",
   "metadata": {
    "id": "AF9i_9WS8LCO"
   },
   "source": [
    "save and load results"
   ]
  },
  {
   "cell_type": "code",
   "execution_count": 24,
   "metadata": {
    "executionInfo": {
     "elapsed": 14,
     "status": "ok",
     "timestamp": 1670811078268,
     "user": {
      "displayName": "Tanner Ducharme",
      "userId": "10129333221032718302"
     },
     "user_tz": 300
    },
    "id": "_F9nhHL-F66Z"
   },
   "outputs": [],
   "source": [
    "top_10_params.to_csv('data/output/decision_tree/decision_tree_top_10_params.csv', index=False)"
   ]
  },
  {
   "cell_type": "code",
   "execution_count": 28,
   "metadata": {
    "colab": {
     "base_uri": "https://localhost:8080/",
     "height": 143
    },
    "executionInfo": {
     "elapsed": 239,
     "status": "ok",
     "timestamp": 1670812948172,
     "user": {
      "displayName": "Tanner Ducharme",
      "userId": "10129333221032718302"
     },
     "user_tz": 300
    },
    "id": "syB-EB40o95q",
    "outputId": "35966266-1131-49f5-f06a-5758047544b8"
   },
   "outputs": [
    {
     "data": {
      "text/html": [
       "<div>\n",
       "<style scoped>\n",
       "    .dataframe tbody tr th:only-of-type {\n",
       "        vertical-align: middle;\n",
       "    }\n",
       "\n",
       "    .dataframe tbody tr th {\n",
       "        vertical-align: top;\n",
       "    }\n",
       "\n",
       "    .dataframe thead th {\n",
       "        text-align: right;\n",
       "    }\n",
       "</style>\n",
       "<table border=\"1\" class=\"dataframe\">\n",
       "  <thead>\n",
       "    <tr style=\"text-align: right;\">\n",
       "      <th></th>\n",
       "      <th>vocab_size</th>\n",
       "      <th>model_name</th>\n",
       "      <th>text_column</th>\n",
       "      <th>ngram</th>\n",
       "      <th>vectorizer</th>\n",
       "      <th>splitting_criterion</th>\n",
       "      <th>tree_max_depth</th>\n",
       "      <th>tree_max_features</th>\n",
       "      <th>accuracy</th>\n",
       "      <th>acc2</th>\n",
       "    </tr>\n",
       "  </thead>\n",
       "  <tbody>\n",
       "    <tr>\n",
       "      <th>0</th>\n",
       "      <td>1000</td>\n",
       "      <td>DecisionTreeClassifier()</td>\n",
       "      <td>text_lemmatized</td>\n",
       "      <td>(1, 2)</td>\n",
       "      <td>CountVectorizer</td>\n",
       "      <td>gini</td>\n",
       "      <td>7</td>\n",
       "      <td>None</td>\n",
       "      <td>0.617</td>\n",
       "      <td>0.59054</td>\n",
       "    </tr>\n",
       "    <tr>\n",
       "      <th>1</th>\n",
       "      <td>10000</td>\n",
       "      <td>DecisionTreeClassifier()</td>\n",
       "      <td>text_porter_stemmed</td>\n",
       "      <td>(1, 3)</td>\n",
       "      <td>TfidfVectorizer</td>\n",
       "      <td>gini</td>\n",
       "      <td>7</td>\n",
       "      <td>None</td>\n",
       "      <td>0.616</td>\n",
       "      <td>0.59012</td>\n",
       "    </tr>\n",
       "    <tr>\n",
       "      <th>2</th>\n",
       "      <td>100</td>\n",
       "      <td>DecisionTreeClassifier()</td>\n",
       "      <td>text_porter_stemmed</td>\n",
       "      <td>(1, 3)</td>\n",
       "      <td>CountVectorizer</td>\n",
       "      <td>gini</td>\n",
       "      <td>7</td>\n",
       "      <td>None</td>\n",
       "      <td>0.611</td>\n",
       "      <td>0.58976</td>\n",
       "    </tr>\n",
       "  </tbody>\n",
       "</table>\n",
       "</div>"
      ],
      "text/plain": [
       "   vocab_size                model_name          text_column   ngram  \\\n",
       "0        1000  DecisionTreeClassifier()      text_lemmatized  (1, 2)   \n",
       "1       10000  DecisionTreeClassifier()  text_porter_stemmed  (1, 3)   \n",
       "2         100  DecisionTreeClassifier()  text_porter_stemmed  (1, 3)   \n",
       "\n",
       "        vectorizer splitting_criterion  tree_max_depth tree_max_features  \\\n",
       "0  CountVectorizer                gini               7              None   \n",
       "1  TfidfVectorizer                gini               7              None   \n",
       "2  CountVectorizer                gini               7              None   \n",
       "\n",
       "   accuracy     acc2  \n",
       "0     0.617  0.59054  \n",
       "1     0.616  0.59012  \n",
       "2     0.611  0.58976  "
      ]
     },
     "execution_count": 28,
     "metadata": {},
     "output_type": "execute_result"
    }
   ],
   "source": [
    "top_10_params = pd.read_csv('data/output/decision_tree/decision_tree_top_10_params.csv')\n",
    "top_10_params['ngram'] = [(int(ng[1]), int(ng[4])) for ng in top_10_params['ngram'].values]\n",
    "top_10_params = top_10_params.replace({np.nan: None})\n",
    "top_10_params.head(3)"
   ]
  },
  {
   "cell_type": "markdown",
   "metadata": {
    "id": "CuHBnWYpF66Z"
   },
   "source": [
    "repeat tuning one last time with top 3 parameter combos and more data"
   ]
  },
  {
   "cell_type": "code",
   "execution_count": null,
   "metadata": {
    "executionInfo": {
     "elapsed": 1,
     "status": "ok",
     "timestamp": 1670812948387,
     "user": {
      "displayName": "Tanner Ducharme",
      "userId": "10129333221032718302"
     },
     "user_tz": 300
    },
    "id": "wdZ0OAFGF66Z"
   },
   "outputs": [],
   "source": [
    "top_3_params = top_10_params[:3]"
   ]
  },
  {
   "cell_type": "code",
   "execution_count": null,
   "metadata": {
    "executionInfo": {
     "elapsed": 806,
     "status": "ok",
     "timestamp": 1670812949378,
     "user": {
      "displayName": "Tanner Ducharme",
      "userId": "10129333221032718302"
     },
     "user_tz": 300
    },
    "id": "js7xpdNCf9SC"
   },
   "outputs": [],
   "source": [
    "sample_size=200_000\n",
    "k=3\n",
    "v3_data = all_train_data.sample(sample_size).reset_index(drop=True)\n",
    "v3_train_X = v3_data.iloc[:, :-1]\n",
    "v3_train_y  = v3_data.iloc[:, -1]"
   ]
  },
  {
   "cell_type": "code",
   "execution_count": null,
   "metadata": {
    "colab": {
     "base_uri": "https://localhost:8080/"
    },
    "executionInfo": {
     "elapsed": 51693,
     "status": "ok",
     "timestamp": 1670813001067,
     "user": {
      "displayName": "Tanner Ducharme",
      "userId": "10129333221032718302"
     },
     "user_tz": 300
    },
    "id": "U3a-XdVWF66Z",
    "outputId": "fcfadb50-afa7-4533-f90a-18206b6e8f55"
   },
   "outputs": [],
   "source": [
    "\n",
    "model_accuracy = []\n",
    "top_3_predictions = []\n",
    "for i, param_set in enumerate(tqdm(top_3_params.values)):\n",
    "    (vocab_size, \n",
    "     model_type, \n",
    "     text_column, \n",
    "     ngram, \n",
    "     vectorizer, \n",
    "     criterion, \n",
    "     max_depth,\n",
    "     max_features, \n",
    "     *_) = param_set\n",
    "    \n",
    "\n",
    "    \n",
    "    print(vocab_size, model_type, text_column, ngram, vectorizer, criterion, max_depth, max_features)\n",
    "    \n",
    "    if vocab_size:\n",
    "        vocab_size = int(vocab_size)\n",
    "        \n",
    "        \n",
    "    if vectorizer == 'TfidfVectorizer':\n",
    "        vectorizer = TfidfVectorizer\n",
    "    elif vectorizer == 'CountVectorizer':\n",
    "        vectorizer = CountVectorizer\n",
    "\n",
    "    else:\n",
    "        print('warning, unrecognized vectorizer!')\n",
    "        print(i, param_set)\n",
    "    \n",
    "    print('vectorizing')\n",
    "    model_vectorizer = vectorizer(max_features=vocab_size, ngram_range=ngram)\n",
    "\n",
    "    print('creating BOW')\n",
    "    \n",
    "    BOW = model_vectorizer.fit_transform(v3_train_X[text_column])\n",
    "    BOW_array = BOW\n",
    "    print('splitting train-validation data')\n",
    "    \n",
    "\n",
    "\n",
    "    \n",
    "\n",
    "    kfolds = KFold(n_splits=k)\n",
    "    model = DecisionTreeClassifier(criterion=criterion, max_depth=max_depth, max_features=max_features)\n",
    "    \n",
    "    acc_score = []\n",
    "    for train_index , valid_index in kfolds.split(BOW_array):\n",
    "        X_train , X_test = BOW_array[train_index,:],BOW_array[valid_index,:]\n",
    "        y_train , y_test = v3_train_y[train_index] , v3_train_y[valid_index]\n",
    "        \n",
    "        model.fit(X_train, y_train)\n",
    "        pred_values = model.predict(X_test)\n",
    "\n",
    "        acc = accuracy_score(pred_values , y_test)\n",
    "        acc_score.append(acc)\n",
    "        \n",
    "        pred_probs = model.predict_proba(X_test)\n",
    "\n",
    "    mean_acc = sum(acc_score)/len(acc_score)\n",
    "    # mean_probs = \n",
    "    \n",
    "    print(mean_acc, '\\n\\n')\n",
    "    model_accuracy.append(mean_acc)\n",
    "    top_3_predictions.append(pred_probs)\n",
    "    \n"
   ]
  },
  {
   "cell_type": "code",
   "execution_count": null,
   "metadata": {
    "colab": {
     "base_uri": "https://localhost:8080/",
     "height": 251
    },
    "executionInfo": {
     "elapsed": 23,
     "status": "ok",
     "timestamp": 1670813001068,
     "user": {
      "displayName": "Tanner Ducharme",
      "userId": "10129333221032718302"
     },
     "user_tz": 300
    },
    "id": "ZiSIybUzF66a",
    "outputId": "c9b3f8b6-4e67-43e0-ed4f-bcdc0c5cdbea"
   },
   "outputs": [],
   "source": [
    "top_3_params['acc3'] = model_accuracy\n",
    "top_3_params = top_3_params.sort_values(by='acc3', ascending=False).reset_index(drop=True)\n",
    "top_3_params"
   ]
  },
  {
   "cell_type": "code",
   "execution_count": null,
   "metadata": {
    "executionInfo": {
     "elapsed": 7,
     "status": "ok",
     "timestamp": 1670813001068,
     "user": {
      "displayName": "Tanner Ducharme",
      "userId": "10129333221032718302"
     },
     "user_tz": 300
    },
    "id": "fW9UYtc7F66a"
   },
   "outputs": [],
   "source": [
    "top_3_params.to_csv(path+'data/output/decision_tree/decision_tree_top_3_params.csv', index=False)"
   ]
  },
  {
   "cell_type": "markdown",
   "metadata": {
    "id": "OUqMWvxfxgIr"
   },
   "source": [
    "### train final model on best params"
   ]
  },
  {
   "cell_type": "code",
   "execution_count": null,
   "metadata": {
    "executionInfo": {
     "elapsed": 3156,
     "status": "ok",
     "timestamp": 1670813134093,
     "user": {
      "displayName": "Tanner Ducharme",
      "userId": "10129333221032718302"
     },
     "user_tz": 300
    },
    "id": "NKGTXxLhx2Cu"
   },
   "outputs": [],
   "source": [
    "\n",
    "vectorizer = CountVectorizer(max_features=1000, ngram_range=(1, 1))\n",
    "\n",
    "\n",
    "BOW = vectorizer.fit_transform(all_train_data['text_lancaster_stemmed'])\n",
    "\n",
    "\n"
   ]
  },
  {
   "cell_type": "markdown",
   "metadata": {},
   "source": [
    "the validation data will be used to generate the ROC curve"
   ]
  },
  {
   "cell_type": "code",
   "execution_count": null,
   "metadata": {
    "executionInfo": {
     "elapsed": 20825,
     "status": "ok",
     "timestamp": 1670813154915,
     "user": {
      "displayName": "Tanner Ducharme",
      "userId": "10129333221032718302"
     },
     "user_tz": 300
    },
    "id": "d4VqgmKHxiqq"
   },
   "outputs": [],
   "source": [
    "X_train, X_valid, y_train, y_valid = train_test_split(BOW, all_train_data['target'], test_size=0.2, random_state=42)\n"
   ]
  },
  {
   "cell_type": "code",
   "execution_count": null,
   "metadata": {
    "executionInfo": {
     "elapsed": 16,
     "status": "ok",
     "timestamp": 1670813154916,
     "user": {
      "displayName": "Tanner Ducharme",
      "userId": "10129333221032718302"
     },
     "user_tz": 300
    },
    "id": "Ad8yoPxTyCJE"
   },
   "outputs": [],
   "source": [
    "model = DecisionTreeClassifier(criterion='gini', max_depth=5, max_features=None)"
   ]
  },
  {
   "cell_type": "code",
   "execution_count": null,
   "metadata": {
    "executionInfo": {
     "elapsed": 371388,
     "status": "ok",
     "timestamp": 1670813526289,
     "user": {
      "displayName": "Tanner Ducharme",
      "userId": "10129333221032718302"
     },
     "user_tz": 300
    },
    "id": "d9UAX4a7yUG-"
   },
   "outputs": [],
   "source": [
    "model.fit(X_train, y_train)"
   ]
  },
  {
   "cell_type": "markdown",
   "metadata": {},
   "source": [
    "transform test data"
   ]
  },
  {
   "cell_type": "code",
   "execution_count": null,
   "metadata": {
    "executionInfo": {
     "elapsed": 10,
     "status": "ok",
     "timestamp": 1670813526289,
     "user": {
      "displayName": "Tanner Ducharme",
      "userId": "10129333221032718302"
     },
     "user_tz": 300
    },
    "id": "DdwRAHIWyagB"
   },
   "outputs": [],
   "source": [
    "test_BOW = vectorizer.transform(all_test_data['text_lancaster_stemmed'])\n"
   ]
  },
  {
   "cell_type": "code",
   "execution_count": null,
   "metadata": {
    "executionInfo": {
     "elapsed": 13,
     "status": "ok",
     "timestamp": 1670813526294,
     "user": {
      "displayName": "Tanner Ducharme",
      "userId": "10129333221032718302"
     },
     "user_tz": 300
    },
    "id": "snwk2-NQy2jY"
   },
   "outputs": [],
   "source": [
    "prediction_values = model.predict(test_BOW)\n"
   ]
  },
  {
   "cell_type": "code",
   "execution_count": null,
   "metadata": {
    "executionInfo": {
     "elapsed": 420,
     "status": "ok",
     "timestamp": 1670813526702,
     "user": {
      "displayName": "Tanner Ducharme",
      "userId": "10129333221032718302"
     },
     "user_tz": 300
    },
    "id": "HxE2lVPN3ZEm"
   },
   "outputs": [],
   "source": [
    "prediction_probs = model.predict_proba(test_BOW)"
   ]
  },
  {
   "cell_type": "code",
   "execution_count": null,
   "metadata": {
    "executionInfo": {
     "elapsed": 169,
     "status": "ok",
     "timestamp": 1670813627084,
     "user": {
      "displayName": "Tanner Ducharme",
      "userId": "10129333221032718302"
     },
     "user_tz": 300
    },
    "id": "CZxG5aNQ3oEG"
   },
   "outputs": [],
   "source": [
    "pos_predictions = [pred[-1] for pred in prediction_probs]"
   ]
  },
  {
   "cell_type": "code",
   "execution_count": null,
   "metadata": {
    "executionInfo": {
     "elapsed": 161,
     "status": "ok",
     "timestamp": 1670813633340,
     "user": {
      "displayName": "Tanner Ducharme",
      "userId": "10129333221032718302"
     },
     "user_tz": 300
    },
    "id": "nyAa5wvt3eD1"
   },
   "outputs": [],
   "source": [
    "thresh = 0.5"
   ]
  },
  {
   "cell_type": "code",
   "execution_count": null,
   "metadata": {
    "executionInfo": {
     "elapsed": 390,
     "status": "ok",
     "timestamp": 1670813635225,
     "user": {
      "displayName": "Tanner Ducharme",
      "userId": "10129333221032718302"
     },
     "user_tz": 300
    },
    "id": "sBqBmcQ_3eGM"
   },
   "outputs": [],
   "source": [
    "bin_pred = []\n",
    "for pred in pos_predictions:\n",
    "    if pred >= thresh:\n",
    "        binary_pred = 2\n",
    "    else:\n",
    "        binary_pred = 0\n",
    "    bin_pred.append(binary_pred)"
   ]
  },
  {
   "cell_type": "code",
   "execution_count": null,
   "metadata": {
    "executionInfo": {
     "elapsed": 184,
     "status": "ok",
     "timestamp": 1670813636960,
     "user": {
      "displayName": "Tanner Ducharme",
      "userId": "10129333221032718302"
     },
     "user_tz": 300
    },
    "id": "YvmmTV1jy7t1"
   },
   "outputs": [],
   "source": [
    "pdf = pd.DataFrame(bin_pred).reset_index()\n",
    "pdf.columns = ['id', 'target']"
   ]
  },
  {
   "cell_type": "code",
   "execution_count": null,
   "metadata": {
    "colab": {
     "base_uri": "https://localhost:8080/"
    },
    "executionInfo": {
     "elapsed": 184,
     "status": "ok",
     "timestamp": 1670813638135,
     "user": {
      "displayName": "Tanner Ducharme",
      "userId": "10129333221032718302"
     },
     "user_tz": 300
    },
    "id": "tEul9K6uzHw8",
    "outputId": "e8fd310e-133f-4c2b-c677-f8208a0a53e2"
   },
   "outputs": [],
   "source": [
    "pdf['target'].value_counts()"
   ]
  },
  {
   "cell_type": "code",
   "execution_count": null,
   "metadata": {
    "executionInfo": {
     "elapsed": 923,
     "status": "ok",
     "timestamp": 1670813649967,
     "user": {
      "displayName": "Tanner Ducharme",
      "userId": "10129333221032718302"
     },
     "user_tz": 300
    },
    "id": "yFbEq7gzzLCf"
   },
   "outputs": [],
   "source": [
    "pdf.to_csv('data/output/decision_tree/decision_tree_predictions.csv', index=False)"
   ]
  },
  {
   "cell_type": "markdown",
   "metadata": {
    "id": "omSGfOy4zmxP"
   },
   "source": [
    "### generate ROC curve"
   ]
  },
  {
   "cell_type": "code",
   "execution_count": null,
   "metadata": {},
   "outputs": [],
   "source": [
    "valid_predictions = model.predict_proba(X_valid)"
   ]
  },
  {
   "cell_type": "code",
   "execution_count": null,
   "metadata": {},
   "outputs": [],
   "source": [
    "model.classes_"
   ]
  },
  {
   "cell_type": "code",
   "execution_count": null,
   "metadata": {},
   "outputs": [],
   "source": [
    "valid_predictions = [p[1] for p in valid_predictions]"
   ]
  },
  {
   "cell_type": "code",
   "execution_count": null,
   "metadata": {},
   "outputs": [],
   "source": [
    "fpr, tpr, thresholds = roc_curve(y_valid, valid_predictions, pos_label=2)"
   ]
  },
  {
   "cell_type": "code",
   "execution_count": null,
   "metadata": {},
   "outputs": [],
   "source": [
    "plt.figure(1)\n",
    "plt.plot([0, 1], [0, 1], 'k--')\n",
    "plt.plot(fpr, tpr)\n",
    "plt.xlabel('False positive rate')\n",
    "plt.ylabel('True positive rate')\n",
    "plt.title('ROC curve')\n",
    "plt.savefig('data/output/decision_tree/ROC.png')\n",
    "plt.show()"
   ]
  },
  {
   "cell_type": "markdown",
   "metadata": {},
   "source": [
    "## visualizing model decisions"
   ]
  },
  {
   "cell_type": "code",
   "execution_count": null,
   "metadata": {},
   "outputs": [],
   "source": [
    "text_representation = tree.export_text(model)"
   ]
  },
  {
   "cell_type": "code",
   "execution_count": null,
   "metadata": {},
   "outputs": [],
   "source": [
    "print(text_representation)"
   ]
  },
  {
   "cell_type": "code",
   "execution_count": null,
   "metadata": {},
   "outputs": [],
   "source": [
    "g = tree.export_graphviz(model)"
   ]
  },
  {
   "cell_type": "code",
   "execution_count": null,
   "metadata": {},
   "outputs": [],
   "source": [
    "print(g)"
   ]
  },
  {
   "cell_type": "code",
   "execution_count": null,
   "metadata": {},
   "outputs": [],
   "source": [
    "type(g)"
   ]
  },
  {
   "cell_type": "code",
   "execution_count": null,
   "metadata": {},
   "outputs": [],
   "source": [
    "import json"
   ]
  },
  {
   "cell_type": "code",
   "execution_count": null,
   "metadata": {},
   "outputs": [],
   "source": [
    "tree_plot = tree.plot_tree(model)"
   ]
  },
  {
   "cell_type": "code",
   "execution_count": null,
   "metadata": {},
   "outputs": [],
   "source": [
    "json"
   ]
  },
  {
   "cell_type": "code",
   "execution_count": null,
   "metadata": {},
   "outputs": [],
   "source": [
    "acc = accuracy_score(model.predict(X_valid) , y_valid)\n",
    "acc"
   ]
  },
  {
   "cell_type": "code",
   "execution_count": null,
   "metadata": {},
   "outputs": [],
   "source": [
    "y_valid"
   ]
  },
  {
   "cell_type": "code",
   "execution_count": null,
   "metadata": {
    "scrolled": false
   },
   "outputs": [],
   "source": [
    "print(text_representation)"
   ]
  },
  {
   "cell_type": "code",
   "execution_count": null,
   "metadata": {},
   "outputs": [],
   "source": [
    "text_representation[:3]"
   ]
  },
  {
   "cell_type": "code",
   "execution_count": null,
   "metadata": {},
   "outputs": [],
   "source": []
  }
 ],
 "metadata": {
  "colab": {
   "provenance": []
  },
  "kernelspec": {
   "display_name": "env",
   "language": "python",
   "name": "env"
  },
  "language_info": {
   "codemirror_mode": {
    "name": "ipython",
    "version": 3
   },
   "file_extension": ".py",
   "mimetype": "text/x-python",
   "name": "python",
   "nbconvert_exporter": "python",
   "pygments_lexer": "ipython3",
   "version": "3.7.3"
  }
 },
 "nbformat": 4,
 "nbformat_minor": 1
}
